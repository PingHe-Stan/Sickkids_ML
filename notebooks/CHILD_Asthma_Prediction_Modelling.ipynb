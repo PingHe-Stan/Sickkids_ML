{
 "cells": [
  {
   "cell_type": "markdown",
   "id": "e9044f53",
   "metadata": {},
   "source": [
    "# CHILD Asthma Prediction \n",
    "    - Pipeline for multiple time points: Birth, 6m, 1y, 2y, 3y \n",
    "    - Identification of critical, stable predictors\n",
    "    - Identification of minimal set of features \n",
    "    - Asthma Risk Stratification Model (0 - No risk, 1 - Minimal risk, 2 - Intermediate risk, 3 - High risk)"
   ]
  },
  {
   "cell_type": "code",
   "execution_count": 62,
   "id": "e8e64350",
   "metadata": {},
   "outputs": [
    {
     "name": "stdout",
     "output_type": "stream",
     "text": [
      "The nb_black extension is already loaded. To reload it, use:\n",
      "  %reload_ext nb_black\n"
     ]
    },
    {
     "data": {
      "application/javascript": [
       "\n",
       "            setTimeout(function() {\n",
       "                var nbb_cell_id = 62;\n",
       "                var nbb_unformatted_code = \"# Preferences of autoformatting & Multiple Output\\n%load_ext nb_black\\n\\nfrom IPython.core.interactiveshell import InteractiveShell\\n\\nInteractiveShell.ast_node_interactivity = \\\"all\\\"\\n\\nimport warnings\\n\\nwarnings.filterwarnings(\\\"ignore\\\")\\n\\nimport researchpy as rp  # For auto-statistics/EDA of dataframe\\nfrom tqdm.notebook import tqdm  # For process display\\n\\nimport sys\\n\\nsys.path.append(\\\"../src\\\")\\n\\nfrom data import *\\nfrom utils import *\\nfrom conf import *\\nfrom tools import *\\n\\nimport utils as UT\\n\\nimport random\\n\\nimport matplotlib.pyplot as plt\\nimport seaborn as sns\\nfrom sklearn.preprocessing import MinMaxScaler\";\n",
       "                var nbb_formatted_code = \"# Preferences of autoformatting & Multiple Output\\n%load_ext nb_black\\n\\nfrom IPython.core.interactiveshell import InteractiveShell\\n\\nInteractiveShell.ast_node_interactivity = \\\"all\\\"\\n\\nimport warnings\\n\\nwarnings.filterwarnings(\\\"ignore\\\")\\n\\nimport researchpy as rp  # For auto-statistics/EDA of dataframe\\nfrom tqdm.notebook import tqdm  # For process display\\n\\nimport sys\\n\\nsys.path.append(\\\"../src\\\")\\n\\nfrom data import *\\nfrom utils import *\\nfrom conf import *\\nfrom tools import *\\n\\nimport utils as UT\\n\\nimport random\\n\\nimport matplotlib.pyplot as plt\\nimport seaborn as sns\\nfrom sklearn.preprocessing import MinMaxScaler\";\n",
       "                var nbb_cells = Jupyter.notebook.get_cells();\n",
       "                for (var i = 0; i < nbb_cells.length; ++i) {\n",
       "                    if (nbb_cells[i].input_prompt_number == nbb_cell_id) {\n",
       "                        if (nbb_cells[i].get_text() == nbb_unformatted_code) {\n",
       "                             nbb_cells[i].set_text(nbb_formatted_code);\n",
       "                        }\n",
       "                        break;\n",
       "                    }\n",
       "                }\n",
       "            }, 500);\n",
       "            "
      ],
      "text/plain": [
       "<IPython.core.display.Javascript object>"
      ]
     },
     "metadata": {},
     "output_type": "display_data"
    }
   ],
   "source": [
    "# Preferences of autoformatting & Multiple Output\n",
    "%load_ext nb_black\n",
    "\n",
    "from IPython.core.interactiveshell import InteractiveShell\n",
    "\n",
    "InteractiveShell.ast_node_interactivity = \"all\"\n",
    "\n",
    "import warnings\n",
    "\n",
    "warnings.filterwarnings(\"ignore\")\n",
    "\n",
    "import researchpy as rp  # For auto-statistics/EDA of dataframe\n",
    "from tqdm.notebook import tqdm  # For process display\n",
    "\n",
    "import sys\n",
    "\n",
    "sys.path.append(\"../src\")\n",
    "\n",
    "from data import *\n",
    "from utils import *\n",
    "from conf import *\n",
    "from tools import *\n",
    "\n",
    "import utils as UT\n",
    "\n",
    "import random\n",
    "\n",
    "import matplotlib.pyplot as plt\n",
    "import seaborn as sns\n",
    "from sklearn.preprocessing import MinMaxScaler"
   ]
  },
  {
   "cell_type": "code",
   "execution_count": 15,
   "id": "46876946",
   "metadata": {},
   "outputs": [
    {
     "name": "stdout",
     "output_type": "stream",
     "text": [
      "The path for all the CHILD data is located at ../data/\n",
      "Generating a merged DataFrame For Analyzing and Modelling...\n",
      "The DataFrame for ML is saved to ../output \n"
     ]
    },
    {
     "data": {
      "application/javascript": [
       "\n",
       "            setTimeout(function() {\n",
       "                var nbb_cell_id = 15;\n",
       "                var nbb_unformatted_code = \"df_raw = generate_raw_xlsx()\";\n",
       "                var nbb_formatted_code = \"df_raw = generate_raw_xlsx()\";\n",
       "                var nbb_cells = Jupyter.notebook.get_cells();\n",
       "                for (var i = 0; i < nbb_cells.length; ++i) {\n",
       "                    if (nbb_cells[i].input_prompt_number == nbb_cell_id) {\n",
       "                        if (nbb_cells[i].get_text() == nbb_unformatted_code) {\n",
       "                             nbb_cells[i].set_text(nbb_formatted_code);\n",
       "                        }\n",
       "                        break;\n",
       "                    }\n",
       "                }\n",
       "            }, 500);\n",
       "            "
      ],
      "text/plain": [
       "<IPython.core.display.Javascript object>"
      ]
     },
     "metadata": {},
     "output_type": "display_data"
    }
   ],
   "source": [
    "df_raw = generate_raw_xlsx()"
   ]
  },
  {
   "cell_type": "code",
   "execution_count": 16,
   "id": "71b396c9",
   "metadata": {},
   "outputs": [
    {
     "name": "stdout",
     "output_type": "stream",
     "text": [
      "CHILD_ml_sample_dataset.xlsx        targeted_raw_child.xlsx\r\n",
      "CHILD_raw.xlsx                      unprocessed_targeted_raw_child.xlsx\r\n",
      "CHILD_with_addon.xlsx\r\n"
     ]
    },
    {
     "data": {
      "application/javascript": [
       "\n",
       "            setTimeout(function() {\n",
       "                var nbb_cell_id = 16;\n",
       "                var nbb_unformatted_code = \"!ls ../output/\";\n",
       "                var nbb_formatted_code = \"!ls ../output/\";\n",
       "                var nbb_cells = Jupyter.notebook.get_cells();\n",
       "                for (var i = 0; i < nbb_cells.length; ++i) {\n",
       "                    if (nbb_cells[i].input_prompt_number == nbb_cell_id) {\n",
       "                        if (nbb_cells[i].get_text() == nbb_unformatted_code) {\n",
       "                             nbb_cells[i].set_text(nbb_formatted_code);\n",
       "                        }\n",
       "                        break;\n",
       "                    }\n",
       "                }\n",
       "            }, 500);\n",
       "            "
      ],
      "text/plain": [
       "<IPython.core.display.Javascript object>"
      ]
     },
     "metadata": {},
     "output_type": "display_data"
    }
   ],
   "source": [
    "!ls ../output/"
   ]
  },
  {
   "cell_type": "code",
   "execution_count": 19,
   "id": "adead1d8",
   "metadata": {},
   "outputs": [
    {
     "data": {
      "text/plain": [
       "array(['Subject_Number', 'Gender', 'Gest_Days', 'Weight_0m', 'Weight_3m',\n",
       "       'Weight_12m', 'Weight_36m', 'Weight_60m', 'Weight_for_age_0m',\n",
       "       'Weight_for_age_3m', 'Weight_for_age_12m', 'Weight_for_age_36m',\n",
       "       'Weight_for_age_60m', 'Number_of_AntibioticsCourse',\n",
       "       'Time_of_AntibioticsUsage', 'Antibiotics_Usage', 'No_of_Pregnancy',\n",
       "       'Anesthetic_delivery', 'Analgesics_usage_delivery',\n",
       "       'Mode_of_delivery', 'Apgar_Score_1min', 'Apgar_Score_5min',\n",
       "       'Respiratory_Problems_Birth', 'Jaundice_Birth',\n",
       "       'Complications_Birth', 'Stay_Duration_Hospital', 'Study_Center',\n",
       "       'Prenatal_Bleeding', 'Prenatal_Nausea', 'Prenatal_Infections',\n",
       "       'Prenatal_Induced_Hypertension', 'Prenatal_Gestational_Diabetes',\n",
       "       'Prenatal_Cardiac_Disorder', 'Prenatal_Hypertension',\n",
       "       'Prenatal_Hypotension', 'Prenatal_None_Conditions',\n",
       "       'Prenatal_Other_Conditions', 'F10min_Intubation',\n",
       "       'F10min_Mask_Ventilation', 'F10min_Free_Flow_Oxygen',\n",
       "       'F10min_Oxygen_Mask', 'F10min_Positive_Pressure_Ventilation',\n",
       "       'F10min_Perineum_suction', 'F10min_Suction',\n",
       "       'F10min_No_Measure_Needed', 'BF_Implied_Duration', 'BF_1m',\n",
       "       'BF_3m', 'BF_6m', 'BF_9m', 'BF_12m', 'BF_18m', 'BF_24m',\n",
       "       'Home_DEP_3m', 'Home_DiBP_3m', 'Home_DNBP_3m', 'Home_BzBP_3m',\n",
       "       'Home_DEHP_3m', 'Home_Furry_Pets_6m', 'Home_New_Furnitures_6m',\n",
       "       'Percentage_OutdoorsActivity_6m', 'Home_Presence_Smoke_6m',\n",
       "       'PSS_36week', 'CSED_36week', 'PSS_18week', 'CSED_18week', 'PSS_6m',\n",
       "       'CSED_6m', 'PSS_12m', 'CSED_12m', 'PSS_18m', 'CSED_18m', 'PSS_24m',\n",
       "       'CSED_24m', 'Wheeze_Mother', 'Asthma_Mother', 'Hayfever_Mother',\n",
       "       'AD_Mother', 'Pollentress_Mother', 'FAllergies_Mother',\n",
       "       'Wheeze_Father', 'Asthma_Father', 'Hayfever_Father', 'AD_Father',\n",
       "       'Pollentress_Father', 'FAllergies_Father', 'Mother_Asthma',\n",
       "       'Father_Asthma', 'Parental_Asthma', 'Dad_Atopy', 'Dad_Food',\n",
       "       'Dad_Inhalant', 'Mom_Atopy', 'Mom_Food', 'Mom_Inhalant',\n",
       "       'Respiratory_Report_Months', 'Respiratory_Infections',\n",
       "       'Severity_of_Respiratoryinfections', 'Prenatal_Second_Hand',\n",
       "       'Prenatal_Maternal_Smoke', 'Wheeze_3m', 'Noncold_Wheeze_3m',\n",
       "       'Epi_Noncold_Wheeze_3m', 'Wheeze_6m', 'Noncold_Wheeze_6m',\n",
       "       'Epi_Noncold_Wheeze_6m', 'Wheeze_1y', 'Noncold_Wheeze_1y',\n",
       "       'Epi_Noncold_Wheeze_1y', 'Wheeze_18m', 'Noncold_Wheeze_18m',\n",
       "       'Epi_Noncold_Wheeze_18m', 'Wheeze_2y', 'Noncold_Wheeze_2y',\n",
       "       'Epi_Noncold_Wheeze_2y', 'Wheeze_2yh', 'Noncold_Wheeze_2hy',\n",
       "       'Epi_Noncold_Wheeze_2hy', 'Wheeze_3y', 'Noncold_Wheeze_3y',\n",
       "       'Epi_Noncold_Wheeze_3y', 'Wheeze_4y', 'Noncold_Wheeze_4y',\n",
       "       'Epi_Noncold_Wheeze_4y', 'Wheeze_5y', 'Noncold_Wheeze_5y',\n",
       "       'Epi_Noncold_Wheeze_5y', 'Cumulative_Wheeze_3m',\n",
       "       'Cumulative_Wheeze_6m', 'Cumulative_Wheeze_12m',\n",
       "       'Cumulative_Wheeze_18m', 'Cumulative_Wheeze_24m',\n",
       "       'Cumulative_Wheeze_30m', 'Cumulative_Wheeze_36m',\n",
       "       'Cumulative_Wheeze_48m', 'Cumulative_Wheeze_60m',\n",
       "       'Prolonged_Expiration_1yCLA', 'Crackles_1yCLA', 'Wheeze_1yCLA',\n",
       "       'Systolic_BP_3yCLA', 'Diastolic_BP_3yCLA', 'Pulse_Rate_3yCLA',\n",
       "       'Wheeze_3yCLA', 'Asthma_Diagnosis_3yCLA', 'Viral_Asthma_3yCLA',\n",
       "       'Triggered_Asthma_3yCLA', 'Wheeze_5yCLA',\n",
       "       'Wheeze_withoutcold_5yCLA', 'Medicine_for_Wheeze_5yCLA',\n",
       "       'Regular_Controller_5yCLA', 'Intermittent_Controller_5yCLA',\n",
       "       'Reliever_5yCLA', 'Frequency_Oral_Steroid_5yCLA',\n",
       "       'Wheeze_Frequency_5yCLA', 'Asthma_Diagnosis_5yCLA',\n",
       "       'Viral_Asthma_5yCLA', 'Triggered_Asthma_5yCLA',\n",
       "       'Medical_Conditions_5yCLA', 'Systolic_BP_5yCLA',\n",
       "       'Diastolic_BP_5yCLA', 'Pulse_Rate_5yCLA', 'Recurrent_Wheeze_3y',\n",
       "       'Recurrent_Wheeze_1y', 'Recurrent_Wheeze_5y',\n",
       "       'Mother_Condition_Delivery', 'First_10min_Measure'], dtype=object)"
      ]
     },
     "execution_count": 19,
     "metadata": {},
     "output_type": "execute_result"
    },
    {
     "data": {
      "text/plain": [
       "166"
      ]
     },
     "execution_count": 19,
     "metadata": {},
     "output_type": "execute_result"
    },
    {
     "data": {
      "application/javascript": [
       "\n",
       "            setTimeout(function() {\n",
       "                var nbb_cell_id = 19;\n",
       "                var nbb_unformatted_code = \"df_raw.columns.values\\nlen(df_raw.columns.values)\";\n",
       "                var nbb_formatted_code = \"df_raw.columns.values\\nlen(df_raw.columns.values)\";\n",
       "                var nbb_cells = Jupyter.notebook.get_cells();\n",
       "                for (var i = 0; i < nbb_cells.length; ++i) {\n",
       "                    if (nbb_cells[i].input_prompt_number == nbb_cell_id) {\n",
       "                        if (nbb_cells[i].get_text() == nbb_unformatted_code) {\n",
       "                             nbb_cells[i].set_text(nbb_formatted_code);\n",
       "                        }\n",
       "                        break;\n",
       "                    }\n",
       "                }\n",
       "            }, 500);\n",
       "            "
      ],
      "text/plain": [
       "<IPython.core.display.Javascript object>"
      ]
     },
     "metadata": {},
     "output_type": "display_data"
    }
   ],
   "source": [
    "df_raw.columns.values\n",
    "len(df_raw.columns.values)"
   ]
  },
  {
   "cell_type": "markdown",
   "id": "82aab55b",
   "metadata": {},
   "source": [
    "## Reproduce previous performance"
   ]
  },
  {
   "cell_type": "code",
   "execution_count": 20,
   "id": "456c1784",
   "metadata": {},
   "outputs": [
    {
     "data": {
      "application/javascript": [
       "\n",
       "            setTimeout(function() {\n",
       "                var nbb_cell_id = 20;\n",
       "                var nbb_unformatted_code = \"df_previous = df_raw[['Gender', 'Mode_of_delivery','Anesthetic_delivery', 'Prolonged_Expiration_1yCLA', 'Crackles_1yCLA', 'Wheeze_1yCLA',\\n       'Mother_Asthma',\\n       'Father_Asthma', 'Parental_Asthma','Mom_Atopy','Mom_Inhalant',\\n       'Wheeze_Mother',  'Hayfever_Mother',\\n        'Pollentress_Mother', 'FAllergies_Mother',\\n       'Wheeze_Father',  'Hayfever_Father', 'AD_Father',\\n       'Pollentress_Father',\\n        'Number_of_AntibioticsCourse',\\n        'Antibiotics_Usage','Home_DEHP_3m',\\n        'Gest_Days','Apgar_Score_5min', 'Asthma_Diagnosis_5yCLA' \\n       ]]\";\n",
       "                var nbb_formatted_code = \"df_previous = df_raw[\\n    [\\n        \\\"Gender\\\",\\n        \\\"Mode_of_delivery\\\",\\n        \\\"Anesthetic_delivery\\\",\\n        \\\"Prolonged_Expiration_1yCLA\\\",\\n        \\\"Crackles_1yCLA\\\",\\n        \\\"Wheeze_1yCLA\\\",\\n        \\\"Mother_Asthma\\\",\\n        \\\"Father_Asthma\\\",\\n        \\\"Parental_Asthma\\\",\\n        \\\"Mom_Atopy\\\",\\n        \\\"Mom_Inhalant\\\",\\n        \\\"Wheeze_Mother\\\",\\n        \\\"Hayfever_Mother\\\",\\n        \\\"Pollentress_Mother\\\",\\n        \\\"FAllergies_Mother\\\",\\n        \\\"Wheeze_Father\\\",\\n        \\\"Hayfever_Father\\\",\\n        \\\"AD_Father\\\",\\n        \\\"Pollentress_Father\\\",\\n        \\\"Number_of_AntibioticsCourse\\\",\\n        \\\"Antibiotics_Usage\\\",\\n        \\\"Home_DEHP_3m\\\",\\n        \\\"Gest_Days\\\",\\n        \\\"Apgar_Score_5min\\\",\\n        \\\"Asthma_Diagnosis_5yCLA\\\",\\n    ]\\n]\";\n",
       "                var nbb_cells = Jupyter.notebook.get_cells();\n",
       "                for (var i = 0; i < nbb_cells.length; ++i) {\n",
       "                    if (nbb_cells[i].input_prompt_number == nbb_cell_id) {\n",
       "                        if (nbb_cells[i].get_text() == nbb_unformatted_code) {\n",
       "                             nbb_cells[i].set_text(nbb_formatted_code);\n",
       "                        }\n",
       "                        break;\n",
       "                    }\n",
       "                }\n",
       "            }, 500);\n",
       "            "
      ],
      "text/plain": [
       "<IPython.core.display.Javascript object>"
      ]
     },
     "metadata": {},
     "output_type": "display_data"
    }
   ],
   "source": [
    "df_previous = df_raw[\n",
    "    [\n",
    "        \"Gender\",\n",
    "        \"Mode_of_delivery\",\n",
    "        \"Anesthetic_delivery\",\n",
    "        \"Prolonged_Expiration_1yCLA\",\n",
    "        \"Crackles_1yCLA\",\n",
    "        \"Wheeze_1yCLA\",\n",
    "        \"Mother_Asthma\",\n",
    "        \"Father_Asthma\",\n",
    "        \"Parental_Asthma\",\n",
    "        \"Mom_Atopy\",\n",
    "        \"Mom_Inhalant\",\n",
    "        \"Wheeze_Mother\",\n",
    "        \"Hayfever_Mother\",\n",
    "        \"Pollentress_Mother\",\n",
    "        \"FAllergies_Mother\",\n",
    "        \"Wheeze_Father\",\n",
    "        \"Hayfever_Father\",\n",
    "        \"AD_Father\",\n",
    "        \"Pollentress_Father\",\n",
    "        \"Number_of_AntibioticsCourse\",\n",
    "        \"Antibiotics_Usage\",\n",
    "        \"Home_DEHP_3m\",\n",
    "        \"Gest_Days\",\n",
    "        \"Apgar_Score_5min\",\n",
    "        \"Asthma_Diagnosis_5yCLA\",\n",
    "    ]\n",
    "]"
   ]
  },
  {
   "cell_type": "code",
   "execution_count": 48,
   "id": "8ff78e9c",
   "metadata": {},
   "outputs": [
    {
     "data": {
      "text/html": [
       "<div>\n",
       "<style scoped>\n",
       "    .dataframe tbody tr th:only-of-type {\n",
       "        vertical-align: middle;\n",
       "    }\n",
       "\n",
       "    .dataframe tbody tr th {\n",
       "        vertical-align: top;\n",
       "    }\n",
       "\n",
       "    .dataframe thead th {\n",
       "        text-align: right;\n",
       "    }\n",
       "</style>\n",
       "<table border=\"1\" class=\"dataframe\">\n",
       "  <thead>\n",
       "    <tr style=\"text-align: right;\">\n",
       "      <th></th>\n",
       "      <th>Gender</th>\n",
       "      <th>Mode_of_delivery</th>\n",
       "      <th>Anesthetic_delivery</th>\n",
       "      <th>Prolonged_Expiration_1yCLA</th>\n",
       "      <th>Crackles_1yCLA</th>\n",
       "      <th>Wheeze_1yCLA</th>\n",
       "      <th>Mother_Asthma</th>\n",
       "      <th>Father_Asthma</th>\n",
       "      <th>Parental_Asthma</th>\n",
       "      <th>Mom_Atopy</th>\n",
       "      <th>...</th>\n",
       "      <th>Wheeze_Father</th>\n",
       "      <th>Hayfever_Father</th>\n",
       "      <th>AD_Father</th>\n",
       "      <th>Pollentress_Father</th>\n",
       "      <th>Number_of_AntibioticsCourse</th>\n",
       "      <th>Antibiotics_Usage</th>\n",
       "      <th>Home_DEHP_3m</th>\n",
       "      <th>Gest_Days</th>\n",
       "      <th>Apgar_Score_5min</th>\n",
       "      <th>Asthma_Diagnosis_5yCLA</th>\n",
       "    </tr>\n",
       "  </thead>\n",
       "  <tbody>\n",
       "    <tr>\n",
       "      <th>0</th>\n",
       "      <td>F</td>\n",
       "      <td>NaN</td>\n",
       "      <td>NaN</td>\n",
       "      <td>NaN</td>\n",
       "      <td>NaN</td>\n",
       "      <td>NaN</td>\n",
       "      <td>0.0</td>\n",
       "      <td>0.0</td>\n",
       "      <td>0.0</td>\n",
       "      <td>0.0</td>\n",
       "      <td>...</td>\n",
       "      <td>0.0</td>\n",
       "      <td>1.0</td>\n",
       "      <td>1.0</td>\n",
       "      <td>NaN</td>\n",
       "      <td>0.0</td>\n",
       "      <td>0.0</td>\n",
       "      <td>126.233432</td>\n",
       "      <td>273.0</td>\n",
       "      <td>NaN</td>\n",
       "      <td>NaN</td>\n",
       "    </tr>\n",
       "    <tr>\n",
       "      <th>1</th>\n",
       "      <td>M</td>\n",
       "      <td>NaN</td>\n",
       "      <td>NaN</td>\n",
       "      <td>NaN</td>\n",
       "      <td>NaN</td>\n",
       "      <td>NaN</td>\n",
       "      <td>0.0</td>\n",
       "      <td>NaN</td>\n",
       "      <td>NaN</td>\n",
       "      <td>NaN</td>\n",
       "      <td>...</td>\n",
       "      <td>NaN</td>\n",
       "      <td>NaN</td>\n",
       "      <td>NaN</td>\n",
       "      <td>NaN</td>\n",
       "      <td>0.0</td>\n",
       "      <td>0.0</td>\n",
       "      <td>NaN</td>\n",
       "      <td>275.0</td>\n",
       "      <td>NaN</td>\n",
       "      <td>NaN</td>\n",
       "    </tr>\n",
       "    <tr>\n",
       "      <th>2</th>\n",
       "      <td>F</td>\n",
       "      <td>NaN</td>\n",
       "      <td>NaN</td>\n",
       "      <td>NaN</td>\n",
       "      <td>NaN</td>\n",
       "      <td>NaN</td>\n",
       "      <td>1.0</td>\n",
       "      <td>0.0</td>\n",
       "      <td>1.0</td>\n",
       "      <td>1.0</td>\n",
       "      <td>...</td>\n",
       "      <td>0.0</td>\n",
       "      <td>1.0</td>\n",
       "      <td>0.0</td>\n",
       "      <td>NaN</td>\n",
       "      <td>0.0</td>\n",
       "      <td>0.0</td>\n",
       "      <td>NaN</td>\n",
       "      <td>279.0</td>\n",
       "      <td>NaN</td>\n",
       "      <td>NaN</td>\n",
       "    </tr>\n",
       "    <tr>\n",
       "      <th>3</th>\n",
       "      <td>F</td>\n",
       "      <td>NaN</td>\n",
       "      <td>NaN</td>\n",
       "      <td>NaN</td>\n",
       "      <td>NaN</td>\n",
       "      <td>NaN</td>\n",
       "      <td>1.0</td>\n",
       "      <td>0.0</td>\n",
       "      <td>1.0</td>\n",
       "      <td>1.0</td>\n",
       "      <td>...</td>\n",
       "      <td>0.0</td>\n",
       "      <td>0.0</td>\n",
       "      <td>0.0</td>\n",
       "      <td>NaN</td>\n",
       "      <td>0.0</td>\n",
       "      <td>0.0</td>\n",
       "      <td>NaN</td>\n",
       "      <td>280.0</td>\n",
       "      <td>NaN</td>\n",
       "      <td>NaN</td>\n",
       "    </tr>\n",
       "    <tr>\n",
       "      <th>4</th>\n",
       "      <td>F</td>\n",
       "      <td>NaN</td>\n",
       "      <td>NaN</td>\n",
       "      <td>NaN</td>\n",
       "      <td>NaN</td>\n",
       "      <td>NaN</td>\n",
       "      <td>0.0</td>\n",
       "      <td>0.0</td>\n",
       "      <td>0.0</td>\n",
       "      <td>0.0</td>\n",
       "      <td>...</td>\n",
       "      <td>0.0</td>\n",
       "      <td>0.0</td>\n",
       "      <td>0.0</td>\n",
       "      <td>NaN</td>\n",
       "      <td>0.0</td>\n",
       "      <td>0.0</td>\n",
       "      <td>NaN</td>\n",
       "      <td>271.0</td>\n",
       "      <td>NaN</td>\n",
       "      <td>NaN</td>\n",
       "    </tr>\n",
       "    <tr>\n",
       "      <th>...</th>\n",
       "      <td>...</td>\n",
       "      <td>...</td>\n",
       "      <td>...</td>\n",
       "      <td>...</td>\n",
       "      <td>...</td>\n",
       "      <td>...</td>\n",
       "      <td>...</td>\n",
       "      <td>...</td>\n",
       "      <td>...</td>\n",
       "      <td>...</td>\n",
       "      <td>...</td>\n",
       "      <td>...</td>\n",
       "      <td>...</td>\n",
       "      <td>...</td>\n",
       "      <td>...</td>\n",
       "      <td>...</td>\n",
       "      <td>...</td>\n",
       "      <td>...</td>\n",
       "      <td>...</td>\n",
       "      <td>...</td>\n",
       "      <td>...</td>\n",
       "    </tr>\n",
       "    <tr>\n",
       "      <th>3450</th>\n",
       "      <td>M</td>\n",
       "      <td>1.0</td>\n",
       "      <td>1.0</td>\n",
       "      <td>0.0</td>\n",
       "      <td>0.0</td>\n",
       "      <td>0.0</td>\n",
       "      <td>0.0</td>\n",
       "      <td>NaN</td>\n",
       "      <td>NaN</td>\n",
       "      <td>1.0</td>\n",
       "      <td>...</td>\n",
       "      <td>NaN</td>\n",
       "      <td>NaN</td>\n",
       "      <td>NaN</td>\n",
       "      <td>NaN</td>\n",
       "      <td>0.0</td>\n",
       "      <td>0.0</td>\n",
       "      <td>274.867379</td>\n",
       "      <td>275.0</td>\n",
       "      <td>9.0</td>\n",
       "      <td>0.0</td>\n",
       "    </tr>\n",
       "    <tr>\n",
       "      <th>3451</th>\n",
       "      <td>M</td>\n",
       "      <td>3.0</td>\n",
       "      <td>1.0</td>\n",
       "      <td>0.0</td>\n",
       "      <td>0.0</td>\n",
       "      <td>0.0</td>\n",
       "      <td>0.0</td>\n",
       "      <td>1.0</td>\n",
       "      <td>1.0</td>\n",
       "      <td>1.0</td>\n",
       "      <td>...</td>\n",
       "      <td>1.0</td>\n",
       "      <td>1.0</td>\n",
       "      <td>1.0</td>\n",
       "      <td>1.0</td>\n",
       "      <td>0.0</td>\n",
       "      <td>0.0</td>\n",
       "      <td>78.581448</td>\n",
       "      <td>272.0</td>\n",
       "      <td>9.0</td>\n",
       "      <td>1.0</td>\n",
       "    </tr>\n",
       "    <tr>\n",
       "      <th>3452</th>\n",
       "      <td>F</td>\n",
       "      <td>1.0</td>\n",
       "      <td>1.0</td>\n",
       "      <td>0.0</td>\n",
       "      <td>0.0</td>\n",
       "      <td>0.0</td>\n",
       "      <td>0.0</td>\n",
       "      <td>0.0</td>\n",
       "      <td>0.0</td>\n",
       "      <td>NaN</td>\n",
       "      <td>...</td>\n",
       "      <td>0.0</td>\n",
       "      <td>0.0</td>\n",
       "      <td>0.0</td>\n",
       "      <td>0.0</td>\n",
       "      <td>0.0</td>\n",
       "      <td>0.0</td>\n",
       "      <td>NaN</td>\n",
       "      <td>288.0</td>\n",
       "      <td>9.0</td>\n",
       "      <td>NaN</td>\n",
       "    </tr>\n",
       "    <tr>\n",
       "      <th>3453</th>\n",
       "      <td>F</td>\n",
       "      <td>1.0</td>\n",
       "      <td>1.0</td>\n",
       "      <td>0.0</td>\n",
       "      <td>0.0</td>\n",
       "      <td>0.0</td>\n",
       "      <td>0.0</td>\n",
       "      <td>0.0</td>\n",
       "      <td>0.0</td>\n",
       "      <td>1.0</td>\n",
       "      <td>...</td>\n",
       "      <td>0.0</td>\n",
       "      <td>0.0</td>\n",
       "      <td>1.0</td>\n",
       "      <td>0.0</td>\n",
       "      <td>0.0</td>\n",
       "      <td>0.0</td>\n",
       "      <td>NaN</td>\n",
       "      <td>275.0</td>\n",
       "      <td>9.0</td>\n",
       "      <td>0.0</td>\n",
       "    </tr>\n",
       "    <tr>\n",
       "      <th>3454</th>\n",
       "      <td>M</td>\n",
       "      <td>1.0</td>\n",
       "      <td>1.0</td>\n",
       "      <td>0.0</td>\n",
       "      <td>0.0</td>\n",
       "      <td>0.0</td>\n",
       "      <td>0.0</td>\n",
       "      <td>0.0</td>\n",
       "      <td>0.0</td>\n",
       "      <td>0.0</td>\n",
       "      <td>...</td>\n",
       "      <td>0.0</td>\n",
       "      <td>0.0</td>\n",
       "      <td>0.0</td>\n",
       "      <td>0.0</td>\n",
       "      <td>0.0</td>\n",
       "      <td>0.0</td>\n",
       "      <td>98.074621</td>\n",
       "      <td>283.0</td>\n",
       "      <td>9.0</td>\n",
       "      <td>0.0</td>\n",
       "    </tr>\n",
       "  </tbody>\n",
       "</table>\n",
       "<p>3455 rows × 25 columns</p>\n",
       "</div>"
      ],
      "text/plain": [
       "     Gender  Mode_of_delivery  Anesthetic_delivery  \\\n",
       "0         F               NaN                  NaN   \n",
       "1         M               NaN                  NaN   \n",
       "2         F               NaN                  NaN   \n",
       "3         F               NaN                  NaN   \n",
       "4         F               NaN                  NaN   \n",
       "...     ...               ...                  ...   \n",
       "3450      M               1.0                  1.0   \n",
       "3451      M               3.0                  1.0   \n",
       "3452      F               1.0                  1.0   \n",
       "3453      F               1.0                  1.0   \n",
       "3454      M               1.0                  1.0   \n",
       "\n",
       "      Prolonged_Expiration_1yCLA  Crackles_1yCLA  Wheeze_1yCLA  Mother_Asthma  \\\n",
       "0                            NaN             NaN           NaN            0.0   \n",
       "1                            NaN             NaN           NaN            0.0   \n",
       "2                            NaN             NaN           NaN            1.0   \n",
       "3                            NaN             NaN           NaN            1.0   \n",
       "4                            NaN             NaN           NaN            0.0   \n",
       "...                          ...             ...           ...            ...   \n",
       "3450                         0.0             0.0           0.0            0.0   \n",
       "3451                         0.0             0.0           0.0            0.0   \n",
       "3452                         0.0             0.0           0.0            0.0   \n",
       "3453                         0.0             0.0           0.0            0.0   \n",
       "3454                         0.0             0.0           0.0            0.0   \n",
       "\n",
       "      Father_Asthma  Parental_Asthma  Mom_Atopy  ...  Wheeze_Father  \\\n",
       "0               0.0              0.0        0.0  ...            0.0   \n",
       "1               NaN              NaN        NaN  ...            NaN   \n",
       "2               0.0              1.0        1.0  ...            0.0   \n",
       "3               0.0              1.0        1.0  ...            0.0   \n",
       "4               0.0              0.0        0.0  ...            0.0   \n",
       "...             ...              ...        ...  ...            ...   \n",
       "3450            NaN              NaN        1.0  ...            NaN   \n",
       "3451            1.0              1.0        1.0  ...            1.0   \n",
       "3452            0.0              0.0        NaN  ...            0.0   \n",
       "3453            0.0              0.0        1.0  ...            0.0   \n",
       "3454            0.0              0.0        0.0  ...            0.0   \n",
       "\n",
       "      Hayfever_Father  AD_Father  Pollentress_Father  \\\n",
       "0                 1.0        1.0                 NaN   \n",
       "1                 NaN        NaN                 NaN   \n",
       "2                 1.0        0.0                 NaN   \n",
       "3                 0.0        0.0                 NaN   \n",
       "4                 0.0        0.0                 NaN   \n",
       "...               ...        ...                 ...   \n",
       "3450              NaN        NaN                 NaN   \n",
       "3451              1.0        1.0                 1.0   \n",
       "3452              0.0        0.0                 0.0   \n",
       "3453              0.0        1.0                 0.0   \n",
       "3454              0.0        0.0                 0.0   \n",
       "\n",
       "      Number_of_AntibioticsCourse  Antibiotics_Usage  Home_DEHP_3m  Gest_Days  \\\n",
       "0                             0.0                0.0    126.233432      273.0   \n",
       "1                             0.0                0.0           NaN      275.0   \n",
       "2                             0.0                0.0           NaN      279.0   \n",
       "3                             0.0                0.0           NaN      280.0   \n",
       "4                             0.0                0.0           NaN      271.0   \n",
       "...                           ...                ...           ...        ...   \n",
       "3450                          0.0                0.0    274.867379      275.0   \n",
       "3451                          0.0                0.0     78.581448      272.0   \n",
       "3452                          0.0                0.0           NaN      288.0   \n",
       "3453                          0.0                0.0           NaN      275.0   \n",
       "3454                          0.0                0.0     98.074621      283.0   \n",
       "\n",
       "      Apgar_Score_5min  Asthma_Diagnosis_5yCLA  \n",
       "0                  NaN                     NaN  \n",
       "1                  NaN                     NaN  \n",
       "2                  NaN                     NaN  \n",
       "3                  NaN                     NaN  \n",
       "4                  NaN                     NaN  \n",
       "...                ...                     ...  \n",
       "3450               9.0                     0.0  \n",
       "3451               9.0                     1.0  \n",
       "3452               9.0                     NaN  \n",
       "3453               9.0                     0.0  \n",
       "3454               9.0                     0.0  \n",
       "\n",
       "[3455 rows x 25 columns]"
      ]
     },
     "execution_count": 48,
     "metadata": {},
     "output_type": "execute_result"
    },
    {
     "data": {
      "application/javascript": [
       "\n",
       "            setTimeout(function() {\n",
       "                var nbb_cell_id = 48;\n",
       "                var nbb_unformatted_code = \"df_previous\";\n",
       "                var nbb_formatted_code = \"df_previous\";\n",
       "                var nbb_cells = Jupyter.notebook.get_cells();\n",
       "                for (var i = 0; i < nbb_cells.length; ++i) {\n",
       "                    if (nbb_cells[i].input_prompt_number == nbb_cell_id) {\n",
       "                        if (nbb_cells[i].get_text() == nbb_unformatted_code) {\n",
       "                             nbb_cells[i].set_text(nbb_formatted_code);\n",
       "                        }\n",
       "                        break;\n",
       "                    }\n",
       "                }\n",
       "            }, 500);\n",
       "            "
      ],
      "text/plain": [
       "<IPython.core.display.Javascript object>"
      ]
     },
     "metadata": {},
     "output_type": "display_data"
    }
   ],
   "source": [
    "df_previous"
   ]
  },
  {
   "cell_type": "code",
   "execution_count": 23,
   "id": "2c63d78d",
   "metadata": {},
   "outputs": [
    {
     "data": {
      "application/javascript": [
       "\n",
       "            setTimeout(function() {\n",
       "                var nbb_cell_id = 23;\n",
       "                var nbb_unformatted_code = \"df_previous_5y = df_previous[df_previous.Asthma_Diagnosis_5yCLA.notna()]\";\n",
       "                var nbb_formatted_code = \"df_previous_5y = df_previous[df_previous.Asthma_Diagnosis_5yCLA.notna()]\";\n",
       "                var nbb_cells = Jupyter.notebook.get_cells();\n",
       "                for (var i = 0; i < nbb_cells.length; ++i) {\n",
       "                    if (nbb_cells[i].input_prompt_number == nbb_cell_id) {\n",
       "                        if (nbb_cells[i].get_text() == nbb_unformatted_code) {\n",
       "                             nbb_cells[i].set_text(nbb_formatted_code);\n",
       "                        }\n",
       "                        break;\n",
       "                    }\n",
       "                }\n",
       "            }, 500);\n",
       "            "
      ],
      "text/plain": [
       "<IPython.core.display.Javascript object>"
      ]
     },
     "metadata": {},
     "output_type": "display_data"
    }
   ],
   "source": [
    "df_previous_5y = df_previous[df_previous.Asthma_Diagnosis_5yCLA.notna()]"
   ]
  },
  {
   "cell_type": "code",
   "execution_count": 24,
   "id": "897d51cf",
   "metadata": {},
   "outputs": [
    {
     "data": {
      "text/plain": [
       "9.0     2290\n",
       "8.0      119\n",
       "10.0     105\n",
       "NaN       65\n",
       "7.0       34\n",
       "6.0       22\n",
       "5.0        5\n",
       "4.0        3\n",
       "1.0        2\n",
       "2.0        1\n",
       "Name: Apgar_Score_5min, dtype: int64"
      ]
     },
     "execution_count": 24,
     "metadata": {},
     "output_type": "execute_result"
    },
    {
     "data": {
      "application/javascript": [
       "\n",
       "            setTimeout(function() {\n",
       "                var nbb_cell_id = 24;\n",
       "                var nbb_unformatted_code = \"df_previous_5y.Apgar_Score_5min.value_counts(dropna=False)\";\n",
       "                var nbb_formatted_code = \"df_previous_5y.Apgar_Score_5min.value_counts(dropna=False)\";\n",
       "                var nbb_cells = Jupyter.notebook.get_cells();\n",
       "                for (var i = 0; i < nbb_cells.length; ++i) {\n",
       "                    if (nbb_cells[i].input_prompt_number == nbb_cell_id) {\n",
       "                        if (nbb_cells[i].get_text() == nbb_unformatted_code) {\n",
       "                             nbb_cells[i].set_text(nbb_formatted_code);\n",
       "                        }\n",
       "                        break;\n",
       "                    }\n",
       "                }\n",
       "            }, 500);\n",
       "            "
      ],
      "text/plain": [
       "<IPython.core.display.Javascript object>"
      ]
     },
     "metadata": {},
     "output_type": "display_data"
    }
   ],
   "source": [
    "df_previous_5y.Apgar_Score_5min.value_counts(dropna=False)"
   ]
  },
  {
   "cell_type": "code",
   "execution_count": 28,
   "id": "1ebf3f69",
   "metadata": {},
   "outputs": [
    {
     "data": {
      "application/javascript": [
       "\n",
       "            setTimeout(function() {\n",
       "                var nbb_cell_id = 28;\n",
       "                var nbb_unformatted_code = \"# For numerical col, mean will be used to fill NaN\\nfor col in [\\\"Gest_Days\\\", \\\"Home_DEHP_3m\\\"]:\\n    df_previous_5y[col] = df_previous_5y[col].fillna(df_previous_5y[col].mean())\\n\\n# For categorical columns, 0 (negative) will be used to fill NaN\\nfor col in set(df_previous_5y.columns.to_list()) - set(\\n    [\\\"Gest_Days\\\", \\\"Home_DEHP_3m\\\", \\\"Apgar_Score_5min\\\", \\\"Asthma_Diagnosis_5yCLA\\\"]\\n):\\n    df_previous_5y[col]=df_previous_5y[col].fillna(value=0)\\n    \\ndf_previous_5y.Apgar_Score_5min = df_previous_5y.Apgar_Score_5min.fillna(9)\";\n",
       "                var nbb_formatted_code = \"# For numerical col, mean will be used to fill NaN\\nfor col in [\\\"Gest_Days\\\", \\\"Home_DEHP_3m\\\"]:\\n    df_previous_5y[col] = df_previous_5y[col].fillna(df_previous_5y[col].mean())\\n\\n# For categorical columns, 0 (negative) will be used to fill NaN\\nfor col in set(df_previous_5y.columns.to_list()) - set(\\n    [\\\"Gest_Days\\\", \\\"Home_DEHP_3m\\\", \\\"Apgar_Score_5min\\\", \\\"Asthma_Diagnosis_5yCLA\\\"]\\n):\\n    df_previous_5y[col] = df_previous_5y[col].fillna(value=0)\\n\\ndf_previous_5y.Apgar_Score_5min = df_previous_5y.Apgar_Score_5min.fillna(9)\";\n",
       "                var nbb_cells = Jupyter.notebook.get_cells();\n",
       "                for (var i = 0; i < nbb_cells.length; ++i) {\n",
       "                    if (nbb_cells[i].input_prompt_number == nbb_cell_id) {\n",
       "                        if (nbb_cells[i].get_text() == nbb_unformatted_code) {\n",
       "                             nbb_cells[i].set_text(nbb_formatted_code);\n",
       "                        }\n",
       "                        break;\n",
       "                    }\n",
       "                }\n",
       "            }, 500);\n",
       "            "
      ],
      "text/plain": [
       "<IPython.core.display.Javascript object>"
      ]
     },
     "metadata": {},
     "output_type": "display_data"
    }
   ],
   "source": [
    "# For numerical col, mean will be used to fill NaN\n",
    "for col in [\"Gest_Days\", \"Home_DEHP_3m\"]:\n",
    "    df_previous_5y[col] = df_previous_5y[col].fillna(df_previous_5y[col].mean())\n",
    "\n",
    "# For categorical columns, 0 (negative) will be used to fill NaN\n",
    "for col in set(df_previous_5y.columns.to_list()) - set(\n",
    "    [\"Gest_Days\", \"Home_DEHP_3m\", \"Apgar_Score_5min\", \"Asthma_Diagnosis_5yCLA\"]\n",
    "):\n",
    "    df_previous_5y[col] = df_previous_5y[col].fillna(value=0)\n",
    "\n",
    "df_previous_5y.Apgar_Score_5min = df_previous_5y.Apgar_Score_5min.fillna(9)\n",
    "df_previous_5y.Gender = df_previous_5y.Gender.replace({\"F\": 0, \"M\": 1})"
   ]
  },
  {
   "cell_type": "code",
   "execution_count": 32,
   "id": "e7696fd1",
   "metadata": {},
   "outputs": [
    {
     "data": {
      "application/javascript": [
       "\n",
       "            setTimeout(function() {\n",
       "                var nbb_cell_id = 32;\n",
       "                var nbb_unformatted_code = \"df_previous_5y.Home_DEHP_3m = df_previous_5y.Home_DEHP_3m.replace({322.105093:318.702551})\";\n",
       "                var nbb_formatted_code = \"df_previous_5y.Home_DEHP_3m = df_previous_5y.Home_DEHP_3m.replace(\\n    {322.105093: 318.702551}\\n)\";\n",
       "                var nbb_cells = Jupyter.notebook.get_cells();\n",
       "                for (var i = 0; i < nbb_cells.length; ++i) {\n",
       "                    if (nbb_cells[i].input_prompt_number == nbb_cell_id) {\n",
       "                        if (nbb_cells[i].get_text() == nbb_unformatted_code) {\n",
       "                             nbb_cells[i].set_text(nbb_formatted_code);\n",
       "                        }\n",
       "                        break;\n",
       "                    }\n",
       "                }\n",
       "            }, 500);\n",
       "            "
      ],
      "text/plain": [
       "<IPython.core.display.Javascript object>"
      ]
     },
     "metadata": {},
     "output_type": "display_data"
    }
   ],
   "source": [
    "df_previous_5y.Home_DEHP_3m = df_previous_5y.Home_DEHP_3m.replace(\n",
    "    {322.105093: 318.702551}\n",
    ")"
   ]
  },
  {
   "cell_type": "code",
   "execution_count": 43,
   "id": "0dde734d",
   "metadata": {},
   "outputs": [
    {
     "data": {
      "text/plain": [
       "{6: 0, 7: 0, 8: 0, 9: 0}"
      ]
     },
     "execution_count": 43,
     "metadata": {},
     "output_type": "execute_result"
    },
    {
     "data": {
      "text/plain": [
       "{1: 1, 2: 1, 3: 1, 4: 1, 11: 1}"
      ]
     },
     "execution_count": 43,
     "metadata": {},
     "output_type": "execute_result"
    },
    {
     "data": {
      "application/javascript": [
       "\n",
       "            setTimeout(function() {\n",
       "                var nbb_cell_id = 43;\n",
       "                var nbb_unformatted_code = \"{i: 0 for i in [6, 7, 8, 9]}\\n{i: 1 for i in [1, 2, 3, 4, 11]}\";\n",
       "                var nbb_formatted_code = \"{i: 0 for i in [6, 7, 8, 9]}\\n{i: 1 for i in [1, 2, 3, 4, 11]}\";\n",
       "                var nbb_cells = Jupyter.notebook.get_cells();\n",
       "                for (var i = 0; i < nbb_cells.length; ++i) {\n",
       "                    if (nbb_cells[i].input_prompt_number == nbb_cell_id) {\n",
       "                        if (nbb_cells[i].get_text() == nbb_unformatted_code) {\n",
       "                             nbb_cells[i].set_text(nbb_formatted_code);\n",
       "                        }\n",
       "                        break;\n",
       "                    }\n",
       "                }\n",
       "            }, 500);\n",
       "            "
      ],
      "text/plain": [
       "<IPython.core.display.Javascript object>"
      ]
     },
     "metadata": {},
     "output_type": "display_data"
    }
   ],
   "source": [
    "{i: 0 for i in [6, 7, 8, 9]}\n",
    "{i: 1 for i in [1, 2, 3, 4, 11]}"
   ]
  },
  {
   "cell_type": "code",
   "execution_count": 40,
   "id": "b50100cd",
   "metadata": {},
   "outputs": [
    {
     "data": {
      "text/plain": [
       "{1: 1, 2: 1, 3: 1, 4: 1, 11: 1}"
      ]
     },
     "execution_count": 40,
     "metadata": {},
     "output_type": "execute_result"
    },
    {
     "data": {
      "application/javascript": [
       "\n",
       "            setTimeout(function() {\n",
       "                var nbb_cell_id = 40;\n",
       "                var nbb_unformatted_code = \"{i: 1 for i in [1, 2, 3, 4, 11]}\";\n",
       "                var nbb_formatted_code = \"{i: 1 for i in [1, 2, 3, 4, 11]}\";\n",
       "                var nbb_cells = Jupyter.notebook.get_cells();\n",
       "                for (var i = 0; i < nbb_cells.length; ++i) {\n",
       "                    if (nbb_cells[i].input_prompt_number == nbb_cell_id) {\n",
       "                        if (nbb_cells[i].get_text() == nbb_unformatted_code) {\n",
       "                             nbb_cells[i].set_text(nbb_formatted_code);\n",
       "                        }\n",
       "                        break;\n",
       "                    }\n",
       "                }\n",
       "            }, 500);\n",
       "            "
      ],
      "text/plain": [
       "<IPython.core.display.Javascript object>"
      ]
     },
     "metadata": {},
     "output_type": "display_data"
    }
   ],
   "source": []
  },
  {
   "cell_type": "code",
   "execution_count": 44,
   "id": "0d4db682",
   "metadata": {},
   "outputs": [
    {
     "data": {
      "application/javascript": [
       "\n",
       "            setTimeout(function() {\n",
       "                var nbb_cell_id = 44;\n",
       "                var nbb_unformatted_code = \"df_previous_5y.Mode_of_delivery = df_previous_5y.Mode_of_delivery.replace(\\n    {6: 0, 7: 0, 8: 0, 9: 0,1: 1, 2: 1, 3: 1, 4: 1, 11: 1}\\n)\";\n",
       "                var nbb_formatted_code = \"df_previous_5y.Mode_of_delivery = df_previous_5y.Mode_of_delivery.replace(\\n    {6: 0, 7: 0, 8: 0, 9: 0, 1: 1, 2: 1, 3: 1, 4: 1, 11: 1}\\n)\";\n",
       "                var nbb_cells = Jupyter.notebook.get_cells();\n",
       "                for (var i = 0; i < nbb_cells.length; ++i) {\n",
       "                    if (nbb_cells[i].input_prompt_number == nbb_cell_id) {\n",
       "                        if (nbb_cells[i].get_text() == nbb_unformatted_code) {\n",
       "                             nbb_cells[i].set_text(nbb_formatted_code);\n",
       "                        }\n",
       "                        break;\n",
       "                    }\n",
       "                }\n",
       "            }, 500);\n",
       "            "
      ],
      "text/plain": [
       "<IPython.core.display.Javascript object>"
      ]
     },
     "metadata": {},
     "output_type": "display_data"
    }
   ],
   "source": [
    "df_previous_5y.Mode_of_delivery = df_previous_5y.Mode_of_delivery.replace(\n",
    "    {6: 0, 7: 0, 8: 0, 9: 0, 1: 1, 2: 1, 3: 1, 4: 1, 11: 1}\n",
    ")"
   ]
  },
  {
   "cell_type": "code",
   "execution_count": 50,
   "id": "fea9bacc",
   "metadata": {},
   "outputs": [
    {
     "data": {
      "text/plain": [
       "0.0    2234\n",
       "2.0     247\n",
       "1.0     165\n",
       "Name: Asthma_Diagnosis_5yCLA, dtype: int64"
      ]
     },
     "execution_count": 50,
     "metadata": {},
     "output_type": "execute_result"
    },
    {
     "data": {
      "application/javascript": [
       "\n",
       "            setTimeout(function() {\n",
       "                var nbb_cell_id = 50;\n",
       "                var nbb_unformatted_code = \"df_previous_5y.Asthma_Diagnosis_5yCLA.value_counts()\";\n",
       "                var nbb_formatted_code = \"df_previous_5y.Asthma_Diagnosis_5yCLA.value_counts()\";\n",
       "                var nbb_cells = Jupyter.notebook.get_cells();\n",
       "                for (var i = 0; i < nbb_cells.length; ++i) {\n",
       "                    if (nbb_cells[i].input_prompt_number == nbb_cell_id) {\n",
       "                        if (nbb_cells[i].get_text() == nbb_unformatted_code) {\n",
       "                             nbb_cells[i].set_text(nbb_formatted_code);\n",
       "                        }\n",
       "                        break;\n",
       "                    }\n",
       "                }\n",
       "            }, 500);\n",
       "            "
      ],
      "text/plain": [
       "<IPython.core.display.Javascript object>"
      ]
     },
     "metadata": {},
     "output_type": "display_data"
    }
   ],
   "source": [
    "df_previous_5y.Asthma_Diagnosis_5yCLA.value_counts()"
   ]
  },
  {
   "cell_type": "code",
   "execution_count": 59,
   "id": "31920399",
   "metadata": {},
   "outputs": [
    {
     "data": {
      "application/javascript": [
       "\n",
       "            setTimeout(function() {\n",
       "                var nbb_cell_id = 59;\n",
       "                var nbb_unformatted_code = \"df_previous_ml = df_previous_5y[df_previous_5y.Asthma_Diagnosis_5yCLA != 2]\";\n",
       "                var nbb_formatted_code = \"df_previous_ml = df_previous_5y[df_previous_5y.Asthma_Diagnosis_5yCLA != 2]\";\n",
       "                var nbb_cells = Jupyter.notebook.get_cells();\n",
       "                for (var i = 0; i < nbb_cells.length; ++i) {\n",
       "                    if (nbb_cells[i].input_prompt_number == nbb_cell_id) {\n",
       "                        if (nbb_cells[i].get_text() == nbb_unformatted_code) {\n",
       "                             nbb_cells[i].set_text(nbb_formatted_code);\n",
       "                        }\n",
       "                        break;\n",
       "                    }\n",
       "                }\n",
       "            }, 500);\n",
       "            "
      ],
      "text/plain": [
       "<IPython.core.display.Javascript object>"
      ]
     },
     "metadata": {},
     "output_type": "display_data"
    }
   ],
   "source": [
    "df_previous_ml = df_previous_5y[df_previous_5y.Asthma_Diagnosis_5yCLA != 2]"
   ]
  },
  {
   "cell_type": "code",
   "execution_count": 60,
   "id": "759f48d9",
   "metadata": {},
   "outputs": [
    {
     "data": {
      "text/html": [
       "<div>\n",
       "<style scoped>\n",
       "    .dataframe tbody tr th:only-of-type {\n",
       "        vertical-align: middle;\n",
       "    }\n",
       "\n",
       "    .dataframe tbody tr th {\n",
       "        vertical-align: top;\n",
       "    }\n",
       "\n",
       "    .dataframe thead th {\n",
       "        text-align: right;\n",
       "    }\n",
       "</style>\n",
       "<table border=\"1\" class=\"dataframe\">\n",
       "  <thead>\n",
       "    <tr style=\"text-align: right;\">\n",
       "      <th></th>\n",
       "      <th>Gender</th>\n",
       "      <th>Mode_of_delivery</th>\n",
       "      <th>Anesthetic_delivery</th>\n",
       "      <th>Prolonged_Expiration_1yCLA</th>\n",
       "      <th>Crackles_1yCLA</th>\n",
       "      <th>Wheeze_1yCLA</th>\n",
       "      <th>Mother_Asthma</th>\n",
       "      <th>Father_Asthma</th>\n",
       "      <th>Parental_Asthma</th>\n",
       "      <th>Mom_Atopy</th>\n",
       "      <th>...</th>\n",
       "      <th>Wheeze_Father</th>\n",
       "      <th>Hayfever_Father</th>\n",
       "      <th>AD_Father</th>\n",
       "      <th>Pollentress_Father</th>\n",
       "      <th>Number_of_AntibioticsCourse</th>\n",
       "      <th>Antibiotics_Usage</th>\n",
       "      <th>Home_DEHP_3m</th>\n",
       "      <th>Gest_Days</th>\n",
       "      <th>Apgar_Score_5min</th>\n",
       "      <th>Asthma_Diagnosis_5yCLA</th>\n",
       "    </tr>\n",
       "  </thead>\n",
       "  <tbody>\n",
       "    <tr>\n",
       "      <th>53</th>\n",
       "      <td>0</td>\n",
       "      <td>1.0</td>\n",
       "      <td>1.0</td>\n",
       "      <td>0.0</td>\n",
       "      <td>0.0</td>\n",
       "      <td>0.0</td>\n",
       "      <td>0.0</td>\n",
       "      <td>0.0</td>\n",
       "      <td>0.0</td>\n",
       "      <td>0.0</td>\n",
       "      <td>...</td>\n",
       "      <td>0.0</td>\n",
       "      <td>1.0</td>\n",
       "      <td>1.0</td>\n",
       "      <td>0.0</td>\n",
       "      <td>0.0</td>\n",
       "      <td>0.0</td>\n",
       "      <td>322.105093</td>\n",
       "      <td>276.0</td>\n",
       "      <td>9.0</td>\n",
       "      <td>0.0</td>\n",
       "    </tr>\n",
       "    <tr>\n",
       "      <th>54</th>\n",
       "      <td>1</td>\n",
       "      <td>0.0</td>\n",
       "      <td>1.0</td>\n",
       "      <td>0.0</td>\n",
       "      <td>0.0</td>\n",
       "      <td>0.0</td>\n",
       "      <td>1.0</td>\n",
       "      <td>0.0</td>\n",
       "      <td>1.0</td>\n",
       "      <td>0.0</td>\n",
       "      <td>...</td>\n",
       "      <td>0.0</td>\n",
       "      <td>1.0</td>\n",
       "      <td>1.0</td>\n",
       "      <td>0.0</td>\n",
       "      <td>0.0</td>\n",
       "      <td>0.0</td>\n",
       "      <td>322.105093</td>\n",
       "      <td>292.0</td>\n",
       "      <td>6.0</td>\n",
       "      <td>0.0</td>\n",
       "    </tr>\n",
       "    <tr>\n",
       "      <th>55</th>\n",
       "      <td>1</td>\n",
       "      <td>0.0</td>\n",
       "      <td>1.0</td>\n",
       "      <td>0.0</td>\n",
       "      <td>0.0</td>\n",
       "      <td>0.0</td>\n",
       "      <td>0.0</td>\n",
       "      <td>0.0</td>\n",
       "      <td>0.0</td>\n",
       "      <td>0.0</td>\n",
       "      <td>...</td>\n",
       "      <td>0.0</td>\n",
       "      <td>0.0</td>\n",
       "      <td>0.0</td>\n",
       "      <td>0.0</td>\n",
       "      <td>0.0</td>\n",
       "      <td>0.0</td>\n",
       "      <td>322.105093</td>\n",
       "      <td>269.0</td>\n",
       "      <td>9.0</td>\n",
       "      <td>0.0</td>\n",
       "    </tr>\n",
       "    <tr>\n",
       "      <th>56</th>\n",
       "      <td>0</td>\n",
       "      <td>1.0</td>\n",
       "      <td>1.0</td>\n",
       "      <td>0.0</td>\n",
       "      <td>0.0</td>\n",
       "      <td>0.0</td>\n",
       "      <td>0.0</td>\n",
       "      <td>0.0</td>\n",
       "      <td>0.0</td>\n",
       "      <td>1.0</td>\n",
       "      <td>...</td>\n",
       "      <td>0.0</td>\n",
       "      <td>1.0</td>\n",
       "      <td>0.0</td>\n",
       "      <td>0.0</td>\n",
       "      <td>0.0</td>\n",
       "      <td>0.0</td>\n",
       "      <td>495.652022</td>\n",
       "      <td>279.0</td>\n",
       "      <td>10.0</td>\n",
       "      <td>0.0</td>\n",
       "    </tr>\n",
       "    <tr>\n",
       "      <th>57</th>\n",
       "      <td>1</td>\n",
       "      <td>1.0</td>\n",
       "      <td>1.0</td>\n",
       "      <td>0.0</td>\n",
       "      <td>0.0</td>\n",
       "      <td>0.0</td>\n",
       "      <td>1.0</td>\n",
       "      <td>0.0</td>\n",
       "      <td>1.0</td>\n",
       "      <td>1.0</td>\n",
       "      <td>...</td>\n",
       "      <td>1.0</td>\n",
       "      <td>1.0</td>\n",
       "      <td>1.0</td>\n",
       "      <td>0.0</td>\n",
       "      <td>0.0</td>\n",
       "      <td>0.0</td>\n",
       "      <td>139.213172</td>\n",
       "      <td>273.0</td>\n",
       "      <td>9.0</td>\n",
       "      <td>0.0</td>\n",
       "    </tr>\n",
       "    <tr>\n",
       "      <th>...</th>\n",
       "      <td>...</td>\n",
       "      <td>...</td>\n",
       "      <td>...</td>\n",
       "      <td>...</td>\n",
       "      <td>...</td>\n",
       "      <td>...</td>\n",
       "      <td>...</td>\n",
       "      <td>...</td>\n",
       "      <td>...</td>\n",
       "      <td>...</td>\n",
       "      <td>...</td>\n",
       "      <td>...</td>\n",
       "      <td>...</td>\n",
       "      <td>...</td>\n",
       "      <td>...</td>\n",
       "      <td>...</td>\n",
       "      <td>...</td>\n",
       "      <td>...</td>\n",
       "      <td>...</td>\n",
       "      <td>...</td>\n",
       "      <td>...</td>\n",
       "    </tr>\n",
       "    <tr>\n",
       "      <th>3448</th>\n",
       "      <td>1</td>\n",
       "      <td>1.0</td>\n",
       "      <td>1.0</td>\n",
       "      <td>0.0</td>\n",
       "      <td>0.0</td>\n",
       "      <td>0.0</td>\n",
       "      <td>0.0</td>\n",
       "      <td>0.0</td>\n",
       "      <td>0.0</td>\n",
       "      <td>1.0</td>\n",
       "      <td>...</td>\n",
       "      <td>0.0</td>\n",
       "      <td>1.0</td>\n",
       "      <td>0.0</td>\n",
       "      <td>1.0</td>\n",
       "      <td>0.0</td>\n",
       "      <td>0.0</td>\n",
       "      <td>322.105093</td>\n",
       "      <td>280.0</td>\n",
       "      <td>9.0</td>\n",
       "      <td>0.0</td>\n",
       "    </tr>\n",
       "    <tr>\n",
       "      <th>3450</th>\n",
       "      <td>1</td>\n",
       "      <td>1.0</td>\n",
       "      <td>1.0</td>\n",
       "      <td>0.0</td>\n",
       "      <td>0.0</td>\n",
       "      <td>0.0</td>\n",
       "      <td>0.0</td>\n",
       "      <td>0.0</td>\n",
       "      <td>0.0</td>\n",
       "      <td>1.0</td>\n",
       "      <td>...</td>\n",
       "      <td>0.0</td>\n",
       "      <td>0.0</td>\n",
       "      <td>0.0</td>\n",
       "      <td>0.0</td>\n",
       "      <td>0.0</td>\n",
       "      <td>0.0</td>\n",
       "      <td>274.867379</td>\n",
       "      <td>275.0</td>\n",
       "      <td>9.0</td>\n",
       "      <td>0.0</td>\n",
       "    </tr>\n",
       "    <tr>\n",
       "      <th>3451</th>\n",
       "      <td>1</td>\n",
       "      <td>1.0</td>\n",
       "      <td>1.0</td>\n",
       "      <td>0.0</td>\n",
       "      <td>0.0</td>\n",
       "      <td>0.0</td>\n",
       "      <td>0.0</td>\n",
       "      <td>1.0</td>\n",
       "      <td>1.0</td>\n",
       "      <td>1.0</td>\n",
       "      <td>...</td>\n",
       "      <td>1.0</td>\n",
       "      <td>1.0</td>\n",
       "      <td>1.0</td>\n",
       "      <td>1.0</td>\n",
       "      <td>0.0</td>\n",
       "      <td>0.0</td>\n",
       "      <td>78.581448</td>\n",
       "      <td>272.0</td>\n",
       "      <td>9.0</td>\n",
       "      <td>1.0</td>\n",
       "    </tr>\n",
       "    <tr>\n",
       "      <th>3453</th>\n",
       "      <td>0</td>\n",
       "      <td>1.0</td>\n",
       "      <td>1.0</td>\n",
       "      <td>0.0</td>\n",
       "      <td>0.0</td>\n",
       "      <td>0.0</td>\n",
       "      <td>0.0</td>\n",
       "      <td>0.0</td>\n",
       "      <td>0.0</td>\n",
       "      <td>1.0</td>\n",
       "      <td>...</td>\n",
       "      <td>0.0</td>\n",
       "      <td>0.0</td>\n",
       "      <td>1.0</td>\n",
       "      <td>0.0</td>\n",
       "      <td>0.0</td>\n",
       "      <td>0.0</td>\n",
       "      <td>322.105093</td>\n",
       "      <td>275.0</td>\n",
       "      <td>9.0</td>\n",
       "      <td>0.0</td>\n",
       "    </tr>\n",
       "    <tr>\n",
       "      <th>3454</th>\n",
       "      <td>1</td>\n",
       "      <td>1.0</td>\n",
       "      <td>1.0</td>\n",
       "      <td>0.0</td>\n",
       "      <td>0.0</td>\n",
       "      <td>0.0</td>\n",
       "      <td>0.0</td>\n",
       "      <td>0.0</td>\n",
       "      <td>0.0</td>\n",
       "      <td>0.0</td>\n",
       "      <td>...</td>\n",
       "      <td>0.0</td>\n",
       "      <td>0.0</td>\n",
       "      <td>0.0</td>\n",
       "      <td>0.0</td>\n",
       "      <td>0.0</td>\n",
       "      <td>0.0</td>\n",
       "      <td>98.074621</td>\n",
       "      <td>283.0</td>\n",
       "      <td>9.0</td>\n",
       "      <td>0.0</td>\n",
       "    </tr>\n",
       "  </tbody>\n",
       "</table>\n",
       "<p>2399 rows × 25 columns</p>\n",
       "</div>"
      ],
      "text/plain": [
       "      Gender  Mode_of_delivery  Anesthetic_delivery  \\\n",
       "53         0               1.0                  1.0   \n",
       "54         1               0.0                  1.0   \n",
       "55         1               0.0                  1.0   \n",
       "56         0               1.0                  1.0   \n",
       "57         1               1.0                  1.0   \n",
       "...      ...               ...                  ...   \n",
       "3448       1               1.0                  1.0   \n",
       "3450       1               1.0                  1.0   \n",
       "3451       1               1.0                  1.0   \n",
       "3453       0               1.0                  1.0   \n",
       "3454       1               1.0                  1.0   \n",
       "\n",
       "      Prolonged_Expiration_1yCLA  Crackles_1yCLA  Wheeze_1yCLA  Mother_Asthma  \\\n",
       "53                           0.0             0.0           0.0            0.0   \n",
       "54                           0.0             0.0           0.0            1.0   \n",
       "55                           0.0             0.0           0.0            0.0   \n",
       "56                           0.0             0.0           0.0            0.0   \n",
       "57                           0.0             0.0           0.0            1.0   \n",
       "...                          ...             ...           ...            ...   \n",
       "3448                         0.0             0.0           0.0            0.0   \n",
       "3450                         0.0             0.0           0.0            0.0   \n",
       "3451                         0.0             0.0           0.0            0.0   \n",
       "3453                         0.0             0.0           0.0            0.0   \n",
       "3454                         0.0             0.0           0.0            0.0   \n",
       "\n",
       "      Father_Asthma  Parental_Asthma  Mom_Atopy  ...  Wheeze_Father  \\\n",
       "53              0.0              0.0        0.0  ...            0.0   \n",
       "54              0.0              1.0        0.0  ...            0.0   \n",
       "55              0.0              0.0        0.0  ...            0.0   \n",
       "56              0.0              0.0        1.0  ...            0.0   \n",
       "57              0.0              1.0        1.0  ...            1.0   \n",
       "...             ...              ...        ...  ...            ...   \n",
       "3448            0.0              0.0        1.0  ...            0.0   \n",
       "3450            0.0              0.0        1.0  ...            0.0   \n",
       "3451            1.0              1.0        1.0  ...            1.0   \n",
       "3453            0.0              0.0        1.0  ...            0.0   \n",
       "3454            0.0              0.0        0.0  ...            0.0   \n",
       "\n",
       "      Hayfever_Father  AD_Father  Pollentress_Father  \\\n",
       "53                1.0        1.0                 0.0   \n",
       "54                1.0        1.0                 0.0   \n",
       "55                0.0        0.0                 0.0   \n",
       "56                1.0        0.0                 0.0   \n",
       "57                1.0        1.0                 0.0   \n",
       "...               ...        ...                 ...   \n",
       "3448              1.0        0.0                 1.0   \n",
       "3450              0.0        0.0                 0.0   \n",
       "3451              1.0        1.0                 1.0   \n",
       "3453              0.0        1.0                 0.0   \n",
       "3454              0.0        0.0                 0.0   \n",
       "\n",
       "      Number_of_AntibioticsCourse  Antibiotics_Usage  Home_DEHP_3m  Gest_Days  \\\n",
       "53                            0.0                0.0    322.105093      276.0   \n",
       "54                            0.0                0.0    322.105093      292.0   \n",
       "55                            0.0                0.0    322.105093      269.0   \n",
       "56                            0.0                0.0    495.652022      279.0   \n",
       "57                            0.0                0.0    139.213172      273.0   \n",
       "...                           ...                ...           ...        ...   \n",
       "3448                          0.0                0.0    322.105093      280.0   \n",
       "3450                          0.0                0.0    274.867379      275.0   \n",
       "3451                          0.0                0.0     78.581448      272.0   \n",
       "3453                          0.0                0.0    322.105093      275.0   \n",
       "3454                          0.0                0.0     98.074621      283.0   \n",
       "\n",
       "      Apgar_Score_5min  Asthma_Diagnosis_5yCLA  \n",
       "53                 9.0                     0.0  \n",
       "54                 6.0                     0.0  \n",
       "55                 9.0                     0.0  \n",
       "56                10.0                     0.0  \n",
       "57                 9.0                     0.0  \n",
       "...                ...                     ...  \n",
       "3448               9.0                     0.0  \n",
       "3450               9.0                     0.0  \n",
       "3451               9.0                     1.0  \n",
       "3453               9.0                     0.0  \n",
       "3454               9.0                     0.0  \n",
       "\n",
       "[2399 rows x 25 columns]"
      ]
     },
     "execution_count": 60,
     "metadata": {},
     "output_type": "execute_result"
    },
    {
     "data": {
      "application/javascript": [
       "\n",
       "            setTimeout(function() {\n",
       "                var nbb_cell_id = 60;\n",
       "                var nbb_unformatted_code = \"df_previous_ml\";\n",
       "                var nbb_formatted_code = \"df_previous_ml\";\n",
       "                var nbb_cells = Jupyter.notebook.get_cells();\n",
       "                for (var i = 0; i < nbb_cells.length; ++i) {\n",
       "                    if (nbb_cells[i].input_prompt_number == nbb_cell_id) {\n",
       "                        if (nbb_cells[i].get_text() == nbb_unformatted_code) {\n",
       "                             nbb_cells[i].set_text(nbb_formatted_code);\n",
       "                        }\n",
       "                        break;\n",
       "                    }\n",
       "                }\n",
       "            }, 500);\n",
       "            "
      ],
      "text/plain": [
       "<IPython.core.display.Javascript object>"
      ]
     },
     "metadata": {},
     "output_type": "display_data"
    }
   ],
   "source": [
    "df_previous_ml"
   ]
  },
  {
   "cell_type": "code",
   "execution_count": 68,
   "id": "99b12e48",
   "metadata": {},
   "outputs": [
    {
     "data": {
      "text/plain": [
       "1.0    1886\n",
       "0.0     513\n",
       "Name: Anesthetic_delivery, dtype: int64"
      ]
     },
     "execution_count": 68,
     "metadata": {},
     "output_type": "execute_result"
    },
    {
     "data": {
      "application/javascript": [
       "\n",
       "            setTimeout(function() {\n",
       "                var nbb_cell_id = 68;\n",
       "                var nbb_unformatted_code = \"df_previous_ml.Anesthetic_delivery.value_counts()\";\n",
       "                var nbb_formatted_code = \"df_previous_ml.Anesthetic_delivery.value_counts()\";\n",
       "                var nbb_cells = Jupyter.notebook.get_cells();\n",
       "                for (var i = 0; i < nbb_cells.length; ++i) {\n",
       "                    if (nbb_cells[i].input_prompt_number == nbb_cell_id) {\n",
       "                        if (nbb_cells[i].get_text() == nbb_unformatted_code) {\n",
       "                             nbb_cells[i].set_text(nbb_formatted_code);\n",
       "                        }\n",
       "                        break;\n",
       "                    }\n",
       "                }\n",
       "            }, 500);\n",
       "            "
      ],
      "text/plain": [
       "<IPython.core.display.Javascript object>"
      ]
     },
     "metadata": {},
     "output_type": "display_data"
    }
   ],
   "source": [
    "df_previous_ml.Anesthetic_delivery.value_counts()"
   ]
  },
  {
   "cell_type": "code",
   "execution_count": 64,
   "id": "3edcf266",
   "metadata": {},
   "outputs": [
    {
     "data": {
      "text/plain": [
       "<Figure size 864x720 with 0 Axes>"
      ]
     },
     "execution_count": 64,
     "metadata": {},
     "output_type": "execute_result"
    },
    {
     "data": {
      "text/plain": [
       "<AxesSubplot:>"
      ]
     },
     "execution_count": 64,
     "metadata": {},
     "output_type": "execute_result"
    },
    {
     "data": {
      "image/png": "[encoded data removed]",
      "text/plain": [
       "<Figure size 864x720 with 2 Axes>"
      ]
     },
     "metadata": {
      "needs_background": "light"
     },
     "output_type": "display_data"
    },
    {
     "data": {
      "application/javascript": [
       "\n",
       "            setTimeout(function() {\n",
       "                var nbb_cell_id = 64;\n",
       "                var nbb_unformatted_code = \"plt.figure(figsize=(12, 10))\\nsns.heatmap(df_previous_ml.corr())\";\n",
       "                var nbb_formatted_code = \"plt.figure(figsize=(12, 10))\\nsns.heatmap(df_previous_ml.corr())\";\n",
       "                var nbb_cells = Jupyter.notebook.get_cells();\n",
       "                for (var i = 0; i < nbb_cells.length; ++i) {\n",
       "                    if (nbb_cells[i].input_prompt_number == nbb_cell_id) {\n",
       "                        if (nbb_cells[i].get_text() == nbb_unformatted_code) {\n",
       "                             nbb_cells[i].set_text(nbb_formatted_code);\n",
       "                        }\n",
       "                        break;\n",
       "                    }\n",
       "                }\n",
       "            }, 500);\n",
       "            "
      ],
      "text/plain": [
       "<IPython.core.display.Javascript object>"
      ]
     },
     "metadata": {},
     "output_type": "display_data"
    }
   ],
   "source": [
    "plt.figure(figsize=(12, 10))\n",
    "sns.heatmap(df_previous_ml.corr())"
   ]
  },
  {
   "cell_type": "code",
   "execution_count": 65,
   "id": "f60354d6",
   "metadata": {},
   "outputs": [
    {
     "data": {
      "application/javascript": [
       "\n",
       "            setTimeout(function() {\n",
       "                var nbb_cell_id = 65;\n",
       "                var nbb_unformatted_code = \"df = df_previous_ml.rename(columns={'Asthma_Diagnosis_5yCLA':'target'})\";\n",
       "                var nbb_formatted_code = \"df = df_previous_ml.rename(columns={\\\"Asthma_Diagnosis_5yCLA\\\": \\\"target\\\"})\";\n",
       "                var nbb_cells = Jupyter.notebook.get_cells();\n",
       "                for (var i = 0; i < nbb_cells.length; ++i) {\n",
       "                    if (nbb_cells[i].input_prompt_number == nbb_cell_id) {\n",
       "                        if (nbb_cells[i].get_text() == nbb_unformatted_code) {\n",
       "                             nbb_cells[i].set_text(nbb_formatted_code);\n",
       "                        }\n",
       "                        break;\n",
       "                    }\n",
       "                }\n",
       "            }, 500);\n",
       "            "
      ],
      "text/plain": [
       "<IPython.core.display.Javascript object>"
      ]
     },
     "metadata": {},
     "output_type": "display_data"
    }
   ],
   "source": [
    "df = df_previous_ml.rename(columns={\"Asthma_Diagnosis_5yCLA\": \"target\"})"
   ]
  },
  {
   "cell_type": "code",
   "execution_count": 66,
   "id": "293f703a",
   "metadata": {},
   "outputs": [
    {
     "data": {
      "text/html": [
       "<div>\n",
       "<style scoped>\n",
       "    .dataframe tbody tr th:only-of-type {\n",
       "        vertical-align: middle;\n",
       "    }\n",
       "\n",
       "    .dataframe tbody tr th {\n",
       "        vertical-align: top;\n",
       "    }\n",
       "\n",
       "    .dataframe thead th {\n",
       "        text-align: right;\n",
       "    }\n",
       "</style>\n",
       "<table border=\"1\" class=\"dataframe\">\n",
       "  <thead>\n",
       "    <tr style=\"text-align: right;\">\n",
       "      <th></th>\n",
       "      <th>Gender</th>\n",
       "      <th>Mode_of_delivery</th>\n",
       "      <th>Anesthetic_delivery</th>\n",
       "      <th>Prolonged_Expiration_1yCLA</th>\n",
       "      <th>Crackles_1yCLA</th>\n",
       "      <th>Wheeze_1yCLA</th>\n",
       "      <th>Mother_Asthma</th>\n",
       "      <th>Father_Asthma</th>\n",
       "      <th>Parental_Asthma</th>\n",
       "      <th>Mom_Atopy</th>\n",
       "      <th>...</th>\n",
       "      <th>Wheeze_Father</th>\n",
       "      <th>Hayfever_Father</th>\n",
       "      <th>AD_Father</th>\n",
       "      <th>Pollentress_Father</th>\n",
       "      <th>Number_of_AntibioticsCourse</th>\n",
       "      <th>Antibiotics_Usage</th>\n",
       "      <th>Home_DEHP_3m</th>\n",
       "      <th>Gest_Days</th>\n",
       "      <th>Apgar_Score_5min</th>\n",
       "      <th>target</th>\n",
       "    </tr>\n",
       "  </thead>\n",
       "  <tbody>\n",
       "    <tr>\n",
       "      <th>53</th>\n",
       "      <td>0</td>\n",
       "      <td>1.0</td>\n",
       "      <td>1.0</td>\n",
       "      <td>0.0</td>\n",
       "      <td>0.0</td>\n",
       "      <td>0.0</td>\n",
       "      <td>0.0</td>\n",
       "      <td>0.0</td>\n",
       "      <td>0.0</td>\n",
       "      <td>0.0</td>\n",
       "      <td>...</td>\n",
       "      <td>0.0</td>\n",
       "      <td>1.0</td>\n",
       "      <td>1.0</td>\n",
       "      <td>0.0</td>\n",
       "      <td>0.0</td>\n",
       "      <td>0.0</td>\n",
       "      <td>322.105093</td>\n",
       "      <td>276.0</td>\n",
       "      <td>9.0</td>\n",
       "      <td>0.0</td>\n",
       "    </tr>\n",
       "    <tr>\n",
       "      <th>54</th>\n",
       "      <td>1</td>\n",
       "      <td>0.0</td>\n",
       "      <td>1.0</td>\n",
       "      <td>0.0</td>\n",
       "      <td>0.0</td>\n",
       "      <td>0.0</td>\n",
       "      <td>1.0</td>\n",
       "      <td>0.0</td>\n",
       "      <td>1.0</td>\n",
       "      <td>0.0</td>\n",
       "      <td>...</td>\n",
       "      <td>0.0</td>\n",
       "      <td>1.0</td>\n",
       "      <td>1.0</td>\n",
       "      <td>0.0</td>\n",
       "      <td>0.0</td>\n",
       "      <td>0.0</td>\n",
       "      <td>322.105093</td>\n",
       "      <td>292.0</td>\n",
       "      <td>6.0</td>\n",
       "      <td>0.0</td>\n",
       "    </tr>\n",
       "    <tr>\n",
       "      <th>55</th>\n",
       "      <td>1</td>\n",
       "      <td>0.0</td>\n",
       "      <td>1.0</td>\n",
       "      <td>0.0</td>\n",
       "      <td>0.0</td>\n",
       "      <td>0.0</td>\n",
       "      <td>0.0</td>\n",
       "      <td>0.0</td>\n",
       "      <td>0.0</td>\n",
       "      <td>0.0</td>\n",
       "      <td>...</td>\n",
       "      <td>0.0</td>\n",
       "      <td>0.0</td>\n",
       "      <td>0.0</td>\n",
       "      <td>0.0</td>\n",
       "      <td>0.0</td>\n",
       "      <td>0.0</td>\n",
       "      <td>322.105093</td>\n",
       "      <td>269.0</td>\n",
       "      <td>9.0</td>\n",
       "      <td>0.0</td>\n",
       "    </tr>\n",
       "    <tr>\n",
       "      <th>56</th>\n",
       "      <td>0</td>\n",
       "      <td>1.0</td>\n",
       "      <td>1.0</td>\n",
       "      <td>0.0</td>\n",
       "      <td>0.0</td>\n",
       "      <td>0.0</td>\n",
       "      <td>0.0</td>\n",
       "      <td>0.0</td>\n",
       "      <td>0.0</td>\n",
       "      <td>1.0</td>\n",
       "      <td>...</td>\n",
       "      <td>0.0</td>\n",
       "      <td>1.0</td>\n",
       "      <td>0.0</td>\n",
       "      <td>0.0</td>\n",
       "      <td>0.0</td>\n",
       "      <td>0.0</td>\n",
       "      <td>495.652022</td>\n",
       "      <td>279.0</td>\n",
       "      <td>10.0</td>\n",
       "      <td>0.0</td>\n",
       "    </tr>\n",
       "    <tr>\n",
       "      <th>57</th>\n",
       "      <td>1</td>\n",
       "      <td>1.0</td>\n",
       "      <td>1.0</td>\n",
       "      <td>0.0</td>\n",
       "      <td>0.0</td>\n",
       "      <td>0.0</td>\n",
       "      <td>1.0</td>\n",
       "      <td>0.0</td>\n",
       "      <td>1.0</td>\n",
       "      <td>1.0</td>\n",
       "      <td>...</td>\n",
       "      <td>1.0</td>\n",
       "      <td>1.0</td>\n",
       "      <td>1.0</td>\n",
       "      <td>0.0</td>\n",
       "      <td>0.0</td>\n",
       "      <td>0.0</td>\n",
       "      <td>139.213172</td>\n",
       "      <td>273.0</td>\n",
       "      <td>9.0</td>\n",
       "      <td>0.0</td>\n",
       "    </tr>\n",
       "    <tr>\n",
       "      <th>...</th>\n",
       "      <td>...</td>\n",
       "      <td>...</td>\n",
       "      <td>...</td>\n",
       "      <td>...</td>\n",
       "      <td>...</td>\n",
       "      <td>...</td>\n",
       "      <td>...</td>\n",
       "      <td>...</td>\n",
       "      <td>...</td>\n",
       "      <td>...</td>\n",
       "      <td>...</td>\n",
       "      <td>...</td>\n",
       "      <td>...</td>\n",
       "      <td>...</td>\n",
       "      <td>...</td>\n",
       "      <td>...</td>\n",
       "      <td>...</td>\n",
       "      <td>...</td>\n",
       "      <td>...</td>\n",
       "      <td>...</td>\n",
       "      <td>...</td>\n",
       "    </tr>\n",
       "    <tr>\n",
       "      <th>3448</th>\n",
       "      <td>1</td>\n",
       "      <td>1.0</td>\n",
       "      <td>1.0</td>\n",
       "      <td>0.0</td>\n",
       "      <td>0.0</td>\n",
       "      <td>0.0</td>\n",
       "      <td>0.0</td>\n",
       "      <td>0.0</td>\n",
       "      <td>0.0</td>\n",
       "      <td>1.0</td>\n",
       "      <td>...</td>\n",
       "      <td>0.0</td>\n",
       "      <td>1.0</td>\n",
       "      <td>0.0</td>\n",
       "      <td>1.0</td>\n",
       "      <td>0.0</td>\n",
       "      <td>0.0</td>\n",
       "      <td>322.105093</td>\n",
       "      <td>280.0</td>\n",
       "      <td>9.0</td>\n",
       "      <td>0.0</td>\n",
       "    </tr>\n",
       "    <tr>\n",
       "      <th>3450</th>\n",
       "      <td>1</td>\n",
       "      <td>1.0</td>\n",
       "      <td>1.0</td>\n",
       "      <td>0.0</td>\n",
       "      <td>0.0</td>\n",
       "      <td>0.0</td>\n",
       "      <td>0.0</td>\n",
       "      <td>0.0</td>\n",
       "      <td>0.0</td>\n",
       "      <td>1.0</td>\n",
       "      <td>...</td>\n",
       "      <td>0.0</td>\n",
       "      <td>0.0</td>\n",
       "      <td>0.0</td>\n",
       "      <td>0.0</td>\n",
       "      <td>0.0</td>\n",
       "      <td>0.0</td>\n",
       "      <td>274.867379</td>\n",
       "      <td>275.0</td>\n",
       "      <td>9.0</td>\n",
       "      <td>0.0</td>\n",
       "    </tr>\n",
       "    <tr>\n",
       "      <th>3451</th>\n",
       "      <td>1</td>\n",
       "      <td>1.0</td>\n",
       "      <td>1.0</td>\n",
       "      <td>0.0</td>\n",
       "      <td>0.0</td>\n",
       "      <td>0.0</td>\n",
       "      <td>0.0</td>\n",
       "      <td>1.0</td>\n",
       "      <td>1.0</td>\n",
       "      <td>1.0</td>\n",
       "      <td>...</td>\n",
       "      <td>1.0</td>\n",
       "      <td>1.0</td>\n",
       "      <td>1.0</td>\n",
       "      <td>1.0</td>\n",
       "      <td>0.0</td>\n",
       "      <td>0.0</td>\n",
       "      <td>78.581448</td>\n",
       "      <td>272.0</td>\n",
       "      <td>9.0</td>\n",
       "      <td>1.0</td>\n",
       "    </tr>\n",
       "    <tr>\n",
       "      <th>3453</th>\n",
       "      <td>0</td>\n",
       "      <td>1.0</td>\n",
       "      <td>1.0</td>\n",
       "      <td>0.0</td>\n",
       "      <td>0.0</td>\n",
       "      <td>0.0</td>\n",
       "      <td>0.0</td>\n",
       "      <td>0.0</td>\n",
       "      <td>0.0</td>\n",
       "      <td>1.0</td>\n",
       "      <td>...</td>\n",
       "      <td>0.0</td>\n",
       "      <td>0.0</td>\n",
       "      <td>1.0</td>\n",
       "      <td>0.0</td>\n",
       "      <td>0.0</td>\n",
       "      <td>0.0</td>\n",
       "      <td>322.105093</td>\n",
       "      <td>275.0</td>\n",
       "      <td>9.0</td>\n",
       "      <td>0.0</td>\n",
       "    </tr>\n",
       "    <tr>\n",
       "      <th>3454</th>\n",
       "      <td>1</td>\n",
       "      <td>1.0</td>\n",
       "      <td>1.0</td>\n",
       "      <td>0.0</td>\n",
       "      <td>0.0</td>\n",
       "      <td>0.0</td>\n",
       "      <td>0.0</td>\n",
       "      <td>0.0</td>\n",
       "      <td>0.0</td>\n",
       "      <td>0.0</td>\n",
       "      <td>...</td>\n",
       "      <td>0.0</td>\n",
       "      <td>0.0</td>\n",
       "      <td>0.0</td>\n",
       "      <td>0.0</td>\n",
       "      <td>0.0</td>\n",
       "      <td>0.0</td>\n",
       "      <td>98.074621</td>\n",
       "      <td>283.0</td>\n",
       "      <td>9.0</td>\n",
       "      <td>0.0</td>\n",
       "    </tr>\n",
       "  </tbody>\n",
       "</table>\n",
       "<p>2399 rows × 25 columns</p>\n",
       "</div>"
      ],
      "text/plain": [
       "      Gender  Mode_of_delivery  Anesthetic_delivery  \\\n",
       "53         0               1.0                  1.0   \n",
       "54         1               0.0                  1.0   \n",
       "55         1               0.0                  1.0   \n",
       "56         0               1.0                  1.0   \n",
       "57         1               1.0                  1.0   \n",
       "...      ...               ...                  ...   \n",
       "3448       1               1.0                  1.0   \n",
       "3450       1               1.0                  1.0   \n",
       "3451       1               1.0                  1.0   \n",
       "3453       0               1.0                  1.0   \n",
       "3454       1               1.0                  1.0   \n",
       "\n",
       "      Prolonged_Expiration_1yCLA  Crackles_1yCLA  Wheeze_1yCLA  Mother_Asthma  \\\n",
       "53                           0.0             0.0           0.0            0.0   \n",
       "54                           0.0             0.0           0.0            1.0   \n",
       "55                           0.0             0.0           0.0            0.0   \n",
       "56                           0.0             0.0           0.0            0.0   \n",
       "57                           0.0             0.0           0.0            1.0   \n",
       "...                          ...             ...           ...            ...   \n",
       "3448                         0.0             0.0           0.0            0.0   \n",
       "3450                         0.0             0.0           0.0            0.0   \n",
       "3451                         0.0             0.0           0.0            0.0   \n",
       "3453                         0.0             0.0           0.0            0.0   \n",
       "3454                         0.0             0.0           0.0            0.0   \n",
       "\n",
       "      Father_Asthma  Parental_Asthma  Mom_Atopy  ...  Wheeze_Father  \\\n",
       "53              0.0              0.0        0.0  ...            0.0   \n",
       "54              0.0              1.0        0.0  ...            0.0   \n",
       "55              0.0              0.0        0.0  ...            0.0   \n",
       "56              0.0              0.0        1.0  ...            0.0   \n",
       "57              0.0              1.0        1.0  ...            1.0   \n",
       "...             ...              ...        ...  ...            ...   \n",
       "3448            0.0              0.0        1.0  ...            0.0   \n",
       "3450            0.0              0.0        1.0  ...            0.0   \n",
       "3451            1.0              1.0        1.0  ...            1.0   \n",
       "3453            0.0              0.0        1.0  ...            0.0   \n",
       "3454            0.0              0.0        0.0  ...            0.0   \n",
       "\n",
       "      Hayfever_Father  AD_Father  Pollentress_Father  \\\n",
       "53                1.0        1.0                 0.0   \n",
       "54                1.0        1.0                 0.0   \n",
       "55                0.0        0.0                 0.0   \n",
       "56                1.0        0.0                 0.0   \n",
       "57                1.0        1.0                 0.0   \n",
       "...               ...        ...                 ...   \n",
       "3448              1.0        0.0                 1.0   \n",
       "3450              0.0        0.0                 0.0   \n",
       "3451              1.0        1.0                 1.0   \n",
       "3453              0.0        1.0                 0.0   \n",
       "3454              0.0        0.0                 0.0   \n",
       "\n",
       "      Number_of_AntibioticsCourse  Antibiotics_Usage  Home_DEHP_3m  Gest_Days  \\\n",
       "53                            0.0                0.0    322.105093      276.0   \n",
       "54                            0.0                0.0    322.105093      292.0   \n",
       "55                            0.0                0.0    322.105093      269.0   \n",
       "56                            0.0                0.0    495.652022      279.0   \n",
       "57                            0.0                0.0    139.213172      273.0   \n",
       "...                           ...                ...           ...        ...   \n",
       "3448                          0.0                0.0    322.105093      280.0   \n",
       "3450                          0.0                0.0    274.867379      275.0   \n",
       "3451                          0.0                0.0     78.581448      272.0   \n",
       "3453                          0.0                0.0    322.105093      275.0   \n",
       "3454                          0.0                0.0     98.074621      283.0   \n",
       "\n",
       "      Apgar_Score_5min  target  \n",
       "53                 9.0     0.0  \n",
       "54                 6.0     0.0  \n",
       "55                 9.0     0.0  \n",
       "56                10.0     0.0  \n",
       "57                 9.0     0.0  \n",
       "...                ...     ...  \n",
       "3448               9.0     0.0  \n",
       "3450               9.0     0.0  \n",
       "3451               9.0     1.0  \n",
       "3453               9.0     0.0  \n",
       "3454               9.0     0.0  \n",
       "\n",
       "[2399 rows x 25 columns]"
      ]
     },
     "execution_count": 66,
     "metadata": {},
     "output_type": "execute_result"
    },
    {
     "data": {
      "application/javascript": [
       "\n",
       "            setTimeout(function() {\n",
       "                var nbb_cell_id = 66;\n",
       "                var nbb_unformatted_code = \"df\";\n",
       "                var nbb_formatted_code = \"df\";\n",
       "                var nbb_cells = Jupyter.notebook.get_cells();\n",
       "                for (var i = 0; i < nbb_cells.length; ++i) {\n",
       "                    if (nbb_cells[i].input_prompt_number == nbb_cell_id) {\n",
       "                        if (nbb_cells[i].get_text() == nbb_unformatted_code) {\n",
       "                             nbb_cells[i].set_text(nbb_formatted_code);\n",
       "                        }\n",
       "                        break;\n",
       "                    }\n",
       "                }\n",
       "            }, 500);\n",
       "            "
      ],
      "text/plain": [
       "<IPython.core.display.Javascript object>"
      ]
     },
     "metadata": {},
     "output_type": "display_data"
    }
   ],
   "source": [
    "df"
   ]
  },
  {
   "cell_type": "markdown",
   "id": "49155365",
   "metadata": {},
   "source": [
    "## Holdout for Final Test"
   ]
  },
  {
   "cell_type": "code",
   "execution_count": 69,
   "id": "06abdbe7",
   "metadata": {},
   "outputs": [
    {
     "data": {
      "text/plain": [
       "(41, 25)"
      ]
     },
     "execution_count": 69,
     "metadata": {},
     "output_type": "execute_result"
    },
    {
     "data": {
      "text/plain": [
       "(89, 25)"
      ]
     },
     "execution_count": 69,
     "metadata": {},
     "output_type": "execute_result"
    },
    {
     "data": {
      "text/html": [
       "<div>\n",
       "<style scoped>\n",
       "    .dataframe tbody tr th:only-of-type {\n",
       "        vertical-align: middle;\n",
       "    }\n",
       "\n",
       "    .dataframe tbody tr th {\n",
       "        vertical-align: top;\n",
       "    }\n",
       "\n",
       "    .dataframe thead th {\n",
       "        text-align: right;\n",
       "    }\n",
       "</style>\n",
       "<table border=\"1\" class=\"dataframe\">\n",
       "  <thead>\n",
       "    <tr style=\"text-align: right;\">\n",
       "      <th></th>\n",
       "      <th>Gender</th>\n",
       "      <th>Mode_of_delivery</th>\n",
       "      <th>Anesthetic_delivery</th>\n",
       "      <th>Prolonged_Expiration_1yCLA</th>\n",
       "      <th>Crackles_1yCLA</th>\n",
       "      <th>Wheeze_1yCLA</th>\n",
       "      <th>Mother_Asthma</th>\n",
       "      <th>Father_Asthma</th>\n",
       "      <th>Parental_Asthma</th>\n",
       "      <th>Mom_Atopy</th>\n",
       "      <th>...</th>\n",
       "      <th>Wheeze_Father</th>\n",
       "      <th>Hayfever_Father</th>\n",
       "      <th>AD_Father</th>\n",
       "      <th>Pollentress_Father</th>\n",
       "      <th>Number_of_AntibioticsCourse</th>\n",
       "      <th>Antibiotics_Usage</th>\n",
       "      <th>Home_DEHP_3m</th>\n",
       "      <th>Gest_Days</th>\n",
       "      <th>Apgar_Score_5min</th>\n",
       "      <th>target</th>\n",
       "    </tr>\n",
       "  </thead>\n",
       "  <tbody>\n",
       "    <tr>\n",
       "      <th>291</th>\n",
       "      <td>0</td>\n",
       "      <td>1.0</td>\n",
       "      <td>1.0</td>\n",
       "      <td>0.0</td>\n",
       "      <td>0.0</td>\n",
       "      <td>0.0</td>\n",
       "      <td>1.0</td>\n",
       "      <td>1.0</td>\n",
       "      <td>1.0</td>\n",
       "      <td>1.0</td>\n",
       "      <td>...</td>\n",
       "      <td>1.0</td>\n",
       "      <td>1.0</td>\n",
       "      <td>1.0</td>\n",
       "      <td>1.0</td>\n",
       "      <td>0.0</td>\n",
       "      <td>0.0</td>\n",
       "      <td>322.105093</td>\n",
       "      <td>292.0</td>\n",
       "      <td>9.0</td>\n",
       "      <td>0.0</td>\n",
       "    </tr>\n",
       "    <tr>\n",
       "      <th>1778</th>\n",
       "      <td>1</td>\n",
       "      <td>1.0</td>\n",
       "      <td>1.0</td>\n",
       "      <td>0.0</td>\n",
       "      <td>0.0</td>\n",
       "      <td>0.0</td>\n",
       "      <td>0.0</td>\n",
       "      <td>0.0</td>\n",
       "      <td>0.0</td>\n",
       "      <td>1.0</td>\n",
       "      <td>...</td>\n",
       "      <td>0.0</td>\n",
       "      <td>0.0</td>\n",
       "      <td>1.0</td>\n",
       "      <td>0.0</td>\n",
       "      <td>1.0</td>\n",
       "      <td>1.0</td>\n",
       "      <td>322.105093</td>\n",
       "      <td>266.0</td>\n",
       "      <td>9.0</td>\n",
       "      <td>0.0</td>\n",
       "    </tr>\n",
       "    <tr>\n",
       "      <th>639</th>\n",
       "      <td>1</td>\n",
       "      <td>1.0</td>\n",
       "      <td>1.0</td>\n",
       "      <td>0.0</td>\n",
       "      <td>0.0</td>\n",
       "      <td>0.0</td>\n",
       "      <td>0.0</td>\n",
       "      <td>0.0</td>\n",
       "      <td>0.0</td>\n",
       "      <td>1.0</td>\n",
       "      <td>...</td>\n",
       "      <td>0.0</td>\n",
       "      <td>0.0</td>\n",
       "      <td>0.0</td>\n",
       "      <td>0.0</td>\n",
       "      <td>0.0</td>\n",
       "      <td>0.0</td>\n",
       "      <td>322.105093</td>\n",
       "      <td>275.0</td>\n",
       "      <td>9.0</td>\n",
       "      <td>0.0</td>\n",
       "    </tr>\n",
       "    <tr>\n",
       "      <th>1779</th>\n",
       "      <td>1</td>\n",
       "      <td>1.0</td>\n",
       "      <td>0.0</td>\n",
       "      <td>0.0</td>\n",
       "      <td>0.0</td>\n",
       "      <td>0.0</td>\n",
       "      <td>1.0</td>\n",
       "      <td>0.0</td>\n",
       "      <td>1.0</td>\n",
       "      <td>1.0</td>\n",
       "      <td>...</td>\n",
       "      <td>1.0</td>\n",
       "      <td>1.0</td>\n",
       "      <td>0.0</td>\n",
       "      <td>1.0</td>\n",
       "      <td>0.0</td>\n",
       "      <td>0.0</td>\n",
       "      <td>322.105093</td>\n",
       "      <td>273.0</td>\n",
       "      <td>9.0</td>\n",
       "      <td>0.0</td>\n",
       "    </tr>\n",
       "    <tr>\n",
       "      <th>325</th>\n",
       "      <td>1</td>\n",
       "      <td>1.0</td>\n",
       "      <td>1.0</td>\n",
       "      <td>0.0</td>\n",
       "      <td>0.0</td>\n",
       "      <td>0.0</td>\n",
       "      <td>1.0</td>\n",
       "      <td>0.0</td>\n",
       "      <td>1.0</td>\n",
       "      <td>1.0</td>\n",
       "      <td>...</td>\n",
       "      <td>1.0</td>\n",
       "      <td>0.0</td>\n",
       "      <td>0.0</td>\n",
       "      <td>0.0</td>\n",
       "      <td>0.0</td>\n",
       "      <td>0.0</td>\n",
       "      <td>249.865862</td>\n",
       "      <td>271.0</td>\n",
       "      <td>9.0</td>\n",
       "      <td>0.0</td>\n",
       "    </tr>\n",
       "    <tr>\n",
       "      <th>...</th>\n",
       "      <td>...</td>\n",
       "      <td>...</td>\n",
       "      <td>...</td>\n",
       "      <td>...</td>\n",
       "      <td>...</td>\n",
       "      <td>...</td>\n",
       "      <td>...</td>\n",
       "      <td>...</td>\n",
       "      <td>...</td>\n",
       "      <td>...</td>\n",
       "      <td>...</td>\n",
       "      <td>...</td>\n",
       "      <td>...</td>\n",
       "      <td>...</td>\n",
       "      <td>...</td>\n",
       "      <td>...</td>\n",
       "      <td>...</td>\n",
       "      <td>...</td>\n",
       "      <td>...</td>\n",
       "      <td>...</td>\n",
       "      <td>...</td>\n",
       "    </tr>\n",
       "    <tr>\n",
       "      <th>3441</th>\n",
       "      <td>0</td>\n",
       "      <td>0.0</td>\n",
       "      <td>1.0</td>\n",
       "      <td>0.0</td>\n",
       "      <td>0.0</td>\n",
       "      <td>0.0</td>\n",
       "      <td>1.0</td>\n",
       "      <td>0.0</td>\n",
       "      <td>1.0</td>\n",
       "      <td>1.0</td>\n",
       "      <td>...</td>\n",
       "      <td>0.0</td>\n",
       "      <td>0.0</td>\n",
       "      <td>0.0</td>\n",
       "      <td>0.0</td>\n",
       "      <td>0.0</td>\n",
       "      <td>0.0</td>\n",
       "      <td>177.161034</td>\n",
       "      <td>268.0</td>\n",
       "      <td>9.0</td>\n",
       "      <td>1.0</td>\n",
       "    </tr>\n",
       "    <tr>\n",
       "      <th>1054</th>\n",
       "      <td>1</td>\n",
       "      <td>0.0</td>\n",
       "      <td>1.0</td>\n",
       "      <td>0.0</td>\n",
       "      <td>0.0</td>\n",
       "      <td>0.0</td>\n",
       "      <td>0.0</td>\n",
       "      <td>1.0</td>\n",
       "      <td>1.0</td>\n",
       "      <td>0.0</td>\n",
       "      <td>...</td>\n",
       "      <td>1.0</td>\n",
       "      <td>1.0</td>\n",
       "      <td>0.0</td>\n",
       "      <td>1.0</td>\n",
       "      <td>3.0</td>\n",
       "      <td>1.0</td>\n",
       "      <td>289.740414</td>\n",
       "      <td>283.0</td>\n",
       "      <td>9.0</td>\n",
       "      <td>1.0</td>\n",
       "    </tr>\n",
       "    <tr>\n",
       "      <th>1922</th>\n",
       "      <td>0</td>\n",
       "      <td>1.0</td>\n",
       "      <td>1.0</td>\n",
       "      <td>0.0</td>\n",
       "      <td>0.0</td>\n",
       "      <td>0.0</td>\n",
       "      <td>0.0</td>\n",
       "      <td>0.0</td>\n",
       "      <td>0.0</td>\n",
       "      <td>0.0</td>\n",
       "      <td>...</td>\n",
       "      <td>1.0</td>\n",
       "      <td>0.0</td>\n",
       "      <td>1.0</td>\n",
       "      <td>0.0</td>\n",
       "      <td>0.0</td>\n",
       "      <td>0.0</td>\n",
       "      <td>322.105093</td>\n",
       "      <td>287.0</td>\n",
       "      <td>9.0</td>\n",
       "      <td>1.0</td>\n",
       "    </tr>\n",
       "    <tr>\n",
       "      <th>3165</th>\n",
       "      <td>0</td>\n",
       "      <td>1.0</td>\n",
       "      <td>1.0</td>\n",
       "      <td>0.0</td>\n",
       "      <td>0.0</td>\n",
       "      <td>0.0</td>\n",
       "      <td>0.0</td>\n",
       "      <td>0.0</td>\n",
       "      <td>0.0</td>\n",
       "      <td>1.0</td>\n",
       "      <td>...</td>\n",
       "      <td>1.0</td>\n",
       "      <td>1.0</td>\n",
       "      <td>0.0</td>\n",
       "      <td>1.0</td>\n",
       "      <td>1.0</td>\n",
       "      <td>1.0</td>\n",
       "      <td>109.015419</td>\n",
       "      <td>280.0</td>\n",
       "      <td>9.0</td>\n",
       "      <td>1.0</td>\n",
       "    </tr>\n",
       "    <tr>\n",
       "      <th>3411</th>\n",
       "      <td>1</td>\n",
       "      <td>1.0</td>\n",
       "      <td>1.0</td>\n",
       "      <td>0.0</td>\n",
       "      <td>0.0</td>\n",
       "      <td>0.0</td>\n",
       "      <td>0.0</td>\n",
       "      <td>1.0</td>\n",
       "      <td>1.0</td>\n",
       "      <td>0.0</td>\n",
       "      <td>...</td>\n",
       "      <td>1.0</td>\n",
       "      <td>0.0</td>\n",
       "      <td>0.0</td>\n",
       "      <td>0.0</td>\n",
       "      <td>0.0</td>\n",
       "      <td>0.0</td>\n",
       "      <td>322.105093</td>\n",
       "      <td>274.0</td>\n",
       "      <td>9.0</td>\n",
       "      <td>1.0</td>\n",
       "    </tr>\n",
       "  </tbody>\n",
       "</table>\n",
       "<p>130 rows × 25 columns</p>\n",
       "</div>"
      ],
      "text/plain": [
       "      Gender  Mode_of_delivery  Anesthetic_delivery  \\\n",
       "291        0               1.0                  1.0   \n",
       "1778       1               1.0                  1.0   \n",
       "639        1               1.0                  1.0   \n",
       "1779       1               1.0                  0.0   \n",
       "325        1               1.0                  1.0   \n",
       "...      ...               ...                  ...   \n",
       "3441       0               0.0                  1.0   \n",
       "1054       1               0.0                  1.0   \n",
       "1922       0               1.0                  1.0   \n",
       "3165       0               1.0                  1.0   \n",
       "3411       1               1.0                  1.0   \n",
       "\n",
       "      Prolonged_Expiration_1yCLA  Crackles_1yCLA  Wheeze_1yCLA  Mother_Asthma  \\\n",
       "291                          0.0             0.0           0.0            1.0   \n",
       "1778                         0.0             0.0           0.0            0.0   \n",
       "639                          0.0             0.0           0.0            0.0   \n",
       "1779                         0.0             0.0           0.0            1.0   \n",
       "325                          0.0             0.0           0.0            1.0   \n",
       "...                          ...             ...           ...            ...   \n",
       "3441                         0.0             0.0           0.0            1.0   \n",
       "1054                         0.0             0.0           0.0            0.0   \n",
       "1922                         0.0             0.0           0.0            0.0   \n",
       "3165                         0.0             0.0           0.0            0.0   \n",
       "3411                         0.0             0.0           0.0            0.0   \n",
       "\n",
       "      Father_Asthma  Parental_Asthma  Mom_Atopy  ...  Wheeze_Father  \\\n",
       "291             1.0              1.0        1.0  ...            1.0   \n",
       "1778            0.0              0.0        1.0  ...            0.0   \n",
       "639             0.0              0.0        1.0  ...            0.0   \n",
       "1779            0.0              1.0        1.0  ...            1.0   \n",
       "325             0.0              1.0        1.0  ...            1.0   \n",
       "...             ...              ...        ...  ...            ...   \n",
       "3441            0.0              1.0        1.0  ...            0.0   \n",
       "1054            1.0              1.0        0.0  ...            1.0   \n",
       "1922            0.0              0.0        0.0  ...            1.0   \n",
       "3165            0.0              0.0        1.0  ...            1.0   \n",
       "3411            1.0              1.0        0.0  ...            1.0   \n",
       "\n",
       "      Hayfever_Father  AD_Father  Pollentress_Father  \\\n",
       "291               1.0        1.0                 1.0   \n",
       "1778              0.0        1.0                 0.0   \n",
       "639               0.0        0.0                 0.0   \n",
       "1779              1.0        0.0                 1.0   \n",
       "325               0.0        0.0                 0.0   \n",
       "...               ...        ...                 ...   \n",
       "3441              0.0        0.0                 0.0   \n",
       "1054              1.0        0.0                 1.0   \n",
       "1922              0.0        1.0                 0.0   \n",
       "3165              1.0        0.0                 1.0   \n",
       "3411              0.0        0.0                 0.0   \n",
       "\n",
       "      Number_of_AntibioticsCourse  Antibiotics_Usage  Home_DEHP_3m  Gest_Days  \\\n",
       "291                           0.0                0.0    322.105093      292.0   \n",
       "1778                          1.0                1.0    322.105093      266.0   \n",
       "639                           0.0                0.0    322.105093      275.0   \n",
       "1779                          0.0                0.0    322.105093      273.0   \n",
       "325                           0.0                0.0    249.865862      271.0   \n",
       "...                           ...                ...           ...        ...   \n",
       "3441                          0.0                0.0    177.161034      268.0   \n",
       "1054                          3.0                1.0    289.740414      283.0   \n",
       "1922                          0.0                0.0    322.105093      287.0   \n",
       "3165                          1.0                1.0    109.015419      280.0   \n",
       "3411                          0.0                0.0    322.105093      274.0   \n",
       "\n",
       "      Apgar_Score_5min  target  \n",
       "291                9.0     0.0  \n",
       "1778               9.0     0.0  \n",
       "639                9.0     0.0  \n",
       "1779               9.0     0.0  \n",
       "325                9.0     0.0  \n",
       "...                ...     ...  \n",
       "3441               9.0     1.0  \n",
       "1054               9.0     1.0  \n",
       "1922               9.0     1.0  \n",
       "3165               9.0     1.0  \n",
       "3411               9.0     1.0  \n",
       "\n",
       "[130 rows x 25 columns]"
      ]
     },
     "execution_count": 69,
     "metadata": {},
     "output_type": "execute_result"
    },
    {
     "data": {
      "application/javascript": [
       "\n",
       "            setTimeout(function() {\n",
       "                var nbb_cell_id = 69;\n",
       "                var nbb_unformatted_code = \"holdout_df_withtarget1 = df[df.target == 1].sample(frac=0.25,replace=False, random_state=1)\\nholdout_df_withtarget1.shape\\nholdout_df_withtarget0 = df[df.target == 0].sample(frac=0.04,replace=False, random_state=1)\\nholdout_df_withtarget0.shape\\nholdout_df = pd.concat([holdout_df_withtarget0,holdout_df_withtarget1])\\nholdout_df\";\n",
       "                var nbb_formatted_code = \"holdout_df_withtarget1 = df[df.target == 1].sample(\\n    frac=0.25, replace=False, random_state=1\\n)\\nholdout_df_withtarget1.shape\\nholdout_df_withtarget0 = df[df.target == 0].sample(\\n    frac=0.04, replace=False, random_state=1\\n)\\nholdout_df_withtarget0.shape\\nholdout_df = pd.concat([holdout_df_withtarget0, holdout_df_withtarget1])\\nholdout_df\";\n",
       "                var nbb_cells = Jupyter.notebook.get_cells();\n",
       "                for (var i = 0; i < nbb_cells.length; ++i) {\n",
       "                    if (nbb_cells[i].input_prompt_number == nbb_cell_id) {\n",
       "                        if (nbb_cells[i].get_text() == nbb_unformatted_code) {\n",
       "                             nbb_cells[i].set_text(nbb_formatted_code);\n",
       "                        }\n",
       "                        break;\n",
       "                    }\n",
       "                }\n",
       "            }, 500);\n",
       "            "
      ],
      "text/plain": [
       "<IPython.core.display.Javascript object>"
      ]
     },
     "metadata": {},
     "output_type": "display_data"
    }
   ],
   "source": [
    "holdout_df_withtarget1 = df[df.target == 1].sample(\n",
    "    frac=0.25, replace=False, random_state=1\n",
    ")\n",
    "holdout_df_withtarget1.shape\n",
    "holdout_df_withtarget0 = df[df.target == 0].sample(\n",
    "    frac=0.04, replace=False, random_state=1\n",
    ")\n",
    "holdout_df_withtarget0.shape\n",
    "holdout_df = pd.concat([holdout_df_withtarget0, holdout_df_withtarget1])\n",
    "holdout_df"
   ]
  },
  {
   "cell_type": "code",
   "execution_count": 71,
   "id": "83c14274",
   "metadata": {},
   "outputs": [
    {
     "data": {
      "text/plain": [
       "(2122, 25)"
      ]
     },
     "execution_count": 71,
     "metadata": {},
     "output_type": "execute_result"
    },
    {
     "data": {
      "application/javascript": [
       "\n",
       "            setTimeout(function() {\n",
       "                var nbb_cell_id = 71;\n",
       "                var nbb_unformatted_code = \"df_rest = pd.concat(\\n    [df, holdout_df_withtarget1, holdout_df_withtarget0]\\n).drop_duplicates(keep=False)\\ndf_rest.shape\\n\\nX = df_rest.drop('target',1)\\ny = df_rest.target\";\n",
       "                var nbb_formatted_code = \"df_rest = pd.concat(\\n    [df, holdout_df_withtarget1, holdout_df_withtarget0]\\n).drop_duplicates(keep=False)\\ndf_rest.shape\\n\\nX = df_rest.drop(\\\"target\\\", 1)\\ny = df_rest.target\";\n",
       "                var nbb_cells = Jupyter.notebook.get_cells();\n",
       "                for (var i = 0; i < nbb_cells.length; ++i) {\n",
       "                    if (nbb_cells[i].input_prompt_number == nbb_cell_id) {\n",
       "                        if (nbb_cells[i].get_text() == nbb_unformatted_code) {\n",
       "                             nbb_cells[i].set_text(nbb_formatted_code);\n",
       "                        }\n",
       "                        break;\n",
       "                    }\n",
       "                }\n",
       "            }, 500);\n",
       "            "
      ],
      "text/plain": [
       "<IPython.core.display.Javascript object>"
      ]
     },
     "metadata": {},
     "output_type": "display_data"
    }
   ],
   "source": [
    "df_rest = pd.concat(\n",
    "    [df, holdout_df_withtarget1, holdout_df_withtarget0]\n",
    ").drop_duplicates(keep=False)\n",
    "df_rest.shape\n",
    "\n",
    "X = df_rest.drop(\"target\", 1)\n",
    "y = df_rest.target"
   ]
  },
  {
   "cell_type": "markdown",
   "id": "8ea73628",
   "metadata": {},
   "source": [
    "## Under Sampling \n",
    "Another option: Cluster:\n",
    "Cluster centroids is a method that replaces cluster of samples by the cluster centroid of a K-means algorithm, where the number of clusters is set by the level of undersampling."
   ]
  },
  {
   "cell_type": "code",
   "execution_count": 78,
   "id": "dad9ee7d",
   "metadata": {},
   "outputs": [
    {
     "data": {
      "text/plain": [
       "0.0    124\n",
       "1.0    124\n",
       "Name: target, dtype: int64"
      ]
     },
     "execution_count": 78,
     "metadata": {},
     "output_type": "execute_result"
    },
    {
     "data": {
      "application/javascript": [
       "\n",
       "            setTimeout(function() {\n",
       "                var nbb_cell_id = 78;\n",
       "                var nbb_unformatted_code = \"from imblearn.under_sampling import RandomUnderSampler\\n\\n# define undersample strategy\\nundersample = RandomUnderSampler(sampling_strategy=\\\"majority\\\")\\n# fit and apply the transform\\nX_under, y_under = undersample.fit_resample(X, y)\\ny_under.value_counts()\";\n",
       "                var nbb_formatted_code = \"from imblearn.under_sampling import RandomUnderSampler\\n\\n# define undersample strategy\\nundersample = RandomUnderSampler(sampling_strategy=\\\"majority\\\")\\n# fit and apply the transform\\nX_under, y_under = undersample.fit_resample(X, y)\\ny_under.value_counts()\";\n",
       "                var nbb_cells = Jupyter.notebook.get_cells();\n",
       "                for (var i = 0; i < nbb_cells.length; ++i) {\n",
       "                    if (nbb_cells[i].input_prompt_number == nbb_cell_id) {\n",
       "                        if (nbb_cells[i].get_text() == nbb_unformatted_code) {\n",
       "                             nbb_cells[i].set_text(nbb_formatted_code);\n",
       "                        }\n",
       "                        break;\n",
       "                    }\n",
       "                }\n",
       "            }, 500);\n",
       "            "
      ],
      "text/plain": [
       "<IPython.core.display.Javascript object>"
      ]
     },
     "metadata": {},
     "output_type": "display_data"
    }
   ],
   "source": [
    "from imblearn.under_sampling import RandomUnderSampler\n",
    "\n",
    "# define undersample strategy\n",
    "undersample = RandomUnderSampler(sampling_strategy=\"majority\")\n",
    "# fit and apply the transform\n",
    "X_under, y_under = undersample.fit_resample(X, y)\n",
    "y_under.value_counts()"
   ]
  },
  {
   "cell_type": "code",
   "execution_count": 74,
   "id": "4b7097e1",
   "metadata": {},
   "outputs": [
    {
     "data": {
      "application/javascript": [
       "\n",
       "            setTimeout(function() {\n",
       "                var nbb_cell_id = 74;\n",
       "                var nbb_unformatted_code = \"from sklearn.preprocessing import StandardScaler\\nfrom sklearn.model_selection import train_test_split\\nfrom sklearn.metrics import (\\n    confusion_matrix,\\n    accuracy_score,\\n    roc_curve,\\n    classification_report,\\n    f1_score,\\n    precision_score,\\n    recall_score,\\n    roc_auc_score,\\n)\\nfrom sklearn.linear_model import LogisticRegression\\nfrom sklearn.naive_bayes import GaussianNB\\nfrom sklearn.ensemble import RandomForestClassifier\\nfrom sklearn.tree import DecisionTreeClassifier, export_graphviz\\nfrom xgboost import XGBClassifier\\nfrom sklearn.neighbors import KNeighborsClassifier\\nfrom sklearn.naive_bayes import GaussianNB\\nfrom sklearn.svm import SVC\\n\\nfrom sklearn.inspection import permutation_importance\";\n",
       "                var nbb_formatted_code = \"from sklearn.preprocessing import StandardScaler\\nfrom sklearn.model_selection import train_test_split\\nfrom sklearn.metrics import (\\n    confusion_matrix,\\n    accuracy_score,\\n    roc_curve,\\n    classification_report,\\n    f1_score,\\n    precision_score,\\n    recall_score,\\n    roc_auc_score,\\n)\\nfrom sklearn.linear_model import LogisticRegression\\nfrom sklearn.naive_bayes import GaussianNB\\nfrom sklearn.ensemble import RandomForestClassifier\\nfrom sklearn.tree import DecisionTreeClassifier, export_graphviz\\nfrom xgboost import XGBClassifier\\nfrom sklearn.neighbors import KNeighborsClassifier\\nfrom sklearn.naive_bayes import GaussianNB\\nfrom sklearn.svm import SVC\\n\\nfrom sklearn.inspection import permutation_importance\";\n",
       "                var nbb_cells = Jupyter.notebook.get_cells();\n",
       "                for (var i = 0; i < nbb_cells.length; ++i) {\n",
       "                    if (nbb_cells[i].input_prompt_number == nbb_cell_id) {\n",
       "                        if (nbb_cells[i].get_text() == nbb_unformatted_code) {\n",
       "                             nbb_cells[i].set_text(nbb_formatted_code);\n",
       "                        }\n",
       "                        break;\n",
       "                    }\n",
       "                }\n",
       "            }, 500);\n",
       "            "
      ],
      "text/plain": [
       "<IPython.core.display.Javascript object>"
      ]
     },
     "metadata": {},
     "output_type": "display_data"
    }
   ],
   "source": [
    "from sklearn.preprocessing import StandardScaler\n",
    "from sklearn.model_selection import train_test_split\n",
    "from sklearn.metrics import (\n",
    "    confusion_matrix,\n",
    "    accuracy_score,\n",
    "    roc_curve,\n",
    "    classification_report,\n",
    "    f1_score,\n",
    "    precision_score,\n",
    "    recall_score,\n",
    "    roc_auc_score,\n",
    ")\n",
    "from sklearn.linear_model import LogisticRegression\n",
    "from sklearn.naive_bayes import GaussianNB\n",
    "from sklearn.ensemble import RandomForestClassifier\n",
    "from sklearn.tree import DecisionTreeClassifier, export_graphviz\n",
    "from xgboost import XGBClassifier\n",
    "from sklearn.neighbors import KNeighborsClassifier\n",
    "from sklearn.naive_bayes import GaussianNB\n",
    "from sklearn.svm import SVC\n",
    "\n",
    "from sklearn.inspection import permutation_importance"
   ]
  },
  {
   "cell_type": "code",
   "execution_count": 79,
   "id": "6b2d7002",
   "metadata": {},
   "outputs": [
    {
     "data": {
      "text/plain": [
       "Index(['Gender', 'Mode_of_delivery', 'Anesthetic_delivery',\n",
       "       'Prolonged_Expiration_1yCLA', 'Crackles_1yCLA', 'Wheeze_1yCLA',\n",
       "       'Mother_Asthma', 'Father_Asthma', 'Parental_Asthma', 'Mom_Atopy',\n",
       "       'Mom_Inhalant', 'Wheeze_Mother', 'Hayfever_Mother',\n",
       "       'Pollentress_Mother', 'FAllergies_Mother', 'Wheeze_Father',\n",
       "       'Hayfever_Father', 'AD_Father', 'Pollentress_Father',\n",
       "       'Number_of_AntibioticsCourse', 'Antibiotics_Usage', 'Home_DEHP_3m',\n",
       "       'Gest_Days', 'Apgar_Score_5min'],\n",
       "      dtype='object')"
      ]
     },
     "execution_count": 79,
     "metadata": {},
     "output_type": "execute_result"
    },
    {
     "data": {
      "text/plain": [
       "0.0    25\n",
       "1.0    25\n",
       "Name: target, dtype: int64"
      ]
     },
     "execution_count": 79,
     "metadata": {},
     "output_type": "execute_result"
    },
    {
     "data": {
      "application/javascript": [
       "\n",
       "            setTimeout(function() {\n",
       "                var nbb_cell_id = 79;\n",
       "                var nbb_unformatted_code = \"X_train, X_test, y_train, y_test = train_test_split(\\n    X_under, y_under, test_size=0.2, stratify=y_under, random_state=0\\n)\\nX_train.columns\\ny_test.value_counts()\";\n",
       "                var nbb_formatted_code = \"X_train, X_test, y_train, y_test = train_test_split(\\n    X_under, y_under, test_size=0.2, stratify=y_under, random_state=0\\n)\\nX_train.columns\\ny_test.value_counts()\";\n",
       "                var nbb_cells = Jupyter.notebook.get_cells();\n",
       "                for (var i = 0; i < nbb_cells.length; ++i) {\n",
       "                    if (nbb_cells[i].input_prompt_number == nbb_cell_id) {\n",
       "                        if (nbb_cells[i].get_text() == nbb_unformatted_code) {\n",
       "                             nbb_cells[i].set_text(nbb_formatted_code);\n",
       "                        }\n",
       "                        break;\n",
       "                    }\n",
       "                }\n",
       "            }, 500);\n",
       "            "
      ],
      "text/plain": [
       "<IPython.core.display.Javascript object>"
      ]
     },
     "metadata": {},
     "output_type": "display_data"
    }
   ],
   "source": [
    "X_train, X_test, y_train, y_test = train_test_split(\n",
    "    X_under, y_under, test_size=0.2, stratify=y_under, random_state=0\n",
    ")\n",
    "X_train.columns\n",
    "y_test.value_counts()"
   ]
  },
  {
   "cell_type": "markdown",
   "id": "7ff76e44",
   "metadata": {},
   "source": [
    "# Logistic Regression"
   ]
  },
  {
   "cell_type": "code",
   "execution_count": 80,
   "id": "28dffe2a",
   "metadata": {},
   "outputs": [
    {
     "name": "stdout",
     "output_type": "stream",
     "text": [
      "confussion matrix\n",
      "[[16  9]\n",
      " [ 9 16]]\n",
      "\n",
      "\n",
      "Precison of Logistic Regression: 64.0 \n",
      "\n",
      "              precision    recall  f1-score   support\n",
      "\n",
      "         0.0       0.64      0.64      0.64        25\n",
      "         1.0       0.64      0.64      0.64        25\n",
      "\n",
      "    accuracy                           0.64        50\n",
      "   macro avg       0.64      0.64      0.64        50\n",
      "weighted avg       0.64      0.64      0.64        50\n",
      "\n"
     ]
    },
    {
     "data": {
      "text/plain": [
       "array([[ 1.13213753e-01, -5.47204496e-01,  1.13155235e+00,\n",
       "         8.62986114e-02,  1.53347359e-01,  1.35395517e-01,\n",
       "         5.93593637e-01,  6.13658917e-01,  5.78027202e-01,\n",
       "         1.90724759e-01,  1.90724759e-01, -5.99722196e-02,\n",
       "         2.45464484e-01, -6.26877544e-02,  4.24642390e-01,\n",
       "         1.70547226e-01, -6.95581875e-02,  2.85830347e-01,\n",
       "        -1.47634379e-01,  6.49206566e-02,  4.57820011e-01,\n",
       "         1.02892549e-03, -2.56200832e-02,  5.52969164e-01]])"
      ]
     },
     "execution_count": 80,
     "metadata": {},
     "output_type": "execute_result"
    },
    {
     "data": {
      "application/javascript": [
       "\n",
       "            setTimeout(function() {\n",
       "                var nbb_cell_id = 80;\n",
       "                var nbb_unformatted_code = \"m1 = \\\"Logistic Regression\\\"\\nlr = LogisticRegression()\\nmodel = lr.fit(X_train, y_train)\\nlr_predict = lr.predict(X_test)\\nlr_conf_matrix = confusion_matrix(y_test, lr_predict)\\nlr_prec_score = precision_score(y_test, lr_predict)\\nprint(\\\"confussion matrix\\\")\\nprint(lr_conf_matrix)\\nprint(\\\"\\\\n\\\")\\nprint(\\\"Precison of Logistic Regression:\\\", lr_prec_score * 100, \\\"\\\\n\\\")\\nprint(classification_report(y_test, lr_predict))\\nlr.coef_\";\n",
       "                var nbb_formatted_code = \"m1 = \\\"Logistic Regression\\\"\\nlr = LogisticRegression()\\nmodel = lr.fit(X_train, y_train)\\nlr_predict = lr.predict(X_test)\\nlr_conf_matrix = confusion_matrix(y_test, lr_predict)\\nlr_prec_score = precision_score(y_test, lr_predict)\\nprint(\\\"confussion matrix\\\")\\nprint(lr_conf_matrix)\\nprint(\\\"\\\\n\\\")\\nprint(\\\"Precison of Logistic Regression:\\\", lr_prec_score * 100, \\\"\\\\n\\\")\\nprint(classification_report(y_test, lr_predict))\\nlr.coef_\";\n",
       "                var nbb_cells = Jupyter.notebook.get_cells();\n",
       "                for (var i = 0; i < nbb_cells.length; ++i) {\n",
       "                    if (nbb_cells[i].input_prompt_number == nbb_cell_id) {\n",
       "                        if (nbb_cells[i].get_text() == nbb_unformatted_code) {\n",
       "                             nbb_cells[i].set_text(nbb_formatted_code);\n",
       "                        }\n",
       "                        break;\n",
       "                    }\n",
       "                }\n",
       "            }, 500);\n",
       "            "
      ],
      "text/plain": [
       "<IPython.core.display.Javascript object>"
      ]
     },
     "metadata": {},
     "output_type": "display_data"
    }
   ],
   "source": [
    "m1 = \"Logistic Regression\"\n",
    "lr = LogisticRegression()\n",
    "model = lr.fit(X_train, y_train)\n",
    "lr_predict = lr.predict(X_test)\n",
    "lr_conf_matrix = confusion_matrix(y_test, lr_predict)\n",
    "lr_prec_score = precision_score(y_test, lr_predict)\n",
    "print(\"confussion matrix\")\n",
    "print(lr_conf_matrix)\n",
    "print(\"\\n\")\n",
    "print(\"Precison of Logistic Regression:\", lr_prec_score * 100, \"\\n\")\n",
    "print(classification_report(y_test, lr_predict))\n",
    "lr.coef_"
   ]
  },
  {
   "cell_type": "code",
   "execution_count": 81,
   "id": "2d8dd2fe",
   "metadata": {},
   "outputs": [
    {
     "data": {
      "text/plain": [
       "<Figure size 2400x1600 with 0 Axes>"
      ]
     },
     "execution_count": 81,
     "metadata": {},
     "output_type": "execute_result"
    },
    {
     "data": {
      "text/plain": [
       "<AxesSubplot:xlabel='Logistic Regression Coefficient'>"
      ]
     },
     "execution_count": 81,
     "metadata": {},
     "output_type": "execute_result"
    },
    {
     "data": {
      "image/png": "[encoded data removed]",
      "text/plain": [
       "<Figure size 2400x1600 with 1 Axes>"
      ]
     },
     "metadata": {
      "needs_background": "light"
     },
     "output_type": "display_data"
    },
    {
     "data": {
      "application/javascript": [
       "\n",
       "            setTimeout(function() {\n",
       "                var nbb_cell_id = 81;\n",
       "                var nbb_unformatted_code = \"features_imp = lr.coef_.reshape((-1,1))\\nimp_features = pd.DataFrame(index=X.columns,data=features_imp,columns=[\\\"Logistic Regression Coefficient\\\"])\\nimp_features.sort_values(\\\"Logistic Regression Coefficient\\\",ascending=False,inplace=True)\\nplt.figure(figsize=(12,8),dpi=200)\\nsns.barplot(data=imp_features,y=imp_features.index,x=imp_features[\\\"Logistic Regression Coefficient\\\"])\";\n",
       "                var nbb_formatted_code = \"features_imp = lr.coef_.reshape((-1, 1))\\nimp_features = pd.DataFrame(\\n    index=X.columns, data=features_imp, columns=[\\\"Logistic Regression Coefficient\\\"]\\n)\\nimp_features.sort_values(\\n    \\\"Logistic Regression Coefficient\\\", ascending=False, inplace=True\\n)\\nplt.figure(figsize=(12, 8), dpi=200)\\nsns.barplot(\\n    data=imp_features,\\n    y=imp_features.index,\\n    x=imp_features[\\\"Logistic Regression Coefficient\\\"],\\n)\";\n",
       "                var nbb_cells = Jupyter.notebook.get_cells();\n",
       "                for (var i = 0; i < nbb_cells.length; ++i) {\n",
       "                    if (nbb_cells[i].input_prompt_number == nbb_cell_id) {\n",
       "                        if (nbb_cells[i].get_text() == nbb_unformatted_code) {\n",
       "                             nbb_cells[i].set_text(nbb_formatted_code);\n",
       "                        }\n",
       "                        break;\n",
       "                    }\n",
       "                }\n",
       "            }, 500);\n",
       "            "
      ],
      "text/plain": [
       "<IPython.core.display.Javascript object>"
      ]
     },
     "metadata": {},
     "output_type": "display_data"
    }
   ],
   "source": [
    "features_imp = lr.coef_.reshape((-1, 1))\n",
    "imp_features = pd.DataFrame(\n",
    "    index=X.columns, data=features_imp, columns=[\"Logistic Regression Coefficient\"]\n",
    ")\n",
    "imp_features.sort_values(\n",
    "    \"Logistic Regression Coefficient\", ascending=False, inplace=True\n",
    ")\n",
    "plt.figure(figsize=(12, 8), dpi=200)\n",
    "sns.barplot(\n",
    "    data=imp_features,\n",
    "    y=imp_features.index,\n",
    "    x=imp_features[\"Logistic Regression Coefficient\"],\n",
    ")"
   ]
  },
  {
   "cell_type": "markdown",
   "id": "0616e464",
   "metadata": {},
   "source": [
    "# Gaussian Naive Bayes"
   ]
  },
  {
   "cell_type": "code",
   "execution_count": 84,
   "id": "36cc8e48",
   "metadata": {},
   "outputs": [
    {
     "data": {
      "text/plain": [
       "GaussianNB()"
      ]
     },
     "execution_count": 84,
     "metadata": {},
     "output_type": "execute_result"
    },
    {
     "name": "stdout",
     "output_type": "stream",
     "text": [
      "confussion matrix\n",
      "[[22  3]\n",
      " [13 12]]\n",
      "\n",
      "\n",
      "Precison of Naive Bayes model: 80.0 \n",
      "\n",
      "              precision    recall  f1-score   support\n",
      "\n",
      "         0.0       0.63      0.88      0.73        25\n",
      "         1.0       0.80      0.48      0.60        25\n",
      "\n",
      "    accuracy                           0.68        50\n",
      "   macro avg       0.71      0.68      0.67        50\n",
      "weighted avg       0.71      0.68      0.67        50\n",
      "\n"
     ]
    },
    {
     "data": {
      "application/javascript": [
       "\n",
       "            setTimeout(function() {\n",
       "                var nbb_cell_id = 84;\n",
       "                var nbb_unformatted_code = \"m2 = \\\"Naive Bayes\\\"\\nnb = GaussianNB()\\nnb.fit(X_train, y_train)\\nnbpred = nb.predict(X_test)\\nnb_conf_matrix = confusion_matrix(y_test, nbpred)\\nnb_prec_score = precision_score(y_test, nbpred)\\nprint(\\\"confussion matrix\\\")\\nprint(nb_conf_matrix)\\nprint(\\\"\\\\n\\\")\\nprint(\\\"Precison of Naive Bayes model:\\\", nb_prec_score * 100, \\\"\\\\n\\\")\\nprint(classification_report(y_test, nbpred))\";\n",
       "                var nbb_formatted_code = \"m2 = \\\"Naive Bayes\\\"\\nnb = GaussianNB()\\nnb.fit(X_train, y_train)\\nnbpred = nb.predict(X_test)\\nnb_conf_matrix = confusion_matrix(y_test, nbpred)\\nnb_prec_score = precision_score(y_test, nbpred)\\nprint(\\\"confussion matrix\\\")\\nprint(nb_conf_matrix)\\nprint(\\\"\\\\n\\\")\\nprint(\\\"Precison of Naive Bayes model:\\\", nb_prec_score * 100, \\\"\\\\n\\\")\\nprint(classification_report(y_test, nbpred))\";\n",
       "                var nbb_cells = Jupyter.notebook.get_cells();\n",
       "                for (var i = 0; i < nbb_cells.length; ++i) {\n",
       "                    if (nbb_cells[i].input_prompt_number == nbb_cell_id) {\n",
       "                        if (nbb_cells[i].get_text() == nbb_unformatted_code) {\n",
       "                             nbb_cells[i].set_text(nbb_formatted_code);\n",
       "                        }\n",
       "                        break;\n",
       "                    }\n",
       "                }\n",
       "            }, 500);\n",
       "            "
      ],
      "text/plain": [
       "<IPython.core.display.Javascript object>"
      ]
     },
     "metadata": {},
     "output_type": "display_data"
    }
   ],
   "source": [
    "m2 = \"Naive Bayes\"\n",
    "nb = GaussianNB()\n",
    "nb.fit(X_train, y_train)\n",
    "nbpred = nb.predict(X_test)\n",
    "nb_conf_matrix = confusion_matrix(y_test, nbpred)\n",
    "nb_prec_score = precision_score(y_test, nbpred)\n",
    "print(\"confussion matrix\")\n",
    "print(nb_conf_matrix)\n",
    "print(\"\\n\")\n",
    "print(\"Precison of Naive Bayes model:\", nb_prec_score * 100, \"\\n\")\n",
    "print(classification_report(y_test, nbpred))"
   ]
  },
  {
   "cell_type": "code",
   "execution_count": 85,
   "id": "0251a517",
   "metadata": {},
   "outputs": [
    {
     "data": {
      "text/plain": [
       "<Figure size 1440x720 with 0 Axes>"
      ]
     },
     "execution_count": 85,
     "metadata": {},
     "output_type": "execute_result"
    },
    {
     "data": {
      "text/plain": [
       "<BarContainer object of 24 artists>"
      ]
     },
     "execution_count": 85,
     "metadata": {},
     "output_type": "execute_result"
    },
    {
     "data": {
      "image/png": "[encoded data removed]",
      "text/plain": [
       "<Figure size 1440x720 with 1 Axes>"
      ]
     },
     "metadata": {
      "needs_background": "light"
     },
     "output_type": "display_data"
    },
    {
     "data": {
      "application/javascript": [
       "\n",
       "            setTimeout(function() {\n",
       "                var nbb_cell_id = 85;\n",
       "                var nbb_unformatted_code = \"result = permutation_importance(\\n    nb, X_train, y_train, n_repeats=10, random_state=1012, scoring=\\\"precision\\\"\\n)\\nperm_sorted_idx = result.importances_mean.argsort()\\nplt.figure(figsize=(20, 10))\\nplt.barh(\\n    width=result.importances_mean[perm_sorted_idx].T,\\n    # vert=False,\\n    y=X.columns[perm_sorted_idx],\\n)\";\n",
       "                var nbb_formatted_code = \"result = permutation_importance(\\n    nb, X_train, y_train, n_repeats=10, random_state=1012, scoring=\\\"precision\\\"\\n)\\nperm_sorted_idx = result.importances_mean.argsort()\\nplt.figure(figsize=(20, 10))\\nplt.barh(\\n    width=result.importances_mean[perm_sorted_idx].T,\\n    # vert=False,\\n    y=X.columns[perm_sorted_idx],\\n)\";\n",
       "                var nbb_cells = Jupyter.notebook.get_cells();\n",
       "                for (var i = 0; i < nbb_cells.length; ++i) {\n",
       "                    if (nbb_cells[i].input_prompt_number == nbb_cell_id) {\n",
       "                        if (nbb_cells[i].get_text() == nbb_unformatted_code) {\n",
       "                             nbb_cells[i].set_text(nbb_formatted_code);\n",
       "                        }\n",
       "                        break;\n",
       "                    }\n",
       "                }\n",
       "            }, 500);\n",
       "            "
      ],
      "text/plain": [
       "<IPython.core.display.Javascript object>"
      ]
     },
     "metadata": {},
     "output_type": "display_data"
    }
   ],
   "source": [
    "result = permutation_importance(\n",
    "    nb, X_train, y_train, n_repeats=10, random_state=1012, scoring=\"precision\"\n",
    ")\n",
    "perm_sorted_idx = result.importances_mean.argsort()\n",
    "plt.figure(figsize=(20, 10))\n",
    "plt.barh(\n",
    "    width=result.importances_mean[perm_sorted_idx].T,\n",
    "    # vert=False,\n",
    "    y=X.columns[perm_sorted_idx],\n",
    ")"
   ]
  },
  {
   "cell_type": "markdown",
   "id": "aa80797e",
   "metadata": {},
   "source": [
    "# Random Forest Classfier"
   ]
  },
  {
   "cell_type": "code",
   "execution_count": 86,
   "id": "f87b1336",
   "metadata": {},
   "outputs": [
    {
     "data": {
      "text/plain": [
       "RandomForestClassifier(max_depth=5, n_estimators=20, random_state=12)"
      ]
     },
     "execution_count": 86,
     "metadata": {},
     "output_type": "execute_result"
    },
    {
     "name": "stdout",
     "output_type": "stream",
     "text": [
      "confussion matrix\n",
      "[[18  7]\n",
      " [ 8 17]]\n",
      "\n",
      "\n",
      "Precision of Random Forest: 70.83333333333334 \n",
      "\n",
      "ROC_AUC of Random Forest: 70.0 \n",
      "\n",
      "              precision    recall  f1-score   support\n",
      "\n",
      "         0.0       0.69      0.72      0.71        25\n",
      "         1.0       0.71      0.68      0.69        25\n",
      "\n",
      "    accuracy                           0.70        50\n",
      "   macro avg       0.70      0.70      0.70        50\n",
      "weighted avg       0.70      0.70      0.70        50\n",
      "\n"
     ]
    },
    {
     "data": {
      "application/javascript": [
       "\n",
       "            setTimeout(function() {\n",
       "                var nbb_cell_id = 86;\n",
       "                var nbb_unformatted_code = \"m3 = \\\"Random Forest Classfier\\\"\\nrf = RandomForestClassifier(n_estimators=20, random_state=12, max_depth=5)\\nrf.fit(X_train, y_train)\\nrf_predicted = rf.predict(X_test)\\nrf_conf_matrix = confusion_matrix(y_test, rf_predicted)\\nrf_prec_score = precision_score(y_test, rf_predicted)\\nrf_auc_score = roc_auc_score(y_test, rf_predicted)\\nprint(\\\"confussion matrix\\\")\\nprint(rf_conf_matrix)\\nprint(\\\"\\\\n\\\")\\nprint(\\\"Precision of Random Forest:\\\", rf_prec_score * 100, \\\"\\\\n\\\")\\nprint(\\\"ROC_AUC of Random Forest:\\\", rf_auc_score * 100, \\\"\\\\n\\\")\\nprint(classification_report(y_test, rf_predicted))\";\n",
       "                var nbb_formatted_code = \"m3 = \\\"Random Forest Classfier\\\"\\nrf = RandomForestClassifier(n_estimators=20, random_state=12, max_depth=5)\\nrf.fit(X_train, y_train)\\nrf_predicted = rf.predict(X_test)\\nrf_conf_matrix = confusion_matrix(y_test, rf_predicted)\\nrf_prec_score = precision_score(y_test, rf_predicted)\\nrf_auc_score = roc_auc_score(y_test, rf_predicted)\\nprint(\\\"confussion matrix\\\")\\nprint(rf_conf_matrix)\\nprint(\\\"\\\\n\\\")\\nprint(\\\"Precision of Random Forest:\\\", rf_prec_score * 100, \\\"\\\\n\\\")\\nprint(\\\"ROC_AUC of Random Forest:\\\", rf_auc_score * 100, \\\"\\\\n\\\")\\nprint(classification_report(y_test, rf_predicted))\";\n",
       "                var nbb_cells = Jupyter.notebook.get_cells();\n",
       "                for (var i = 0; i < nbb_cells.length; ++i) {\n",
       "                    if (nbb_cells[i].input_prompt_number == nbb_cell_id) {\n",
       "                        if (nbb_cells[i].get_text() == nbb_unformatted_code) {\n",
       "                             nbb_cells[i].set_text(nbb_formatted_code);\n",
       "                        }\n",
       "                        break;\n",
       "                    }\n",
       "                }\n",
       "            }, 500);\n",
       "            "
      ],
      "text/plain": [
       "<IPython.core.display.Javascript object>"
      ]
     },
     "metadata": {},
     "output_type": "display_data"
    }
   ],
   "source": [
    "m3 = \"Random Forest Classfier\"\n",
    "rf = RandomForestClassifier(n_estimators=20, random_state=12, max_depth=5)\n",
    "rf.fit(X_train, y_train)\n",
    "rf_predicted = rf.predict(X_test)\n",
    "rf_conf_matrix = confusion_matrix(y_test, rf_predicted)\n",
    "rf_prec_score = precision_score(y_test, rf_predicted)\n",
    "rf_auc_score = roc_auc_score(y_test, rf_predicted)\n",
    "print(\"confussion matrix\")\n",
    "print(rf_conf_matrix)\n",
    "print(\"\\n\")\n",
    "print(\"Precision of Random Forest:\", rf_prec_score * 100, \"\\n\")\n",
    "print(\"ROC_AUC of Random Forest:\", rf_auc_score * 100, \"\\n\")\n",
    "print(classification_report(y_test, rf_predicted))"
   ]
  },
  {
   "cell_type": "code",
   "execution_count": 87,
   "id": "7d93f4ef",
   "metadata": {},
   "outputs": [
    {
     "data": {
      "text/plain": [
       "<Figure size 2400x1600 with 0 Axes>"
      ]
     },
     "execution_count": 87,
     "metadata": {},
     "output_type": "execute_result"
    },
    {
     "data": {
      "text/plain": [
       "<AxesSubplot:xlabel='importance'>"
      ]
     },
     "execution_count": 87,
     "metadata": {},
     "output_type": "execute_result"
    },
    {
     "data": {
      "image/png": "[encoded data removed]",
      "text/plain": [
       "<Figure size 2400x1600 with 1 Axes>"
      ]
     },
     "metadata": {
      "needs_background": "light"
     },
     "output_type": "display_data"
    },
    {
     "data": {
      "application/javascript": [
       "\n",
       "            setTimeout(function() {\n",
       "                var nbb_cell_id = 87;\n",
       "                var nbb_unformatted_code = \"features_imp = rf.feature_importances_\\nimp_features = pd.DataFrame(index=X.columns,data=features_imp,columns=[\\\"importance\\\"])\\nimp_features.sort_values(\\\"importance\\\",ascending=False,inplace=True)\\nplt.figure(figsize=(12,8),dpi=200)\\nsns.barplot(data=imp_features,y=imp_features.index,x=imp_features[\\\"importance\\\"])\";\n",
       "                var nbb_formatted_code = \"features_imp = rf.feature_importances_\\nimp_features = pd.DataFrame(index=X.columns, data=features_imp, columns=[\\\"importance\\\"])\\nimp_features.sort_values(\\\"importance\\\", ascending=False, inplace=True)\\nplt.figure(figsize=(12, 8), dpi=200)\\nsns.barplot(data=imp_features, y=imp_features.index, x=imp_features[\\\"importance\\\"])\";\n",
       "                var nbb_cells = Jupyter.notebook.get_cells();\n",
       "                for (var i = 0; i < nbb_cells.length; ++i) {\n",
       "                    if (nbb_cells[i].input_prompt_number == nbb_cell_id) {\n",
       "                        if (nbb_cells[i].get_text() == nbb_unformatted_code) {\n",
       "                             nbb_cells[i].set_text(nbb_formatted_code);\n",
       "                        }\n",
       "                        break;\n",
       "                    }\n",
       "                }\n",
       "            }, 500);\n",
       "            "
      ],
      "text/plain": [
       "<IPython.core.display.Javascript object>"
      ]
     },
     "metadata": {},
     "output_type": "display_data"
    }
   ],
   "source": [
    "features_imp = rf.feature_importances_\n",
    "imp_features = pd.DataFrame(index=X.columns, data=features_imp, columns=[\"importance\"])\n",
    "imp_features.sort_values(\"importance\", ascending=False, inplace=True)\n",
    "plt.figure(figsize=(12, 8), dpi=200)\n",
    "sns.barplot(data=imp_features, y=imp_features.index, x=imp_features[\"importance\"])"
   ]
  },
  {
   "cell_type": "code",
   "execution_count": 88,
   "id": "98756337",
   "metadata": {},
   "outputs": [
    {
     "data": {
      "text/plain": [
       "KNeighborsClassifier(n_neighbors=12)"
      ]
     },
     "execution_count": 88,
     "metadata": {},
     "output_type": "execute_result"
    },
    {
     "name": "stdout",
     "output_type": "stream",
     "text": [
      "confussion matrix\n",
      "[[19  6]\n",
      " [ 7 18]]\n",
      "\n",
      "\n",
      "Precison of K-NeighborsClassifier: 75.0 \n",
      "\n",
      "              precision    recall  f1-score   support\n",
      "\n",
      "         0.0       0.73      0.76      0.75        25\n",
      "         1.0       0.75      0.72      0.73        25\n",
      "\n",
      "    accuracy                           0.74        50\n",
      "   macro avg       0.74      0.74      0.74        50\n",
      "weighted avg       0.74      0.74      0.74        50\n",
      "\n"
     ]
    },
    {
     "data": {
      "application/javascript": [
       "\n",
       "            setTimeout(function() {\n",
       "                var nbb_cell_id = 88;\n",
       "                var nbb_unformatted_code = \"m4 = \\\"K-NeighborsClassifier\\\"\\nknn = KNeighborsClassifier(n_neighbors=12)\\nknn.fit(X_train, y_train)\\nknn_predicted = knn.predict(X_test)\\nknn_conf_matrix = confusion_matrix(y_test, knn_predicted)\\nknn_prec_score = precision_score(y_test, knn_predicted)\\nprint(\\\"confussion matrix\\\")\\nprint(knn_conf_matrix)\\nprint(\\\"\\\\n\\\")\\nprint(\\\"Precison of K-NeighborsClassifier:\\\", knn_prec_score * 100, \\\"\\\\n\\\")\\nprint(classification_report(y_test, knn_predicted))\";\n",
       "                var nbb_formatted_code = \"m4 = \\\"K-NeighborsClassifier\\\"\\nknn = KNeighborsClassifier(n_neighbors=12)\\nknn.fit(X_train, y_train)\\nknn_predicted = knn.predict(X_test)\\nknn_conf_matrix = confusion_matrix(y_test, knn_predicted)\\nknn_prec_score = precision_score(y_test, knn_predicted)\\nprint(\\\"confussion matrix\\\")\\nprint(knn_conf_matrix)\\nprint(\\\"\\\\n\\\")\\nprint(\\\"Precison of K-NeighborsClassifier:\\\", knn_prec_score * 100, \\\"\\\\n\\\")\\nprint(classification_report(y_test, knn_predicted))\";\n",
       "                var nbb_cells = Jupyter.notebook.get_cells();\n",
       "                for (var i = 0; i < nbb_cells.length; ++i) {\n",
       "                    if (nbb_cells[i].input_prompt_number == nbb_cell_id) {\n",
       "                        if (nbb_cells[i].get_text() == nbb_unformatted_code) {\n",
       "                             nbb_cells[i].set_text(nbb_formatted_code);\n",
       "                        }\n",
       "                        break;\n",
       "                    }\n",
       "                }\n",
       "            }, 500);\n",
       "            "
      ],
      "text/plain": [
       "<IPython.core.display.Javascript object>"
      ]
     },
     "metadata": {},
     "output_type": "display_data"
    }
   ],
   "source": [
    "m4 = \"K-NeighborsClassifier\"\n",
    "knn = KNeighborsClassifier(n_neighbors=12)\n",
    "knn.fit(X_train, y_train)\n",
    "knn_predicted = knn.predict(X_test)\n",
    "knn_conf_matrix = confusion_matrix(y_test, knn_predicted)\n",
    "knn_prec_score = precision_score(y_test, knn_predicted)\n",
    "print(\"confussion matrix\")\n",
    "print(knn_conf_matrix)\n",
    "print(\"\\n\")\n",
    "print(\"Precison of K-NeighborsClassifier:\", knn_prec_score * 100, \"\\n\")\n",
    "print(classification_report(y_test, knn_predicted))"
   ]
  },
  {
   "cell_type": "code",
   "execution_count": 89,
   "id": "1660cd63",
   "metadata": {},
   "outputs": [
    {
     "data": {
      "text/plain": [
       "DecisionTreeClassifier(criterion='entropy', max_depth=6, random_state=0)"
      ]
     },
     "execution_count": 89,
     "metadata": {},
     "output_type": "execute_result"
    },
    {
     "name": "stdout",
     "output_type": "stream",
     "text": [
      "confussion matrix\n",
      "[[16  9]\n",
      " [ 8 17]]\n",
      "\n",
      "\n",
      "Precison of DecisionTreeClassifier: 65.38461538461539 \n",
      "\n",
      "              precision    recall  f1-score   support\n",
      "\n",
      "         0.0       0.67      0.64      0.65        25\n",
      "         1.0       0.65      0.68      0.67        25\n",
      "\n",
      "    accuracy                           0.66        50\n",
      "   macro avg       0.66      0.66      0.66        50\n",
      "weighted avg       0.66      0.66      0.66        50\n",
      "\n"
     ]
    },
    {
     "data": {
      "application/javascript": [
       "\n",
       "            setTimeout(function() {\n",
       "                var nbb_cell_id = 89;\n",
       "                var nbb_unformatted_code = \"m5 = \\\"DecisionTreeClassifier\\\"\\ndt = DecisionTreeClassifier(criterion=\\\"entropy\\\", random_state=0, max_depth=6)\\ndt.fit(X_train, y_train)\\ndt_predicted = dt.predict(X_test)\\ndt_conf_matrix = confusion_matrix(y_test, dt_predicted)\\ndt_prec_score = precision_score(y_test, dt_predicted)\\nprint(\\\"confussion matrix\\\")\\nprint(dt_conf_matrix)\\nprint(\\\"\\\\n\\\")\\nprint(\\\"Precison of DecisionTreeClassifier:\\\", dt_prec_score * 100, \\\"\\\\n\\\")\\nprint(classification_report(y_test, dt_predicted))\";\n",
       "                var nbb_formatted_code = \"m5 = \\\"DecisionTreeClassifier\\\"\\ndt = DecisionTreeClassifier(criterion=\\\"entropy\\\", random_state=0, max_depth=6)\\ndt.fit(X_train, y_train)\\ndt_predicted = dt.predict(X_test)\\ndt_conf_matrix = confusion_matrix(y_test, dt_predicted)\\ndt_prec_score = precision_score(y_test, dt_predicted)\\nprint(\\\"confussion matrix\\\")\\nprint(dt_conf_matrix)\\nprint(\\\"\\\\n\\\")\\nprint(\\\"Precison of DecisionTreeClassifier:\\\", dt_prec_score * 100, \\\"\\\\n\\\")\\nprint(classification_report(y_test, dt_predicted))\";\n",
       "                var nbb_cells = Jupyter.notebook.get_cells();\n",
       "                for (var i = 0; i < nbb_cells.length; ++i) {\n",
       "                    if (nbb_cells[i].input_prompt_number == nbb_cell_id) {\n",
       "                        if (nbb_cells[i].get_text() == nbb_unformatted_code) {\n",
       "                             nbb_cells[i].set_text(nbb_formatted_code);\n",
       "                        }\n",
       "                        break;\n",
       "                    }\n",
       "                }\n",
       "            }, 500);\n",
       "            "
      ],
      "text/plain": [
       "<IPython.core.display.Javascript object>"
      ]
     },
     "metadata": {},
     "output_type": "display_data"
    }
   ],
   "source": [
    "m5 = \"DecisionTreeClassifier\"\n",
    "dt = DecisionTreeClassifier(criterion=\"entropy\", random_state=0, max_depth=6)\n",
    "dt.fit(X_train, y_train)\n",
    "dt_predicted = dt.predict(X_test)\n",
    "dt_conf_matrix = confusion_matrix(y_test, dt_predicted)\n",
    "dt_prec_score = precision_score(y_test, dt_predicted)\n",
    "print(\"confussion matrix\")\n",
    "print(dt_conf_matrix)\n",
    "print(\"\\n\")\n",
    "print(\"Precison of DecisionTreeClassifier:\", dt_prec_score * 100, \"\\n\")\n",
    "print(classification_report(y_test, dt_predicted))"
   ]
  },
  {
   "cell_type": "code",
   "execution_count": 90,
   "id": "5459effa",
   "metadata": {},
   "outputs": [
    {
     "data": {
      "text/plain": [
       "SVC(C=6)"
      ]
     },
     "execution_count": 90,
     "metadata": {},
     "output_type": "execute_result"
    },
    {
     "name": "stdout",
     "output_type": "stream",
     "text": [
      "confussion matrix\n",
      "[[21  4]\n",
      " [15 10]]\n",
      "\n",
      "\n",
      "Precison of Support Vector Classifier: 71.42857142857143 \n",
      "\n",
      "              precision    recall  f1-score   support\n",
      "\n",
      "         0.0       0.58      0.84      0.69        25\n",
      "         1.0       0.71      0.40      0.51        25\n",
      "\n",
      "    accuracy                           0.62        50\n",
      "   macro avg       0.65      0.62      0.60        50\n",
      "weighted avg       0.65      0.62      0.60        50\n",
      "\n"
     ]
    },
    {
     "data": {
      "application/javascript": [
       "\n",
       "            setTimeout(function() {\n",
       "                var nbb_cell_id = 90;\n",
       "                var nbb_unformatted_code = \"m6 = \\\"Support Vector Classifier\\\"\\nsvc = SVC(kernel=\\\"rbf\\\", C=6)\\nsvc.fit(X_train, y_train)\\nsvc_predicted = svc.predict(X_test)\\nsvc_conf_matrix = confusion_matrix(y_test, svc_predicted)\\nsvc_prec_score = precision_score(y_test, svc_predicted)\\nprint(\\\"confussion matrix\\\")\\nprint(svc_conf_matrix)\\nprint(\\\"\\\\n\\\")\\nprint(\\\"Precison of Support Vector Classifier:\\\", svc_prec_score * 100, \\\"\\\\n\\\")\\nprint(classification_report(y_test, svc_predicted))\";\n",
       "                var nbb_formatted_code = \"m6 = \\\"Support Vector Classifier\\\"\\nsvc = SVC(kernel=\\\"rbf\\\", C=6)\\nsvc.fit(X_train, y_train)\\nsvc_predicted = svc.predict(X_test)\\nsvc_conf_matrix = confusion_matrix(y_test, svc_predicted)\\nsvc_prec_score = precision_score(y_test, svc_predicted)\\nprint(\\\"confussion matrix\\\")\\nprint(svc_conf_matrix)\\nprint(\\\"\\\\n\\\")\\nprint(\\\"Precison of Support Vector Classifier:\\\", svc_prec_score * 100, \\\"\\\\n\\\")\\nprint(classification_report(y_test, svc_predicted))\";\n",
       "                var nbb_cells = Jupyter.notebook.get_cells();\n",
       "                for (var i = 0; i < nbb_cells.length; ++i) {\n",
       "                    if (nbb_cells[i].input_prompt_number == nbb_cell_id) {\n",
       "                        if (nbb_cells[i].get_text() == nbb_unformatted_code) {\n",
       "                             nbb_cells[i].set_text(nbb_formatted_code);\n",
       "                        }\n",
       "                        break;\n",
       "                    }\n",
       "                }\n",
       "            }, 500);\n",
       "            "
      ],
      "text/plain": [
       "<IPython.core.display.Javascript object>"
      ]
     },
     "metadata": {},
     "output_type": "display_data"
    }
   ],
   "source": [
    "m6 = \"Support Vector Classifier\"\n",
    "svc = SVC(kernel=\"rbf\", C=6)\n",
    "svc.fit(X_train, y_train)\n",
    "svc_predicted = svc.predict(X_test)\n",
    "svc_conf_matrix = confusion_matrix(y_test, svc_predicted)\n",
    "svc_prec_score = precision_score(y_test, svc_predicted)\n",
    "print(\"confussion matrix\")\n",
    "print(svc_conf_matrix)\n",
    "print(\"\\n\")\n",
    "print(\"Precison of Support Vector Classifier:\", svc_prec_score * 100, \"\\n\")\n",
    "print(classification_report(y_test, svc_predicted))"
   ]
  },
  {
   "cell_type": "code",
   "execution_count": 91,
   "id": "3e3c612c",
   "metadata": {},
   "outputs": [
    {
     "name": "stdout",
     "output_type": "stream",
     "text": [
      "[15:02:36] WARNING: /opt/concourse/worker/volumes/live/7a2b9f41-3287-451b-6691-43e9a6c0910f/volume/xgboost-split_1619728204606/work/src/learner.cc:1061: Starting in XGBoost 1.3.0, the default evaluation metric used with the objective 'binary:logistic' was changed from 'error' to 'logloss'. Explicitly set eval_metric if you'd like to restore the old behavior.\n"
     ]
    },
    {
     "data": {
      "text/plain": [
       "XGBClassifier(base_score=0.5, booster='dart', colsample_bylevel=0.6,\n",
       "              colsample_bynode=0.5, colsample_bytree=0.6, gamma=0.6, gpu_id=-1,\n",
       "              importance_type='gain', interaction_constraints='',\n",
       "              learning_rate=0.01, max_delta_step=0, max_depth=15,\n",
       "              min_child_weight=1, missing=nan, monotone_constraints='()',\n",
       "              n_estimators=25, n_jobs=8, num_parallel_tree=1, random_state=27,\n",
       "              reg_alpha=0, reg_lambda=2, scale_pos_weight=1, seed=27,\n",
       "              subsample=0.52, tree_method='exact', validate_parameters=1,\n",
       "              verbosity=None)"
      ]
     },
     "execution_count": 91,
     "metadata": {},
     "output_type": "execute_result"
    },
    {
     "name": "stdout",
     "output_type": "stream",
     "text": [
      "confussion matrix\n",
      "[[20  5]\n",
      " [ 7 18]]\n",
      "\n",
      "\n",
      "Precison of Extreme Gradient Boost: 78.26086956521739 \n",
      "\n",
      "              precision    recall  f1-score   support\n",
      "\n",
      "         0.0       0.74      0.80      0.77        25\n",
      "         1.0       0.78      0.72      0.75        25\n",
      "\n",
      "    accuracy                           0.76        50\n",
      "   macro avg       0.76      0.76      0.76        50\n",
      "weighted avg       0.76      0.76      0.76        50\n",
      "\n"
     ]
    },
    {
     "data": {
      "application/javascript": [
       "\n",
       "            setTimeout(function() {\n",
       "                var nbb_cell_id = 91;\n",
       "                var nbb_unformatted_code = \"m7 = \\\"Extreme Gradient Boost\\\"\\nxgb = XGBClassifier(\\n    learning_rate=0.01,\\n    n_estimators=25,\\n    max_depth=15,\\n    gamma=0.6,\\n    subsample=0.52,\\n    colsample_bytree=0.6,\\n    seed=27,\\n    reg_lambda=2,\\n    booster=\\\"dart\\\",\\n    colsample_bylevel=0.6,\\n    colsample_bynode=0.5,\\n)\\nxgb.fit(X_train, y_train)\\nxgb_predicted = xgb.predict(X_test)\\nxgb_conf_matrix = confusion_matrix(y_test, xgb_predicted)\\nxgb_prec_score = precision_score(y_test, xgb_predicted)\\nprint(\\\"confussion matrix\\\")\\nprint(xgb_conf_matrix)\\nprint(\\\"\\\\n\\\")\\nprint(\\\"Precison of Extreme Gradient Boost:\\\", xgb_prec_score * 100, \\\"\\\\n\\\")\\nprint(classification_report(y_test, xgb_predicted))\";\n",
       "                var nbb_formatted_code = \"m7 = \\\"Extreme Gradient Boost\\\"\\nxgb = XGBClassifier(\\n    learning_rate=0.01,\\n    n_estimators=25,\\n    max_depth=15,\\n    gamma=0.6,\\n    subsample=0.52,\\n    colsample_bytree=0.6,\\n    seed=27,\\n    reg_lambda=2,\\n    booster=\\\"dart\\\",\\n    colsample_bylevel=0.6,\\n    colsample_bynode=0.5,\\n)\\nxgb.fit(X_train, y_train)\\nxgb_predicted = xgb.predict(X_test)\\nxgb_conf_matrix = confusion_matrix(y_test, xgb_predicted)\\nxgb_prec_score = precision_score(y_test, xgb_predicted)\\nprint(\\\"confussion matrix\\\")\\nprint(xgb_conf_matrix)\\nprint(\\\"\\\\n\\\")\\nprint(\\\"Precison of Extreme Gradient Boost:\\\", xgb_prec_score * 100, \\\"\\\\n\\\")\\nprint(classification_report(y_test, xgb_predicted))\";\n",
       "                var nbb_cells = Jupyter.notebook.get_cells();\n",
       "                for (var i = 0; i < nbb_cells.length; ++i) {\n",
       "                    if (nbb_cells[i].input_prompt_number == nbb_cell_id) {\n",
       "                        if (nbb_cells[i].get_text() == nbb_unformatted_code) {\n",
       "                             nbb_cells[i].set_text(nbb_formatted_code);\n",
       "                        }\n",
       "                        break;\n",
       "                    }\n",
       "                }\n",
       "            }, 500);\n",
       "            "
      ],
      "text/plain": [
       "<IPython.core.display.Javascript object>"
      ]
     },
     "metadata": {},
     "output_type": "display_data"
    }
   ],
   "source": [
    "m7 = \"Extreme Gradient Boost\"\n",
    "xgb = XGBClassifier(\n",
    "    learning_rate=0.01,\n",
    "    n_estimators=25,\n",
    "    max_depth=15,\n",
    "    gamma=0.6,\n",
    "    subsample=0.52,\n",
    "    colsample_bytree=0.6,\n",
    "    seed=27,\n",
    "    reg_lambda=2,\n",
    "    booster=\"dart\",\n",
    "    colsample_bylevel=0.6,\n",
    "    colsample_bynode=0.5,\n",
    ")\n",
    "xgb.fit(X_train, y_train)\n",
    "xgb_predicted = xgb.predict(X_test)\n",
    "xgb_conf_matrix = confusion_matrix(y_test, xgb_predicted)\n",
    "xgb_prec_score = precision_score(y_test, xgb_predicted)\n",
    "print(\"confussion matrix\")\n",
    "print(xgb_conf_matrix)\n",
    "print(\"\\n\")\n",
    "print(\"Precison of Extreme Gradient Boost:\", xgb_prec_score * 100, \"\\n\")\n",
    "print(classification_report(y_test, xgb_predicted))"
   ]
  },
  {
   "cell_type": "code",
   "execution_count": 92,
   "id": "c76df373",
   "metadata": {},
   "outputs": [
    {
     "data": {
      "text/html": [
       "<div>\n",
       "<style scoped>\n",
       "    .dataframe tbody tr th:only-of-type {\n",
       "        vertical-align: middle;\n",
       "    }\n",
       "\n",
       "    .dataframe tbody tr th {\n",
       "        vertical-align: top;\n",
       "    }\n",
       "\n",
       "    .dataframe thead th {\n",
       "        text-align: right;\n",
       "    }\n",
       "</style>\n",
       "<table border=\"1\" class=\"dataframe\">\n",
       "  <thead>\n",
       "    <tr style=\"text-align: right;\">\n",
       "      <th></th>\n",
       "      <th>Model</th>\n",
       "      <th>Precison</th>\n",
       "    </tr>\n",
       "  </thead>\n",
       "  <tbody>\n",
       "    <tr>\n",
       "      <th>1</th>\n",
       "      <td>Naive Bayes</td>\n",
       "      <td>80.000000</td>\n",
       "    </tr>\n",
       "    <tr>\n",
       "      <th>6</th>\n",
       "      <td>Extreme Gradient Boost</td>\n",
       "      <td>78.260870</td>\n",
       "    </tr>\n",
       "    <tr>\n",
       "      <th>3</th>\n",
       "      <td>K-Nearest Neighbour</td>\n",
       "      <td>75.000000</td>\n",
       "    </tr>\n",
       "    <tr>\n",
       "      <th>5</th>\n",
       "      <td>Support Vector Machine</td>\n",
       "      <td>71.428571</td>\n",
       "    </tr>\n",
       "    <tr>\n",
       "      <th>2</th>\n",
       "      <td>Random Forest</td>\n",
       "      <td>70.833333</td>\n",
       "    </tr>\n",
       "    <tr>\n",
       "      <th>4</th>\n",
       "      <td>Decision Tree</td>\n",
       "      <td>65.384615</td>\n",
       "    </tr>\n",
       "    <tr>\n",
       "      <th>0</th>\n",
       "      <td>Logistic Regression</td>\n",
       "      <td>64.000000</td>\n",
       "    </tr>\n",
       "  </tbody>\n",
       "</table>\n",
       "</div>"
      ],
      "text/plain": [
       "                    Model   Precison\n",
       "1             Naive Bayes  80.000000\n",
       "6  Extreme Gradient Boost  78.260870\n",
       "3     K-Nearest Neighbour  75.000000\n",
       "5  Support Vector Machine  71.428571\n",
       "2           Random Forest  70.833333\n",
       "4           Decision Tree  65.384615\n",
       "0     Logistic Regression  64.000000"
      ]
     },
     "execution_count": 92,
     "metadata": {},
     "output_type": "execute_result"
    },
    {
     "data": {
      "application/javascript": [
       "\n",
       "            setTimeout(function() {\n",
       "                var nbb_cell_id = 92;\n",
       "                var nbb_unformatted_code = \"model_ev = pd.DataFrame(\\n    {\\n        \\\"Model\\\": [\\n            \\\"Logistic Regression\\\",\\n            \\\"Naive Bayes\\\",\\n            \\\"Random Forest\\\",\\n            \\\"K-Nearest Neighbour\\\",\\n            \\\"Decision Tree\\\",\\n            \\\"Support Vector Machine\\\",\\n            \\\"Extreme Gradient Boost\\\"\\n        ],\\n        \\\"Precison\\\": [\\n            lr_prec_score * 100,\\n            nb_prec_score * 100,\\n            rf_prec_score * 100,\\n            knn_prec_score * 100,\\n            dt_prec_score * 100,\\n            svc_prec_score * 100,\\n            xgb_prec_score * 100\\n        ],\\n    }\\n)\\nmodel_ev.sort_values(by='Precison',ascending=False)\";\n",
       "                var nbb_formatted_code = \"model_ev = pd.DataFrame(\\n    {\\n        \\\"Model\\\": [\\n            \\\"Logistic Regression\\\",\\n            \\\"Naive Bayes\\\",\\n            \\\"Random Forest\\\",\\n            \\\"K-Nearest Neighbour\\\",\\n            \\\"Decision Tree\\\",\\n            \\\"Support Vector Machine\\\",\\n            \\\"Extreme Gradient Boost\\\",\\n        ],\\n        \\\"Precison\\\": [\\n            lr_prec_score * 100,\\n            nb_prec_score * 100,\\n            rf_prec_score * 100,\\n            knn_prec_score * 100,\\n            dt_prec_score * 100,\\n            svc_prec_score * 100,\\n            xgb_prec_score * 100,\\n        ],\\n    }\\n)\\nmodel_ev.sort_values(by=\\\"Precison\\\", ascending=False)\";\n",
       "                var nbb_cells = Jupyter.notebook.get_cells();\n",
       "                for (var i = 0; i < nbb_cells.length; ++i) {\n",
       "                    if (nbb_cells[i].input_prompt_number == nbb_cell_id) {\n",
       "                        if (nbb_cells[i].get_text() == nbb_unformatted_code) {\n",
       "                             nbb_cells[i].set_text(nbb_formatted_code);\n",
       "                        }\n",
       "                        break;\n",
       "                    }\n",
       "                }\n",
       "            }, 500);\n",
       "            "
      ],
      "text/plain": [
       "<IPython.core.display.Javascript object>"
      ]
     },
     "metadata": {},
     "output_type": "display_data"
    }
   ],
   "source": [
    "model_ev = pd.DataFrame(\n",
    "    {\n",
    "        \"Model\": [\n",
    "            \"Logistic Regression\",\n",
    "            \"Naive Bayes\",\n",
    "            \"Random Forest\",\n",
    "            \"K-Nearest Neighbour\",\n",
    "            \"Decision Tree\",\n",
    "            \"Support Vector Machine\",\n",
    "            \"Extreme Gradient Boost\",\n",
    "        ],\n",
    "        \"Precison\": [\n",
    "            lr_prec_score * 100,\n",
    "            nb_prec_score * 100,\n",
    "            rf_prec_score * 100,\n",
    "            knn_prec_score * 100,\n",
    "            dt_prec_score * 100,\n",
    "            svc_prec_score * 100,\n",
    "            xgb_prec_score * 100,\n",
    "        ],\n",
    "    }\n",
    ")\n",
    "model_ev.sort_values(by=\"Precison\", ascending=False)"
   ]
  },
  {
   "cell_type": "code",
   "execution_count": 93,
   "id": "b07a755a",
   "metadata": {},
   "outputs": [
    {
     "data": {
      "text/html": [
       "<style  type=\"text/css\" >\n",
       "#T_76f16_row0_col0,#T_76f16_row0_col4{\n",
       "            background-color:  #e1f3dc;\n",
       "            color:  #000000;\n",
       "        }#T_76f16_row0_col1{\n",
       "            background-color:  #65bd6f;\n",
       "            color:  #000000;\n",
       "        }#T_76f16_row0_col2,#T_76f16_row5_col0,#T_76f16_row5_col1,#T_76f16_row5_col3,#T_76f16_row5_col4{\n",
       "            background-color:  #f7fcf5;\n",
       "            color:  #000000;\n",
       "        }#T_76f16_row0_col3{\n",
       "            background-color:  #228a44;\n",
       "            color:  #000000;\n",
       "        }#T_76f16_row1_col0,#T_76f16_row1_col4,#T_76f16_row2_col2{\n",
       "            background-color:  #8ed08b;\n",
       "            color:  #000000;\n",
       "        }#T_76f16_row1_col1{\n",
       "            background-color:  #a3da9d;\n",
       "            color:  #000000;\n",
       "        }#T_76f16_row1_col2,#T_76f16_row3_col3,#T_76f16_row6_col0,#T_76f16_row6_col1,#T_76f16_row6_col3,#T_76f16_row6_col4{\n",
       "            background-color:  #00441b;\n",
       "            color:  #f1f1f1;\n",
       "        }#T_76f16_row1_col3{\n",
       "            background-color:  #c8e9c1;\n",
       "            color:  #000000;\n",
       "        }#T_76f16_row2_col0,#T_76f16_row2_col4{\n",
       "            background-color:  #56b567;\n",
       "            color:  #000000;\n",
       "        }#T_76f16_row2_col1{\n",
       "            background-color:  #1f8742;\n",
       "            color:  #000000;\n",
       "        }#T_76f16_row2_col3,#T_76f16_row4_col3{\n",
       "            background-color:  #006c2c;\n",
       "            color:  #f1f1f1;\n",
       "        }#T_76f16_row3_col0,#T_76f16_row3_col4{\n",
       "            background-color:  #05712f;\n",
       "            color:  #f1f1f1;\n",
       "        }#T_76f16_row3_col1{\n",
       "            background-color:  #005924;\n",
       "            color:  #f1f1f1;\n",
       "        }#T_76f16_row3_col2{\n",
       "            background-color:  #329b51;\n",
       "            color:  #000000;\n",
       "        }#T_76f16_row4_col0,#T_76f16_row4_col4{\n",
       "            background-color:  #bce4b5;\n",
       "            color:  #000000;\n",
       "        }#T_76f16_row4_col1{\n",
       "            background-color:  #3ba458;\n",
       "            color:  #000000;\n",
       "        }#T_76f16_row4_col2{\n",
       "            background-color:  #ebf7e7;\n",
       "            color:  #000000;\n",
       "        }#T_76f16_row5_col2{\n",
       "            background-color:  #81ca81;\n",
       "            color:  #000000;\n",
       "        }#T_76f16_row6_col2{\n",
       "            background-color:  #006729;\n",
       "            color:  #f1f1f1;\n",
       "        }</style><table id=\"T_76f16_\" ><thead>    <tr>        <th class=\"blank level0\" ></th>        <th class=\"col_heading level0 col0\" >Accuracy</th>        <th class=\"col_heading level0 col1\" >F1 score</th>        <th class=\"col_heading level0 col2\" >Precision</th>        <th class=\"col_heading level0 col3\" >Recall</th>        <th class=\"col_heading level0 col4\" >AUC</th>    </tr>    <tr>        <th class=\"index_name level0\" >Model</th>        <th class=\"blank\" ></th>        <th class=\"blank\" ></th>        <th class=\"blank\" ></th>        <th class=\"blank\" ></th>        <th class=\"blank\" ></th>    </tr></thead><tbody>\n",
       "                <tr>\n",
       "                        <th id=\"T_76f16_level0_row0\" class=\"row_heading level0 row0\" >Logistic Regression</th>\n",
       "                        <td id=\"T_76f16_row0_col0\" class=\"data row0 col0\" >0.640000</td>\n",
       "                        <td id=\"T_76f16_row0_col1\" class=\"data row0 col1\" >0.640000</td>\n",
       "                        <td id=\"T_76f16_row0_col2\" class=\"data row0 col2\" >0.640000</td>\n",
       "                        <td id=\"T_76f16_row0_col3\" class=\"data row0 col3\" >0.640000</td>\n",
       "                        <td id=\"T_76f16_row0_col4\" class=\"data row0 col4\" >0.640000</td>\n",
       "            </tr>\n",
       "            <tr>\n",
       "                        <th id=\"T_76f16_level0_row1\" class=\"row_heading level0 row1\" >Naive Bayes</th>\n",
       "                        <td id=\"T_76f16_row1_col0\" class=\"data row1 col0\" >0.680000</td>\n",
       "                        <td id=\"T_76f16_row1_col1\" class=\"data row1 col1\" >0.600000</td>\n",
       "                        <td id=\"T_76f16_row1_col2\" class=\"data row1 col2\" >0.800000</td>\n",
       "                        <td id=\"T_76f16_row1_col3\" class=\"data row1 col3\" >0.480000</td>\n",
       "                        <td id=\"T_76f16_row1_col4\" class=\"data row1 col4\" >0.680000</td>\n",
       "            </tr>\n",
       "            <tr>\n",
       "                        <th id=\"T_76f16_level0_row2\" class=\"row_heading level0 row2\" >Random Forest</th>\n",
       "                        <td id=\"T_76f16_row2_col0\" class=\"data row2 col0\" >0.700000</td>\n",
       "                        <td id=\"T_76f16_row2_col1\" class=\"data row2 col1\" >0.693878</td>\n",
       "                        <td id=\"T_76f16_row2_col2\" class=\"data row2 col2\" >0.708333</td>\n",
       "                        <td id=\"T_76f16_row2_col3\" class=\"data row2 col3\" >0.680000</td>\n",
       "                        <td id=\"T_76f16_row2_col4\" class=\"data row2 col4\" >0.700000</td>\n",
       "            </tr>\n",
       "            <tr>\n",
       "                        <th id=\"T_76f16_level0_row3\" class=\"row_heading level0 row3\" >K-Nearest Neighbour</th>\n",
       "                        <td id=\"T_76f16_row3_col0\" class=\"data row3 col0\" >0.740000</td>\n",
       "                        <td id=\"T_76f16_row3_col1\" class=\"data row3 col1\" >0.734694</td>\n",
       "                        <td id=\"T_76f16_row3_col2\" class=\"data row3 col2\" >0.750000</td>\n",
       "                        <td id=\"T_76f16_row3_col3\" class=\"data row3 col3\" >0.720000</td>\n",
       "                        <td id=\"T_76f16_row3_col4\" class=\"data row3 col4\" >0.740000</td>\n",
       "            </tr>\n",
       "            <tr>\n",
       "                        <th id=\"T_76f16_level0_row4\" class=\"row_heading level0 row4\" >Decision Tree</th>\n",
       "                        <td id=\"T_76f16_row4_col0\" class=\"data row4 col0\" >0.660000</td>\n",
       "                        <td id=\"T_76f16_row4_col1\" class=\"data row4 col1\" >0.666667</td>\n",
       "                        <td id=\"T_76f16_row4_col2\" class=\"data row4 col2\" >0.653846</td>\n",
       "                        <td id=\"T_76f16_row4_col3\" class=\"data row4 col3\" >0.680000</td>\n",
       "                        <td id=\"T_76f16_row4_col4\" class=\"data row4 col4\" >0.660000</td>\n",
       "            </tr>\n",
       "            <tr>\n",
       "                        <th id=\"T_76f16_level0_row5\" class=\"row_heading level0 row5\" >Support Vector Machine</th>\n",
       "                        <td id=\"T_76f16_row5_col0\" class=\"data row5 col0\" >0.620000</td>\n",
       "                        <td id=\"T_76f16_row5_col1\" class=\"data row5 col1\" >0.512821</td>\n",
       "                        <td id=\"T_76f16_row5_col2\" class=\"data row5 col2\" >0.714286</td>\n",
       "                        <td id=\"T_76f16_row5_col3\" class=\"data row5 col3\" >0.400000</td>\n",
       "                        <td id=\"T_76f16_row5_col4\" class=\"data row5 col4\" >0.620000</td>\n",
       "            </tr>\n",
       "            <tr>\n",
       "                        <th id=\"T_76f16_level0_row6\" class=\"row_heading level0 row6\" >Extreme Gradient Boost</th>\n",
       "                        <td id=\"T_76f16_row6_col0\" class=\"data row6 col0\" >0.760000</td>\n",
       "                        <td id=\"T_76f16_row6_col1\" class=\"data row6 col1\" >0.750000</td>\n",
       "                        <td id=\"T_76f16_row6_col2\" class=\"data row6 col2\" >0.782609</td>\n",
       "                        <td id=\"T_76f16_row6_col3\" class=\"data row6 col3\" >0.720000</td>\n",
       "                        <td id=\"T_76f16_row6_col4\" class=\"data row6 col4\" >0.760000</td>\n",
       "            </tr>\n",
       "    </tbody></table>"
      ],
      "text/plain": [
       "<pandas.io.formats.style.Styler at 0x7f7f6979daf0>"
      ]
     },
     "execution_count": 93,
     "metadata": {},
     "output_type": "execute_result"
    },
    {
     "data": {
      "application/javascript": [
       "\n",
       "            setTimeout(function() {\n",
       "                var nbb_cell_id = 93;\n",
       "                var nbb_unformatted_code = \"from collections import defaultdict\\nscore_dict = defaultdict(list)\\n\\nmodels = [\\n    lr,\\n    nb,\\n    rf,\\n    knn,\\n    dt,\\n    svc,\\n    xgb\\n]\\nmodel_names = [\\n    \\\"Logistic Regression\\\",\\n    \\\"Naive Bayes\\\",\\n    \\\"Random Forest\\\",\\n    \\\"K-Nearest Neighbour\\\",\\n    \\\"Decision Tree\\\",\\n    \\\"Support Vector Machine\\\",\\n    \\\"Extreme Gradient Boost\\\"\\n]\\nmeasurements = [accuracy_score, f1_score, precision_score, recall_score, roc_auc_score]\\nmeasurement_names = [\\\"Accuracy\\\", \\\"F1 score\\\", \\\"Precision\\\", \\\"Recall\\\", \\\"AUC\\\"]\\n\\nfor i in range(len(models)):\\n    score_dict[\\\"Model\\\"].append(model_names[i])\\n    for j in range(len(measurements)):\\n        score_dict[measurement_names[j]].append(measurements[j](y_test, models[i].predict(X_test)))\\n\\nscore_df = pd.DataFrame(score_dict)\\nscore_df = score_df.set_index(\\\"Model\\\")\\nscore_df.style.background_gradient(cmap=\\\"Greens\\\")\";\n",
       "                var nbb_formatted_code = \"from collections import defaultdict\\n\\nscore_dict = defaultdict(list)\\n\\nmodels = [lr, nb, rf, knn, dt, svc, xgb]\\nmodel_names = [\\n    \\\"Logistic Regression\\\",\\n    \\\"Naive Bayes\\\",\\n    \\\"Random Forest\\\",\\n    \\\"K-Nearest Neighbour\\\",\\n    \\\"Decision Tree\\\",\\n    \\\"Support Vector Machine\\\",\\n    \\\"Extreme Gradient Boost\\\",\\n]\\nmeasurements = [accuracy_score, f1_score, precision_score, recall_score, roc_auc_score]\\nmeasurement_names = [\\\"Accuracy\\\", \\\"F1 score\\\", \\\"Precision\\\", \\\"Recall\\\", \\\"AUC\\\"]\\n\\nfor i in range(len(models)):\\n    score_dict[\\\"Model\\\"].append(model_names[i])\\n    for j in range(len(measurements)):\\n        score_dict[measurement_names[j]].append(\\n            measurements[j](y_test, models[i].predict(X_test))\\n        )\\n\\nscore_df = pd.DataFrame(score_dict)\\nscore_df = score_df.set_index(\\\"Model\\\")\\nscore_df.style.background_gradient(cmap=\\\"Greens\\\")\";\n",
       "                var nbb_cells = Jupyter.notebook.get_cells();\n",
       "                for (var i = 0; i < nbb_cells.length; ++i) {\n",
       "                    if (nbb_cells[i].input_prompt_number == nbb_cell_id) {\n",
       "                        if (nbb_cells[i].get_text() == nbb_unformatted_code) {\n",
       "                             nbb_cells[i].set_text(nbb_formatted_code);\n",
       "                        }\n",
       "                        break;\n",
       "                    }\n",
       "                }\n",
       "            }, 500);\n",
       "            "
      ],
      "text/plain": [
       "<IPython.core.display.Javascript object>"
      ]
     },
     "metadata": {},
     "output_type": "display_data"
    }
   ],
   "source": [
    "from collections import defaultdict\n",
    "\n",
    "score_dict = defaultdict(list)\n",
    "\n",
    "models = [lr, nb, rf, knn, dt, svc, xgb]\n",
    "model_names = [\n",
    "    \"Logistic Regression\",\n",
    "    \"Naive Bayes\",\n",
    "    \"Random Forest\",\n",
    "    \"K-Nearest Neighbour\",\n",
    "    \"Decision Tree\",\n",
    "    \"Support Vector Machine\",\n",
    "    \"Extreme Gradient Boost\",\n",
    "]\n",
    "measurements = [accuracy_score, f1_score, precision_score, recall_score, roc_auc_score]\n",
    "measurement_names = [\"Accuracy\", \"F1 score\", \"Precision\", \"Recall\", \"AUC\"]\n",
    "\n",
    "for i in range(len(models)):\n",
    "    score_dict[\"Model\"].append(model_names[i])\n",
    "    for j in range(len(measurements)):\n",
    "        score_dict[measurement_names[j]].append(\n",
    "            measurements[j](y_test, models[i].predict(X_test))\n",
    "        )\n",
    "\n",
    "score_df = pd.DataFrame(score_dict)\n",
    "score_df = score_df.set_index(\"Model\")\n",
    "score_df.style.background_gradient(cmap=\"Greens\")"
   ]
  },
  {
   "cell_type": "code",
   "execution_count": null,
   "id": "8465f3a7",
   "metadata": {},
   "outputs": [],
   "source": []
  },
  {
   "cell_type": "code",
   "execution_count": null,
   "id": "9b85d983",
   "metadata": {},
   "outputs": [],
   "source": []
  },
  {
   "cell_type": "code",
   "execution_count": null,
   "id": "dbfe718f",
   "metadata": {},
   "outputs": [],
   "source": []
  },
  {
   "cell_type": "code",
   "execution_count": null,
   "id": "75c652c2",
   "metadata": {},
   "outputs": [],
   "source": []
  },
  {
   "cell_type": "code",
   "execution_count": null,
   "id": "266d98ab",
   "metadata": {},
   "outputs": [],
   "source": []
  },
  {
   "cell_type": "code",
   "execution_count": null,
   "id": "be74fdf5",
   "metadata": {},
   "outputs": [],
   "source": []
  },
  {
   "cell_type": "code",
   "execution_count": null,
   "id": "4c884db9",
   "metadata": {},
   "outputs": [],
   "source": []
  },
  {
   "cell_type": "code",
   "execution_count": null,
   "id": "bef93a77",
   "metadata": {},
   "outputs": [],
   "source": []
  },
  {
   "cell_type": "code",
   "execution_count": 13,
   "id": "3bfa1ea1",
   "metadata": {
    "scrolled": true
   },
   "outputs": [
    {
     "data": {
      "text/plain": [
       "dict_values(['Subject_Number', 'Wheeze_Mother', 'Asthma_Mother', 'Hayfever_Mother', 'AD_Mother', 'Pollentress_Mother', 'FAllergies_Mother', 'Wheeze_Father', 'Asthma_Father', 'Hayfever_Father', 'AD_Father', 'Pollentress_Father', 'FAllergies_Father'])"
      ]
     },
     "execution_count": 13,
     "metadata": {},
     "output_type": "execute_result"
    },
    {
     "data": {
      "application/javascript": [
       "\n",
       "            setTimeout(function() {\n",
       "                var nbb_cell_id = 13;\n",
       "                var nbb_unformatted_code = \"variables_of_parental_allergy.values()\";\n",
       "                var nbb_formatted_code = \"variables_of_parental_allergy.values()\";\n",
       "                var nbb_cells = Jupyter.notebook.get_cells();\n",
       "                for (var i = 0; i < nbb_cells.length; ++i) {\n",
       "                    if (nbb_cells[i].input_prompt_number == nbb_cell_id) {\n",
       "                        if (nbb_cells[i].get_text() == nbb_unformatted_code) {\n",
       "                             nbb_cells[i].set_text(nbb_formatted_code);\n",
       "                        }\n",
       "                        break;\n",
       "                    }\n",
       "                }\n",
       "            }, 500);\n",
       "            "
      ],
      "text/plain": [
       "<IPython.core.display.Javascript object>"
      ]
     },
     "metadata": {},
     "output_type": "display_data"
    }
   ],
   "source": []
  },
  {
   "cell_type": "code",
   "execution_count": null,
   "id": "04c46029",
   "metadata": {},
   "outputs": [],
   "source": []
  },
  {
   "cell_type": "code",
   "execution_count": null,
   "id": "1205d83f",
   "metadata": {},
   "outputs": [],
   "source": []
  },
  {
   "cell_type": "code",
   "execution_count": null,
   "id": "f51d50df",
   "metadata": {},
   "outputs": [],
   "source": []
  },
  {
   "cell_type": "markdown",
   "id": "9411be93",
   "metadata": {},
   "source": [
    "### 1. Previous 1y -> 5y prediction"
   ]
  },
  {
   "cell_type": "code",
   "execution_count": 2,
   "id": "60987e0b",
   "metadata": {},
   "outputs": [
    {
     "data": {
      "application/javascript": [
       "\n",
       "            setTimeout(function() {\n",
       "                var nbb_cell_id = 2;\n",
       "                var nbb_unformatted_code = \"# Preferences of autoformatting & Multiple Output\\n%load_ext nb_black\\nfrom IPython.core.interactiveshell import InteractiveShell\\nInteractiveShell.ast_node_interactivity = \\\"all\\\"\\n#Preferences - II\\nimport warnings\\nwarnings.filterwarnings('ignore')\\n\\nimport pandas as pd\\nimport seaborn as sns\\nimport numpy as np\";\n",
       "                var nbb_formatted_code = \"# Preferences of autoformatting & Multiple Output\\n%load_ext nb_black\\nfrom IPython.core.interactiveshell import InteractiveShell\\n\\nInteractiveShell.ast_node_interactivity = \\\"all\\\"\\n# Preferences - II\\nimport warnings\\n\\nwarnings.filterwarnings(\\\"ignore\\\")\\n\\nimport pandas as pd\\nimport seaborn as sns\\nimport numpy as np\";\n",
       "                var nbb_cells = Jupyter.notebook.get_cells();\n",
       "                for (var i = 0; i < nbb_cells.length; ++i) {\n",
       "                    if (nbb_cells[i].input_prompt_number == nbb_cell_id) {\n",
       "                        if (nbb_cells[i].get_text() == nbb_unformatted_code) {\n",
       "                             nbb_cells[i].set_text(nbb_formatted_code);\n",
       "                        }\n",
       "                        break;\n",
       "                    }\n",
       "                }\n",
       "            }, 500);\n",
       "            "
      ],
      "text/plain": [
       "<IPython.core.display.Javascript object>"
      ]
     },
     "metadata": {},
     "output_type": "display_data"
    }
   ],
   "source": [
    "# Preferences of autoformatting & Multiple Output\n",
    "%load_ext nb_black\n",
    "from IPython.core.interactiveshell import InteractiveShell\n",
    "\n",
    "InteractiveShell.ast_node_interactivity = \"all\"\n",
    "# Preferences - II\n",
    "import warnings\n",
    "\n",
    "warnings.filterwarnings(\"ignore\")\n",
    "\n",
    "import pandas as pd\n",
    "import seaborn as sns\n",
    "import numpy as np"
   ]
  },
  {
   "cell_type": "markdown",
   "id": "a1d931fb",
   "metadata": {},
   "source": [
    "#### 1.1 Prepare dataset"
   ]
  },
  {
   "cell_type": "code",
   "execution_count": null,
   "id": "513f5a82",
   "metadata": {},
   "outputs": [],
   "source": []
  },
  {
   "cell_type": "code",
   "execution_count": null,
   "id": "ee9f38aa",
   "metadata": {},
   "outputs": [],
   "source": []
  },
  {
   "cell_type": "code",
   "execution_count": 6,
   "id": "e5178850",
   "metadata": {},
   "outputs": [
    {
     "name": "stdout",
     "output_type": "stream",
     "text": [
      "CHILD_Asthma_Prediction_Modelling.ipynb CHILD_ml_pipeline.ipynb\r\n",
      "CHILD_ML.ipynb\r\n"
     ]
    },
    {
     "data": {
      "application/javascript": [
       "\n",
       "            setTimeout(function() {\n",
       "                var nbb_cell_id = 6;\n",
       "                var nbb_unformatted_code = \"!ls\";\n",
       "                var nbb_formatted_code = \"!ls\";\n",
       "                var nbb_cells = Jupyter.notebook.get_cells();\n",
       "                for (var i = 0; i < nbb_cells.length; ++i) {\n",
       "                    if (nbb_cells[i].input_prompt_number == nbb_cell_id) {\n",
       "                        if (nbb_cells[i].get_text() == nbb_unformatted_code) {\n",
       "                             nbb_cells[i].set_text(nbb_formatted_code);\n",
       "                        }\n",
       "                        break;\n",
       "                    }\n",
       "                }\n",
       "            }, 500);\n",
       "            "
      ],
      "text/plain": [
       "<IPython.core.display.Javascript object>"
      ]
     },
     "metadata": {},
     "output_type": "display_data"
    }
   ],
   "source": [
    "!ls"
   ]
  }
 ],
 "metadata": {
  "kernelspec": {
   "display_name": "Python 3",
   "language": "python",
   "name": "python3"
  },
  "language_info": {
   "codemirror_mode": {
    "name": "ipython",
    "version": 3
   },
   "file_extension": ".py",
   "mimetype": "text/x-python",
   "name": "python",
   "nbconvert_exporter": "python",
   "pygments_lexer": "ipython3",
   "version": "3.8.8"
  }
 },
 "nbformat": 4,
 "nbformat_minor": 5
}
