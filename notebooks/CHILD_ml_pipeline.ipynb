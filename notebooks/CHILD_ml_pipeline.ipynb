{
 "cells": [
  {
   "cell_type": "markdown",
   "id": "1cf299fc",
   "metadata": {},
   "source": [
    "<a id='top'></a> \n",
    "# CHILD ML Analysis\n",
    "    - ML Pipeline for CHILD Dataset from the very beginning"
   ]
  },
  {
   "cell_type": "markdown",
   "id": "6ed73987",
   "metadata": {},
   "source": [
    "##### [Step One: Feature Selection Strategies (Insights)](#0)\n",
    "\n",
    "##### [Step Two: Making ML Pipelines](#pipeline)\n",
    "\n",
    "##### Step Three: Tunning & Feature Engineering/Selection (data review) to Improve Performance (Insights)\n",
    "\n",
    "##### Step Four: Visualization of model performance\n",
    "\n",
    "##### Step Five: Paper, Deployment"
   ]
  },
  {
   "cell_type": "markdown",
   "id": "9a7e5692",
   "metadata": {},
   "source": [
    "### Libraries"
   ]
  },
  {
   "cell_type": "code",
   "execution_count": 1,
   "id": "b852bf2f",
   "metadata": {},
   "outputs": [
    {
     "data": {
      "application/javascript": [
       "\n",
       "            setTimeout(function() {\n",
       "                var nbb_cell_id = 1;\n",
       "                var nbb_unformatted_code = \"# Preferences of autoformatting & Multiple Output\\n%load_ext nb_black\\n\\nfrom IPython.core.interactiveshell import InteractiveShell\\n\\nInteractiveShell.ast_node_interactivity = \\\"all\\\"\\n\\nimport warnings\\n\\nwarnings.filterwarnings(\\\"ignore\\\")\\n\\nimport researchpy as rp  # For auto-statistics/EDA of dataframe\\nfrom tqdm.notebook import tqdm  # For process display\\n\\nimport sys\\n\\nsys.path.append(\\\"../src\\\")\\n\\nfrom data import *\\nfrom utils import *\\nfrom conf import *\\nfrom tools import *\\n\\nimport utils as UT\\n\\nimport random\\n\\nimport matplotlib.pyplot as plt\\nfrom sklearn.preprocessing import MinMaxScaler\";\n",
       "                var nbb_formatted_code = \"# Preferences of autoformatting & Multiple Output\\n%load_ext nb_black\\n\\nfrom IPython.core.interactiveshell import InteractiveShell\\n\\nInteractiveShell.ast_node_interactivity = \\\"all\\\"\\n\\nimport warnings\\n\\nwarnings.filterwarnings(\\\"ignore\\\")\\n\\nimport researchpy as rp  # For auto-statistics/EDA of dataframe\\nfrom tqdm.notebook import tqdm  # For process display\\n\\nimport sys\\n\\nsys.path.append(\\\"../src\\\")\\n\\nfrom data import *\\nfrom utils import *\\nfrom conf import *\\nfrom tools import *\\n\\nimport utils as UT\\n\\nimport random\\n\\nimport matplotlib.pyplot as plt\\nfrom sklearn.preprocessing import MinMaxScaler\";\n",
       "                var nbb_cells = Jupyter.notebook.get_cells();\n",
       "                for (var i = 0; i < nbb_cells.length; ++i) {\n",
       "                    if (nbb_cells[i].input_prompt_number == nbb_cell_id) {\n",
       "                        if (nbb_cells[i].get_text() == nbb_unformatted_code) {\n",
       "                             nbb_cells[i].set_text(nbb_formatted_code);\n",
       "                        }\n",
       "                        break;\n",
       "                    }\n",
       "                }\n",
       "            }, 500);\n",
       "            "
      ],
      "text/plain": [
       "<IPython.core.display.Javascript object>"
      ]
     },
     "metadata": {},
     "output_type": "display_data"
    }
   ],
   "source": [
    "# Preferences of autoformatting & Multiple Output\n",
    "%load_ext nb_black\n",
    "\n",
    "from IPython.core.interactiveshell import InteractiveShell\n",
    "\n",
    "InteractiveShell.ast_node_interactivity = \"all\"\n",
    "\n",
    "import warnings\n",
    "\n",
    "warnings.filterwarnings(\"ignore\")\n",
    "\n",
    "import researchpy as rp  # For auto-statistics/EDA of dataframe\n",
    "from tqdm.notebook import tqdm  # For process display\n",
    "\n",
    "import sys\n",
    "\n",
    "sys.path.append(\"../src\")\n",
    "\n",
    "from data import *\n",
    "from utils import *\n",
    "from conf import *\n",
    "from tools import *\n",
    "\n",
    "import utils as UT\n",
    "\n",
    "import random\n",
    "\n",
    "import matplotlib.pyplot as plt\n",
    "from sklearn.preprocessing import MinMaxScaler"
   ]
  },
  {
   "cell_type": "markdown",
   "id": "0eef5dc0",
   "metadata": {},
   "source": [
    "### Data"
   ]
  },
  {
   "cell_type": "code",
   "execution_count": 2,
   "id": "0e983002",
   "metadata": {},
   "outputs": [
    {
     "name": "stdout",
     "output_type": "stream",
     "text": [
      "Loading ('../data/addon/Prenatal Q91PRNMH18WK.xlsx', '../output/CHILD_raw.xlsx', '../data/addon/breastfeeding data.xlsx', '../data/addon/Prenatal Q91PRNMH18WK.xlsx'), and merging\n",
      "The dataframe merged with more information is saved to ../output/ with name of CHILD_with_addon.xlsx\n"
     ]
    },
    {
     "data": {
      "application/javascript": [
       "\n",
       "            setTimeout(function() {\n",
       "                var nbb_cell_id = 2;\n",
       "                var nbb_unformatted_code = \"# df_raw = generate_raw_xlsx()\\ndf_child = load_child_with_more()\";\n",
       "                var nbb_formatted_code = \"# df_raw = generate_raw_xlsx()\\ndf_child = load_child_with_more()\";\n",
       "                var nbb_cells = Jupyter.notebook.get_cells();\n",
       "                for (var i = 0; i < nbb_cells.length; ++i) {\n",
       "                    if (nbb_cells[i].input_prompt_number == nbb_cell_id) {\n",
       "                        if (nbb_cells[i].get_text() == nbb_unformatted_code) {\n",
       "                             nbb_cells[i].set_text(nbb_formatted_code);\n",
       "                        }\n",
       "                        break;\n",
       "                    }\n",
       "                }\n",
       "            }, 500);\n",
       "            "
      ],
      "text/plain": [
       "<IPython.core.display.Javascript object>"
      ]
     },
     "metadata": {},
     "output_type": "display_data"
    }
   ],
   "source": [
    "# df_raw = generate_raw_xlsx()\n",
    "df_child = load_child_with_more()"
   ]
  },
  {
   "cell_type": "code",
   "execution_count": null,
   "id": "a1d5db83",
   "metadata": {
    "scrolled": false
   },
   "outputs": [],
   "source": [
    "df_targeted = target_selector(df_child, target_mapping={2: 1})"
   ]
  },
  {
   "cell_type": "code",
   "execution_count": null,
   "id": "a9e07d88",
   "metadata": {},
   "outputs": [],
   "source": [
    "df_shrunk, X, y, df_dropped = sample_selector(df_targeted)"
   ]
  },
  {
   "cell_type": "code",
   "execution_count": null,
   "id": "a2b41865",
   "metadata": {},
   "outputs": [],
   "source": [
    "# Restore raw data\n",
    "df = df_shrunk.copy()\n",
    "X = df_shrunk.drop(columns=\"y\").copy()\n",
    "y = df_shrunk[\"y\"].copy()"
   ]
  },
  {
   "cell_type": "markdown",
   "id": "4663b13a",
   "metadata": {},
   "source": [
    "###  Test Run of Transformers"
   ]
  },
  {
   "cell_type": "code",
   "execution_count": null,
   "id": "e589e7f5",
   "metadata": {
    "scrolled": false
   },
   "outputs": [],
   "source": [
    "df_for_ml = generate_trainable_dataset(X, y, add_indicator_threshold=200)"
   ]
  },
  {
   "cell_type": "code",
   "execution_count": null,
   "id": "1f9b214c",
   "metadata": {},
   "outputs": [],
   "source": [
    "# Backup df_for_ml\n",
    "df_for_ml_backup = df_for_ml.copy()"
   ]
  },
  {
   "cell_type": "code",
   "execution_count": null,
   "id": "8195c53f",
   "metadata": {},
   "outputs": [],
   "source": [
    "df_for_ml.y.value_counts(normalize=True)\n",
    "df_for_ml.y.value_counts(normalize=False)\n",
    "# Restore X,y for ML modelling\n",
    "X = df_for_ml.drop(columns=\"y\")\n",
    "y = df_for_ml.y\n",
    "X.shape\n",
    "y.shape"
   ]
  },
  {
   "cell_type": "code",
   "execution_count": null,
   "id": "56d7a63b",
   "metadata": {},
   "outputs": [],
   "source": [
    "# Scaled ML using MinMaxScaler()\n",
    "df_ml_scaled = pd.DataFrame(\n",
    "    MinMaxScaler().fit_transform(df_for_ml),\n",
    "    columns=df_for_ml.columns,\n",
    "    index=df_for_ml.index,\n",
    ")\n",
    "\n",
    "for i in df_ml_scaled.columns:\n",
    "    df_ml_scaled[i] = df_ml_scaled[i].astype(\"float16\")\n",
    "\n",
    "X = df_ml_scaled.drop(columns=\"y\")\n",
    "y = df_ml_scaled.y\n",
    "X.shape\n",
    "y.shape"
   ]
  },
  {
   "cell_type": "code",
   "execution_count": null,
   "id": "8a6f5726",
   "metadata": {},
   "outputs": [],
   "source": [
    "df_ml_scaled"
   ]
  },
  {
   "cell_type": "markdown",
   "id": "9daa6e66",
   "metadata": {},
   "source": [
    "## Now begins the INTERESTING ML Journey!"
   ]
  },
  {
   "cell_type": "code",
   "execution_count": null,
   "id": "2dbb2fe0",
   "metadata": {},
   "outputs": [],
   "source": [
    "print(view_module_functions(UT))"
   ]
  },
  {
   "cell_type": "code",
   "execution_count": null,
   "id": "abda9304",
   "metadata": {},
   "outputs": [],
   "source": [
    "X_summary = df_summary(X)\n",
    "X_summary.sort_values(by=\"Variance\")"
   ]
  },
  {
   "cell_type": "code",
   "execution_count": null,
   "id": "c4b6bdcb",
   "metadata": {
    "scrolled": false
   },
   "outputs": [],
   "source": [
    "y_prop = view_y_proportions(df_ml_scaled, df_ml_scaled.columns[:-1], 0)\n",
    "\n",
    "view_y_proportions(df_ml_scaled, df_ml_scaled.columns[:-1], 0.5)[\n",
    "    view_y_proportions(\n",
    "        df_ml_scaled, df_ml_scaled.columns[:-1], 0.5\n",
    "    ).Asthma_Proportion_over_thresh\n",
    "    < 10\n",
    "]\n",
    "\n",
    "y_prop.loc[\"Prenatal_Hypotension\"]"
   ]
  },
  {
   "cell_type": "markdown",
   "id": "50fad571",
   "metadata": {},
   "source": [
    "#### Statistic Analysis for F10min Mask related to Asthma Outcome\n",
    "\n",
    "Pingouin, statsmodel(table,proportion), scipy, sklearn"
   ]
  },
  {
   "cell_type": "code",
   "execution_count": null,
   "id": "b9c1b3e2",
   "metadata": {},
   "outputs": [],
   "source": [
    "# Three Package to obtain P value for chi square test for F10min Oxygen Mask Stats\n",
    "# Scipy Based\n",
    "# One\n",
    "import pingouin as pg\n",
    "\n",
    "expected, observed, stats = pg.chi2_independence(\n",
    "    df_ml_scaled, x=\"F10min_Oxygen_Mask\", y=\"y\", correction=False\n",
    ")\n",
    "\n",
    "observed, expected, stats\n",
    "\n",
    "_, _, stats = pg.chi2_independence(\n",
    "    df_ml_scaled, x=\"Prenatal_Hypotension\", y=\"y\", correction=False\n",
    ")\n",
    "\n",
    "stats"
   ]
  },
  {
   "cell_type": "code",
   "execution_count": null,
   "id": "dae13b20",
   "metadata": {},
   "outputs": [],
   "source": [
    "# Two: Scipy - Required to create contingency table as input\n",
    "# Need to create a contingency table first, which can be realized using pd.crosstab\n",
    "\n",
    "from scipy.stats import chi2_contingency\n",
    "\n",
    "contingency_f10m_Oxy = pd.crosstab(df_ml_scaled.F10min_Oxygen_Mask, df_ml_scaled.y)\n",
    "\n",
    "chi2_contingency(contingency_f10m_Oxy.values, correction=False)\n",
    "\n",
    "print(\n",
    "    \"In statistics, Yates's correction for continuity (or Yates's chi-squared test) is used in certain situations when testing for independence in a contingency table. It aims at correcting the error introduced by assuming that the discrete probabilities of frequencies in the table can be approximated by a continuous distribution (chi-squared). In some cases, Yates's correction may adjust too far, and so its current use is limited.\"\n",
    ")"
   ]
  },
  {
   "cell_type": "code",
   "execution_count": null,
   "id": "35d47f7e",
   "metadata": {},
   "outputs": [],
   "source": [
    "# Three: Statsmodel\n",
    "import statsmodels.api as sm\n",
    "\n",
    "# sm_f10oxy_table = sm.stats.Table(contingency_f10m_Oxy.values)\n",
    "sm_f10oxy_table = sm.stats.Table.from_data(df_ml_scaled[[\"F10min_Oxygen_Mask\", \"y\"]])\n",
    "\n",
    "print(f\"Observed Table:\\n {sm_f10oxy_table.table_orig}\")\n",
    "print(f\"Expected Table:\\n {sm_f10oxy_table.fittedvalues}\")\n",
    "print(\n",
    "    f\"Pearson Residuals:\\n {sm_f10oxy_table.resid_pearson}\"\n",
    ")  # view Residuals which identify particular cells that most strongly violate independence\n",
    "\n",
    "print(\"\\n----------------Independence/Association test----------------\")\n",
    "print(\"\\nNominal Association:\\n\", sm_f10oxy_table.test_nominal_association())\n",
    "print(\"\\nOrdinal Association:\\n\", sm_f10oxy_table.test_ordinal_association())\n",
    "print(f\"\\nChi Square Contribution:\\n{sm_f10oxy_table.chi2_contribs}\")\n",
    "print(\n",
    "    \"\\n----------------Local Odd Ratio----------------:\\n{}\".format(\n",
    "        sm_f10oxy_table.local_oddsratios\n",
    "    )\n",
    ")\n",
    "print(\n",
    "    f\"Contingency table odd ratio: {sm.stats.Table2x2(contingency_f10m_Oxy.values).oddsratio}\"\n",
    ")\n",
    "\n",
    "\n",
    "# Three-2: Statsmodel Proportion Test\n",
    "# Proportion Chi-Square Test\n",
    "print(\"\\n----------------Proportion Chi-Square Test----------------\")\n",
    "from statsmodels.stats.proportion import (\n",
    "    proportions_chisquare,\n",
    "    proportion_effectsize,\n",
    ")  # No indexing needed\n",
    "\n",
    "f10mask_no_group_observation = np.sum(df_ml_scaled.F10min_Oxygen_Mask != 1)\n",
    "f10mask_yes_group_observation = np.sum(df_ml_scaled.F10min_Oxygen_Mask == 1)\n",
    "\n",
    "f10mask_no_asthma_count = np.sum(df_ml_scaled[df_ml_scaled.F10min_Oxygen_Mask != 1].y)\n",
    "f10mask_yes_asthma_count = np.sum(df_ml_scaled[df_ml_scaled.F10min_Oxygen_Mask == 1].y)\n",
    "\n",
    "(chi2, chi2_p_value, expected) = proportions_chisquare(\n",
    "    count=[f10mask_no_asthma_count, f10mask_yes_asthma_count],\n",
    "    nobs=[f10mask_no_group_observation, f10mask_yes_group_observation],\n",
    ")\n",
    "\n",
    "print(\n",
    "    \"\\nAsthma Outcome Proportion Chi Square Test:\\nchi2: %f \\t p_value: %f\"\n",
    "    % (chi2, chi2_p_value)\n",
    ")\n",
    "\n",
    "\n",
    "asthma_no_group_observation = np.sum(df_ml_scaled.y != 1)\n",
    "asthma_yes_group_observation = np.sum(df_ml_scaled.y == 1)\n",
    "\n",
    "asthma_no_f10mask_count = np.sum(df_ml_scaled[df_ml_scaled.y != 1].F10min_Oxygen_Mask)\n",
    "asthma_yes_f10mask_count = np.sum(df_ml_scaled[df_ml_scaled.y == 1].F10min_Oxygen_Mask)\n",
    "\n",
    "(chi2, chi2_p_value, expected) = proportions_chisquare(\n",
    "    count=[asthma_no_f10mask_count, asthma_yes_f10mask_count],\n",
    "    nobs=[asthma_no_group_observation, asthma_yes_group_observation],\n",
    ")\n",
    "\n",
    "print(\n",
    "    \"\\nF10m Mask Outcome Proportion Chisquare Test:\\nchi2: %f \\t p_value: %f\"\n",
    "    % (chi2, chi2_p_value)\n",
    ")"
   ]
  },
  {
   "cell_type": "code",
   "execution_count": null,
   "id": "52ed2a63",
   "metadata": {},
   "outputs": [],
   "source": [
    "print(\"Discrepancy: P-value of chi square test between Scipy and Statsmodel\")\n",
    "\n",
    "print(\n",
    "    f\"\\nFor Scipy with correction:\\npvalue: {chi2_contingency(contingency_f10m_Oxy.values)[1]}\"\n",
    ")\n",
    "print(\n",
    "    f\"\\nFor Scipy without correction:\\npvalue: {chi2_contingency(contingency_f10m_Oxy.values, correction=False)[1]}\"\n",
    ")\n",
    "\n",
    "print(f\"\\nFor Statsmodel:\\n{sm_f10oxy_table.test_nominal_association()}\")\n",
    "\n",
    "\n",
    "print(\n",
    "    \"\\nExplanation:\\n\\nScipy uses the continuity correction, Statsmodels does not. If you pass correction=False to the scipy test, then the results will be identical.\"\n",
    ")"
   ]
  },
  {
   "cell_type": "code",
   "execution_count": null,
   "id": "966e16ab",
   "metadata": {},
   "outputs": [],
   "source": [
    "# Four: Sklearn - CHI2\n",
    "from sklearn.feature_selection import chi2\n",
    "\n",
    "chi2(df_ml_scaled.F10min_Mask_Ventilation.values.reshape(-1, 1), df_ml_scaled.y)"
   ]
  },
  {
   "cell_type": "markdown",
   "id": "f9388f96",
   "metadata": {},
   "source": [
    "### ML Libraries"
   ]
  },
  {
   "cell_type": "code",
   "execution_count": 7,
   "id": "cae35558",
   "metadata": {},
   "outputs": [
    {
     "data": {
      "application/javascript": [
       "\n",
       "            setTimeout(function() {\n",
       "                var nbb_cell_id = 7;\n",
       "                var nbb_unformatted_code = \"# Preprocessing\\nfrom sklearn.preprocessing import StandardScaler, MinMaxScaler, OneHotEncoder\\n\\n# Feature selection\\nfrom sklearn.feature_selection import (\\n    SelectPercentile,\\n    SelectKBest,\\n    SelectFwe,\\n    SelectFpr,\\n    SelectFromModel,\\n    chi2,\\n    mutual_info_classif,\\n    f_classif,\\n    SequentialFeatureSelector,\\n    RFECV,\\n)\\nfrom sklearn.inspection import permutation_importance\\n\\n# Imbalance Learn\\nfrom imblearn.over_sampling import RandomOverSampler\\n\\n# Models\\nfrom sklearn.linear_model import LogisticRegression, Lasso, LassoLarsCV, LassoCV\\nfrom sklearn.naive_bayes import GaussianNB\\nfrom sklearn.tree import DecisionTreeClassifier, export_graphviz\\nfrom sklearn.neighbors import KNeighborsClassifier\\nfrom sklearn.svm import SVC\\n\\n# Ensemble\\nfrom sklearn.ensemble import RandomForestClassifier\\nfrom xgboost import XGBClassifier\\n\\n# Model Metrics, Parameters, Evaluation\\nfrom sklearn.model_selection import (\\n    StratifiedKFold,\\n    GridSearchCV,\\n    cross_val_score,\\n    train_test_split,\\n)\\n\\n\\nfrom sklearn.metrics import (\\n    confusion_matrix,\\n    accuracy_score,\\n    roc_curve,\\n    classification_report,\\n    f1_score,\\n    precision_score,\\n    recall_score,\\n    roc_auc_score,\\n)\\n\\n# Pipeline\\nfrom sklearn.base import BaseEstimator, TransformerMixin\\nfrom sklearn.compose import ColumnTransformer\\nfrom sklearn.pipeline import Pipeline, make_pipeline, FeatureUnion\\n\\n\\n# Visualization\\nimport matplotlib.pyplot as plt\\nimport seaborn as sns\";\n",
       "                var nbb_formatted_code = \"# Preprocessing\\nfrom sklearn.preprocessing import StandardScaler, MinMaxScaler, OneHotEncoder\\n\\n# Feature selection\\nfrom sklearn.feature_selection import (\\n    SelectPercentile,\\n    SelectKBest,\\n    SelectFwe,\\n    SelectFpr,\\n    SelectFromModel,\\n    chi2,\\n    mutual_info_classif,\\n    f_classif,\\n    SequentialFeatureSelector,\\n    RFECV,\\n)\\nfrom sklearn.inspection import permutation_importance\\n\\n# Imbalance Learn\\nfrom imblearn.over_sampling import RandomOverSampler\\n\\n# Models\\nfrom sklearn.linear_model import LogisticRegression, Lasso, LassoLarsCV, LassoCV\\nfrom sklearn.naive_bayes import GaussianNB\\nfrom sklearn.tree import DecisionTreeClassifier, export_graphviz\\nfrom sklearn.neighbors import KNeighborsClassifier\\nfrom sklearn.svm import SVC\\n\\n# Ensemble\\nfrom sklearn.ensemble import RandomForestClassifier\\nfrom xgboost import XGBClassifier\\n\\n# Model Metrics, Parameters, Evaluation\\nfrom sklearn.model_selection import (\\n    StratifiedKFold,\\n    GridSearchCV,\\n    cross_val_score,\\n    train_test_split,\\n)\\n\\n\\nfrom sklearn.metrics import (\\n    confusion_matrix,\\n    accuracy_score,\\n    roc_curve,\\n    classification_report,\\n    f1_score,\\n    precision_score,\\n    recall_score,\\n    roc_auc_score,\\n)\\n\\n# Pipeline\\nfrom sklearn.base import BaseEstimator, TransformerMixin\\nfrom sklearn.compose import ColumnTransformer\\nfrom sklearn.pipeline import Pipeline, make_pipeline, FeatureUnion\\n\\n\\n# Visualization\\nimport matplotlib.pyplot as plt\\nimport seaborn as sns\";\n",
       "                var nbb_cells = Jupyter.notebook.get_cells();\n",
       "                for (var i = 0; i < nbb_cells.length; ++i) {\n",
       "                    if (nbb_cells[i].input_prompt_number == nbb_cell_id) {\n",
       "                        if (nbb_cells[i].get_text() == nbb_unformatted_code) {\n",
       "                             nbb_cells[i].set_text(nbb_formatted_code);\n",
       "                        }\n",
       "                        break;\n",
       "                    }\n",
       "                }\n",
       "            }, 500);\n",
       "            "
      ],
      "text/plain": [
       "<IPython.core.display.Javascript object>"
      ]
     },
     "metadata": {},
     "output_type": "display_data"
    }
   ],
   "source": [
    "# Preprocessing\n",
    "from sklearn.preprocessing import StandardScaler, MinMaxScaler, OneHotEncoder\n",
    "\n",
    "# Feature selection\n",
    "from sklearn.feature_selection import (\n",
    "    SelectPercentile,\n",
    "    SelectKBest,\n",
    "    SelectFwe,\n",
    "    SelectFpr,\n",
    "    SelectFromModel,\n",
    "    chi2,\n",
    "    mutual_info_classif,\n",
    "    f_classif,\n",
    "    SequentialFeatureSelector,\n",
    "    RFECV,\n",
    ")\n",
    "from sklearn.inspection import permutation_importance\n",
    "\n",
    "# Imbalance Learn\n",
    "from imblearn.over_sampling import RandomOverSampler\n",
    "\n",
    "# Models\n",
    "from sklearn.linear_model import LogisticRegression, Lasso, LassoLarsCV, LassoCV\n",
    "from sklearn.naive_bayes import GaussianNB\n",
    "from sklearn.tree import DecisionTreeClassifier, export_graphviz\n",
    "from sklearn.neighbors import KNeighborsClassifier\n",
    "from sklearn.svm import SVC\n",
    "\n",
    "# Ensemble\n",
    "from sklearn.ensemble import RandomForestClassifier\n",
    "from xgboost import XGBClassifier\n",
    "\n",
    "# Model Metrics, Parameters, Evaluation\n",
    "from sklearn.model_selection import (\n",
    "    StratifiedKFold,\n",
    "    GridSearchCV,\n",
    "    cross_val_score,\n",
    "    train_test_split,\n",
    ")\n",
    "\n",
    "\n",
    "from sklearn.metrics import (\n",
    "    confusion_matrix,\n",
    "    accuracy_score,\n",
    "    roc_curve,\n",
    "    classification_report,\n",
    "    f1_score,\n",
    "    precision_score,\n",
    "    recall_score,\n",
    "    roc_auc_score,\n",
    ")\n",
    "\n",
    "# Pipeline\n",
    "from sklearn.base import BaseEstimator, TransformerMixin\n",
    "from sklearn.compose import ColumnTransformer\n",
    "from sklearn.pipeline import Pipeline, make_pipeline, FeatureUnion\n",
    "\n",
    "\n",
    "# Visualization\n",
    "import matplotlib.pyplot as plt\n",
    "import seaborn as sns"
   ]
  },
  {
   "cell_type": "markdown",
   "id": "e9fd669d",
   "metadata": {},
   "source": [
    "### Feature Selection   <a id='0'></a> \n",
    "\n",
    "1. [Lasso](#lasso)\n",
    "2. [Chi2](#chi2)\n",
    "3. [f_value](#f_classif)\n",
    "4. [FalsePositiveRate](#fpr)\n",
    "5. [p_value](#fwe)\n",
    "6. [mutual_information](#mutal)\n",
    "7. [Recursive Feature Elimination](#RFE)\n",
    "8. [SelectFromModel](#selm)\n",
    "9. [permutation_importance](#permutation)\n",
    "10. [SequentialFeatureSelector](#sequentialgreed)\n",
    "\n",
    "### Feature Engineering\n",
    "1. [PCA](#pca)\n",
    "2. [FeatureAgglomeration](#clusteragglomeration)\n",
    "3. [Derived_New_Features_with_Expertise_and_Logic](#derivenewfeature)\n",
    "\n",
    "[return](#top)"
   ]
  },
  {
   "cell_type": "markdown",
   "id": "c1ff4369",
   "metadata": {},
   "source": [
    "#### (1) Lasso - Observation - 1"
   ]
  },
  {
   "cell_type": "code",
   "execution_count": null,
   "id": "efa745e0",
   "metadata": {},
   "outputs": [],
   "source": [
    "# plt.style.available\n",
    "# plt.style.use(\"seaborn-bright\")"
   ]
  },
  {
   "cell_type": "code",
   "execution_count": null,
   "id": "5c67e3ce",
   "metadata": {},
   "outputs": [],
   "source": [
    "# Automatic Alphas with StratifiedKfold\n",
    "skf = StratifiedKFold(n_splits=2, shuffle=True, random_state=1015)\n",
    "model = LassoLarsCV(cv=skf).fit(X, y)"
   ]
  },
  {
   "cell_type": "code",
   "execution_count": null,
   "id": "c902f77a",
   "metadata": {
    "scrolled": false
   },
   "outputs": [],
   "source": [
    "fig, ax = plt.subplots(figsize=(20, 12))\n",
    "columns_of_total = X.shape[1]\n",
    "start = 0\n",
    "end = X.shape[1]\n",
    "number_of_display = end - start\n",
    "\n",
    "cm = iter(plt.get_cmap(\"Set1\")(np.linspace(0, 1, number_of_display)))\n",
    "for i in range(start, end):\n",
    "    c = next(cm)\n",
    "    _ = ax.plot(\n",
    "        model.alphas_, model.coef_path_.T[:, i], c=c, alpha=0.8, label=X.columns[i]\n",
    "    )\n",
    "\n",
    "\n",
    "lassocv_df = pd.DataFrame(\n",
    "    data=model.coef_path_.T, columns=X.columns, index=model.alphas_\n",
    ")\n",
    "\n",
    "y_pos_ser = lassocv_df.iloc[-1:].T.iloc[:, 0][lassocv_df.iloc[-1:].T.iloc[:, 0] != 0]\n",
    "x_pos = float(lassocv_df.iloc[-1:].T.columns.values)\n",
    "x_pos_list = [x_pos for i in range(len(y_pos_ser))]\n",
    "\n",
    "for x_t, y_t, text in zip(x_pos_list, y_pos_ser.values, y_pos_ser.index):\n",
    "    axtxt = ax.text(\n",
    "        x_t - 0.00005,\n",
    "        y_t,\n",
    "        text,  # Used to format it K representation\n",
    "        color=\"black\",\n",
    "        rotation=\"horizontal\",\n",
    "        size=\"large\",\n",
    "    )\n",
    "\n",
    "ax.legend(X.columns[start:end], bbox_to_anchor=(1, 1))\n",
    "\n",
    "plt.xlim([0.00028, 0.00125])\n",
    "plt.ylabel(\"Lasso Regression CV\")\n",
    "plt.xlabel(\"Regularization Factor - Alphas\")\n",
    "plt.title(\"Regression Coefficient Progression for Lasso Path\")\n",
    "\n",
    "fig.savefig(\"../images/lasso_progression\",dpi=300,bbox_inches='tight')\n"
   ]
  },
  {
   "cell_type": "code",
   "execution_count": null,
   "id": "42f354a6",
   "metadata": {},
   "outputs": [],
   "source": [
    "view_y_proportions(\n",
    "    df_for_ml, lassocv_df.sum()[lassocv_df.sum() != 0].sort_values().index, 0.5\n",
    ")"
   ]
  },
  {
   "cell_type": "markdown",
   "id": "56667499",
   "metadata": {},
   "source": [
    "#### Lasso - Observation - 2 - All features decreasing pattern   <a id='lasso'></a>\n",
    "\n",
    "[return](#0)"
   ]
  },
  {
   "cell_type": "code",
   "execution_count": null,
   "id": "b1eaa053",
   "metadata": {},
   "outputs": [],
   "source": [
    "coef_dict = {}\n",
    "for alp in tqdm(np.arange(0.000001, 0.0009, 0.000005)):\n",
    "    lasso_model = Lasso(alpha=alp).fit(X, y)\n",
    "    coef_dict[alp] = list(lasso_model.coef_)\n",
    "\n",
    "res = pd.DataFrame(data=coef_dict.values(), columns=X.columns, index=coef_dict.keys()).T"
   ]
  },
  {
   "cell_type": "code",
   "execution_count": null,
   "id": "a37d8684",
   "metadata": {},
   "outputs": [],
   "source": [
    "# For those with bitter coefficient (impact)\n",
    "res[0.000001][abs(res[0.000001]) > 0.05].sort_values().index\n",
    "view_y_proportions(\n",
    "    df_for_ml, res[0.000001][abs(res[0.000001]) > 0.05].sort_values().index, 0.5\n",
    ")"
   ]
  },
  {
   "cell_type": "code",
   "execution_count": null,
   "id": "00b67336",
   "metadata": {},
   "outputs": [],
   "source": [
    "# sns.color_palette(\"YlOrBr\", as_cmap=True)\n",
    "fig, ax = plt.subplots(figsize=(40, 40))\n",
    "sns.heatmap(res.iloc[:, :], vmax=0.2, vmin=-0.2, cmap=\"vlag\", ax=ax)"
   ]
  },
  {
   "cell_type": "markdown",
   "id": "30684aeb",
   "metadata": {},
   "source": [
    "#### (2) Chi2 & SelectPercentile  <a id='chi2'></a>\n",
    "\n",
    "[return](#0)"
   ]
  },
  {
   "cell_type": "code",
   "execution_count": null,
   "id": "0eef568c",
   "metadata": {},
   "outputs": [],
   "source": [
    "clf = Pipeline([(\"chi2\", SelectPercentile(chi2)), (\"rfc\", RandomForestClassifier())])\n",
    "\n",
    "skf = StratifiedKFold(n_splits=2, shuffle=True, random_state=1020)"
   ]
  },
  {
   "cell_type": "code",
   "execution_count": null,
   "id": "c804da0f",
   "metadata": {
    "scrolled": true
   },
   "outputs": [],
   "source": [
    "# #############################################################################\n",
    "# Plot the cross-validation score as a function of percentile of features\n",
    "score_means = list()\n",
    "score_stds = list()\n",
    "percentiles = (1, 5, 10, 15, 20, 30, 40, 60, 80, 90, 100)\n",
    "\n",
    "for percentile in tqdm(percentiles):\n",
    "    clf.set_params(chi2__percentile=percentile)\n",
    "    this_scores = cross_val_score(clf, X, y, cv=skf, scoring=\"roc_auc\")\n",
    "    score_means.append(this_scores.mean())\n",
    "    score_stds.append(this_scores.std())\n",
    "\n",
    "\n",
    "plt.figure(figsize=(12, 8))\n",
    "plt.errorbar(percentiles, score_means, np.array(score_stds))\n",
    "plt.title(\n",
    "    \"Performance of the RandomForest-Chi2 varying the percentile of features selected\"\n",
    ")\n",
    "plt.xticks(np.linspace(0, 100, 11, endpoint=True))\n",
    "plt.xlabel(\"Percentile\")\n",
    "plt.ylabel(\"Precision Score\")\n",
    "plt.axis(\"tight\")\n",
    "plt.show()"
   ]
  },
  {
   "cell_type": "code",
   "execution_count": null,
   "id": "c1e80171",
   "metadata": {},
   "outputs": [],
   "source": [
    "chi_perc = SelectPercentile(chi2, percentile=30)\n",
    "chi_perc.fit_transform(X, y)"
   ]
  },
  {
   "cell_type": "code",
   "execution_count": null,
   "id": "ab9fe922",
   "metadata": {},
   "outputs": [],
   "source": [
    "# X.columns[chi_perc.get_support()]\n",
    "chi_perc.get_feature_names_out()\n",
    "len(chi_perc.get_feature_names_out())\n",
    "\n",
    "chi2_res = pd.DataFrame(\n",
    "    [list(chi_perc.pvalues_), list(chi_perc.scores_)],\n",
    "    index=[\"P_value\", \"Scores\"],\n",
    "    columns=X.columns,\n",
    ").T\n",
    "\n",
    "chi2_res[chi2_res.P_value < 0.05]"
   ]
  },
  {
   "cell_type": "code",
   "execution_count": null,
   "id": "783353af",
   "metadata": {},
   "outputs": [],
   "source": [
    "view_y_proportions(df_ml_scaled, chi2_res[chi2_res.P_value < 0.05].index, 0)"
   ]
  },
  {
   "cell_type": "markdown",
   "id": "5148de8f",
   "metadata": {},
   "source": [
    "#### (3) F_classif & SelectPercentile  <a id='f_classif'></a>\n",
    "\n",
    "[return](#0)"
   ]
  },
  {
   "cell_type": "code",
   "execution_count": null,
   "id": "5d8c3b44",
   "metadata": {},
   "outputs": [],
   "source": [
    "clf = Pipeline([(\"fvalue\", SelectKBest(f_classif)), (\"xgb\", XGBClassifier())])\n",
    "\n",
    "skf = StratifiedKFold(n_splits=2, shuffle=True, random_state=1020)"
   ]
  },
  {
   "cell_type": "code",
   "execution_count": null,
   "id": "964a099a",
   "metadata": {},
   "outputs": [],
   "source": [
    "# #############################################################################\n",
    "# Plot the cross-validation score as a function of percentile of features\n",
    "score_means = list()\n",
    "score_stds = list()\n",
    "k_best = (10, 20, 25, 30, 35, 40, 50, 60, 70, 90, \"all\")\n",
    "\n",
    "for i in tqdm(k_best):\n",
    "    clf.set_params(fvalue__k=i)\n",
    "    this_scores = cross_val_score(clf, X, y, cv=skf, scoring=\"roc_auc\")\n",
    "    score_means.append(this_scores.mean())\n",
    "    score_stds.append(this_scores.std())\n",
    "\n",
    "\n",
    "plt.figure(figsize=(12, 8))\n",
    "plt.errorbar(percentiles, score_means, np.array(score_stds))\n",
    "plt.title(\"Performance of the XGB-f_value varying the number of features selected\")\n",
    "plt.xticks(np.linspace(0, 100, 11, endpoint=True))\n",
    "plt.xlabel(\"Percentile\")\n",
    "plt.ylabel(\"Precision Score\")\n",
    "plt.axis(\"tight\")\n",
    "plt.show()"
   ]
  },
  {
   "cell_type": "code",
   "execution_count": null,
   "id": "0241ac9f",
   "metadata": {},
   "outputs": [],
   "source": [
    "f_bestk = SelectKBest(f_classif, k=40)\n",
    "f_bestk.fit_transform(X, y)\n",
    "\n",
    "f_bestk.get_feature_names_out()\n",
    "len(f_bestk.get_feature_names_out())\n",
    "\n",
    "f_res = pd.DataFrame(\n",
    "    [list(chi_perc.pvalues_), list(chi_perc.scores_)],\n",
    "    index=[\"P_value\", \"Scores\"],\n",
    "    columns=X.columns,\n",
    ").T\n",
    "\n",
    "f_res[f_res.P_value < 0.05]\n",
    "\n",
    "f_res[f_res.Scores > 5]"
   ]
  },
  {
   "cell_type": "markdown",
   "id": "7dbef471",
   "metadata": {},
   "source": [
    "#### (4) False Positive Rate  <a id='fpr'></a>\n",
    "\n",
    "[return](#0)"
   ]
  },
  {
   "cell_type": "code",
   "execution_count": null,
   "id": "153434cd",
   "metadata": {},
   "outputs": [],
   "source": [
    "fpr_res = SelectFpr(score_func=chi2, alpha=0.15)\n",
    "fpr_res.fit_transform(X, y).shape\n",
    "col_temp = (\n",
    "    pd.DataFrame(fpr_res.pvalues_.reshape(1, len(X.columns)), columns=X.columns)\n",
    "    .T.loc[:, 0][\n",
    "        pd.DataFrame(\n",
    "            fpr_res.pvalues_.reshape(1, len(X.columns)), columns=X.columns\n",
    "        ).T.loc[:, 0]\n",
    "        <= 0.15\n",
    "    ]\n",
    "    .index\n",
    ")"
   ]
  },
  {
   "cell_type": "code",
   "execution_count": null,
   "id": "3acaeb08",
   "metadata": {},
   "outputs": [],
   "source": [
    "d1 = fpr_res.fit_transform(X, y)\n",
    "d2 = X[col_temp].values\n",
    "np.sum(d1 != d2)\n",
    "col_temp"
   ]
  },
  {
   "cell_type": "code",
   "execution_count": null,
   "id": "1e4c6283",
   "metadata": {},
   "outputs": [],
   "source": [
    "view_y_proportions(df_ml_scaled, col_temp, 0.4)"
   ]
  },
  {
   "cell_type": "code",
   "execution_count": null,
   "id": "6fc4f70e",
   "metadata": {},
   "outputs": [],
   "source": [
    "pg.chi2_independence(df_ml_scaled, x=\"PSS_18week_High_Stress\", y=\"y\", correction=False)"
   ]
  },
  {
   "cell_type": "code",
   "execution_count": null,
   "id": "5b15ad63",
   "metadata": {},
   "outputs": [],
   "source": [
    "def view_pOR_value(df, feature):\n",
    "    \"\"\"View the stats for feature impact\n",
    "    \"\"\"\n",
    "    stats_res = pg.chi2_independence(df, x=feature, y=\"y\", correction=False)\n",
    "    print(f\"\\n----------------Expected----------------:\\n{stats_res[0]}\")\n",
    "    print(f\"\\n----------------Observed----------------:\\n{stats_res[1]}\")\n",
    "    print(f\"\\n----------------Stats----------------:\\n{stats_res[2]}\")\n",
    "\n",
    "    sm_table = sm.stats.Table.from_data(df[[feature, \"y\"]])\n",
    "    print(\n",
    "        f\"\\n----------------Chi Square Contribution----------------:\\n{sm_table.chi2_contribs}\"\n",
    "    )\n",
    "    print(\n",
    "        \"\\n----------------Local Odd Ratio----------------:\\n{}\".format(\n",
    "            sm_table.local_oddsratios\n",
    "        )\n",
    "    )\n",
    "\n",
    "\n",
    "view_pOR_value(df_ml_scaled, \"PSS_18week_High_Stress\")\n",
    "view_pOR_value(df_ml_scaled, \"F10min_Oxygen_Mask\")"
   ]
  },
  {
   "cell_type": "markdown",
   "id": "9516c304",
   "metadata": {},
   "source": [
    "#### (5) P_value  <a id='fwe'></a>\n",
    "\n",
    "Use P-value instead of score to select features\n",
    "\n",
    "[return](#0)"
   ]
  },
  {
   "cell_type": "code",
   "execution_count": null,
   "id": "f45b75ee",
   "metadata": {},
   "outputs": [],
   "source": [
    "d3 = SelectFwe(chi2, alpha=0.15).fit_transform(X, y)"
   ]
  },
  {
   "cell_type": "code",
   "execution_count": null,
   "id": "2c9ca8a4",
   "metadata": {},
   "outputs": [],
   "source": [
    "np.sum(d1 != d3)"
   ]
  },
  {
   "cell_type": "markdown",
   "id": "43ad50bd",
   "metadata": {},
   "source": [
    "#### (6) Mutual Information  <a id='mutal'></a>\n",
    "\n",
    "Use Mutual Information to select features for classification\n",
    "\n",
    "[return](#0)"
   ]
  },
  {
   "cell_type": "code",
   "execution_count": null,
   "id": "1faf82be",
   "metadata": {},
   "outputs": [],
   "source": [
    "mic = mutual_info_classif(X, y, random_state=1)\n",
    "fig, ax = plt.subplots(figsize=(10, 20))\n",
    "mic_df = (\n",
    "    pd.DataFrame({\"feature\": X.columns, \"vimp\": mic})\n",
    "    .set_index(\"feature\")\n",
    "    .sort_values(by=\"vimp\", ascending=True)\n",
    ")\n",
    "mic_df[mic_df.vimp != 0].shape[0]\n",
    "mic_df[mic_df.vimp != 0].plot.barh(ax=ax)\n",
    "mic_df[mic_df.vimp != 0].index.values"
   ]
  },
  {
   "cell_type": "code",
   "execution_count": null,
   "id": "335f28f6",
   "metadata": {},
   "outputs": [],
   "source": [
    "view_y_proportions(df_ml_scaled, mic_df[mic_df.vimp != 0].index.values, 0.2)[:15]"
   ]
  },
  {
   "cell_type": "markdown",
   "id": "d0024bb7",
   "metadata": {},
   "source": [
    "#### (7) Recursive Feature Elimination  <a id='RFE'></a>\n",
    "\n",
    "Use Recursive Feature Elimination to select features for classification\n",
    "\n",
    "[return](#0)"
   ]
  },
  {
   "cell_type": "code",
   "execution_count": null,
   "id": "17110f8a",
   "metadata": {},
   "outputs": [],
   "source": [
    "from yellowbrick.model_selection import RFECV\n",
    "\n",
    "res_index = res[0.000001][abs(res[0.000001]) > 0.05].sort_values().index\n",
    "\n",
    "lasso_index = lassocv_df.sum()[lassocv_df.sum() != 0].index"
   ]
  },
  {
   "cell_type": "code",
   "execution_count": null,
   "id": "fa28810c",
   "metadata": {},
   "outputs": [],
   "source": [
    "list(set(list(res_index) + list(lasso_index)))"
   ]
  },
  {
   "cell_type": "code",
   "execution_count": null,
   "id": "a411bdf1",
   "metadata": {},
   "outputs": [],
   "source": [
    "cv = StratifiedKFold(2)\n",
    "# visualizer = RFECV(RandomForestClassifier(), cv=cv, scoring=\"average_precision\")\n",
    "# visualizer1 = RFECV(RandomForestClassifier(), cv=cv, scoring=\"precision_weighted\")\n",
    "visualizer1 = RFECV(RandomForestClassifier(), cv=cv, scoring=\"precision\")\n",
    "visualizer1.fit(\n",
    "    X[list(set(list(res_index) + list(lasso_index)))], y\n",
    ")  # Fit the data to the visualizer\n",
    "visualizer1.show()  # Finalize and render the figure"
   ]
  },
  {
   "cell_type": "code",
   "execution_count": null,
   "id": "1511dfc5",
   "metadata": {},
   "outputs": [],
   "source": [
    "print(\n",
    "    f\"The original feature matrix is:\\n {X[list(set(list(res_index) + list(lasso_index)))].iloc[1].index}\"\n",
    ")\n",
    "print(\n",
    "    f\"\\n\\nThe feature matrix that generated the maximal precision are:\\n{X[list(set(list(res_index) + list(lasso_index)))].iloc[1].index[visualizer1.support_]}\"\n",
    ")"
   ]
  },
  {
   "cell_type": "code",
   "execution_count": null,
   "id": "415204d7",
   "metadata": {},
   "outputs": [],
   "source": [
    "pd.DataFrame(\n",
    "    data=visualizer1.ranking_,\n",
    "    index=X[list(set(list(res_index) + list(lasso_index)))].columns,\n",
    "    columns=[\"ranking\"],\n",
    ").sort_values(by=\"ranking\")"
   ]
  },
  {
   "cell_type": "code",
   "execution_count": null,
   "id": "5bbf19c5",
   "metadata": {},
   "outputs": [],
   "source": [
    "set_to_see = mic_df[mic_df.vimp != 0].index.values\n",
    "cv = StratifiedKFold(2)\n",
    "# visualizer = RFECV(RandomForestClassifier(), cv=cv, scoring=\"average_precision\")\n",
    "# visualizer1 = RFECV(RandomForestClassifier(), cv=cv, scoring=\"precision_weighted\")\n",
    "visualizer2 = RFECV(RandomForestClassifier(), cv=cv, scoring=\"roc_auc\")\n",
    "visualizer2.fit(X[set_to_see], y)  # Fit the data to the visualizer\n",
    "visualizer2.show()  # Finalize and render the figure\n",
    "pd.DataFrame(\n",
    "    data=visualizer2.ranking_, index=X[set_to_see].columns, columns=[\"ranking\"],\n",
    ").sort_values(by=\"ranking\").T"
   ]
  },
  {
   "cell_type": "markdown",
   "id": "670e56dd",
   "metadata": {},
   "source": [
    "#### (8) SelectFromModel <a id='selm'></a>\n",
    "\n",
    "Use Recursive Feature Elimination to select features for classification\n",
    "\n",
    "[return](#0)"
   ]
  },
  {
   "cell_type": "code",
   "execution_count": null,
   "id": "a79b92ab",
   "metadata": {},
   "outputs": [],
   "source": [
    "sfm = SelectFromModel(estimator=LassoCV(cv=skf))"
   ]
  },
  {
   "cell_type": "code",
   "execution_count": null,
   "id": "4bcc9cf7",
   "metadata": {},
   "outputs": [],
   "source": [
    "sfm.fit(X, y)"
   ]
  },
  {
   "cell_type": "code",
   "execution_count": null,
   "id": "43c53ca3",
   "metadata": {},
   "outputs": [],
   "source": [
    "sfm.get_feature_names_out()"
   ]
  },
  {
   "cell_type": "code",
   "execution_count": null,
   "id": "d8562f43",
   "metadata": {
    "scrolled": true
   },
   "outputs": [],
   "source": [
    "X.columns[sfm.get_support()]\n",
    "sfm.estimator_.coef_\n",
    "\n",
    "coef_ser = pd.Series(\n",
    "    sfm.estimator_.coef_.reshape(len(X.columns),), index=X.columns, name=\"coef\"\n",
    ")\n",
    "coef_ser = coef_ser[abs(coef_ser) > 0]\n",
    "\n",
    "importance = np.abs(coef_ser.values)\n",
    "feature_names = np.array(coef_ser.index)\n",
    "plt.bar(height=importance, x=feature_names)\n",
    "plt.title(\"Feature importances via coefficients\")\n",
    "plt.xticks(rotation=90)\n",
    "plt.show()"
   ]
  },
  {
   "cell_type": "code",
   "execution_count": null,
   "id": "3e649ebf",
   "metadata": {},
   "outputs": [],
   "source": [
    "# X_train, X_test, y_train, y_test = train_test_split(\n",
    "#     X[X.columns[sfm.get_support()]], y, test_size=0.33, stratify=y, random_state=43\n",
    "# )\n",
    "\n",
    "# clf_knn = KNeighborsClassifier(n_neighbors=3, weights=\"distance\")\n",
    "# clf_knn.fit(X_train, y_train)\n",
    "# y_pred = clf_knn.predict(X_test)\n",
    "# confusion_matrix(y_test, y_pred)\n",
    "# print(classification_report(y_test, y_pred))\n",
    "# f1_score(y_test, y_pred)"
   ]
  },
  {
   "cell_type": "code",
   "execution_count": null,
   "id": "7b83a7b3",
   "metadata": {},
   "outputs": [],
   "source": [
    "# X_train, X_test, y_train, y_test = train_test_split(\n",
    "#     X[X.columns[sfm.get_support()]], y, test_size=0.33, stratify=y, random_state=42\n",
    "# )\n",
    "\n",
    "# clf_lr = LogisticRegression()\n",
    "# clf_lr.fit(X_train, y_train)\n",
    "# y_pred = clf_lr.predict(X_test)\n",
    "# confusion_matrix(y_test, y_pred)\n",
    "# print(classification_report(y_test, y_pred))\n",
    "# f1_score(y_test, y_pred)"
   ]
  },
  {
   "cell_type": "code",
   "execution_count": null,
   "id": "a6dae2b5",
   "metadata": {},
   "outputs": [],
   "source": [
    "sfm_rf = SelectFromModel(estimator=RandomForestClassifier(), threshold=\"mean\")"
   ]
  },
  {
   "cell_type": "code",
   "execution_count": null,
   "id": "ca0dd658",
   "metadata": {},
   "outputs": [],
   "source": [
    "sfm_rf.estimator.fit(X, y)"
   ]
  },
  {
   "cell_type": "code",
   "execution_count": null,
   "id": "79323476",
   "metadata": {},
   "outputs": [],
   "source": [
    "sfm_rf.get_feature_names_out()\n",
    "sfm_rf.estimator.feature_importances_"
   ]
  },
  {
   "cell_type": "code",
   "execution_count": null,
   "id": "3f338458",
   "metadata": {},
   "outputs": [],
   "source": [
    "rf_ser = pd.Series(\n",
    "    sfm_rf.estimator.feature_importances_.reshape(len(X.columns),),\n",
    "    index=X.columns,\n",
    "    name=\"feature_importance\",\n",
    ")\n",
    "rf_ser.sort_values(ascending=False)"
   ]
  },
  {
   "cell_type": "markdown",
   "id": "3800304b",
   "metadata": {},
   "source": [
    "#### (9) Permutation Importance <a id='permutation'></a>\n",
    "[return](#0)\n",
    "\n",
    "Permutation feature importance is a model inspection technique that can be used for any fitted estimator when the data is tabular. This is especially useful for non-linear or opaque estimators. The permutation feature importance is defined to be the decrease in a model score when a single feature value is randomly shuffled. This procedure breaks the relationship between the feature and the target, thus the drop in the model score is indicative of how much the model depends on the feature. This technique benefits from being model agnostic and can be calculated many times with different permutations of the feature."
   ]
  },
  {
   "cell_type": "code",
   "execution_count": null,
   "id": "4c5988a8",
   "metadata": {},
   "outputs": [],
   "source": [
    "def randomsubset_permutation_importance(*, clf: object, percentile_of_features: float):\n",
    "    \"\"\"\n",
    "    As when all features are included, none of the feature will have any importance, I therefore created this function \n",
    "    to view the feature importance of a random subset of features.\n",
    "    : para: percentile_of_features\n",
    "    : para: clf: a classification algorithm\n",
    "    : return: a visualization of feature importance for current subset of features\n",
    "    \"\"\"\n",
    "    number_of_features = int(len(X.columns.values) * percentile_of_features)\n",
    "    selected_columns = random.sample(list(X.columns.values), number_of_features)\n",
    "    clf.fit(X[selected_columns], y)\n",
    "    result = permutation_importance(\n",
    "        clf, X[selected_columns], y, n_repeats=10, random_state=1012, scoring=\"roc_auc\",\n",
    "    )\n",
    "    perm_sorted_idx = result.importances_mean.argsort()\n",
    "    plt.figure(figsize=(20, 10))\n",
    "    plt.barh(\n",
    "        width=result.importances_mean[perm_sorted_idx].T, y=X.columns[perm_sorted_idx],\n",
    "    )\n",
    "    r = result\n",
    "    for i in r.importances_mean.argsort()[::-1]:\n",
    "        if r.importances_mean[i] - 2 * r.importances_std[i] > 0:\n",
    "            print(\n",
    "                f\"{X.columns[i]:<8}\"\n",
    "                f\"{r.importances_mean[i]:.3f}\"\n",
    "                f\" +/- {r.importances_std[i]:.3f}\"\n",
    "            )"
   ]
  },
  {
   "cell_type": "code",
   "execution_count": null,
   "id": "ca5acef0",
   "metadata": {},
   "outputs": [],
   "source": [
    "randomsubset_permutation_importance(\n",
    "    clf=RandomForestClassifier(), percentile_of_features=0.2,\n",
    ")"
   ]
  },
  {
   "cell_type": "markdown",
   "id": "5b072c59",
   "metadata": {},
   "source": [
    "### ML Pipeline Test Run <a id='pipeline'></a>\n",
    "\n",
    "[return](#top)"
   ]
  },
  {
   "cell_type": "code",
   "execution_count": 3,
   "id": "28deffb0",
   "metadata": {},
   "outputs": [
    {
     "data": {
      "text/html": [
       "<div>\n",
       "<style scoped>\n",
       "    .dataframe tbody tr th:only-of-type {\n",
       "        vertical-align: middle;\n",
       "    }\n",
       "\n",
       "    .dataframe tbody tr th {\n",
       "        vertical-align: top;\n",
       "    }\n",
       "\n",
       "    .dataframe thead th {\n",
       "        text-align: right;\n",
       "    }\n",
       "</style>\n",
       "<table border=\"1\" class=\"dataframe\">\n",
       "  <thead>\n",
       "    <tr style=\"text-align: right;\">\n",
       "      <th></th>\n",
       "      <th>Subject_Number</th>\n",
       "      <th>Gender</th>\n",
       "      <th>Gest_Days</th>\n",
       "      <th>Weight_0m</th>\n",
       "      <th>Weight_3m</th>\n",
       "      <th>Weight_12m</th>\n",
       "      <th>Weight_36m</th>\n",
       "      <th>Weight_60m</th>\n",
       "      <th>Weight_for_age_0m</th>\n",
       "      <th>Weight_for_age_3m</th>\n",
       "      <th>...</th>\n",
       "      <th>Recurrent_Wheeze_1y</th>\n",
       "      <th>Recurrent_Wheeze_5y</th>\n",
       "      <th>Mother_Condition_Delivery</th>\n",
       "      <th>First_10min_Measure</th>\n",
       "      <th>BF_Status_3m</th>\n",
       "      <th>BF_Status_6m</th>\n",
       "      <th>Wheeze_Traj_Type</th>\n",
       "      <th>Mother_Caucasian</th>\n",
       "      <th>Father_Caucasian</th>\n",
       "      <th>Child_Ethinicity</th>\n",
       "    </tr>\n",
       "  </thead>\n",
       "  <tbody>\n",
       "    <tr>\n",
       "      <th>0</th>\n",
       "      <td>20001</td>\n",
       "      <td>F</td>\n",
       "      <td>273.0</td>\n",
       "      <td>3.255</td>\n",
       "      <td>NaN</td>\n",
       "      <td>11.8</td>\n",
       "      <td>20.0</td>\n",
       "      <td>25.5</td>\n",
       "      <td>0.05</td>\n",
       "      <td>NaN</td>\n",
       "      <td>...</td>\n",
       "      <td>0.0</td>\n",
       "      <td>0.0</td>\n",
       "      <td>NaN</td>\n",
       "      <td>NaN</td>\n",
       "      <td>NaN</td>\n",
       "      <td>NaN</td>\n",
       "      <td>1.0</td>\n",
       "      <td>NaN</td>\n",
       "      <td>NaN</td>\n",
       "      <td>NaN</td>\n",
       "    </tr>\n",
       "    <tr>\n",
       "      <th>1</th>\n",
       "      <td>20002</td>\n",
       "      <td>M</td>\n",
       "      <td>275.0</td>\n",
       "      <td>3.195</td>\n",
       "      <td>NaN</td>\n",
       "      <td>NaN</td>\n",
       "      <td>NaN</td>\n",
       "      <td>NaN</td>\n",
       "      <td>-0.31</td>\n",
       "      <td>NaN</td>\n",
       "      <td>...</td>\n",
       "      <td>NaN</td>\n",
       "      <td>NaN</td>\n",
       "      <td>NaN</td>\n",
       "      <td>NaN</td>\n",
       "      <td>NaN</td>\n",
       "      <td>NaN</td>\n",
       "      <td>NaN</td>\n",
       "      <td>NaN</td>\n",
       "      <td>NaN</td>\n",
       "      <td>NaN</td>\n",
       "    </tr>\n",
       "    <tr>\n",
       "      <th>2</th>\n",
       "      <td>20003</td>\n",
       "      <td>F</td>\n",
       "      <td>279.0</td>\n",
       "      <td>4.490</td>\n",
       "      <td>NaN</td>\n",
       "      <td>11.0</td>\n",
       "      <td>NaN</td>\n",
       "      <td>NaN</td>\n",
       "      <td>2.47</td>\n",
       "      <td>NaN</td>\n",
       "      <td>...</td>\n",
       "      <td>0.0</td>\n",
       "      <td>NaN</td>\n",
       "      <td>NaN</td>\n",
       "      <td>NaN</td>\n",
       "      <td>NaN</td>\n",
       "      <td>NaN</td>\n",
       "      <td>3.0</td>\n",
       "      <td>NaN</td>\n",
       "      <td>NaN</td>\n",
       "      <td>NaN</td>\n",
       "    </tr>\n",
       "    <tr>\n",
       "      <th>3</th>\n",
       "      <td>20005</td>\n",
       "      <td>F</td>\n",
       "      <td>280.0</td>\n",
       "      <td>2.880</td>\n",
       "      <td>NaN</td>\n",
       "      <td>NaN</td>\n",
       "      <td>NaN</td>\n",
       "      <td>NaN</td>\n",
       "      <td>-0.80</td>\n",
       "      <td>NaN</td>\n",
       "      <td>...</td>\n",
       "      <td>0.0</td>\n",
       "      <td>NaN</td>\n",
       "      <td>NaN</td>\n",
       "      <td>NaN</td>\n",
       "      <td>NaN</td>\n",
       "      <td>NaN</td>\n",
       "      <td>NaN</td>\n",
       "      <td>NaN</td>\n",
       "      <td>NaN</td>\n",
       "      <td>NaN</td>\n",
       "    </tr>\n",
       "    <tr>\n",
       "      <th>4</th>\n",
       "      <td>20006</td>\n",
       "      <td>F</td>\n",
       "      <td>271.0</td>\n",
       "      <td>3.335</td>\n",
       "      <td>NaN</td>\n",
       "      <td>11.1</td>\n",
       "      <td>17.8</td>\n",
       "      <td>20.1</td>\n",
       "      <td>0.22</td>\n",
       "      <td>NaN</td>\n",
       "      <td>...</td>\n",
       "      <td>0.0</td>\n",
       "      <td>0.0</td>\n",
       "      <td>NaN</td>\n",
       "      <td>NaN</td>\n",
       "      <td>NaN</td>\n",
       "      <td>NaN</td>\n",
       "      <td>1.0</td>\n",
       "      <td>NaN</td>\n",
       "      <td>NaN</td>\n",
       "      <td>NaN</td>\n",
       "    </tr>\n",
       "    <tr>\n",
       "      <th>...</th>\n",
       "      <td>...</td>\n",
       "      <td>...</td>\n",
       "      <td>...</td>\n",
       "      <td>...</td>\n",
       "      <td>...</td>\n",
       "      <td>...</td>\n",
       "      <td>...</td>\n",
       "      <td>...</td>\n",
       "      <td>...</td>\n",
       "      <td>...</td>\n",
       "      <td>...</td>\n",
       "      <td>...</td>\n",
       "      <td>...</td>\n",
       "      <td>...</td>\n",
       "      <td>...</td>\n",
       "      <td>...</td>\n",
       "      <td>...</td>\n",
       "      <td>...</td>\n",
       "      <td>...</td>\n",
       "      <td>...</td>\n",
       "      <td>...</td>\n",
       "    </tr>\n",
       "    <tr>\n",
       "      <th>3450</th>\n",
       "      <td>50861</td>\n",
       "      <td>M</td>\n",
       "      <td>275.0</td>\n",
       "      <td>2.520</td>\n",
       "      <td>5.66</td>\n",
       "      <td>9.2</td>\n",
       "      <td>14.2</td>\n",
       "      <td>16.5</td>\n",
       "      <td>-1.85</td>\n",
       "      <td>-1.41</td>\n",
       "      <td>...</td>\n",
       "      <td>0.0</td>\n",
       "      <td>1.0</td>\n",
       "      <td>None</td>\n",
       "      <td>None</td>\n",
       "      <td>Zero</td>\n",
       "      <td>Zero</td>\n",
       "      <td>2.0</td>\n",
       "      <td>0.0</td>\n",
       "      <td>0.0</td>\n",
       "      <td>NonCaucas</td>\n",
       "    </tr>\n",
       "    <tr>\n",
       "      <th>3451</th>\n",
       "      <td>50862</td>\n",
       "      <td>M</td>\n",
       "      <td>272.0</td>\n",
       "      <td>3.648</td>\n",
       "      <td>7.04</td>\n",
       "      <td>9.7</td>\n",
       "      <td>14.3</td>\n",
       "      <td>16.8</td>\n",
       "      <td>0.60</td>\n",
       "      <td>0.52</td>\n",
       "      <td>...</td>\n",
       "      <td>0.0</td>\n",
       "      <td>1.0</td>\n",
       "      <td>Other</td>\n",
       "      <td>None</td>\n",
       "      <td>Partial</td>\n",
       "      <td>Partial</td>\n",
       "      <td>2.0</td>\n",
       "      <td>1.0</td>\n",
       "      <td>1.0</td>\n",
       "      <td>Caucasian</td>\n",
       "    </tr>\n",
       "    <tr>\n",
       "      <th>3452</th>\n",
       "      <td>50863</td>\n",
       "      <td>F</td>\n",
       "      <td>288.0</td>\n",
       "      <td>3.352</td>\n",
       "      <td>6.86</td>\n",
       "      <td>11.6</td>\n",
       "      <td>NaN</td>\n",
       "      <td>NaN</td>\n",
       "      <td>0.26</td>\n",
       "      <td>1.39</td>\n",
       "      <td>...</td>\n",
       "      <td>0.0</td>\n",
       "      <td>NaN</td>\n",
       "      <td>Other</td>\n",
       "      <td>None</td>\n",
       "      <td>Exclusive</td>\n",
       "      <td>Partial</td>\n",
       "      <td>1.0</td>\n",
       "      <td>1.0</td>\n",
       "      <td>1.0</td>\n",
       "      <td>Caucasian</td>\n",
       "    </tr>\n",
       "    <tr>\n",
       "      <th>3453</th>\n",
       "      <td>50864</td>\n",
       "      <td>F</td>\n",
       "      <td>275.0</td>\n",
       "      <td>4.086</td>\n",
       "      <td>6.53</td>\n",
       "      <td>9.1</td>\n",
       "      <td>14.2</td>\n",
       "      <td>16.1</td>\n",
       "      <td>1.73</td>\n",
       "      <td>0.80</td>\n",
       "      <td>...</td>\n",
       "      <td>0.0</td>\n",
       "      <td>0.0</td>\n",
       "      <td>None</td>\n",
       "      <td>Suction while in warmer</td>\n",
       "      <td>Exclusive</td>\n",
       "      <td>Partial</td>\n",
       "      <td>1.0</td>\n",
       "      <td>0.0</td>\n",
       "      <td>1.0</td>\n",
       "      <td>HalfCaucas</td>\n",
       "    </tr>\n",
       "    <tr>\n",
       "      <th>3454</th>\n",
       "      <td>50865</td>\n",
       "      <td>M</td>\n",
       "      <td>283.0</td>\n",
       "      <td>3.542</td>\n",
       "      <td>5.38</td>\n",
       "      <td>10.1</td>\n",
       "      <td>15.9</td>\n",
       "      <td>19.8</td>\n",
       "      <td>0.39</td>\n",
       "      <td>-1.25</td>\n",
       "      <td>...</td>\n",
       "      <td>0.0</td>\n",
       "      <td>0.0</td>\n",
       "      <td>None</td>\n",
       "      <td>None</td>\n",
       "      <td>Exclusive</td>\n",
       "      <td>Partial</td>\n",
       "      <td>1.0</td>\n",
       "      <td>1.0</td>\n",
       "      <td>1.0</td>\n",
       "      <td>Caucasian</td>\n",
       "    </tr>\n",
       "  </tbody>\n",
       "</table>\n",
       "<p>3455 rows × 157 columns</p>\n",
       "</div>"
      ],
      "text/plain": [
       "      Subject_Number Gender  Gest_Days  Weight_0m  Weight_3m  Weight_12m  \\\n",
       "0              20001      F      273.0      3.255        NaN        11.8   \n",
       "1              20002      M      275.0      3.195        NaN         NaN   \n",
       "2              20003      F      279.0      4.490        NaN        11.0   \n",
       "3              20005      F      280.0      2.880        NaN         NaN   \n",
       "4              20006      F      271.0      3.335        NaN        11.1   \n",
       "...              ...    ...        ...        ...        ...         ...   \n",
       "3450           50861      M      275.0      2.520       5.66         9.2   \n",
       "3451           50862      M      272.0      3.648       7.04         9.7   \n",
       "3452           50863      F      288.0      3.352       6.86        11.6   \n",
       "3453           50864      F      275.0      4.086       6.53         9.1   \n",
       "3454           50865      M      283.0      3.542       5.38        10.1   \n",
       "\n",
       "      Weight_36m  Weight_60m  Weight_for_age_0m  Weight_for_age_3m  ...  \\\n",
       "0           20.0        25.5               0.05                NaN  ...   \n",
       "1            NaN         NaN              -0.31                NaN  ...   \n",
       "2            NaN         NaN               2.47                NaN  ...   \n",
       "3            NaN         NaN              -0.80                NaN  ...   \n",
       "4           17.8        20.1               0.22                NaN  ...   \n",
       "...          ...         ...                ...                ...  ...   \n",
       "3450        14.2        16.5              -1.85              -1.41  ...   \n",
       "3451        14.3        16.8               0.60               0.52  ...   \n",
       "3452         NaN         NaN               0.26               1.39  ...   \n",
       "3453        14.2        16.1               1.73               0.80  ...   \n",
       "3454        15.9        19.8               0.39              -1.25  ...   \n",
       "\n",
       "      Recurrent_Wheeze_1y  Recurrent_Wheeze_5y  Mother_Condition_Delivery  \\\n",
       "0                     0.0                  0.0                        NaN   \n",
       "1                     NaN                  NaN                        NaN   \n",
       "2                     0.0                  NaN                        NaN   \n",
       "3                     0.0                  NaN                        NaN   \n",
       "4                     0.0                  0.0                        NaN   \n",
       "...                   ...                  ...                        ...   \n",
       "3450                  0.0                  1.0                       None   \n",
       "3451                  0.0                  1.0                      Other   \n",
       "3452                  0.0                  NaN                      Other   \n",
       "3453                  0.0                  0.0                       None   \n",
       "3454                  0.0                  0.0                       None   \n",
       "\n",
       "          First_10min_Measure  BF_Status_3m  BF_Status_6m  Wheeze_Traj_Type  \\\n",
       "0                         NaN           NaN           NaN               1.0   \n",
       "1                         NaN           NaN           NaN               NaN   \n",
       "2                         NaN           NaN           NaN               3.0   \n",
       "3                         NaN           NaN           NaN               NaN   \n",
       "4                         NaN           NaN           NaN               1.0   \n",
       "...                       ...           ...           ...               ...   \n",
       "3450                     None          Zero          Zero               2.0   \n",
       "3451                     None       Partial       Partial               2.0   \n",
       "3452                     None     Exclusive       Partial               1.0   \n",
       "3453  Suction while in warmer     Exclusive       Partial               1.0   \n",
       "3454                     None     Exclusive       Partial               1.0   \n",
       "\n",
       "      Mother_Caucasian  Father_Caucasian  Child_Ethinicity  \n",
       "0                  NaN               NaN               NaN  \n",
       "1                  NaN               NaN               NaN  \n",
       "2                  NaN               NaN               NaN  \n",
       "3                  NaN               NaN               NaN  \n",
       "4                  NaN               NaN               NaN  \n",
       "...                ...               ...               ...  \n",
       "3450               0.0               0.0         NonCaucas  \n",
       "3451               1.0               1.0         Caucasian  \n",
       "3452               1.0               1.0         Caucasian  \n",
       "3453               0.0               1.0        HalfCaucas  \n",
       "3454               1.0               1.0         Caucasian  \n",
       "\n",
       "[3455 rows x 157 columns]"
      ]
     },
     "execution_count": 3,
     "metadata": {},
     "output_type": "execute_result"
    },
    {
     "data": {
      "application/javascript": [
       "\n",
       "            setTimeout(function() {\n",
       "                var nbb_cell_id = 3;\n",
       "                var nbb_unformatted_code = \"df_child\";\n",
       "                var nbb_formatted_code = \"df_child\";\n",
       "                var nbb_cells = Jupyter.notebook.get_cells();\n",
       "                for (var i = 0; i < nbb_cells.length; ++i) {\n",
       "                    if (nbb_cells[i].input_prompt_number == nbb_cell_id) {\n",
       "                        if (nbb_cells[i].get_text() == nbb_unformatted_code) {\n",
       "                             nbb_cells[i].set_text(nbb_formatted_code);\n",
       "                        }\n",
       "                        break;\n",
       "                    }\n",
       "                }\n",
       "            }, 500);\n",
       "            "
      ],
      "text/plain": [
       "<IPython.core.display.Javascript object>"
      ]
     },
     "metadata": {},
     "output_type": "display_data"
    }
   ],
   "source": [
    "df_child"
   ]
  },
  {
   "cell_type": "code",
   "execution_count": 82,
   "id": "ee94b882",
   "metadata": {},
   "outputs": [
    {
     "name": "stdout",
     "output_type": "stream",
     "text": [
      "The dimension of original dataframe for process is (3455, 157)\n",
      "Number of categorical features is:  56\n",
      "Number of numeric features is:  24\n",
      "Number of target variables is:  13\n",
      "Number of dropped features is:  63\n",
      "The difference of features of targeted and original dataframe is :{'Subject_Number'}\n",
      "The number of missing value for target label is: 809\n",
      "------------------------------------------------------\n",
      "Note: Target variable can be one of: \n",
      " ['Asthma_Diagnosis_3yCLA', 'Asthma_Diagnosis_5yCLA', 'Recurrent_Wheeze_1y', 'Recurrent_Wheeze_3y', 'Recurrent_Wheeze_5y', 'Wheeze_Traj_Type', 'Medicine_for_Wheeze_5yCLA', 'Viral_Asthma_3yCLA', 'Triggered_Asthma_3yCLA', 'Viral_Asthma_5yCLA', 'Triggered_Asthma_5yCLA', 'Cumulative_Wheeze_36m', 'Cumulative_Wheeze_60m']\n",
      "------------------------------------------------------\n",
      "****Target variable will be renamed to y for easy access.**** \n",
      "\n",
      "A total of 3 / 165 (1.7999999999999998%) for asthma positive are dropped due to more than 15 missing value in the sample.\n",
      "\n",
      "The total number of dropped samples is 64\n",
      "************************************************************************\n",
      "An excel file has been written to /output/unprocessed_targeted_raw_child.xlsx\n"
     ]
    },
    {
     "data": {
      "application/javascript": [
       "\n",
       "            setTimeout(function() {\n",
       "                var nbb_cell_id = 82;\n",
       "                var nbb_unformatted_code = \"df_targeted = target_selector(\\n    df=df_child,\\n    target_name=\\\"Asthma_Diagnosis_5yCLA\\\",\\n    target_mapping={2: np.nan},\\n    include_dust=False,\\n)\\ndf_final_all, X, y, _ = sample_selector(\\n    df=df_targeted, max_nan_per_sample=15, differentiate=False\\n)\";\n",
       "                var nbb_formatted_code = \"df_targeted = target_selector(\\n    df=df_child,\\n    target_name=\\\"Asthma_Diagnosis_5yCLA\\\",\\n    target_mapping={2: np.nan},\\n    include_dust=False,\\n)\\ndf_final_all, X, y, _ = sample_selector(\\n    df=df_targeted, max_nan_per_sample=15, differentiate=False\\n)\";\n",
       "                var nbb_cells = Jupyter.notebook.get_cells();\n",
       "                for (var i = 0; i < nbb_cells.length; ++i) {\n",
       "                    if (nbb_cells[i].input_prompt_number == nbb_cell_id) {\n",
       "                        if (nbb_cells[i].get_text() == nbb_unformatted_code) {\n",
       "                             nbb_cells[i].set_text(nbb_formatted_code);\n",
       "                        }\n",
       "                        break;\n",
       "                    }\n",
       "                }\n",
       "            }, 500);\n",
       "            "
      ],
      "text/plain": [
       "<IPython.core.display.Javascript object>"
      ]
     },
     "metadata": {},
     "output_type": "display_data"
    }
   ],
   "source": [
    "df_targeted = target_selector(\n",
    "    df=df_child,\n",
    "    target_name=\"Asthma_Diagnosis_5yCLA\",\n",
    "    target_mapping={2: np.nan},\n",
    "    include_dust=False,\n",
    ")\n",
    "df_final_all, X, y, _ = sample_selector(\n",
    "    df=df_targeted, max_nan_per_sample=15, differentiate=False\n",
    ")"
   ]
  },
  {
   "cell_type": "code",
   "execution_count": 86,
   "id": "e9ea1fc7",
   "metadata": {},
   "outputs": [
    {
     "data": {
      "text/plain": [
       "Index(['Gest_Days', 'Weight_0m', 'Weight_3m', 'Weight_12m',\n",
       "       'BF_Implied_Duration', 'PSS_36week', 'CSED_36week', 'PSS_18week',\n",
       "       'CSED_18week', 'PSS_6m', 'PSS_12m', 'CSED_6m', 'CSED_12m',\n",
       "       'No_of_Pregnancy', 'Stay_Duration_Hospital',\n",
       "       'Number_of_AntibioticsCourse', 'Epi_Noncold_Wheeze_3m',\n",
       "       'Apgar_Score_1min', 'Apgar_Score_5min', 'Antibiotics_Usage',\n",
       "       'F10min_Intubation', 'F10min_Mask_Ventilation',\n",
       "       'F10min_Free_Flow_Oxygen', 'F10min_Oxygen_Mask',\n",
       "       'F10min_Positive_Pressure_Ventilation', 'F10min_Perineum_suction',\n",
       "       'F10min_Suction', 'F10min_No_Measure_Needed', 'Prenatal_Bleeding',\n",
       "       'Prenatal_Nausea', 'Prenatal_Infections',\n",
       "       'Prenatal_Induced_Hypertension', 'Prenatal_Gestational_Diabetes',\n",
       "       'Prenatal_Cardiac_Disorder', 'Prenatal_Hypertension',\n",
       "       'Prenatal_Hypotension', 'Prenatal_None_Conditions',\n",
       "       'Prenatal_Other_Conditions', 'BF_1m', 'BF_9m', 'BF_12m',\n",
       "       'Anesthetic_delivery', 'Analgesics_usage_delivery',\n",
       "       'Respiratory_Problems_Birth', 'Jaundice_Birth', 'Complications_Birth',\n",
       "       'Home_Furry_Pets_6m', 'Home_New_Furnitures_6m',\n",
       "       'Home_Presence_Smoke_6m', 'Mother_Asthma', 'Father_Asthma',\n",
       "       'Parental_Asthma', 'Father_Caucasian', 'Mother_Caucasian', 'Dad_Atopy',\n",
       "       'Dad_Food', 'Dad_Inhalant', 'Mom_Atopy', 'Mom_Food', 'Mom_Inhalant',\n",
       "       'Prenatal_Second_Hand', 'Prenatal_Maternal_Smoke', 'Study_Center',\n",
       "       'Gender', 'BF_Status_3m', 'BF_Status_6m', 'Child_Ethinicity',\n",
       "       'Mode_of_delivery', 'Mother_Condition_Delivery', 'First_10min_Measure',\n",
       "       'Respiratory_Report_Months', 'Respiratory_Infections',\n",
       "       'Severity_of_Respiratoryinfections', 'Wheeze_3m', 'Noncold_Wheeze_3m'],\n",
       "      dtype='object')"
      ]
     },
     "execution_count": 86,
     "metadata": {},
     "output_type": "execute_result"
    },
    {
     "data": {
      "text/plain": [
       "75"
      ]
     },
     "execution_count": 86,
     "metadata": {},
     "output_type": "execute_result"
    },
    {
     "data": {
      "application/javascript": [
       "\n",
       "            setTimeout(function() {\n",
       "                var nbb_cell_id = 86;\n",
       "                var nbb_unformatted_code = \"X.columns\\nlen(X.columns)\";\n",
       "                var nbb_formatted_code = \"X.columns\\nlen(X.columns)\";\n",
       "                var nbb_cells = Jupyter.notebook.get_cells();\n",
       "                for (var i = 0; i < nbb_cells.length; ++i) {\n",
       "                    if (nbb_cells[i].input_prompt_number == nbb_cell_id) {\n",
       "                        if (nbb_cells[i].get_text() == nbb_unformatted_code) {\n",
       "                             nbb_cells[i].set_text(nbb_formatted_code);\n",
       "                        }\n",
       "                        break;\n",
       "                    }\n",
       "                }\n",
       "            }, 500);\n",
       "            "
      ],
      "text/plain": [
       "<IPython.core.display.Javascript object>"
      ]
     },
     "metadata": {},
     "output_type": "display_data"
    }
   ],
   "source": [
    "X.columns\n",
    "len(X.columns)"
   ]
  },
  {
   "cell_type": "code",
   "execution_count": null,
   "id": "40f5075e",
   "metadata": {},
   "outputs": [],
   "source": [
    "# np.unique(\n",
    "#     MinMaxScaler().fit_transform(df_final_all.No_of_Pregnancy.values.reshape(-1, 1)),\n",
    "#     return_counts=True,\n",
    "# )\n",
    "\n",
    "# np.unique(MinMaxScaler().fit_transform(np.log1p(df_final_all.No_of_Pregnancy).values.reshape(-1, 1)),\n",
    "#           return_counts=True,\n",
    "#          )"
   ]
  },
  {
   "cell_type": "code",
   "execution_count": 14,
   "id": "138ee8ad",
   "metadata": {},
   "outputs": [
    {
     "data": {
      "application/javascript": [
       "\n",
       "            setTimeout(function() {\n",
       "                var nbb_cell_id = 14;\n",
       "                var nbb_unformatted_code = \"# Begin Pipeline\\n# Step 1: Clean, Engineer, Imputation\\npreprocessor = Pipeline(\\n    steps=[\\n        (\\\"apgar\\\", ApgarTransformer(engineer_type=\\\"Ordinal\\\")),\\n        (\\n            \\\"birth\\\",\\n            BirthTransformer(\\n                bimode_delivery=True,\\n                binary_pregnancy_conditions=True,\\n                signal_suction=True,\\n            ),\\n        ),\\n        (\\\"log1p\\\", Log1pTransformer(cols=[\\\"No_of_Pregnancy\\\"])),\\n        (\\n            \\\"resp\\\",\\n            RespiratoryTransformer(first_18m_divide=True, minimal_value_presence=1),\\n        ),\\n        (\\\"pss\\\", DiscretizePSS(discretize=True)),\\n        (\\n            \\\"colfilter\\\",\\n            ColumnFilter(\\n                repetition_standard=0.95, feature_missingness=0.1, corr_and_missing=True\\n            ),\\n        ),\\n        (\\n            \\\"imp\\\",\\n            ImputerStrategizer(strategy=\\\"all_imputation\\\", selective_threshold=100),\\n        ),\\n        (\\n            \\\"catimp\\\",\\n            CatNaNImputer(NaN_signal_thresh=100, NaN_imputation_strategy=\\\"ignore\\\"),\\n        ),\\n        (\\n            \\\"numimp\\\",\\n            NumNaNimputer(\\n                add_indicator_threshold=100, imputing_correlated_subset=\\\"KNN\\\"\\n            ),\\n        ),\\n        (\\\"collinear\\\", CollinearRemover(collinear_level=0.95)),\\n    ]\\n)\";\n",
       "                var nbb_formatted_code = \"# Begin Pipeline\\n# Step 1: Clean, Engineer, Imputation\\npreprocessor = Pipeline(\\n    steps=[\\n        (\\\"apgar\\\", ApgarTransformer(engineer_type=\\\"Ordinal\\\")),\\n        (\\n            \\\"birth\\\",\\n            BirthTransformer(\\n                bimode_delivery=True,\\n                binary_pregnancy_conditions=True,\\n                signal_suction=True,\\n            ),\\n        ),\\n        (\\\"log1p\\\", Log1pTransformer(cols=[\\\"No_of_Pregnancy\\\"])),\\n        (\\n            \\\"resp\\\",\\n            RespiratoryTransformer(first_18m_divide=True, minimal_value_presence=1),\\n        ),\\n        (\\\"pss\\\", DiscretizePSS(discretize=True)),\\n        (\\n            \\\"colfilter\\\",\\n            ColumnFilter(\\n                repetition_standard=0.95, feature_missingness=0.1, corr_and_missing=True\\n            ),\\n        ),\\n        (\\n            \\\"imp\\\",\\n            ImputerStrategizer(strategy=\\\"all_imputation\\\", selective_threshold=100),\\n        ),\\n        (\\n            \\\"catimp\\\",\\n            CatNaNImputer(NaN_signal_thresh=100, NaN_imputation_strategy=\\\"ignore\\\"),\\n        ),\\n        (\\n            \\\"numimp\\\",\\n            NumNaNimputer(\\n                add_indicator_threshold=100, imputing_correlated_subset=\\\"KNN\\\"\\n            ),\\n        ),\\n        (\\\"collinear\\\", CollinearRemover(collinear_level=0.95)),\\n    ]\\n)\";\n",
       "                var nbb_cells = Jupyter.notebook.get_cells();\n",
       "                for (var i = 0; i < nbb_cells.length; ++i) {\n",
       "                    if (nbb_cells[i].input_prompt_number == nbb_cell_id) {\n",
       "                        if (nbb_cells[i].get_text() == nbb_unformatted_code) {\n",
       "                             nbb_cells[i].set_text(nbb_formatted_code);\n",
       "                        }\n",
       "                        break;\n",
       "                    }\n",
       "                }\n",
       "            }, 500);\n",
       "            "
      ],
      "text/plain": [
       "<IPython.core.display.Javascript object>"
      ]
     },
     "metadata": {},
     "output_type": "display_data"
    }
   ],
   "source": [
    "# Begin Pipeline\n",
    "# Step 1: Clean, Engineer, Imputation\n",
    "preprocessor = Pipeline(\n",
    "    steps=[\n",
    "        (\"apgar\", ApgarTransformer(engineer_type=\"Ordinal\")),\n",
    "        (\n",
    "            \"birth\",\n",
    "            BirthTransformer(\n",
    "                bimode_delivery=True,\n",
    "                binary_pregnancy_conditions=True,\n",
    "                signal_suction=True,\n",
    "            ),\n",
    "        ),\n",
    "        (\"log1p\", Log1pTransformer(cols=[\"No_of_Pregnancy\"])),\n",
    "        (\n",
    "            \"resp\",\n",
    "            RespiratoryTransformer(first_18m_divide=True, minimal_value_presence=1),\n",
    "        ),\n",
    "        (\"pss\", DiscretizePSS(discretize=True)),\n",
    "        (\n",
    "            \"colfilter\",\n",
    "            ColumnFilter(\n",
    "                repetition_standard=0.95, feature_missingness=0.1, corr_and_missing=True\n",
    "            ),\n",
    "        ),\n",
    "        (\n",
    "            \"imp\",\n",
    "            ImputerStrategizer(strategy=\"all_imputation\", selective_threshold=100),\n",
    "        ),\n",
    "        (\n",
    "            \"catimp\",\n",
    "            CatNaNImputer(NaN_signal_thresh=100, NaN_imputation_strategy=\"ignore\"),\n",
    "        ),\n",
    "        (\n",
    "            \"numimp\",\n",
    "            NumNaNimputer(\n",
    "                add_indicator_threshold=100, imputing_correlated_subset=\"KNN\"\n",
    "            ),\n",
    "        ),\n",
    "        (\"collinear\", CollinearRemover(collinear_level=0.95)),\n",
    "    ]\n",
    ")"
   ]
  },
  {
   "cell_type": "code",
   "execution_count": 15,
   "id": "3aa7d651",
   "metadata": {},
   "outputs": [
    {
     "name": "stdout",
     "output_type": "stream",
     "text": [
      "The output columns will be: RIfrequency_earlier_report, RIseverity_earlier_report, RIfrequency_later_report, RIseverity_later_report\n",
      "---------------------------------------------------------------------------------------------------\n",
      "Given the correlation threshhold of 0.95, the columns that will be removed are:['Mom_Inhalant', 'Dad_Inhalant']. Please see the following correlation:{'Dad_Inhalant <> Dad_Atopy': 1.0, 'Mom_Inhalant <> Mom_Atopy': 0.9983089637136121}\n",
      "---------------------------------------------------------------------------------------------------\n",
      "Given the correlation threshhold of 0.7, the columns that will be considered to be dropped are:['Dad_Inhalant', 'Mom_Inhalant', 'Mother_Condition_Delivery', 'BF_12m', 'First_10min_Measure', 'BF_9m', 'RIseverity_later_report', 'Antibiotics_Usage', 'RIseverity_earlier_report', 'Parental_Asthma', 'Noncold_Wheeze_3m']. Please see the following correlation:{'BF_9m <> BF_Implied_Duration': 0.7779810254307755, 'BF_12m <> BF_Implied_Duration': 0.8004978873326745, 'Antibiotics_Usage <> Number_of_AntibioticsCourse': 0.8141337385001884, 'Noncold_Wheeze_3m <> Epi_Noncold_Wheeze_3m': 0.7699695928324651, 'First_10min_Measure <> F10min_Intubation': 0.7526751844410005, 'Mother_Condition_Delivery <> Prenatal_Other_Conditions': 0.8380635758963509, 'BF_12m <> BF_9m': 0.7126265357449384, 'Parental_Asthma <> Mother_Asthma': 0.7224493457900305, 'Dad_Inhalant <> Dad_Atopy': 1.0, 'Mom_Inhalant <> Mom_Atopy': 0.9983089637136121, 'Noncold_Wheeze_3m <> Wheeze_3m': 0.7033503330050029, 'RIseverity_earlier_report <> RIfrequency_earlier_report': 0.7513468264373363, 'RIseverity_later_report <> RIfrequency_later_report': 0.8312039766836145}\n",
      "---------------------------------------------------------------------------------------------------\n",
      "Given the missingness threshhold of 0.1, the columns that will be considered to be dropped are:  ['PSS_6m', 'PSS_12m', 'CSED_6m', 'CSED_12m', 'Home_Furry_Pets_6m', 'Home_New_Furnitures_6m', 'Home_Presence_Smoke_6m', 'Father_Asthma', 'Parental_Asthma', 'Dad_Atopy', 'Dad_Food', 'Dad_Inhalant', 'First_10min_Measure']. Please see the following missingness:{'PSS_6m': 0.11387755102040817, 'PSS_12m': 0.11183673469387755, 'CSED_6m': 0.11591836734693878, 'CSED_12m': 0.11183673469387755, 'Home_Furry_Pets_6m': 0.11061224489795918, 'Home_New_Furnitures_6m': 0.11061224489795918, 'Home_Presence_Smoke_6m': 0.11183673469387755, 'Father_Asthma': 0.12122448979591836, 'Parental_Asthma': 0.10326530612244898, 'Dad_Atopy': 0.17346938775510204, 'Dad_Food': 0.17387755102040817, 'Dad_Inhalant': 0.17346938775510204, 'First_10min_Measure': 0.10040816326530612}\n",
      "---------------------------------------------------------------------------------------------------\n",
      "The finalized dropped columns are ['Dad_Inhalant', 'First_10min_Measure', 'Mom_Inhalant', 'Parental_Asthma'] with two factor dropped columns {'Parental_Asthma', 'First_10min_Measure', 'Dad_Inhalant'} and repetition dropped ['Dad_Inhalant', 'Mom_Inhalant']\n",
      "All those with missing value will be imputated, the features with number of missing values are:  (['No_of_Pregnancy', 'Gest_Days', 'Prenatal_Second_Hand', 'Prenatal_Maternal_Smoke', 'Weight_0m', 'BF_Status_6m', 'Mother_Asthma', 'Apgar_Score_1min', 'Mom_Atopy', 'Apgar_Score_5min', 'Mom_Food', 'Wheeze_3m', 'RIfrequency_later_report', 'RIseverity_later_report', 'Weight_12m', 'BF_12m', 'BF_9m', 'Mother_Condition_Delivery', 'Noncold_Wheeze_3m', 'Respiratory_Problems_Birth', 'Anesthetic_delivery', 'Epi_Noncold_Wheeze_3m', 'Stay_Duration_Hospital', 'Weight_3m', 'CSED_36week', 'PSS_36week', 'Analgesics_usage_delivery', 'Complications_Birth', 'Jaundice_Birth', 'PSS_18week', 'CSED_18week', 'Home_New_Furnitures_6m', 'Home_Furry_Pets_6m', 'CSED_12m', 'Home_Presence_Smoke_6m', 'PSS_12m', 'PSS_6m', 'CSED_6m', 'Father_Asthma', 'Dad_Atopy', 'Dad_Food'], [2, 3, 12, 14, 19, 19, 19, 22, 22, 22, 25, 48, 51, 51, 56, 56, 56, 68, 73, 78, 91, 93, 95, 103, 117, 124, 136, 146, 150, 166, 167, 271, 271, 274, 274, 274, 279, 284, 297, 425, 426])\n",
      "In which columns with categorical values are:  ['Study_Center', 'Gender', 'BF_Status_3m', 'BF_Status_6m', 'Child_Ethinicity', 'Mode_of_delivery']\n",
      "********************************************************************************\n",
      "Given the correlation threshhold of 0.95, the columns that will be removed are:['Dad_Atopy_Missing', 'Home_New_Furnitures_6m_Missing', 'CSED_18week_Missing', 'CSED_6m_Missing', 'CSED_12m_Missing', 'CSED_36week_Missing', 'Home_Furry_Pets_6m_Missing']. Please see the following correlation:{'CSED_36week_Missing <> PSS_36week_Missing': 0.9699058395018689, 'CSED_18week_Missing <> PSS_18week_Missing': 0.9967832108354368, 'CSED_6m_Missing <> PSS_6m_Missing': 0.9900160742901514, 'CSED_12m_Missing <> PSS_12m_Missing': 1.0, 'Dad_Atopy_Missing <> Dad_Food_Missing': 0.998578947413681, 'Home_New_Furnitures_6m_Missing <> Home_Presence_Smoke_6m_Missing': 0.9938256339857658, 'Home_Furry_Pets_6m_Missing <> Home_Presence_Smoke_6m_Missing': 0.9938256339857658, 'Home_Furry_Pets_6m_Missing <> Home_New_Furnitures_6m_Missing': 1.0}\n"
     ]
    },
    {
     "data": {
      "application/javascript": [
       "\n",
       "            setTimeout(function() {\n",
       "                var nbb_cell_id = 15;\n",
       "                var nbb_unformatted_code = \"preprocessor.fit_transform(X)\";\n",
       "                var nbb_formatted_code = \"preprocessor.fit_transform(X)\";\n",
       "                var nbb_cells = Jupyter.notebook.get_cells();\n",
       "                for (var i = 0; i < nbb_cells.length; ++i) {\n",
       "                    if (nbb_cells[i].input_prompt_number == nbb_cell_id) {\n",
       "                        if (nbb_cells[i].get_text() == nbb_unformatted_code) {\n",
       "                             nbb_cells[i].set_text(nbb_formatted_code);\n",
       "                        }\n",
       "                        break;\n",
       "                    }\n",
       "                }\n",
       "            }, 500);\n",
       "            "
      ],
      "text/plain": [
       "<IPython.core.display.Javascript object>"
      ]
     },
     "metadata": {},
     "output_type": "display_data"
    }
   ],
   "source": [
    "preprocessor.fit_transform(X)"
   ]
  },
  {
   "cell_type": "code",
   "execution_count": 18,
   "id": "49a58587",
   "metadata": {},
   "outputs": [
    {
     "data": {
      "application/javascript": [
       "\n",
       "            setTimeout(function() {\n",
       "                var nbb_cell_id = 18;\n",
       "                var nbb_unformatted_code = \"# Note: y_train will be balanced using oversampling techniques - to counter the imbalance modelling effects\\n# y_test will remain imbalanced to imitate the real-world proportion\";\n",
       "                var nbb_formatted_code = \"# Note: y_train will be balanced using oversampling techniques - to counter the imbalance modelling effects\\n# y_test will remain imbalanced to imitate the real-world proportion\";\n",
       "                var nbb_cells = Jupyter.notebook.get_cells();\n",
       "                for (var i = 0; i < nbb_cells.length; ++i) {\n",
       "                    if (nbb_cells[i].input_prompt_number == nbb_cell_id) {\n",
       "                        if (nbb_cells[i].get_text() == nbb_unformatted_code) {\n",
       "                             nbb_cells[i].set_text(nbb_formatted_code);\n",
       "                        }\n",
       "                        break;\n",
       "                    }\n",
       "                }\n",
       "            }, 500);\n",
       "            "
      ],
      "text/plain": [
       "<IPython.core.display.Javascript object>"
      ]
     },
     "metadata": {},
     "output_type": "display_data"
    }
   ],
   "source": [
    "# Note: y_train will be balanced using oversampling techniques - to counter the imbalance modelling effects\n",
    "# y_test will remain imbalanced to imitate the real-world proportion"
   ]
  },
  {
   "cell_type": "code",
   "execution_count": 19,
   "id": "0d823068",
   "metadata": {},
   "outputs": [
    {
     "data": {
      "application/javascript": [
       "\n",
       "            setTimeout(function() {\n",
       "                var nbb_cell_id = 19;\n",
       "                var nbb_unformatted_code = \"X_train, X_test, y_train, y_test = train_test_split(\\n    X, y, test_size=0.33, stratify=y, random_state=1022\\n)\";\n",
       "                var nbb_formatted_code = \"X_train, X_test, y_train, y_test = train_test_split(\\n    X, y, test_size=0.33, stratify=y, random_state=1022\\n)\";\n",
       "                var nbb_cells = Jupyter.notebook.get_cells();\n",
       "                for (var i = 0; i < nbb_cells.length; ++i) {\n",
       "                    if (nbb_cells[i].input_prompt_number == nbb_cell_id) {\n",
       "                        if (nbb_cells[i].get_text() == nbb_unformatted_code) {\n",
       "                             nbb_cells[i].set_text(nbb_formatted_code);\n",
       "                        }\n",
       "                        break;\n",
       "                    }\n",
       "                }\n",
       "            }, 500);\n",
       "            "
      ],
      "text/plain": [
       "<IPython.core.display.Javascript object>"
      ]
     },
     "metadata": {},
     "output_type": "display_data"
    }
   ],
   "source": [
    "X_train, X_test, y_train, y_test = train_test_split(\n",
    "    X, y, test_size=0.33, stratify=y, random_state=1022\n",
    ")"
   ]
  },
  {
   "cell_type": "code",
   "execution_count": 20,
   "id": "d025db34",
   "metadata": {},
   "outputs": [
    {
     "data": {
      "application/javascript": [
       "\n",
       "            setTimeout(function() {\n",
       "                var nbb_cell_id = 20;\n",
       "                var nbb_unformatted_code = \"# Oversampling X_train, y_train\";\n",
       "                var nbb_formatted_code = \"# Oversampling X_train, y_train\";\n",
       "                var nbb_cells = Jupyter.notebook.get_cells();\n",
       "                for (var i = 0; i < nbb_cells.length; ++i) {\n",
       "                    if (nbb_cells[i].input_prompt_number == nbb_cell_id) {\n",
       "                        if (nbb_cells[i].get_text() == nbb_unformatted_code) {\n",
       "                             nbb_cells[i].set_text(nbb_formatted_code);\n",
       "                        }\n",
       "                        break;\n",
       "                    }\n",
       "                }\n",
       "            }, 500);\n",
       "            "
      ],
      "text/plain": [
       "<IPython.core.display.Javascript object>"
      ]
     },
     "metadata": {},
     "output_type": "display_data"
    }
   ],
   "source": [
    "# Oversampling X_train, y_train"
   ]
  },
  {
   "cell_type": "code",
   "execution_count": 77,
   "id": "a66379da",
   "metadata": {},
   "outputs": [
    {
     "data": {
      "text/plain": [
       "0.0    1385\n",
       "1.0    1385\n",
       "Name: y, dtype: int64"
      ]
     },
     "execution_count": 77,
     "metadata": {},
     "output_type": "execute_result"
    },
    {
     "data": {
      "application/javascript": [
       "\n",
       "            setTimeout(function() {\n",
       "                var nbb_cell_id = 77;\n",
       "                var nbb_unformatted_code = \"# import imblearn\\nfrom imblearn.over_sampling import RandomOverSampler\\n\\n# define oversampling strategy\\noversample = RandomOverSampler(sampling_strategy=\\\"minority\\\")\\n# fit and apply the transform\\nX_over, y_over = oversample.fit_resample(X_train, y_train)\\n\\ny_over.value_counts()\\nX_over_test, y_over_test = oversample.fit_resample(X_test, y_test)\";\n",
       "                var nbb_formatted_code = \"# import imblearn\\nfrom imblearn.over_sampling import RandomOverSampler\\n\\n# define oversampling strategy\\noversample = RandomOverSampler(sampling_strategy=\\\"minority\\\")\\n# fit and apply the transform\\nX_over, y_over = oversample.fit_resample(X_train, y_train)\\n\\ny_over.value_counts()\\nX_over_test, y_over_test = oversample.fit_resample(X_test, y_test)\";\n",
       "                var nbb_cells = Jupyter.notebook.get_cells();\n",
       "                for (var i = 0; i < nbb_cells.length; ++i) {\n",
       "                    if (nbb_cells[i].input_prompt_number == nbb_cell_id) {\n",
       "                        if (nbb_cells[i].get_text() == nbb_unformatted_code) {\n",
       "                             nbb_cells[i].set_text(nbb_formatted_code);\n",
       "                        }\n",
       "                        break;\n",
       "                    }\n",
       "                }\n",
       "            }, 500);\n",
       "            "
      ],
      "text/plain": [
       "<IPython.core.display.Javascript object>"
      ]
     },
     "metadata": {},
     "output_type": "display_data"
    }
   ],
   "source": [
    "# import imblearn\n",
    "from imblearn.over_sampling import RandomOverSampler\n",
    "\n",
    "# define oversampling strategy\n",
    "oversample = RandomOverSampler(sampling_strategy=\"minority\")\n",
    "# fit and apply the transform\n",
    "X_over, y_over = oversample.fit_resample(X_train, y_train)\n",
    "\n",
    "y_over.value_counts()\n",
    "X_over_test, y_over_test = oversample.fit_resample(X_test, y_test)"
   ]
  },
  {
   "cell_type": "code",
   "execution_count": 38,
   "id": "234ce08f",
   "metadata": {},
   "outputs": [
    {
     "data": {
      "application/javascript": [
       "\n",
       "            setTimeout(function() {\n",
       "                var nbb_cell_id = 38;\n",
       "                var nbb_unformatted_code = \"# Step Two: Scaling, Feature Selection, Modelling\\nml_pipeline = Pipeline(\\n    steps=[\\n        #        (\\\"preprocess\\\", preprocessor),\\n        (\\\"scaling\\\", MinMaxScaler()),\\n        (\\\"chi2select\\\", SelectPercentile(score_func=chi2, percentile=80)),\\n        (\\n            \\\"rfc\\\",\\n            RandomForestClassifier(\\n                n_estimators=200, min_samples_split=4, max_features=0.8, max_samples=0.8\\n            ),\\n        ),\\n    ]\\n)\";\n",
       "                var nbb_formatted_code = \"# Step Two: Scaling, Feature Selection, Modelling\\nml_pipeline = Pipeline(\\n    steps=[\\n        #        (\\\"preprocess\\\", preprocessor),\\n        (\\\"scaling\\\", MinMaxScaler()),\\n        (\\\"chi2select\\\", SelectPercentile(score_func=chi2, percentile=80)),\\n        (\\n            \\\"rfc\\\",\\n            RandomForestClassifier(\\n                n_estimators=200, min_samples_split=4, max_features=0.8, max_samples=0.8\\n            ),\\n        ),\\n    ]\\n)\";\n",
       "                var nbb_cells = Jupyter.notebook.get_cells();\n",
       "                for (var i = 0; i < nbb_cells.length; ++i) {\n",
       "                    if (nbb_cells[i].input_prompt_number == nbb_cell_id) {\n",
       "                        if (nbb_cells[i].get_text() == nbb_unformatted_code) {\n",
       "                             nbb_cells[i].set_text(nbb_formatted_code);\n",
       "                        }\n",
       "                        break;\n",
       "                    }\n",
       "                }\n",
       "            }, 500);\n",
       "            "
      ],
      "text/plain": [
       "<IPython.core.display.Javascript object>"
      ]
     },
     "metadata": {},
     "output_type": "display_data"
    }
   ],
   "source": [
    "# Step Two: Scaling, Feature Selection, Modelling\n",
    "ml_pipeline = Pipeline(\n",
    "    steps=[\n",
    "        #        (\"preprocess\", preprocessor),\n",
    "        (\"scaling\", MinMaxScaler()),\n",
    "        (\"chi2select\", SelectPercentile(score_func=chi2, percentile=80)),\n",
    "        (\n",
    "            \"rfc\",\n",
    "            RandomForestClassifier(\n",
    "                n_estimators=200, min_samples_split=4, max_features=0.8, max_samples=0.8\n",
    "            ),\n",
    "        ),\n",
    "    ]\n",
    ")"
   ]
  },
  {
   "cell_type": "code",
   "execution_count": 27,
   "id": "2c5928bd",
   "metadata": {},
   "outputs": [
    {
     "data": {
      "text/html": [
       "<style>#sk-39ddd9e8-a361-47fa-b079-ba5c2ba00629 {color: black;background-color: white;}#sk-39ddd9e8-a361-47fa-b079-ba5c2ba00629 pre{padding: 0;}#sk-39ddd9e8-a361-47fa-b079-ba5c2ba00629 div.sk-toggleable {background-color: white;}#sk-39ddd9e8-a361-47fa-b079-ba5c2ba00629 label.sk-toggleable__label {cursor: pointer;display: block;width: 100%;margin-bottom: 0;padding: 0.3em;box-sizing: border-box;text-align: center;}#sk-39ddd9e8-a361-47fa-b079-ba5c2ba00629 div.sk-toggleable__content {max-height: 0;max-width: 0;overflow: hidden;text-align: left;background-color: #f0f8ff;}#sk-39ddd9e8-a361-47fa-b079-ba5c2ba00629 div.sk-toggleable__content pre {margin: 0.2em;color: black;border-radius: 0.25em;background-color: #f0f8ff;}#sk-39ddd9e8-a361-47fa-b079-ba5c2ba00629 input.sk-toggleable__control:checked~div.sk-toggleable__content {max-height: 200px;max-width: 100%;overflow: auto;}#sk-39ddd9e8-a361-47fa-b079-ba5c2ba00629 div.sk-estimator input.sk-toggleable__control:checked~label.sk-toggleable__label {background-color: #d4ebff;}#sk-39ddd9e8-a361-47fa-b079-ba5c2ba00629 div.sk-label input.sk-toggleable__control:checked~label.sk-toggleable__label {background-color: #d4ebff;}#sk-39ddd9e8-a361-47fa-b079-ba5c2ba00629 input.sk-hidden--visually {border: 0;clip: rect(1px 1px 1px 1px);clip: rect(1px, 1px, 1px, 1px);height: 1px;margin: -1px;overflow: hidden;padding: 0;position: absolute;width: 1px;}#sk-39ddd9e8-a361-47fa-b079-ba5c2ba00629 div.sk-estimator {font-family: monospace;background-color: #f0f8ff;border: 1px dotted black;border-radius: 0.25em;box-sizing: border-box;margin-bottom: 0.5em;}#sk-39ddd9e8-a361-47fa-b079-ba5c2ba00629 div.sk-estimator:hover {background-color: #d4ebff;}#sk-39ddd9e8-a361-47fa-b079-ba5c2ba00629 div.sk-parallel-item::after {content: \"\";width: 100%;border-bottom: 1px solid gray;flex-grow: 1;}#sk-39ddd9e8-a361-47fa-b079-ba5c2ba00629 div.sk-label:hover label.sk-toggleable__label {background-color: #d4ebff;}#sk-39ddd9e8-a361-47fa-b079-ba5c2ba00629 div.sk-serial::before {content: \"\";position: absolute;border-left: 1px solid gray;box-sizing: border-box;top: 2em;bottom: 0;left: 50%;}#sk-39ddd9e8-a361-47fa-b079-ba5c2ba00629 div.sk-serial {display: flex;flex-direction: column;align-items: center;background-color: white;padding-right: 0.2em;padding-left: 0.2em;}#sk-39ddd9e8-a361-47fa-b079-ba5c2ba00629 div.sk-item {z-index: 1;}#sk-39ddd9e8-a361-47fa-b079-ba5c2ba00629 div.sk-parallel {display: flex;align-items: stretch;justify-content: center;background-color: white;}#sk-39ddd9e8-a361-47fa-b079-ba5c2ba00629 div.sk-parallel::before {content: \"\";position: absolute;border-left: 1px solid gray;box-sizing: border-box;top: 2em;bottom: 0;left: 50%;}#sk-39ddd9e8-a361-47fa-b079-ba5c2ba00629 div.sk-parallel-item {display: flex;flex-direction: column;position: relative;background-color: white;}#sk-39ddd9e8-a361-47fa-b079-ba5c2ba00629 div.sk-parallel-item:first-child::after {align-self: flex-end;width: 50%;}#sk-39ddd9e8-a361-47fa-b079-ba5c2ba00629 div.sk-parallel-item:last-child::after {align-self: flex-start;width: 50%;}#sk-39ddd9e8-a361-47fa-b079-ba5c2ba00629 div.sk-parallel-item:only-child::after {width: 0;}#sk-39ddd9e8-a361-47fa-b079-ba5c2ba00629 div.sk-dashed-wrapped {border: 1px dashed gray;margin: 0 0.4em 0.5em 0.4em;box-sizing: border-box;padding-bottom: 0.4em;background-color: white;position: relative;}#sk-39ddd9e8-a361-47fa-b079-ba5c2ba00629 div.sk-label label {font-family: monospace;font-weight: bold;background-color: white;display: inline-block;line-height: 1.2em;}#sk-39ddd9e8-a361-47fa-b079-ba5c2ba00629 div.sk-label-container {position: relative;z-index: 2;text-align: center;}#sk-39ddd9e8-a361-47fa-b079-ba5c2ba00629 div.sk-container {display: inline-block;position: relative;}</style><div id=\"sk-39ddd9e8-a361-47fa-b079-ba5c2ba00629\" class\"sk-top-container\"><div class=\"sk-container\"><div class=\"sk-item sk-dashed-wrapped\"><div class=\"sk-label-container\"><div class=\"sk-label sk-toggleable\"><input class=\"sk-toggleable__control sk-hidden--visually\" id=\"3ea25535-314e-41f2-8575-2e8da89d3425\" type=\"checkbox\" ><label class=\"sk-toggleable__label\" for=\"3ea25535-314e-41f2-8575-2e8da89d3425\">Pipeline</label><div class=\"sk-toggleable__content\"><pre>Pipeline(steps=[('preprocess',\n",
       "                 Pipeline(steps=[('apgar', ApgarTransformer()),\n",
       "                                 ('birth',\n",
       "                                  BirthTransformer(binary_pregnancy_conditions=True)),\n",
       "                                 ('log1p',\n",
       "                                  Log1pTransformer(cols=['No_of_Pregnancy'])),\n",
       "                                 ('resp',\n",
       "                                  RespiratoryTransformer(first_18m_divide=True)),\n",
       "                                 ('pss', DiscretizePSS()),\n",
       "                                 ('colfilter',\n",
       "                                  ColumnFilter(feature_missingness=0.1)),\n",
       "                                 ('imp',\n",
       "                                  ImputerStrategizer(sele...\n",
       "                                 ('catimp',\n",
       "                                  CatNaNImputer(NaN_signal_thresh=100)),\n",
       "                                 ('numimp',\n",
       "                                  NumNaNimputer(add_indicator_threshold=100)),\n",
       "                                 ('collinear', CollinearRemover())])),\n",
       "                ('scaling', MinMaxScaler()),\n",
       "                ('chi2select',\n",
       "                 SelectPercentile(percentile=80,\n",
       "                                  score_func=<function chi2 at 0x7fe9dc322160>)),\n",
       "                ('rfc',\n",
       "                 RandomForestClassifier(max_features=0.8, max_samples=0.8,\n",
       "                                        min_samples_split=4,\n",
       "                                        n_estimators=200))])</pre></div></div></div><div class=\"sk-serial\"><div class=\"sk-item\"><div class=\"sk-label-container\"><div class=\"sk-label sk-toggleable\"><input class=\"sk-toggleable__control sk-hidden--visually\" id=\"8f61fa58-51e2-4ebb-98c8-d5b49e0a31f9\" type=\"checkbox\" ><label class=\"sk-toggleable__label\" for=\"8f61fa58-51e2-4ebb-98c8-d5b49e0a31f9\">preprocess: Pipeline</label><div class=\"sk-toggleable__content\"><pre>Pipeline(steps=[('apgar', ApgarTransformer()),\n",
       "                ('birth', BirthTransformer(binary_pregnancy_conditions=True)),\n",
       "                ('log1p', Log1pTransformer(cols=['No_of_Pregnancy'])),\n",
       "                ('resp', RespiratoryTransformer(first_18m_divide=True)),\n",
       "                ('pss', DiscretizePSS()),\n",
       "                ('colfilter', ColumnFilter(feature_missingness=0.1)),\n",
       "                ('imp', ImputerStrategizer(selective_threshold=100)),\n",
       "                ('catimp', CatNaNImputer(NaN_signal_thresh=100)),\n",
       "                ('numimp', NumNaNimputer(add_indicator_threshold=100)),\n",
       "                ('collinear', CollinearRemover())])</pre></div></div></div><div class=\"sk-serial\"><div class=\"sk-item\"><div class=\"sk-estimator sk-toggleable\"><input class=\"sk-toggleable__control sk-hidden--visually\" id=\"4d6f0caa-6065-4af9-aa9d-9bf686531158\" type=\"checkbox\" ><label class=\"sk-toggleable__label\" for=\"4d6f0caa-6065-4af9-aa9d-9bf686531158\">ApgarTransformer</label><div class=\"sk-toggleable__content\"><pre>ApgarTransformer()</pre></div></div></div><div class=\"sk-item\"><div class=\"sk-estimator sk-toggleable\"><input class=\"sk-toggleable__control sk-hidden--visually\" id=\"72689339-b297-4396-98b5-d071c697034b\" type=\"checkbox\" ><label class=\"sk-toggleable__label\" for=\"72689339-b297-4396-98b5-d071c697034b\">BirthTransformer</label><div class=\"sk-toggleable__content\"><pre>BirthTransformer(binary_pregnancy_conditions=True)</pre></div></div></div><div class=\"sk-item\"><div class=\"sk-estimator sk-toggleable\"><input class=\"sk-toggleable__control sk-hidden--visually\" id=\"c222f4f7-9a3b-47ea-82d8-a1a14d07f95f\" type=\"checkbox\" ><label class=\"sk-toggleable__label\" for=\"c222f4f7-9a3b-47ea-82d8-a1a14d07f95f\">Log1pTransformer</label><div class=\"sk-toggleable__content\"><pre>Log1pTransformer(cols=['No_of_Pregnancy'])</pre></div></div></div><div class=\"sk-item\"><div class=\"sk-estimator sk-toggleable\"><input class=\"sk-toggleable__control sk-hidden--visually\" id=\"15037009-e662-4a8e-bc4b-6412d4129a3b\" type=\"checkbox\" ><label class=\"sk-toggleable__label\" for=\"15037009-e662-4a8e-bc4b-6412d4129a3b\">RespiratoryTransformer</label><div class=\"sk-toggleable__content\"><pre>RespiratoryTransformer(first_18m_divide=True)</pre></div></div></div><div class=\"sk-item\"><div class=\"sk-estimator sk-toggleable\"><input class=\"sk-toggleable__control sk-hidden--visually\" id=\"a4fedd32-54df-4f2c-913b-95215456edeb\" type=\"checkbox\" ><label class=\"sk-toggleable__label\" for=\"a4fedd32-54df-4f2c-913b-95215456edeb\">DiscretizePSS</label><div class=\"sk-toggleable__content\"><pre>DiscretizePSS()</pre></div></div></div><div class=\"sk-item\"><div class=\"sk-estimator sk-toggleable\"><input class=\"sk-toggleable__control sk-hidden--visually\" id=\"f1c4a021-2649-4f7c-ac24-4e5eaa456c0c\" type=\"checkbox\" ><label class=\"sk-toggleable__label\" for=\"f1c4a021-2649-4f7c-ac24-4e5eaa456c0c\">ColumnFilter</label><div class=\"sk-toggleable__content\"><pre>ColumnFilter(feature_missingness=0.1)</pre></div></div></div><div class=\"sk-item\"><div class=\"sk-estimator sk-toggleable\"><input class=\"sk-toggleable__control sk-hidden--visually\" id=\"93637fed-1267-4edd-b791-863282ea72d2\" type=\"checkbox\" ><label class=\"sk-toggleable__label\" for=\"93637fed-1267-4edd-b791-863282ea72d2\">ImputerStrategizer</label><div class=\"sk-toggleable__content\"><pre>ImputerStrategizer(selective_threshold=100)</pre></div></div></div><div class=\"sk-item\"><div class=\"sk-estimator sk-toggleable\"><input class=\"sk-toggleable__control sk-hidden--visually\" id=\"518f101c-d2c2-4495-9df8-b035f969e3ed\" type=\"checkbox\" ><label class=\"sk-toggleable__label\" for=\"518f101c-d2c2-4495-9df8-b035f969e3ed\">CatNaNImputer</label><div class=\"sk-toggleable__content\"><pre>CatNaNImputer(NaN_signal_thresh=100)</pre></div></div></div><div class=\"sk-item\"><div class=\"sk-estimator sk-toggleable\"><input class=\"sk-toggleable__control sk-hidden--visually\" id=\"12debb4d-fecd-407b-aee3-2166ec1f99f9\" type=\"checkbox\" ><label class=\"sk-toggleable__label\" for=\"12debb4d-fecd-407b-aee3-2166ec1f99f9\">NumNaNimputer</label><div class=\"sk-toggleable__content\"><pre>NumNaNimputer(add_indicator_threshold=100)</pre></div></div></div><div class=\"sk-item\"><div class=\"sk-estimator sk-toggleable\"><input class=\"sk-toggleable__control sk-hidden--visually\" id=\"2ea88da9-0f43-45f2-aaa0-8bc1f5cc89c2\" type=\"checkbox\" ><label class=\"sk-toggleable__label\" for=\"2ea88da9-0f43-45f2-aaa0-8bc1f5cc89c2\">CollinearRemover</label><div class=\"sk-toggleable__content\"><pre>CollinearRemover()</pre></div></div></div></div></div><div class=\"sk-item\"><div class=\"sk-estimator sk-toggleable\"><input class=\"sk-toggleable__control sk-hidden--visually\" id=\"5276944b-c044-452e-8317-6653c52e5155\" type=\"checkbox\" ><label class=\"sk-toggleable__label\" for=\"5276944b-c044-452e-8317-6653c52e5155\">MinMaxScaler</label><div class=\"sk-toggleable__content\"><pre>MinMaxScaler()</pre></div></div></div><div class=\"sk-item\"><div class=\"sk-estimator sk-toggleable\"><input class=\"sk-toggleable__control sk-hidden--visually\" id=\"d56e9c9b-5eea-4375-86d3-88142cde88d4\" type=\"checkbox\" ><label class=\"sk-toggleable__label\" for=\"d56e9c9b-5eea-4375-86d3-88142cde88d4\">SelectPercentile</label><div class=\"sk-toggleable__content\"><pre>SelectPercentile(percentile=80, score_func=<function chi2 at 0x7fe9dc322160>)</pre></div></div></div><div class=\"sk-item\"><div class=\"sk-estimator sk-toggleable\"><input class=\"sk-toggleable__control sk-hidden--visually\" id=\"3b8cbad4-2612-4d04-93da-4dd2eabb155a\" type=\"checkbox\" ><label class=\"sk-toggleable__label\" for=\"3b8cbad4-2612-4d04-93da-4dd2eabb155a\">RandomForestClassifier</label><div class=\"sk-toggleable__content\"><pre>RandomForestClassifier(max_features=0.8, max_samples=0.8, min_samples_split=4,\n",
       "                       n_estimators=200)</pre></div></div></div></div></div></div></div>"
      ],
      "text/plain": [
       "Pipeline(steps=[('preprocess',\n",
       "                 Pipeline(steps=[('apgar', ApgarTransformer()),\n",
       "                                 ('birth',\n",
       "                                  BirthTransformer(binary_pregnancy_conditions=True)),\n",
       "                                 ('log1p',\n",
       "                                  Log1pTransformer(cols=['No_of_Pregnancy'])),\n",
       "                                 ('resp',\n",
       "                                  RespiratoryTransformer(first_18m_divide=True)),\n",
       "                                 ('pss', DiscretizePSS()),\n",
       "                                 ('colfilter',\n",
       "                                  ColumnFilter(feature_missingness=0.1)),\n",
       "                                 ('imp',\n",
       "                                  ImputerStrategizer(sele...\n",
       "                                 ('catimp',\n",
       "                                  CatNaNImputer(NaN_signal_thresh=100)),\n",
       "                                 ('numimp',\n",
       "                                  NumNaNimputer(add_indicator_threshold=100)),\n",
       "                                 ('collinear', CollinearRemover())])),\n",
       "                ('scaling', MinMaxScaler()),\n",
       "                ('chi2select',\n",
       "                 SelectPercentile(percentile=80,\n",
       "                                  score_func=<function chi2 at 0x7fe9dc322160>)),\n",
       "                ('rfc',\n",
       "                 RandomForestClassifier(max_features=0.8, max_samples=0.8,\n",
       "                                        min_samples_split=4,\n",
       "                                        n_estimators=200))])"
      ]
     },
     "execution_count": 27,
     "metadata": {},
     "output_type": "execute_result"
    },
    {
     "data": {
      "application/javascript": [
       "\n",
       "            setTimeout(function() {\n",
       "                var nbb_cell_id = 27;\n",
       "                var nbb_unformatted_code = \"from sklearn import set_config\\n\\nset_config(display=\\\"diagram\\\")\\nml_pipeline\";\n",
       "                var nbb_formatted_code = \"from sklearn import set_config\\n\\nset_config(display=\\\"diagram\\\")\\nml_pipeline\";\n",
       "                var nbb_cells = Jupyter.notebook.get_cells();\n",
       "                for (var i = 0; i < nbb_cells.length; ++i) {\n",
       "                    if (nbb_cells[i].input_prompt_number == nbb_cell_id) {\n",
       "                        if (nbb_cells[i].get_text() == nbb_unformatted_code) {\n",
       "                             nbb_cells[i].set_text(nbb_formatted_code);\n",
       "                        }\n",
       "                        break;\n",
       "                    }\n",
       "                }\n",
       "            }, 500);\n",
       "            "
      ],
      "text/plain": [
       "<IPython.core.display.Javascript object>"
      ]
     },
     "metadata": {},
     "output_type": "display_data"
    }
   ],
   "source": [
    "from sklearn import set_config\n",
    "\n",
    "set_config(display=\"diagram\")\n",
    "ml_pipeline"
   ]
  },
  {
   "cell_type": "code",
   "execution_count": 79,
   "id": "b39bf931",
   "metadata": {},
   "outputs": [
    {
     "data": {
      "text/html": [
       "<style>#sk-c4f798b7-bdf1-478a-9f06-057703b207d6 {color: black;background-color: white;}#sk-c4f798b7-bdf1-478a-9f06-057703b207d6 pre{padding: 0;}#sk-c4f798b7-bdf1-478a-9f06-057703b207d6 div.sk-toggleable {background-color: white;}#sk-c4f798b7-bdf1-478a-9f06-057703b207d6 label.sk-toggleable__label {cursor: pointer;display: block;width: 100%;margin-bottom: 0;padding: 0.3em;box-sizing: border-box;text-align: center;}#sk-c4f798b7-bdf1-478a-9f06-057703b207d6 div.sk-toggleable__content {max-height: 0;max-width: 0;overflow: hidden;text-align: left;background-color: #f0f8ff;}#sk-c4f798b7-bdf1-478a-9f06-057703b207d6 div.sk-toggleable__content pre {margin: 0.2em;color: black;border-radius: 0.25em;background-color: #f0f8ff;}#sk-c4f798b7-bdf1-478a-9f06-057703b207d6 input.sk-toggleable__control:checked~div.sk-toggleable__content {max-height: 200px;max-width: 100%;overflow: auto;}#sk-c4f798b7-bdf1-478a-9f06-057703b207d6 div.sk-estimator input.sk-toggleable__control:checked~label.sk-toggleable__label {background-color: #d4ebff;}#sk-c4f798b7-bdf1-478a-9f06-057703b207d6 div.sk-label input.sk-toggleable__control:checked~label.sk-toggleable__label {background-color: #d4ebff;}#sk-c4f798b7-bdf1-478a-9f06-057703b207d6 input.sk-hidden--visually {border: 0;clip: rect(1px 1px 1px 1px);clip: rect(1px, 1px, 1px, 1px);height: 1px;margin: -1px;overflow: hidden;padding: 0;position: absolute;width: 1px;}#sk-c4f798b7-bdf1-478a-9f06-057703b207d6 div.sk-estimator {font-family: monospace;background-color: #f0f8ff;border: 1px dotted black;border-radius: 0.25em;box-sizing: border-box;margin-bottom: 0.5em;}#sk-c4f798b7-bdf1-478a-9f06-057703b207d6 div.sk-estimator:hover {background-color: #d4ebff;}#sk-c4f798b7-bdf1-478a-9f06-057703b207d6 div.sk-parallel-item::after {content: \"\";width: 100%;border-bottom: 1px solid gray;flex-grow: 1;}#sk-c4f798b7-bdf1-478a-9f06-057703b207d6 div.sk-label:hover label.sk-toggleable__label {background-color: #d4ebff;}#sk-c4f798b7-bdf1-478a-9f06-057703b207d6 div.sk-serial::before {content: \"\";position: absolute;border-left: 1px solid gray;box-sizing: border-box;top: 2em;bottom: 0;left: 50%;}#sk-c4f798b7-bdf1-478a-9f06-057703b207d6 div.sk-serial {display: flex;flex-direction: column;align-items: center;background-color: white;padding-right: 0.2em;padding-left: 0.2em;}#sk-c4f798b7-bdf1-478a-9f06-057703b207d6 div.sk-item {z-index: 1;}#sk-c4f798b7-bdf1-478a-9f06-057703b207d6 div.sk-parallel {display: flex;align-items: stretch;justify-content: center;background-color: white;}#sk-c4f798b7-bdf1-478a-9f06-057703b207d6 div.sk-parallel::before {content: \"\";position: absolute;border-left: 1px solid gray;box-sizing: border-box;top: 2em;bottom: 0;left: 50%;}#sk-c4f798b7-bdf1-478a-9f06-057703b207d6 div.sk-parallel-item {display: flex;flex-direction: column;position: relative;background-color: white;}#sk-c4f798b7-bdf1-478a-9f06-057703b207d6 div.sk-parallel-item:first-child::after {align-self: flex-end;width: 50%;}#sk-c4f798b7-bdf1-478a-9f06-057703b207d6 div.sk-parallel-item:last-child::after {align-self: flex-start;width: 50%;}#sk-c4f798b7-bdf1-478a-9f06-057703b207d6 div.sk-parallel-item:only-child::after {width: 0;}#sk-c4f798b7-bdf1-478a-9f06-057703b207d6 div.sk-dashed-wrapped {border: 1px dashed gray;margin: 0 0.4em 0.5em 0.4em;box-sizing: border-box;padding-bottom: 0.4em;background-color: white;position: relative;}#sk-c4f798b7-bdf1-478a-9f06-057703b207d6 div.sk-label label {font-family: monospace;font-weight: bold;background-color: white;display: inline-block;line-height: 1.2em;}#sk-c4f798b7-bdf1-478a-9f06-057703b207d6 div.sk-label-container {position: relative;z-index: 2;text-align: center;}#sk-c4f798b7-bdf1-478a-9f06-057703b207d6 div.sk-container {display: inline-block;position: relative;}</style><div id=\"sk-c4f798b7-bdf1-478a-9f06-057703b207d6\" class\"sk-top-container\"><div class=\"sk-container\"><div class=\"sk-item sk-dashed-wrapped\"><div class=\"sk-label-container\"><div class=\"sk-label sk-toggleable\"><input class=\"sk-toggleable__control sk-hidden--visually\" id=\"78e7d955-3329-4d14-ad1e-461c9fe08018\" type=\"checkbox\" ><label class=\"sk-toggleable__label\" for=\"78e7d955-3329-4d14-ad1e-461c9fe08018\">Pipeline</label><div class=\"sk-toggleable__content\"><pre>Pipeline(steps=[('scaling', MinMaxScaler()),\n",
       "                ('chi2select',\n",
       "                 SelectPercentile(percentile=30,\n",
       "                                  score_func=<function chi2 at 0x7fe9dc322160>)),\n",
       "                ('rfc',\n",
       "                 RandomForestClassifier(min_samples_split=5,\n",
       "                                        n_estimators=300))])</pre></div></div></div><div class=\"sk-serial\"><div class=\"sk-item\"><div class=\"sk-estimator sk-toggleable\"><input class=\"sk-toggleable__control sk-hidden--visually\" id=\"33c38c43-6746-4a42-b292-485a2ca993d7\" type=\"checkbox\" ><label class=\"sk-toggleable__label\" for=\"33c38c43-6746-4a42-b292-485a2ca993d7\">MinMaxScaler</label><div class=\"sk-toggleable__content\"><pre>MinMaxScaler()</pre></div></div></div><div class=\"sk-item\"><div class=\"sk-estimator sk-toggleable\"><input class=\"sk-toggleable__control sk-hidden--visually\" id=\"33232731-e34b-4af0-adb2-bdcfdad2cf5a\" type=\"checkbox\" ><label class=\"sk-toggleable__label\" for=\"33232731-e34b-4af0-adb2-bdcfdad2cf5a\">SelectPercentile</label><div class=\"sk-toggleable__content\"><pre>SelectPercentile(percentile=30, score_func=<function chi2 at 0x7fe9dc322160>)</pre></div></div></div><div class=\"sk-item\"><div class=\"sk-estimator sk-toggleable\"><input class=\"sk-toggleable__control sk-hidden--visually\" id=\"c8f4d55c-b99b-4d5e-9643-9118cb59af9f\" type=\"checkbox\" ><label class=\"sk-toggleable__label\" for=\"c8f4d55c-b99b-4d5e-9643-9118cb59af9f\">RandomForestClassifier</label><div class=\"sk-toggleable__content\"><pre>RandomForestClassifier(min_samples_split=5, n_estimators=300)</pre></div></div></div></div></div></div></div>"
      ],
      "text/plain": [
       "Pipeline(steps=[('scaling', MinMaxScaler()),\n",
       "                ('chi2select',\n",
       "                 SelectPercentile(percentile=30,\n",
       "                                  score_func=<function chi2 at 0x7fe9dc322160>)),\n",
       "                ('rfc',\n",
       "                 RandomForestClassifier(min_samples_split=5,\n",
       "                                        n_estimators=300))])"
      ]
     },
     "execution_count": 79,
     "metadata": {},
     "output_type": "execute_result"
    },
    {
     "data": {
      "application/javascript": [
       "\n",
       "            setTimeout(function() {\n",
       "                var nbb_cell_id = 79;\n",
       "                var nbb_unformatted_code = \"ml_pipeline.fit(X_over, y_over)\";\n",
       "                var nbb_formatted_code = \"ml_pipeline.fit(X_over, y_over)\";\n",
       "                var nbb_cells = Jupyter.notebook.get_cells();\n",
       "                for (var i = 0; i < nbb_cells.length; ++i) {\n",
       "                    if (nbb_cells[i].input_prompt_number == nbb_cell_id) {\n",
       "                        if (nbb_cells[i].get_text() == nbb_unformatted_code) {\n",
       "                             nbb_cells[i].set_text(nbb_formatted_code);\n",
       "                        }\n",
       "                        break;\n",
       "                    }\n",
       "                }\n",
       "            }, 500);\n",
       "            "
      ],
      "text/plain": [
       "<IPython.core.display.Javascript object>"
      ]
     },
     "metadata": {},
     "output_type": "display_data"
    }
   ],
   "source": [
    "ml_pipeline.fit(X_over, y_over)"
   ]
  },
  {
   "cell_type": "code",
   "execution_count": 30,
   "id": "d88b88be",
   "metadata": {},
   "outputs": [
    {
     "data": {
      "application/javascript": [
       "\n",
       "            setTimeout(function() {\n",
       "                var nbb_cell_id = 30;\n",
       "                var nbb_unformatted_code = \"y_pred = ml_pipeline.predict(X_test)\";\n",
       "                var nbb_formatted_code = \"y_pred = ml_pipeline.predict(X_test)\";\n",
       "                var nbb_cells = Jupyter.notebook.get_cells();\n",
       "                for (var i = 0; i < nbb_cells.length; ++i) {\n",
       "                    if (nbb_cells[i].input_prompt_number == nbb_cell_id) {\n",
       "                        if (nbb_cells[i].get_text() == nbb_unformatted_code) {\n",
       "                             nbb_cells[i].set_text(nbb_formatted_code);\n",
       "                        }\n",
       "                        break;\n",
       "                    }\n",
       "                }\n",
       "            }, 500);\n",
       "            "
      ],
      "text/plain": [
       "<IPython.core.display.Javascript object>"
      ]
     },
     "metadata": {},
     "output_type": "display_data"
    }
   ],
   "source": [
    "y_pred = ml_pipeline.predict(X_test)"
   ]
  },
  {
   "cell_type": "code",
   "execution_count": 31,
   "id": "880140c4",
   "metadata": {},
   "outputs": [
    {
     "data": {
      "application/javascript": [
       "\n",
       "            setTimeout(function() {\n",
       "                var nbb_cell_id = 31;\n",
       "                var nbb_unformatted_code = \"from sklearn.metrics import plot_confusion_matrix\";\n",
       "                var nbb_formatted_code = \"from sklearn.metrics import plot_confusion_matrix\";\n",
       "                var nbb_cells = Jupyter.notebook.get_cells();\n",
       "                for (var i = 0; i < nbb_cells.length; ++i) {\n",
       "                    if (nbb_cells[i].input_prompt_number == nbb_cell_id) {\n",
       "                        if (nbb_cells[i].get_text() == nbb_unformatted_code) {\n",
       "                             nbb_cells[i].set_text(nbb_formatted_code);\n",
       "                        }\n",
       "                        break;\n",
       "                    }\n",
       "                }\n",
       "            }, 500);\n",
       "            "
      ],
      "text/plain": [
       "<IPython.core.display.Javascript object>"
      ]
     },
     "metadata": {},
     "output_type": "display_data"
    }
   ],
   "source": [
    "from sklearn.metrics import plot_confusion_matrix"
   ]
  },
  {
   "cell_type": "code",
   "execution_count": 80,
   "id": "053979c7",
   "metadata": {},
   "outputs": [
    {
     "data": {
      "text/plain": [
       "<sklearn.metrics._plot.confusion_matrix.ConfusionMatrixDisplay at 0x7fe9b95dd1c0>"
      ]
     },
     "execution_count": 80,
     "metadata": {},
     "output_type": "execute_result"
    },
    {
     "data": {
      "image/png": "[encoded data removed]",
      "text/plain": [
       "<Figure size 432x288 with 2 Axes>"
      ]
     },
     "metadata": {
      "needs_background": "light"
     },
     "output_type": "display_data"
    },
    {
     "data": {
      "application/javascript": [
       "\n",
       "            setTimeout(function() {\n",
       "                var nbb_cell_id = 80;\n",
       "                var nbb_unformatted_code = \"plot_confusion_matrix(ml_pipeline, X_over_test, y_over_test)\";\n",
       "                var nbb_formatted_code = \"plot_confusion_matrix(ml_pipeline, X_over_test, y_over_test)\";\n",
       "                var nbb_cells = Jupyter.notebook.get_cells();\n",
       "                for (var i = 0; i < nbb_cells.length; ++i) {\n",
       "                    if (nbb_cells[i].input_prompt_number == nbb_cell_id) {\n",
       "                        if (nbb_cells[i].get_text() == nbb_unformatted_code) {\n",
       "                             nbb_cells[i].set_text(nbb_formatted_code);\n",
       "                        }\n",
       "                        break;\n",
       "                    }\n",
       "                }\n",
       "            }, 500);\n",
       "            "
      ],
      "text/plain": [
       "<IPython.core.display.Javascript object>"
      ]
     },
     "metadata": {},
     "output_type": "display_data"
    }
   ],
   "source": [
    "plot_confusion_matrix(ml_pipeline, X_over_test, y_over_test)"
   ]
  },
  {
   "cell_type": "code",
   "execution_count": 35,
   "id": "9722aa56",
   "metadata": {},
   "outputs": [
    {
     "name": "stdout",
     "output_type": "stream",
     "text": [
      "              precision    recall  f1-score   support\n",
      "\n",
      "         0.0       0.95      0.85      0.90       766\n",
      "         1.0       0.10      0.28      0.14        43\n",
      "\n",
      "    accuracy                           0.82       809\n",
      "   macro avg       0.52      0.57      0.52       809\n",
      "weighted avg       0.91      0.82      0.86       809\n",
      "\n"
     ]
    },
    {
     "data": {
      "application/javascript": [
       "\n",
       "            setTimeout(function() {\n",
       "                var nbb_cell_id = 35;\n",
       "                var nbb_unformatted_code = \"print(classification_report(y_pred, y_test))\";\n",
       "                var nbb_formatted_code = \"print(classification_report(y_pred, y_test))\";\n",
       "                var nbb_cells = Jupyter.notebook.get_cells();\n",
       "                for (var i = 0; i < nbb_cells.length; ++i) {\n",
       "                    if (nbb_cells[i].input_prompt_number == nbb_cell_id) {\n",
       "                        if (nbb_cells[i].get_text() == nbb_unformatted_code) {\n",
       "                             nbb_cells[i].set_text(nbb_formatted_code);\n",
       "                        }\n",
       "                        break;\n",
       "                    }\n",
       "                }\n",
       "            }, 500);\n",
       "            "
      ],
      "text/plain": [
       "<IPython.core.display.Javascript object>"
      ]
     },
     "metadata": {},
     "output_type": "display_data"
    }
   ],
   "source": [
    "print(classification_report(y_pred, y_test))"
   ]
  },
  {
   "cell_type": "code",
   "execution_count": 39,
   "id": "6d7df7fc",
   "metadata": {},
   "outputs": [
    {
     "data": {
      "text/html": [
       "<style>#sk-4870ec6a-c7bc-42fa-94df-c3671b5f7bd0 {color: black;background-color: white;}#sk-4870ec6a-c7bc-42fa-94df-c3671b5f7bd0 pre{padding: 0;}#sk-4870ec6a-c7bc-42fa-94df-c3671b5f7bd0 div.sk-toggleable {background-color: white;}#sk-4870ec6a-c7bc-42fa-94df-c3671b5f7bd0 label.sk-toggleable__label {cursor: pointer;display: block;width: 100%;margin-bottom: 0;padding: 0.3em;box-sizing: border-box;text-align: center;}#sk-4870ec6a-c7bc-42fa-94df-c3671b5f7bd0 div.sk-toggleable__content {max-height: 0;max-width: 0;overflow: hidden;text-align: left;background-color: #f0f8ff;}#sk-4870ec6a-c7bc-42fa-94df-c3671b5f7bd0 div.sk-toggleable__content pre {margin: 0.2em;color: black;border-radius: 0.25em;background-color: #f0f8ff;}#sk-4870ec6a-c7bc-42fa-94df-c3671b5f7bd0 input.sk-toggleable__control:checked~div.sk-toggleable__content {max-height: 200px;max-width: 100%;overflow: auto;}#sk-4870ec6a-c7bc-42fa-94df-c3671b5f7bd0 div.sk-estimator input.sk-toggleable__control:checked~label.sk-toggleable__label {background-color: #d4ebff;}#sk-4870ec6a-c7bc-42fa-94df-c3671b5f7bd0 div.sk-label input.sk-toggleable__control:checked~label.sk-toggleable__label {background-color: #d4ebff;}#sk-4870ec6a-c7bc-42fa-94df-c3671b5f7bd0 input.sk-hidden--visually {border: 0;clip: rect(1px 1px 1px 1px);clip: rect(1px, 1px, 1px, 1px);height: 1px;margin: -1px;overflow: hidden;padding: 0;position: absolute;width: 1px;}#sk-4870ec6a-c7bc-42fa-94df-c3671b5f7bd0 div.sk-estimator {font-family: monospace;background-color: #f0f8ff;border: 1px dotted black;border-radius: 0.25em;box-sizing: border-box;margin-bottom: 0.5em;}#sk-4870ec6a-c7bc-42fa-94df-c3671b5f7bd0 div.sk-estimator:hover {background-color: #d4ebff;}#sk-4870ec6a-c7bc-42fa-94df-c3671b5f7bd0 div.sk-parallel-item::after {content: \"\";width: 100%;border-bottom: 1px solid gray;flex-grow: 1;}#sk-4870ec6a-c7bc-42fa-94df-c3671b5f7bd0 div.sk-label:hover label.sk-toggleable__label {background-color: #d4ebff;}#sk-4870ec6a-c7bc-42fa-94df-c3671b5f7bd0 div.sk-serial::before {content: \"\";position: absolute;border-left: 1px solid gray;box-sizing: border-box;top: 2em;bottom: 0;left: 50%;}#sk-4870ec6a-c7bc-42fa-94df-c3671b5f7bd0 div.sk-serial {display: flex;flex-direction: column;align-items: center;background-color: white;padding-right: 0.2em;padding-left: 0.2em;}#sk-4870ec6a-c7bc-42fa-94df-c3671b5f7bd0 div.sk-item {z-index: 1;}#sk-4870ec6a-c7bc-42fa-94df-c3671b5f7bd0 div.sk-parallel {display: flex;align-items: stretch;justify-content: center;background-color: white;}#sk-4870ec6a-c7bc-42fa-94df-c3671b5f7bd0 div.sk-parallel::before {content: \"\";position: absolute;border-left: 1px solid gray;box-sizing: border-box;top: 2em;bottom: 0;left: 50%;}#sk-4870ec6a-c7bc-42fa-94df-c3671b5f7bd0 div.sk-parallel-item {display: flex;flex-direction: column;position: relative;background-color: white;}#sk-4870ec6a-c7bc-42fa-94df-c3671b5f7bd0 div.sk-parallel-item:first-child::after {align-self: flex-end;width: 50%;}#sk-4870ec6a-c7bc-42fa-94df-c3671b5f7bd0 div.sk-parallel-item:last-child::after {align-self: flex-start;width: 50%;}#sk-4870ec6a-c7bc-42fa-94df-c3671b5f7bd0 div.sk-parallel-item:only-child::after {width: 0;}#sk-4870ec6a-c7bc-42fa-94df-c3671b5f7bd0 div.sk-dashed-wrapped {border: 1px dashed gray;margin: 0 0.4em 0.5em 0.4em;box-sizing: border-box;padding-bottom: 0.4em;background-color: white;position: relative;}#sk-4870ec6a-c7bc-42fa-94df-c3671b5f7bd0 div.sk-label label {font-family: monospace;font-weight: bold;background-color: white;display: inline-block;line-height: 1.2em;}#sk-4870ec6a-c7bc-42fa-94df-c3671b5f7bd0 div.sk-label-container {position: relative;z-index: 2;text-align: center;}#sk-4870ec6a-c7bc-42fa-94df-c3671b5f7bd0 div.sk-container {display: inline-block;position: relative;}</style><div id=\"sk-4870ec6a-c7bc-42fa-94df-c3671b5f7bd0\" class\"sk-top-container\"><div class=\"sk-container\"><div class=\"sk-item sk-dashed-wrapped\"><div class=\"sk-label-container\"><div class=\"sk-label sk-toggleable\"><input class=\"sk-toggleable__control sk-hidden--visually\" id=\"18da06bd-e462-4157-b332-ac78b1259d9f\" type=\"checkbox\" ><label class=\"sk-toggleable__label\" for=\"18da06bd-e462-4157-b332-ac78b1259d9f\">Pipeline</label><div class=\"sk-toggleable__content\"><pre>Pipeline(steps=[('scaling', MinMaxScaler()),\n",
       "                ('chi2select',\n",
       "                 SelectPercentile(percentile=80,\n",
       "                                  score_func=<function chi2 at 0x7fe9dc322160>)),\n",
       "                ('rfc',\n",
       "                 RandomForestClassifier(max_features=0.8, max_samples=0.8,\n",
       "                                        min_samples_split=4,\n",
       "                                        n_estimators=200))])</pre></div></div></div><div class=\"sk-serial\"><div class=\"sk-item\"><div class=\"sk-estimator sk-toggleable\"><input class=\"sk-toggleable__control sk-hidden--visually\" id=\"2b57b255-5914-40ac-b36c-13d6a48ecc9f\" type=\"checkbox\" ><label class=\"sk-toggleable__label\" for=\"2b57b255-5914-40ac-b36c-13d6a48ecc9f\">MinMaxScaler</label><div class=\"sk-toggleable__content\"><pre>MinMaxScaler()</pre></div></div></div><div class=\"sk-item\"><div class=\"sk-estimator sk-toggleable\"><input class=\"sk-toggleable__control sk-hidden--visually\" id=\"0cf47e09-92f0-4238-8ced-567c60f4057f\" type=\"checkbox\" ><label class=\"sk-toggleable__label\" for=\"0cf47e09-92f0-4238-8ced-567c60f4057f\">SelectPercentile</label><div class=\"sk-toggleable__content\"><pre>SelectPercentile(percentile=80, score_func=<function chi2 at 0x7fe9dc322160>)</pre></div></div></div><div class=\"sk-item\"><div class=\"sk-estimator sk-toggleable\"><input class=\"sk-toggleable__control sk-hidden--visually\" id=\"b87d2445-4804-47f5-880e-33c798d506a4\" type=\"checkbox\" ><label class=\"sk-toggleable__label\" for=\"b87d2445-4804-47f5-880e-33c798d506a4\">RandomForestClassifier</label><div class=\"sk-toggleable__content\"><pre>RandomForestClassifier(max_features=0.8, max_samples=0.8, min_samples_split=4,\n",
       "                       n_estimators=200)</pre></div></div></div></div></div></div></div>"
      ],
      "text/plain": [
       "Pipeline(steps=[('scaling', MinMaxScaler()),\n",
       "                ('chi2select',\n",
       "                 SelectPercentile(percentile=80,\n",
       "                                  score_func=<function chi2 at 0x7fe9dc322160>)),\n",
       "                ('rfc',\n",
       "                 RandomForestClassifier(max_features=0.8, max_samples=0.8,\n",
       "                                        min_samples_split=4,\n",
       "                                        n_estimators=200))])"
      ]
     },
     "execution_count": 39,
     "metadata": {},
     "output_type": "execute_result"
    },
    {
     "data": {
      "application/javascript": [
       "\n",
       "            setTimeout(function() {\n",
       "                var nbb_cell_id = 39;\n",
       "                var nbb_unformatted_code = \"ml_pipeline\";\n",
       "                var nbb_formatted_code = \"ml_pipeline\";\n",
       "                var nbb_cells = Jupyter.notebook.get_cells();\n",
       "                for (var i = 0; i < nbb_cells.length; ++i) {\n",
       "                    if (nbb_cells[i].input_prompt_number == nbb_cell_id) {\n",
       "                        if (nbb_cells[i].get_text() == nbb_unformatted_code) {\n",
       "                             nbb_cells[i].set_text(nbb_formatted_code);\n",
       "                        }\n",
       "                        break;\n",
       "                    }\n",
       "                }\n",
       "            }, 500);\n",
       "            "
      ],
      "text/plain": [
       "<IPython.core.display.Javascript object>"
      ]
     },
     "metadata": {},
     "output_type": "display_data"
    }
   ],
   "source": [
    "ml_pipeline"
   ]
  },
  {
   "cell_type": "code",
   "execution_count": 42,
   "id": "de8d0dc0",
   "metadata": {},
   "outputs": [
    {
     "name": "stdout",
     "output_type": "stream",
     "text": [
      "Fitting 3 folds for each of 216 candidates, totalling 648 fits\n",
      "[CV 1/3; 1/216] START chi2select__percentile=30, rfc__bootstrap=True, rfc__max_depth=10, rfc__max_samples=0.8, rfc__min_samples_split=2, rfc__n_estimators=50\n",
      "[CV 1/3; 1/216] END chi2select__percentile=30, rfc__bootstrap=True, rfc__max_depth=10, rfc__max_samples=0.8, rfc__min_samples_split=2, rfc__n_estimators=50;, score=0.821 total time=   0.1s\n",
      "[CV 2/3; 1/216] START chi2select__percentile=30, rfc__bootstrap=True, rfc__max_depth=10, rfc__max_samples=0.8, rfc__min_samples_split=2, rfc__n_estimators=50\n",
      "[CV 2/3; 1/216] END chi2select__percentile=30, rfc__bootstrap=True, rfc__max_depth=10, rfc__max_samples=0.8, rfc__min_samples_split=2, rfc__n_estimators=50;, score=0.838 total time=   0.1s\n",
      "[CV 3/3; 1/216] START chi2select__percentile=30, rfc__bootstrap=True, rfc__max_depth=10, rfc__max_samples=0.8, rfc__min_samples_split=2, rfc__n_estimators=50\n",
      "[CV 3/3; 1/216] END chi2select__percentile=30, rfc__bootstrap=True, rfc__max_depth=10, rfc__max_samples=0.8, rfc__min_samples_split=2, rfc__n_estimators=50;, score=0.828 total time=   0.1s\n",
      "[CV 1/3; 2/216] START chi2select__percentile=30, rfc__bootstrap=True, rfc__max_depth=10, rfc__max_samples=0.8, rfc__min_samples_split=2, rfc__n_estimators=100\n",
      "[CV 1/3; 2/216] END chi2select__percentile=30, rfc__bootstrap=True, rfc__max_depth=10, rfc__max_samples=0.8, rfc__min_samples_split=2, rfc__n_estimators=100;, score=0.840 total time=   0.2s\n",
      "[CV 2/3; 2/216] START chi2select__percentile=30, rfc__bootstrap=True, rfc__max_depth=10, rfc__max_samples=0.8, rfc__min_samples_split=2, rfc__n_estimators=100\n",
      "[CV 2/3; 2/216] END chi2select__percentile=30, rfc__bootstrap=True, rfc__max_depth=10, rfc__max_samples=0.8, rfc__min_samples_split=2, rfc__n_estimators=100;, score=0.840 total time=   0.2s\n",
      "[CV 3/3; 2/216] START chi2select__percentile=30, rfc__bootstrap=True, rfc__max_depth=10, rfc__max_samples=0.8, rfc__min_samples_split=2, rfc__n_estimators=100\n",
      "[CV 3/3; 2/216] END chi2select__percentile=30, rfc__bootstrap=True, rfc__max_depth=10, rfc__max_samples=0.8, rfc__min_samples_split=2, rfc__n_estimators=100;, score=0.822 total time=   0.2s\n",
      "[CV 1/3; 3/216] START chi2select__percentile=30, rfc__bootstrap=True, rfc__max_depth=10, rfc__max_samples=0.8, rfc__min_samples_split=2, rfc__n_estimators=300\n",
      "[CV 1/3; 3/216] END chi2select__percentile=30, rfc__bootstrap=True, rfc__max_depth=10, rfc__max_samples=0.8, rfc__min_samples_split=2, rfc__n_estimators=300;, score=0.821 total time=   0.6s\n",
      "[CV 2/3; 3/216] START chi2select__percentile=30, rfc__bootstrap=True, rfc__max_depth=10, rfc__max_samples=0.8, rfc__min_samples_split=2, rfc__n_estimators=300\n",
      "[CV 2/3; 3/216] END chi2select__percentile=30, rfc__bootstrap=True, rfc__max_depth=10, rfc__max_samples=0.8, rfc__min_samples_split=2, rfc__n_estimators=300;, score=0.851 total time=   0.6s\n",
      "[CV 3/3; 3/216] START chi2select__percentile=30, rfc__bootstrap=True, rfc__max_depth=10, rfc__max_samples=0.8, rfc__min_samples_split=2, rfc__n_estimators=300\n",
      "[CV 3/3; 3/216] END chi2select__percentile=30, rfc__bootstrap=True, rfc__max_depth=10, rfc__max_samples=0.8, rfc__min_samples_split=2, rfc__n_estimators=300;, score=0.830 total time=   0.6s\n",
      "[CV 1/3; 4/216] START chi2select__percentile=30, rfc__bootstrap=True, rfc__max_depth=10, rfc__max_samples=0.8, rfc__min_samples_split=4, rfc__n_estimators=50\n",
      "[CV 1/3; 4/216] END chi2select__percentile=30, rfc__bootstrap=True, rfc__max_depth=10, rfc__max_samples=0.8, rfc__min_samples_split=4, rfc__n_estimators=50;, score=0.797 total time=   0.1s\n",
      "[CV 2/3; 4/216] START chi2select__percentile=30, rfc__bootstrap=True, rfc__max_depth=10, rfc__max_samples=0.8, rfc__min_samples_split=4, rfc__n_estimators=50\n",
      "[CV 2/3; 4/216] END chi2select__percentile=30, rfc__bootstrap=True, rfc__max_depth=10, rfc__max_samples=0.8, rfc__min_samples_split=4, rfc__n_estimators=50;, score=0.852 total time=   0.1s\n",
      "[CV 3/3; 4/216] START chi2select__percentile=30, rfc__bootstrap=True, rfc__max_depth=10, rfc__max_samples=0.8, rfc__min_samples_split=4, rfc__n_estimators=50\n",
      "[CV 3/3; 4/216] END chi2select__percentile=30, rfc__bootstrap=True, rfc__max_depth=10, rfc__max_samples=0.8, rfc__min_samples_split=4, rfc__n_estimators=50;, score=0.814 total time=   0.1s\n",
      "[CV 1/3; 5/216] START chi2select__percentile=30, rfc__bootstrap=True, rfc__max_depth=10, rfc__max_samples=0.8, rfc__min_samples_split=4, rfc__n_estimators=100\n",
      "[CV 1/3; 5/216] END chi2select__percentile=30, rfc__bootstrap=True, rfc__max_depth=10, rfc__max_samples=0.8, rfc__min_samples_split=4, rfc__n_estimators=100;, score=0.823 total time=   0.2s\n",
      "[CV 2/3; 5/216] START chi2select__percentile=30, rfc__bootstrap=True, rfc__max_depth=10, rfc__max_samples=0.8, rfc__min_samples_split=4, rfc__n_estimators=100\n",
      "[CV 2/3; 5/216] END chi2select__percentile=30, rfc__bootstrap=True, rfc__max_depth=10, rfc__max_samples=0.8, rfc__min_samples_split=4, rfc__n_estimators=100;, score=0.842 total time=   0.2s\n",
      "[CV 3/3; 5/216] START chi2select__percentile=30, rfc__bootstrap=True, rfc__max_depth=10, rfc__max_samples=0.8, rfc__min_samples_split=4, rfc__n_estimators=100\n",
      "[CV 3/3; 5/216] END chi2select__percentile=30, rfc__bootstrap=True, rfc__max_depth=10, rfc__max_samples=0.8, rfc__min_samples_split=4, rfc__n_estimators=100;, score=0.823 total time=   0.2s\n",
      "[CV 1/3; 6/216] START chi2select__percentile=30, rfc__bootstrap=True, rfc__max_depth=10, rfc__max_samples=0.8, rfc__min_samples_split=4, rfc__n_estimators=300\n",
      "[CV 1/3; 6/216] END chi2select__percentile=30, rfc__bootstrap=True, rfc__max_depth=10, rfc__max_samples=0.8, rfc__min_samples_split=4, rfc__n_estimators=300;, score=0.835 total time=   0.6s\n",
      "[CV 2/3; 6/216] START chi2select__percentile=30, rfc__bootstrap=True, rfc__max_depth=10, rfc__max_samples=0.8, rfc__min_samples_split=4, rfc__n_estimators=300\n",
      "[CV 2/3; 6/216] END chi2select__percentile=30, rfc__bootstrap=True, rfc__max_depth=10, rfc__max_samples=0.8, rfc__min_samples_split=4, rfc__n_estimators=300;, score=0.838 total time=   0.6s\n",
      "[CV 3/3; 6/216] START chi2select__percentile=30, rfc__bootstrap=True, rfc__max_depth=10, rfc__max_samples=0.8, rfc__min_samples_split=4, rfc__n_estimators=300\n",
      "[CV 3/3; 6/216] END chi2select__percentile=30, rfc__bootstrap=True, rfc__max_depth=10, rfc__max_samples=0.8, rfc__min_samples_split=4, rfc__n_estimators=300;, score=0.816 total time=   0.7s\n",
      "[CV 1/3; 7/216] START chi2select__percentile=30, rfc__bootstrap=True, rfc__max_depth=10, rfc__max_samples=None, rfc__min_samples_split=2, rfc__n_estimators=50\n",
      "[CV 1/3; 7/216] END chi2select__percentile=30, rfc__bootstrap=True, rfc__max_depth=10, rfc__max_samples=None, rfc__min_samples_split=2, rfc__n_estimators=50;, score=0.818 total time=   0.1s\n",
      "[CV 2/3; 7/216] START chi2select__percentile=30, rfc__bootstrap=True, rfc__max_depth=10, rfc__max_samples=None, rfc__min_samples_split=2, rfc__n_estimators=50\n",
      "[CV 2/3; 7/216] END chi2select__percentile=30, rfc__bootstrap=True, rfc__max_depth=10, rfc__max_samples=None, rfc__min_samples_split=2, rfc__n_estimators=50;, score=0.839 total time=   0.1s\n",
      "[CV 3/3; 7/216] START chi2select__percentile=30, rfc__bootstrap=True, rfc__max_depth=10, rfc__max_samples=None, rfc__min_samples_split=2, rfc__n_estimators=50\n",
      "[CV 3/3; 7/216] END chi2select__percentile=30, rfc__bootstrap=True, rfc__max_depth=10, rfc__max_samples=None, rfc__min_samples_split=2, rfc__n_estimators=50;, score=0.806 total time=   0.1s\n",
      "[CV 1/3; 8/216] START chi2select__percentile=30, rfc__bootstrap=True, rfc__max_depth=10, rfc__max_samples=None, rfc__min_samples_split=2, rfc__n_estimators=100\n",
      "[CV 1/3; 8/216] END chi2select__percentile=30, rfc__bootstrap=True, rfc__max_depth=10, rfc__max_samples=None, rfc__min_samples_split=2, rfc__n_estimators=100;, score=0.838 total time=   0.2s\n",
      "[CV 2/3; 8/216] START chi2select__percentile=30, rfc__bootstrap=True, rfc__max_depth=10, rfc__max_samples=None, rfc__min_samples_split=2, rfc__n_estimators=100\n",
      "[CV 2/3; 8/216] END chi2select__percentile=30, rfc__bootstrap=True, rfc__max_depth=10, rfc__max_samples=None, rfc__min_samples_split=2, rfc__n_estimators=100;, score=0.857 total time=   0.2s\n",
      "[CV 3/3; 8/216] START chi2select__percentile=30, rfc__bootstrap=True, rfc__max_depth=10, rfc__max_samples=None, rfc__min_samples_split=2, rfc__n_estimators=100\n"
     ]
    },
    {
     "name": "stdout",
     "output_type": "stream",
     "text": [
      "[CV 3/3; 8/216] END chi2select__percentile=30, rfc__bootstrap=True, rfc__max_depth=10, rfc__max_samples=None, rfc__min_samples_split=2, rfc__n_estimators=100;, score=0.828 total time=   0.2s\n",
      "[CV 1/3; 9/216] START chi2select__percentile=30, rfc__bootstrap=True, rfc__max_depth=10, rfc__max_samples=None, rfc__min_samples_split=2, rfc__n_estimators=300\n",
      "[CV 1/3; 9/216] END chi2select__percentile=30, rfc__bootstrap=True, rfc__max_depth=10, rfc__max_samples=None, rfc__min_samples_split=2, rfc__n_estimators=300;, score=0.835 total time=   0.6s\n",
      "[CV 2/3; 9/216] START chi2select__percentile=30, rfc__bootstrap=True, rfc__max_depth=10, rfc__max_samples=None, rfc__min_samples_split=2, rfc__n_estimators=300\n",
      "[CV 2/3; 9/216] END chi2select__percentile=30, rfc__bootstrap=True, rfc__max_depth=10, rfc__max_samples=None, rfc__min_samples_split=2, rfc__n_estimators=300;, score=0.860 total time=   0.7s\n",
      "[CV 3/3; 9/216] START chi2select__percentile=30, rfc__bootstrap=True, rfc__max_depth=10, rfc__max_samples=None, rfc__min_samples_split=2, rfc__n_estimators=300\n",
      "[CV 3/3; 9/216] END chi2select__percentile=30, rfc__bootstrap=True, rfc__max_depth=10, rfc__max_samples=None, rfc__min_samples_split=2, rfc__n_estimators=300;, score=0.832 total time=   0.7s\n",
      "[CV 1/3; 10/216] START chi2select__percentile=30, rfc__bootstrap=True, rfc__max_depth=10, rfc__max_samples=None, rfc__min_samples_split=4, rfc__n_estimators=50\n",
      "[CV 1/3; 10/216] END chi2select__percentile=30, rfc__bootstrap=True, rfc__max_depth=10, rfc__max_samples=None, rfc__min_samples_split=4, rfc__n_estimators=50;, score=0.832 total time=   0.1s\n",
      "[CV 2/3; 10/216] START chi2select__percentile=30, rfc__bootstrap=True, rfc__max_depth=10, rfc__max_samples=None, rfc__min_samples_split=4, rfc__n_estimators=50\n",
      "[CV 2/3; 10/216] END chi2select__percentile=30, rfc__bootstrap=True, rfc__max_depth=10, rfc__max_samples=None, rfc__min_samples_split=4, rfc__n_estimators=50;, score=0.862 total time=   0.1s\n",
      "[CV 3/3; 10/216] START chi2select__percentile=30, rfc__bootstrap=True, rfc__max_depth=10, rfc__max_samples=None, rfc__min_samples_split=4, rfc__n_estimators=50\n",
      "[CV 3/3; 10/216] END chi2select__percentile=30, rfc__bootstrap=True, rfc__max_depth=10, rfc__max_samples=None, rfc__min_samples_split=4, rfc__n_estimators=50;, score=0.829 total time=   0.1s\n",
      "[CV 1/3; 11/216] START chi2select__percentile=30, rfc__bootstrap=True, rfc__max_depth=10, rfc__max_samples=None, rfc__min_samples_split=4, rfc__n_estimators=100\n",
      "[CV 1/3; 11/216] END chi2select__percentile=30, rfc__bootstrap=True, rfc__max_depth=10, rfc__max_samples=None, rfc__min_samples_split=4, rfc__n_estimators=100;, score=0.810 total time=   0.2s\n",
      "[CV 2/3; 11/216] START chi2select__percentile=30, rfc__bootstrap=True, rfc__max_depth=10, rfc__max_samples=None, rfc__min_samples_split=4, rfc__n_estimators=100\n",
      "[CV 2/3; 11/216] END chi2select__percentile=30, rfc__bootstrap=True, rfc__max_depth=10, rfc__max_samples=None, rfc__min_samples_split=4, rfc__n_estimators=100;, score=0.842 total time=   0.2s\n",
      "[CV 3/3; 11/216] START chi2select__percentile=30, rfc__bootstrap=True, rfc__max_depth=10, rfc__max_samples=None, rfc__min_samples_split=4, rfc__n_estimators=100\n",
      "[CV 3/3; 11/216] END chi2select__percentile=30, rfc__bootstrap=True, rfc__max_depth=10, rfc__max_samples=None, rfc__min_samples_split=4, rfc__n_estimators=100;, score=0.841 total time=   0.2s\n",
      "[CV 1/3; 12/216] START chi2select__percentile=30, rfc__bootstrap=True, rfc__max_depth=10, rfc__max_samples=None, rfc__min_samples_split=4, rfc__n_estimators=300\n",
      "[CV 1/3; 12/216] END chi2select__percentile=30, rfc__bootstrap=True, rfc__max_depth=10, rfc__max_samples=None, rfc__min_samples_split=4, rfc__n_estimators=300;, score=0.823 total time=   0.7s\n",
      "[CV 2/3; 12/216] START chi2select__percentile=30, rfc__bootstrap=True, rfc__max_depth=10, rfc__max_samples=None, rfc__min_samples_split=4, rfc__n_estimators=300\n",
      "[CV 2/3; 12/216] END chi2select__percentile=30, rfc__bootstrap=True, rfc__max_depth=10, rfc__max_samples=None, rfc__min_samples_split=4, rfc__n_estimators=300;, score=0.860 total time=   0.7s\n",
      "[CV 3/3; 12/216] START chi2select__percentile=30, rfc__bootstrap=True, rfc__max_depth=10, rfc__max_samples=None, rfc__min_samples_split=4, rfc__n_estimators=300\n",
      "[CV 3/3; 12/216] END chi2select__percentile=30, rfc__bootstrap=True, rfc__max_depth=10, rfc__max_samples=None, rfc__min_samples_split=4, rfc__n_estimators=300;, score=0.830 total time=   0.7s\n",
      "[CV 1/3; 13/216] START chi2select__percentile=30, rfc__bootstrap=True, rfc__max_depth=20, rfc__max_samples=0.8, rfc__min_samples_split=2, rfc__n_estimators=50\n",
      "[CV 1/3; 13/216] END chi2select__percentile=30, rfc__bootstrap=True, rfc__max_depth=20, rfc__max_samples=0.8, rfc__min_samples_split=2, rfc__n_estimators=50;, score=0.851 total time=   0.1s\n",
      "[CV 2/3; 13/216] START chi2select__percentile=30, rfc__bootstrap=True, rfc__max_depth=20, rfc__max_samples=0.8, rfc__min_samples_split=2, rfc__n_estimators=50\n",
      "[CV 2/3; 13/216] END chi2select__percentile=30, rfc__bootstrap=True, rfc__max_depth=20, rfc__max_samples=0.8, rfc__min_samples_split=2, rfc__n_estimators=50;, score=0.863 total time=   0.1s\n",
      "[CV 3/3; 13/216] START chi2select__percentile=30, rfc__bootstrap=True, rfc__max_depth=20, rfc__max_samples=0.8, rfc__min_samples_split=2, rfc__n_estimators=50\n",
      "[CV 3/3; 13/216] END chi2select__percentile=30, rfc__bootstrap=True, rfc__max_depth=20, rfc__max_samples=0.8, rfc__min_samples_split=2, rfc__n_estimators=50;, score=0.853 total time=   0.1s\n",
      "[CV 1/3; 14/216] START chi2select__percentile=30, rfc__bootstrap=True, rfc__max_depth=20, rfc__max_samples=0.8, rfc__min_samples_split=2, rfc__n_estimators=100\n",
      "[CV 1/3; 14/216] END chi2select__percentile=30, rfc__bootstrap=True, rfc__max_depth=20, rfc__max_samples=0.8, rfc__min_samples_split=2, rfc__n_estimators=100;, score=0.851 total time=   0.2s\n",
      "[CV 2/3; 14/216] START chi2select__percentile=30, rfc__bootstrap=True, rfc__max_depth=20, rfc__max_samples=0.8, rfc__min_samples_split=2, rfc__n_estimators=100\n",
      "[CV 2/3; 14/216] END chi2select__percentile=30, rfc__bootstrap=True, rfc__max_depth=20, rfc__max_samples=0.8, rfc__min_samples_split=2, rfc__n_estimators=100;, score=0.847 total time=   0.3s\n",
      "[CV 3/3; 14/216] START chi2select__percentile=30, rfc__bootstrap=True, rfc__max_depth=20, rfc__max_samples=0.8, rfc__min_samples_split=2, rfc__n_estimators=100\n",
      "[CV 3/3; 14/216] END chi2select__percentile=30, rfc__bootstrap=True, rfc__max_depth=20, rfc__max_samples=0.8, rfc__min_samples_split=2, rfc__n_estimators=100;, score=0.852 total time=   0.3s\n",
      "[CV 1/3; 15/216] START chi2select__percentile=30, rfc__bootstrap=True, rfc__max_depth=20, rfc__max_samples=0.8, rfc__min_samples_split=2, rfc__n_estimators=300\n",
      "[CV 1/3; 15/216] END chi2select__percentile=30, rfc__bootstrap=True, rfc__max_depth=20, rfc__max_samples=0.8, rfc__min_samples_split=2, rfc__n_estimators=300;, score=0.851 total time=   0.7s\n",
      "[CV 2/3; 15/216] START chi2select__percentile=30, rfc__bootstrap=True, rfc__max_depth=20, rfc__max_samples=0.8, rfc__min_samples_split=2, rfc__n_estimators=300\n",
      "[CV 2/3; 15/216] END chi2select__percentile=30, rfc__bootstrap=True, rfc__max_depth=20, rfc__max_samples=0.8, rfc__min_samples_split=2, rfc__n_estimators=300;, score=0.849 total time=   0.8s\n",
      "[CV 3/3; 15/216] START chi2select__percentile=30, rfc__bootstrap=True, rfc__max_depth=20, rfc__max_samples=0.8, rfc__min_samples_split=2, rfc__n_estimators=300\n",
      "[CV 3/3; 15/216] END chi2select__percentile=30, rfc__bootstrap=True, rfc__max_depth=20, rfc__max_samples=0.8, rfc__min_samples_split=2, rfc__n_estimators=300;, score=0.838 total time=   0.7s\n",
      "[CV 1/3; 16/216] START chi2select__percentile=30, rfc__bootstrap=True, rfc__max_depth=20, rfc__max_samples=0.8, rfc__min_samples_split=4, rfc__n_estimators=50\n",
      "[CV 1/3; 16/216] END chi2select__percentile=30, rfc__bootstrap=True, rfc__max_depth=20, rfc__max_samples=0.8, rfc__min_samples_split=4, rfc__n_estimators=50;, score=0.859 total time=   0.1s\n",
      "[CV 2/3; 16/216] START chi2select__percentile=30, rfc__bootstrap=True, rfc__max_depth=20, rfc__max_samples=0.8, rfc__min_samples_split=4, rfc__n_estimators=50\n",
      "[CV 2/3; 16/216] END chi2select__percentile=30, rfc__bootstrap=True, rfc__max_depth=20, rfc__max_samples=0.8, rfc__min_samples_split=4, rfc__n_estimators=50;, score=0.853 total time=   0.1s\n",
      "[CV 3/3; 16/216] START chi2select__percentile=30, rfc__bootstrap=True, rfc__max_depth=20, rfc__max_samples=0.8, rfc__min_samples_split=4, rfc__n_estimators=50\n",
      "[CV 3/3; 16/216] END chi2select__percentile=30, rfc__bootstrap=True, rfc__max_depth=20, rfc__max_samples=0.8, rfc__min_samples_split=4, rfc__n_estimators=50;, score=0.845 total time=   0.1s\n",
      "[CV 1/3; 17/216] START chi2select__percentile=30, rfc__bootstrap=True, rfc__max_depth=20, rfc__max_samples=0.8, rfc__min_samples_split=4, rfc__n_estimators=100\n"
     ]
    },
    {
     "name": "stdout",
     "output_type": "stream",
     "text": [
      "[CV 1/3; 17/216] END chi2select__percentile=30, rfc__bootstrap=True, rfc__max_depth=20, rfc__max_samples=0.8, rfc__min_samples_split=4, rfc__n_estimators=100;, score=0.850 total time=   0.2s\n",
      "[CV 2/3; 17/216] START chi2select__percentile=30, rfc__bootstrap=True, rfc__max_depth=20, rfc__max_samples=0.8, rfc__min_samples_split=4, rfc__n_estimators=100\n",
      "[CV 2/3; 17/216] END chi2select__percentile=30, rfc__bootstrap=True, rfc__max_depth=20, rfc__max_samples=0.8, rfc__min_samples_split=4, rfc__n_estimators=100;, score=0.849 total time=   0.3s\n",
      "[CV 3/3; 17/216] START chi2select__percentile=30, rfc__bootstrap=True, rfc__max_depth=20, rfc__max_samples=0.8, rfc__min_samples_split=4, rfc__n_estimators=100\n",
      "[CV 3/3; 17/216] END chi2select__percentile=30, rfc__bootstrap=True, rfc__max_depth=20, rfc__max_samples=0.8, rfc__min_samples_split=4, rfc__n_estimators=100;, score=0.842 total time=   0.2s\n",
      "[CV 1/3; 18/216] START chi2select__percentile=30, rfc__bootstrap=True, rfc__max_depth=20, rfc__max_samples=0.8, rfc__min_samples_split=4, rfc__n_estimators=300\n",
      "[CV 1/3; 18/216] END chi2select__percentile=30, rfc__bootstrap=True, rfc__max_depth=20, rfc__max_samples=0.8, rfc__min_samples_split=4, rfc__n_estimators=300;, score=0.848 total time=   0.7s\n",
      "[CV 2/3; 18/216] START chi2select__percentile=30, rfc__bootstrap=True, rfc__max_depth=20, rfc__max_samples=0.8, rfc__min_samples_split=4, rfc__n_estimators=300\n",
      "[CV 2/3; 18/216] END chi2select__percentile=30, rfc__bootstrap=True, rfc__max_depth=20, rfc__max_samples=0.8, rfc__min_samples_split=4, rfc__n_estimators=300;, score=0.849 total time=   0.8s\n",
      "[CV 3/3; 18/216] START chi2select__percentile=30, rfc__bootstrap=True, rfc__max_depth=20, rfc__max_samples=0.8, rfc__min_samples_split=4, rfc__n_estimators=300\n",
      "[CV 3/3; 18/216] END chi2select__percentile=30, rfc__bootstrap=True, rfc__max_depth=20, rfc__max_samples=0.8, rfc__min_samples_split=4, rfc__n_estimators=300;, score=0.837 total time=   0.8s\n",
      "[CV 1/3; 19/216] START chi2select__percentile=30, rfc__bootstrap=True, rfc__max_depth=20, rfc__max_samples=None, rfc__min_samples_split=2, rfc__n_estimators=50\n",
      "[CV 1/3; 19/216] END chi2select__percentile=30, rfc__bootstrap=True, rfc__max_depth=20, rfc__max_samples=None, rfc__min_samples_split=2, rfc__n_estimators=50;, score=0.844 total time=   0.1s\n",
      "[CV 2/3; 19/216] START chi2select__percentile=30, rfc__bootstrap=True, rfc__max_depth=20, rfc__max_samples=None, rfc__min_samples_split=2, rfc__n_estimators=50\n",
      "[CV 2/3; 19/216] END chi2select__percentile=30, rfc__bootstrap=True, rfc__max_depth=20, rfc__max_samples=None, rfc__min_samples_split=2, rfc__n_estimators=50;, score=0.862 total time=   0.1s\n",
      "[CV 3/3; 19/216] START chi2select__percentile=30, rfc__bootstrap=True, rfc__max_depth=20, rfc__max_samples=None, rfc__min_samples_split=2, rfc__n_estimators=50\n",
      "[CV 3/3; 19/216] END chi2select__percentile=30, rfc__bootstrap=True, rfc__max_depth=20, rfc__max_samples=None, rfc__min_samples_split=2, rfc__n_estimators=50;, score=0.863 total time=   0.1s\n",
      "[CV 1/3; 20/216] START chi2select__percentile=30, rfc__bootstrap=True, rfc__max_depth=20, rfc__max_samples=None, rfc__min_samples_split=2, rfc__n_estimators=100\n",
      "[CV 1/3; 20/216] END chi2select__percentile=30, rfc__bootstrap=True, rfc__max_depth=20, rfc__max_samples=None, rfc__min_samples_split=2, rfc__n_estimators=100;, score=0.864 total time=   0.3s\n",
      "[CV 2/3; 20/216] START chi2select__percentile=30, rfc__bootstrap=True, rfc__max_depth=20, rfc__max_samples=None, rfc__min_samples_split=2, rfc__n_estimators=100\n",
      "[CV 2/3; 20/216] END chi2select__percentile=30, rfc__bootstrap=True, rfc__max_depth=20, rfc__max_samples=None, rfc__min_samples_split=2, rfc__n_estimators=100;, score=0.851 total time=   0.3s\n",
      "[CV 3/3; 20/216] START chi2select__percentile=30, rfc__bootstrap=True, rfc__max_depth=20, rfc__max_samples=None, rfc__min_samples_split=2, rfc__n_estimators=100\n",
      "[CV 3/3; 20/216] END chi2select__percentile=30, rfc__bootstrap=True, rfc__max_depth=20, rfc__max_samples=None, rfc__min_samples_split=2, rfc__n_estimators=100;, score=0.867 total time=   0.3s\n",
      "[CV 1/3; 21/216] START chi2select__percentile=30, rfc__bootstrap=True, rfc__max_depth=20, rfc__max_samples=None, rfc__min_samples_split=2, rfc__n_estimators=300\n",
      "[CV 1/3; 21/216] END chi2select__percentile=30, rfc__bootstrap=True, rfc__max_depth=20, rfc__max_samples=None, rfc__min_samples_split=2, rfc__n_estimators=300;, score=0.857 total time=   0.8s\n",
      "[CV 2/3; 21/216] START chi2select__percentile=30, rfc__bootstrap=True, rfc__max_depth=20, rfc__max_samples=None, rfc__min_samples_split=2, rfc__n_estimators=300\n",
      "[CV 2/3; 21/216] END chi2select__percentile=30, rfc__bootstrap=True, rfc__max_depth=20, rfc__max_samples=None, rfc__min_samples_split=2, rfc__n_estimators=300;, score=0.852 total time=   0.8s\n",
      "[CV 3/3; 21/216] START chi2select__percentile=30, rfc__bootstrap=True, rfc__max_depth=20, rfc__max_samples=None, rfc__min_samples_split=2, rfc__n_estimators=300\n",
      "[CV 3/3; 21/216] END chi2select__percentile=30, rfc__bootstrap=True, rfc__max_depth=20, rfc__max_samples=None, rfc__min_samples_split=2, rfc__n_estimators=300;, score=0.861 total time=   0.8s\n",
      "[CV 1/3; 22/216] START chi2select__percentile=30, rfc__bootstrap=True, rfc__max_depth=20, rfc__max_samples=None, rfc__min_samples_split=4, rfc__n_estimators=50\n",
      "[CV 1/3; 22/216] END chi2select__percentile=30, rfc__bootstrap=True, rfc__max_depth=20, rfc__max_samples=None, rfc__min_samples_split=4, rfc__n_estimators=50;, score=0.850 total time=   0.1s\n",
      "[CV 2/3; 22/216] START chi2select__percentile=30, rfc__bootstrap=True, rfc__max_depth=20, rfc__max_samples=None, rfc__min_samples_split=4, rfc__n_estimators=50\n",
      "[CV 2/3; 22/216] END chi2select__percentile=30, rfc__bootstrap=True, rfc__max_depth=20, rfc__max_samples=None, rfc__min_samples_split=4, rfc__n_estimators=50;, score=0.864 total time=   0.2s\n",
      "[CV 3/3; 22/216] START chi2select__percentile=30, rfc__bootstrap=True, rfc__max_depth=20, rfc__max_samples=None, rfc__min_samples_split=4, rfc__n_estimators=50\n",
      "[CV 3/3; 22/216] END chi2select__percentile=30, rfc__bootstrap=True, rfc__max_depth=20, rfc__max_samples=None, rfc__min_samples_split=4, rfc__n_estimators=50;, score=0.855 total time=   0.1s\n",
      "[CV 1/3; 23/216] START chi2select__percentile=30, rfc__bootstrap=True, rfc__max_depth=20, rfc__max_samples=None, rfc__min_samples_split=4, rfc__n_estimators=100\n",
      "[CV 1/3; 23/216] END chi2select__percentile=30, rfc__bootstrap=True, rfc__max_depth=20, rfc__max_samples=None, rfc__min_samples_split=4, rfc__n_estimators=100;, score=0.851 total time=   0.3s\n",
      "[CV 2/3; 23/216] START chi2select__percentile=30, rfc__bootstrap=True, rfc__max_depth=20, rfc__max_samples=None, rfc__min_samples_split=4, rfc__n_estimators=100\n",
      "[CV 2/3; 23/216] END chi2select__percentile=30, rfc__bootstrap=True, rfc__max_depth=20, rfc__max_samples=None, rfc__min_samples_split=4, rfc__n_estimators=100;, score=0.849 total time=   0.3s\n",
      "[CV 3/3; 23/216] START chi2select__percentile=30, rfc__bootstrap=True, rfc__max_depth=20, rfc__max_samples=None, rfc__min_samples_split=4, rfc__n_estimators=100\n",
      "[CV 3/3; 23/216] END chi2select__percentile=30, rfc__bootstrap=True, rfc__max_depth=20, rfc__max_samples=None, rfc__min_samples_split=4, rfc__n_estimators=100;, score=0.863 total time=   0.3s\n",
      "[CV 1/3; 24/216] START chi2select__percentile=30, rfc__bootstrap=True, rfc__max_depth=20, rfc__max_samples=None, rfc__min_samples_split=4, rfc__n_estimators=300\n",
      "[CV 1/3; 24/216] END chi2select__percentile=30, rfc__bootstrap=True, rfc__max_depth=20, rfc__max_samples=None, rfc__min_samples_split=4, rfc__n_estimators=300;, score=0.863 total time=   0.8s\n",
      "[CV 2/3; 24/216] START chi2select__percentile=30, rfc__bootstrap=True, rfc__max_depth=20, rfc__max_samples=None, rfc__min_samples_split=4, rfc__n_estimators=300\n",
      "[CV 2/3; 24/216] END chi2select__percentile=30, rfc__bootstrap=True, rfc__max_depth=20, rfc__max_samples=None, rfc__min_samples_split=4, rfc__n_estimators=300;, score=0.857 total time=   0.8s\n",
      "[CV 3/3; 24/216] START chi2select__percentile=30, rfc__bootstrap=True, rfc__max_depth=20, rfc__max_samples=None, rfc__min_samples_split=4, rfc__n_estimators=300\n",
      "[CV 3/3; 24/216] END chi2select__percentile=30, rfc__bootstrap=True, rfc__max_depth=20, rfc__max_samples=None, rfc__min_samples_split=4, rfc__n_estimators=300;, score=0.859 total time=   0.8s\n",
      "[CV 1/3; 25/216] START chi2select__percentile=30, rfc__bootstrap=True, rfc__max_depth=None, rfc__max_samples=0.8, rfc__min_samples_split=2, rfc__n_estimators=50\n",
      "[CV 1/3; 25/216] END chi2select__percentile=30, rfc__bootstrap=True, rfc__max_depth=None, rfc__max_samples=0.8, rfc__min_samples_split=2, rfc__n_estimators=50;, score=0.847 total time=   0.1s\n",
      "[CV 2/3; 25/216] START chi2select__percentile=30, rfc__bootstrap=True, rfc__max_depth=None, rfc__max_samples=0.8, rfc__min_samples_split=2, rfc__n_estimators=50\n"
     ]
    },
    {
     "name": "stdout",
     "output_type": "stream",
     "text": [
      "[CV 2/3; 25/216] END chi2select__percentile=30, rfc__bootstrap=True, rfc__max_depth=None, rfc__max_samples=0.8, rfc__min_samples_split=2, rfc__n_estimators=50;, score=0.854 total time=   0.1s\n",
      "[CV 3/3; 25/216] START chi2select__percentile=30, rfc__bootstrap=True, rfc__max_depth=None, rfc__max_samples=0.8, rfc__min_samples_split=2, rfc__n_estimators=50\n",
      "[CV 3/3; 25/216] END chi2select__percentile=30, rfc__bootstrap=True, rfc__max_depth=None, rfc__max_samples=0.8, rfc__min_samples_split=2, rfc__n_estimators=50;, score=0.857 total time=   0.1s\n",
      "[CV 1/3; 26/216] START chi2select__percentile=30, rfc__bootstrap=True, rfc__max_depth=None, rfc__max_samples=0.8, rfc__min_samples_split=2, rfc__n_estimators=100\n",
      "[CV 1/3; 26/216] END chi2select__percentile=30, rfc__bootstrap=True, rfc__max_depth=None, rfc__max_samples=0.8, rfc__min_samples_split=2, rfc__n_estimators=100;, score=0.854 total time=   0.2s\n",
      "[CV 2/3; 26/216] START chi2select__percentile=30, rfc__bootstrap=True, rfc__max_depth=None, rfc__max_samples=0.8, rfc__min_samples_split=2, rfc__n_estimators=100\n",
      "[CV 2/3; 26/216] END chi2select__percentile=30, rfc__bootstrap=True, rfc__max_depth=None, rfc__max_samples=0.8, rfc__min_samples_split=2, rfc__n_estimators=100;, score=0.837 total time=   0.3s\n",
      "[CV 3/3; 26/216] START chi2select__percentile=30, rfc__bootstrap=True, rfc__max_depth=None, rfc__max_samples=0.8, rfc__min_samples_split=2, rfc__n_estimators=100\n",
      "[CV 3/3; 26/216] END chi2select__percentile=30, rfc__bootstrap=True, rfc__max_depth=None, rfc__max_samples=0.8, rfc__min_samples_split=2, rfc__n_estimators=100;, score=0.843 total time=   0.3s\n",
      "[CV 1/3; 27/216] START chi2select__percentile=30, rfc__bootstrap=True, rfc__max_depth=None, rfc__max_samples=0.8, rfc__min_samples_split=2, rfc__n_estimators=300\n",
      "[CV 1/3; 27/216] END chi2select__percentile=30, rfc__bootstrap=True, rfc__max_depth=None, rfc__max_samples=0.8, rfc__min_samples_split=2, rfc__n_estimators=300;, score=0.851 total time=   0.7s\n",
      "[CV 2/3; 27/216] START chi2select__percentile=30, rfc__bootstrap=True, rfc__max_depth=None, rfc__max_samples=0.8, rfc__min_samples_split=2, rfc__n_estimators=300\n",
      "[CV 2/3; 27/216] END chi2select__percentile=30, rfc__bootstrap=True, rfc__max_depth=None, rfc__max_samples=0.8, rfc__min_samples_split=2, rfc__n_estimators=300;, score=0.841 total time=   0.7s\n",
      "[CV 3/3; 27/216] START chi2select__percentile=30, rfc__bootstrap=True, rfc__max_depth=None, rfc__max_samples=0.8, rfc__min_samples_split=2, rfc__n_estimators=300\n",
      "[CV 3/3; 27/216] END chi2select__percentile=30, rfc__bootstrap=True, rfc__max_depth=None, rfc__max_samples=0.8, rfc__min_samples_split=2, rfc__n_estimators=300;, score=0.848 total time=   0.7s\n",
      "[CV 1/3; 28/216] START chi2select__percentile=30, rfc__bootstrap=True, rfc__max_depth=None, rfc__max_samples=0.8, rfc__min_samples_split=4, rfc__n_estimators=50\n",
      "[CV 1/3; 28/216] END chi2select__percentile=30, rfc__bootstrap=True, rfc__max_depth=None, rfc__max_samples=0.8, rfc__min_samples_split=4, rfc__n_estimators=50;, score=0.849 total time=   0.1s\n",
      "[CV 2/3; 28/216] START chi2select__percentile=30, rfc__bootstrap=True, rfc__max_depth=None, rfc__max_samples=0.8, rfc__min_samples_split=4, rfc__n_estimators=50\n",
      "[CV 2/3; 28/216] END chi2select__percentile=30, rfc__bootstrap=True, rfc__max_depth=None, rfc__max_samples=0.8, rfc__min_samples_split=4, rfc__n_estimators=50;, score=0.850 total time=   0.1s\n",
      "[CV 3/3; 28/216] START chi2select__percentile=30, rfc__bootstrap=True, rfc__max_depth=None, rfc__max_samples=0.8, rfc__min_samples_split=4, rfc__n_estimators=50\n",
      "[CV 3/3; 28/216] END chi2select__percentile=30, rfc__bootstrap=True, rfc__max_depth=None, rfc__max_samples=0.8, rfc__min_samples_split=4, rfc__n_estimators=50;, score=0.838 total time=   0.1s\n",
      "[CV 1/3; 29/216] START chi2select__percentile=30, rfc__bootstrap=True, rfc__max_depth=None, rfc__max_samples=0.8, rfc__min_samples_split=4, rfc__n_estimators=100\n",
      "[CV 1/3; 29/216] END chi2select__percentile=30, rfc__bootstrap=True, rfc__max_depth=None, rfc__max_samples=0.8, rfc__min_samples_split=4, rfc__n_estimators=100;, score=0.840 total time=   0.2s\n",
      "[CV 2/3; 29/216] START chi2select__percentile=30, rfc__bootstrap=True, rfc__max_depth=None, rfc__max_samples=0.8, rfc__min_samples_split=4, rfc__n_estimators=100\n",
      "[CV 2/3; 29/216] END chi2select__percentile=30, rfc__bootstrap=True, rfc__max_depth=None, rfc__max_samples=0.8, rfc__min_samples_split=4, rfc__n_estimators=100;, score=0.853 total time=   0.3s\n",
      "[CV 3/3; 29/216] START chi2select__percentile=30, rfc__bootstrap=True, rfc__max_depth=None, rfc__max_samples=0.8, rfc__min_samples_split=4, rfc__n_estimators=100\n",
      "[CV 3/3; 29/216] END chi2select__percentile=30, rfc__bootstrap=True, rfc__max_depth=None, rfc__max_samples=0.8, rfc__min_samples_split=4, rfc__n_estimators=100;, score=0.850 total time=   0.3s\n",
      "[CV 1/3; 30/216] START chi2select__percentile=30, rfc__bootstrap=True, rfc__max_depth=None, rfc__max_samples=0.8, rfc__min_samples_split=4, rfc__n_estimators=300\n",
      "[CV 1/3; 30/216] END chi2select__percentile=30, rfc__bootstrap=True, rfc__max_depth=None, rfc__max_samples=0.8, rfc__min_samples_split=4, rfc__n_estimators=300;, score=0.851 total time=   0.7s\n",
      "[CV 2/3; 30/216] START chi2select__percentile=30, rfc__bootstrap=True, rfc__max_depth=None, rfc__max_samples=0.8, rfc__min_samples_split=4, rfc__n_estimators=300\n",
      "[CV 2/3; 30/216] END chi2select__percentile=30, rfc__bootstrap=True, rfc__max_depth=None, rfc__max_samples=0.8, rfc__min_samples_split=4, rfc__n_estimators=300;, score=0.854 total time=   0.7s\n",
      "[CV 3/3; 30/216] START chi2select__percentile=30, rfc__bootstrap=True, rfc__max_depth=None, rfc__max_samples=0.8, rfc__min_samples_split=4, rfc__n_estimators=300\n",
      "[CV 3/3; 30/216] END chi2select__percentile=30, rfc__bootstrap=True, rfc__max_depth=None, rfc__max_samples=0.8, rfc__min_samples_split=4, rfc__n_estimators=300;, score=0.850 total time=   0.7s\n",
      "[CV 1/3; 31/216] START chi2select__percentile=30, rfc__bootstrap=True, rfc__max_depth=None, rfc__max_samples=None, rfc__min_samples_split=2, rfc__n_estimators=50\n",
      "[CV 1/3; 31/216] END chi2select__percentile=30, rfc__bootstrap=True, rfc__max_depth=None, rfc__max_samples=None, rfc__min_samples_split=2, rfc__n_estimators=50;, score=0.862 total time=   0.1s\n",
      "[CV 2/3; 31/216] START chi2select__percentile=30, rfc__bootstrap=True, rfc__max_depth=None, rfc__max_samples=None, rfc__min_samples_split=2, rfc__n_estimators=50\n",
      "[CV 2/3; 31/216] END chi2select__percentile=30, rfc__bootstrap=True, rfc__max_depth=None, rfc__max_samples=None, rfc__min_samples_split=2, rfc__n_estimators=50;, score=0.852 total time=   0.1s\n",
      "[CV 3/3; 31/216] START chi2select__percentile=30, rfc__bootstrap=True, rfc__max_depth=None, rfc__max_samples=None, rfc__min_samples_split=2, rfc__n_estimators=50\n",
      "[CV 3/3; 31/216] END chi2select__percentile=30, rfc__bootstrap=True, rfc__max_depth=None, rfc__max_samples=None, rfc__min_samples_split=2, rfc__n_estimators=50;, score=0.865 total time=   0.1s\n",
      "[CV 1/3; 32/216] START chi2select__percentile=30, rfc__bootstrap=True, rfc__max_depth=None, rfc__max_samples=None, rfc__min_samples_split=2, rfc__n_estimators=100\n",
      "[CV 1/3; 32/216] END chi2select__percentile=30, rfc__bootstrap=True, rfc__max_depth=None, rfc__max_samples=None, rfc__min_samples_split=2, rfc__n_estimators=100;, score=0.855 total time=   0.3s\n",
      "[CV 2/3; 32/216] START chi2select__percentile=30, rfc__bootstrap=True, rfc__max_depth=None, rfc__max_samples=None, rfc__min_samples_split=2, rfc__n_estimators=100\n",
      "[CV 2/3; 32/216] END chi2select__percentile=30, rfc__bootstrap=True, rfc__max_depth=None, rfc__max_samples=None, rfc__min_samples_split=2, rfc__n_estimators=100;, score=0.851 total time=   0.3s\n",
      "[CV 3/3; 32/216] START chi2select__percentile=30, rfc__bootstrap=True, rfc__max_depth=None, rfc__max_samples=None, rfc__min_samples_split=2, rfc__n_estimators=100\n",
      "[CV 3/3; 32/216] END chi2select__percentile=30, rfc__bootstrap=True, rfc__max_depth=None, rfc__max_samples=None, rfc__min_samples_split=2, rfc__n_estimators=100;, score=0.857 total time=   0.3s\n",
      "[CV 1/3; 33/216] START chi2select__percentile=30, rfc__bootstrap=True, rfc__max_depth=None, rfc__max_samples=None, rfc__min_samples_split=2, rfc__n_estimators=300\n",
      "[CV 1/3; 33/216] END chi2select__percentile=30, rfc__bootstrap=True, rfc__max_depth=None, rfc__max_samples=None, rfc__min_samples_split=2, rfc__n_estimators=300;, score=0.860 total time=   0.8s\n",
      "[CV 2/3; 33/216] START chi2select__percentile=30, rfc__bootstrap=True, rfc__max_depth=None, rfc__max_samples=None, rfc__min_samples_split=2, rfc__n_estimators=300\n"
     ]
    },
    {
     "name": "stdout",
     "output_type": "stream",
     "text": [
      "[CV 2/3; 33/216] END chi2select__percentile=30, rfc__bootstrap=True, rfc__max_depth=None, rfc__max_samples=None, rfc__min_samples_split=2, rfc__n_estimators=300;, score=0.860 total time=   0.8s\n",
      "[CV 3/3; 33/216] START chi2select__percentile=30, rfc__bootstrap=True, rfc__max_depth=None, rfc__max_samples=None, rfc__min_samples_split=2, rfc__n_estimators=300\n",
      "[CV 3/3; 33/216] END chi2select__percentile=30, rfc__bootstrap=True, rfc__max_depth=None, rfc__max_samples=None, rfc__min_samples_split=2, rfc__n_estimators=300;, score=0.860 total time=   0.8s\n",
      "[CV 1/3; 34/216] START chi2select__percentile=30, rfc__bootstrap=True, rfc__max_depth=None, rfc__max_samples=None, rfc__min_samples_split=4, rfc__n_estimators=50\n",
      "[CV 1/3; 34/216] END chi2select__percentile=30, rfc__bootstrap=True, rfc__max_depth=None, rfc__max_samples=None, rfc__min_samples_split=4, rfc__n_estimators=50;, score=0.861 total time=   0.1s\n",
      "[CV 2/3; 34/216] START chi2select__percentile=30, rfc__bootstrap=True, rfc__max_depth=None, rfc__max_samples=None, rfc__min_samples_split=4, rfc__n_estimators=50\n",
      "[CV 2/3; 34/216] END chi2select__percentile=30, rfc__bootstrap=True, rfc__max_depth=None, rfc__max_samples=None, rfc__min_samples_split=4, rfc__n_estimators=50;, score=0.861 total time=   0.2s\n",
      "[CV 3/3; 34/216] START chi2select__percentile=30, rfc__bootstrap=True, rfc__max_depth=None, rfc__max_samples=None, rfc__min_samples_split=4, rfc__n_estimators=50\n",
      "[CV 3/3; 34/216] END chi2select__percentile=30, rfc__bootstrap=True, rfc__max_depth=None, rfc__max_samples=None, rfc__min_samples_split=4, rfc__n_estimators=50;, score=0.852 total time=   0.1s\n",
      "[CV 1/3; 35/216] START chi2select__percentile=30, rfc__bootstrap=True, rfc__max_depth=None, rfc__max_samples=None, rfc__min_samples_split=4, rfc__n_estimators=100\n",
      "[CV 1/3; 35/216] END chi2select__percentile=30, rfc__bootstrap=True, rfc__max_depth=None, rfc__max_samples=None, rfc__min_samples_split=4, rfc__n_estimators=100;, score=0.862 total time=   0.3s\n",
      "[CV 2/3; 35/216] START chi2select__percentile=30, rfc__bootstrap=True, rfc__max_depth=None, rfc__max_samples=None, rfc__min_samples_split=4, rfc__n_estimators=100\n",
      "[CV 2/3; 35/216] END chi2select__percentile=30, rfc__bootstrap=True, rfc__max_depth=None, rfc__max_samples=None, rfc__min_samples_split=4, rfc__n_estimators=100;, score=0.852 total time=   0.3s\n",
      "[CV 3/3; 35/216] START chi2select__percentile=30, rfc__bootstrap=True, rfc__max_depth=None, rfc__max_samples=None, rfc__min_samples_split=4, rfc__n_estimators=100\n",
      "[CV 3/3; 35/216] END chi2select__percentile=30, rfc__bootstrap=True, rfc__max_depth=None, rfc__max_samples=None, rfc__min_samples_split=4, rfc__n_estimators=100;, score=0.856 total time=   0.3s\n",
      "[CV 1/3; 36/216] START chi2select__percentile=30, rfc__bootstrap=True, rfc__max_depth=None, rfc__max_samples=None, rfc__min_samples_split=4, rfc__n_estimators=300\n",
      "[CV 1/3; 36/216] END chi2select__percentile=30, rfc__bootstrap=True, rfc__max_depth=None, rfc__max_samples=None, rfc__min_samples_split=4, rfc__n_estimators=300;, score=0.859 total time=   0.8s\n",
      "[CV 2/3; 36/216] START chi2select__percentile=30, rfc__bootstrap=True, rfc__max_depth=None, rfc__max_samples=None, rfc__min_samples_split=4, rfc__n_estimators=300\n",
      "[CV 2/3; 36/216] END chi2select__percentile=30, rfc__bootstrap=True, rfc__max_depth=None, rfc__max_samples=None, rfc__min_samples_split=4, rfc__n_estimators=300;, score=0.857 total time=   0.8s\n",
      "[CV 3/3; 36/216] START chi2select__percentile=30, rfc__bootstrap=True, rfc__max_depth=None, rfc__max_samples=None, rfc__min_samples_split=4, rfc__n_estimators=300\n",
      "[CV 3/3; 36/216] END chi2select__percentile=30, rfc__bootstrap=True, rfc__max_depth=None, rfc__max_samples=None, rfc__min_samples_split=4, rfc__n_estimators=300;, score=0.843 total time=   0.8s\n",
      "[CV 1/3; 37/216] START chi2select__percentile=30, rfc__bootstrap=False, rfc__max_depth=10, rfc__max_samples=0.8, rfc__min_samples_split=2, rfc__n_estimators=50\n",
      "[CV 1/3; 37/216] END chi2select__percentile=30, rfc__bootstrap=False, rfc__max_depth=10, rfc__max_samples=0.8, rfc__min_samples_split=2, rfc__n_estimators=50;, score=0.747 total time=   0.1s\n",
      "[CV 2/3; 37/216] START chi2select__percentile=30, rfc__bootstrap=False, rfc__max_depth=10, rfc__max_samples=0.8, rfc__min_samples_split=2, rfc__n_estimators=50\n",
      "[CV 2/3; 37/216] END chi2select__percentile=30, rfc__bootstrap=False, rfc__max_depth=10, rfc__max_samples=0.8, rfc__min_samples_split=2, rfc__n_estimators=50;, score=0.833 total time=   0.2s\n",
      "[CV 3/3; 37/216] START chi2select__percentile=30, rfc__bootstrap=False, rfc__max_depth=10, rfc__max_samples=0.8, rfc__min_samples_split=2, rfc__n_estimators=50\n",
      "[CV 3/3; 37/216] END chi2select__percentile=30, rfc__bootstrap=False, rfc__max_depth=10, rfc__max_samples=0.8, rfc__min_samples_split=2, rfc__n_estimators=50;, score=0.819 total time=   0.1s\n",
      "[CV 1/3; 38/216] START chi2select__percentile=30, rfc__bootstrap=False, rfc__max_depth=10, rfc__max_samples=0.8, rfc__min_samples_split=2, rfc__n_estimators=100\n",
      "[CV 1/3; 38/216] END chi2select__percentile=30, rfc__bootstrap=False, rfc__max_depth=10, rfc__max_samples=0.8, rfc__min_samples_split=2, rfc__n_estimators=100;, score=0.753 total time=   0.3s\n",
      "[CV 2/3; 38/216] START chi2select__percentile=30, rfc__bootstrap=False, rfc__max_depth=10, rfc__max_samples=0.8, rfc__min_samples_split=2, rfc__n_estimators=100\n",
      "[CV 2/3; 38/216] END chi2select__percentile=30, rfc__bootstrap=False, rfc__max_depth=10, rfc__max_samples=0.8, rfc__min_samples_split=2, rfc__n_estimators=100;, score=0.838 total time=   0.3s\n",
      "[CV 3/3; 38/216] START chi2select__percentile=30, rfc__bootstrap=False, rfc__max_depth=10, rfc__max_samples=0.8, rfc__min_samples_split=2, rfc__n_estimators=100\n",
      "[CV 3/3; 38/216] END chi2select__percentile=30, rfc__bootstrap=False, rfc__max_depth=10, rfc__max_samples=0.8, rfc__min_samples_split=2, rfc__n_estimators=100;, score=0.818 total time=   0.3s\n",
      "[CV 1/3; 39/216] START chi2select__percentile=30, rfc__bootstrap=False, rfc__max_depth=10, rfc__max_samples=0.8, rfc__min_samples_split=2, rfc__n_estimators=300\n",
      "[CV 1/3; 39/216] END chi2select__percentile=30, rfc__bootstrap=False, rfc__max_depth=10, rfc__max_samples=0.8, rfc__min_samples_split=2, rfc__n_estimators=300;, score=0.747 total time=   0.8s\n",
      "[CV 2/3; 39/216] START chi2select__percentile=30, rfc__bootstrap=False, rfc__max_depth=10, rfc__max_samples=0.8, rfc__min_samples_split=2, rfc__n_estimators=300\n",
      "[CV 2/3; 39/216] END chi2select__percentile=30, rfc__bootstrap=False, rfc__max_depth=10, rfc__max_samples=0.8, rfc__min_samples_split=2, rfc__n_estimators=300;, score=0.830 total time=   0.8s\n",
      "[CV 3/3; 39/216] START chi2select__percentile=30, rfc__bootstrap=False, rfc__max_depth=10, rfc__max_samples=0.8, rfc__min_samples_split=2, rfc__n_estimators=300\n",
      "[CV 3/3; 39/216] END chi2select__percentile=30, rfc__bootstrap=False, rfc__max_depth=10, rfc__max_samples=0.8, rfc__min_samples_split=2, rfc__n_estimators=300;, score=0.823 total time=   0.8s\n",
      "[CV 1/3; 40/216] START chi2select__percentile=30, rfc__bootstrap=False, rfc__max_depth=10, rfc__max_samples=0.8, rfc__min_samples_split=4, rfc__n_estimators=50\n",
      "[CV 1/3; 40/216] END chi2select__percentile=30, rfc__bootstrap=False, rfc__max_depth=10, rfc__max_samples=0.8, rfc__min_samples_split=4, rfc__n_estimators=50;, score=0.740 total time=   0.1s\n",
      "[CV 2/3; 40/216] START chi2select__percentile=30, rfc__bootstrap=False, rfc__max_depth=10, rfc__max_samples=0.8, rfc__min_samples_split=4, rfc__n_estimators=50\n",
      "[CV 2/3; 40/216] END chi2select__percentile=30, rfc__bootstrap=False, rfc__max_depth=10, rfc__max_samples=0.8, rfc__min_samples_split=4, rfc__n_estimators=50;, score=0.837 total time=   0.2s\n",
      "[CV 3/3; 40/216] START chi2select__percentile=30, rfc__bootstrap=False, rfc__max_depth=10, rfc__max_samples=0.8, rfc__min_samples_split=4, rfc__n_estimators=50\n",
      "[CV 3/3; 40/216] END chi2select__percentile=30, rfc__bootstrap=False, rfc__max_depth=10, rfc__max_samples=0.8, rfc__min_samples_split=4, rfc__n_estimators=50;, score=0.812 total time=   0.2s\n",
      "[CV 1/3; 41/216] START chi2select__percentile=30, rfc__bootstrap=False, rfc__max_depth=10, rfc__max_samples=0.8, rfc__min_samples_split=4, rfc__n_estimators=100\n",
      "[CV 1/3; 41/216] END chi2select__percentile=30, rfc__bootstrap=False, rfc__max_depth=10, rfc__max_samples=0.8, rfc__min_samples_split=4, rfc__n_estimators=100;, score=0.758 total time=   0.3s\n",
      "[CV 2/3; 41/216] START chi2select__percentile=30, rfc__bootstrap=False, rfc__max_depth=10, rfc__max_samples=0.8, rfc__min_samples_split=4, rfc__n_estimators=100\n"
     ]
    },
    {
     "name": "stdout",
     "output_type": "stream",
     "text": [
      "[CV 2/3; 41/216] END chi2select__percentile=30, rfc__bootstrap=False, rfc__max_depth=10, rfc__max_samples=0.8, rfc__min_samples_split=4, rfc__n_estimators=100;, score=0.840 total time=   0.3s\n",
      "[CV 3/3; 41/216] START chi2select__percentile=30, rfc__bootstrap=False, rfc__max_depth=10, rfc__max_samples=0.8, rfc__min_samples_split=4, rfc__n_estimators=100\n",
      "[CV 3/3; 41/216] END chi2select__percentile=30, rfc__bootstrap=False, rfc__max_depth=10, rfc__max_samples=0.8, rfc__min_samples_split=4, rfc__n_estimators=100;, score=0.829 total time=   0.3s\n",
      "[CV 1/3; 42/216] START chi2select__percentile=30, rfc__bootstrap=False, rfc__max_depth=10, rfc__max_samples=0.8, rfc__min_samples_split=4, rfc__n_estimators=300\n",
      "[CV 1/3; 42/216] END chi2select__percentile=30, rfc__bootstrap=False, rfc__max_depth=10, rfc__max_samples=0.8, rfc__min_samples_split=4, rfc__n_estimators=300;, score=0.747 total time=   0.8s\n",
      "[CV 2/3; 42/216] START chi2select__percentile=30, rfc__bootstrap=False, rfc__max_depth=10, rfc__max_samples=0.8, rfc__min_samples_split=4, rfc__n_estimators=300\n",
      "[CV 2/3; 42/216] END chi2select__percentile=30, rfc__bootstrap=False, rfc__max_depth=10, rfc__max_samples=0.8, rfc__min_samples_split=4, rfc__n_estimators=300;, score=0.838 total time=   0.8s\n",
      "[CV 3/3; 42/216] START chi2select__percentile=30, rfc__bootstrap=False, rfc__max_depth=10, rfc__max_samples=0.8, rfc__min_samples_split=4, rfc__n_estimators=300\n",
      "[CV 3/3; 42/216] END chi2select__percentile=30, rfc__bootstrap=False, rfc__max_depth=10, rfc__max_samples=0.8, rfc__min_samples_split=4, rfc__n_estimators=300;, score=0.825 total time=   0.8s\n",
      "[CV 1/3; 43/216] START chi2select__percentile=30, rfc__bootstrap=False, rfc__max_depth=10, rfc__max_samples=None, rfc__min_samples_split=2, rfc__n_estimators=50\n",
      "[CV 1/3; 43/216] END chi2select__percentile=30, rfc__bootstrap=False, rfc__max_depth=10, rfc__max_samples=None, rfc__min_samples_split=2, rfc__n_estimators=50;, score=0.734 total time=   0.1s\n",
      "[CV 2/3; 43/216] START chi2select__percentile=30, rfc__bootstrap=False, rfc__max_depth=10, rfc__max_samples=None, rfc__min_samples_split=2, rfc__n_estimators=50\n",
      "[CV 2/3; 43/216] END chi2select__percentile=30, rfc__bootstrap=False, rfc__max_depth=10, rfc__max_samples=None, rfc__min_samples_split=2, rfc__n_estimators=50;, score=0.841 total time=   0.1s\n",
      "[CV 3/3; 43/216] START chi2select__percentile=30, rfc__bootstrap=False, rfc__max_depth=10, rfc__max_samples=None, rfc__min_samples_split=2, rfc__n_estimators=50\n",
      "[CV 3/3; 43/216] END chi2select__percentile=30, rfc__bootstrap=False, rfc__max_depth=10, rfc__max_samples=None, rfc__min_samples_split=2, rfc__n_estimators=50;, score=0.829 total time=   0.1s\n",
      "[CV 1/3; 44/216] START chi2select__percentile=30, rfc__bootstrap=False, rfc__max_depth=10, rfc__max_samples=None, rfc__min_samples_split=2, rfc__n_estimators=100\n",
      "[CV 1/3; 44/216] END chi2select__percentile=30, rfc__bootstrap=False, rfc__max_depth=10, rfc__max_samples=None, rfc__min_samples_split=2, rfc__n_estimators=100;, score=0.743 total time=   0.3s\n",
      "[CV 2/3; 44/216] START chi2select__percentile=30, rfc__bootstrap=False, rfc__max_depth=10, rfc__max_samples=None, rfc__min_samples_split=2, rfc__n_estimators=100\n",
      "[CV 2/3; 44/216] END chi2select__percentile=30, rfc__bootstrap=False, rfc__max_depth=10, rfc__max_samples=None, rfc__min_samples_split=2, rfc__n_estimators=100;, score=0.829 total time=   0.3s\n",
      "[CV 3/3; 44/216] START chi2select__percentile=30, rfc__bootstrap=False, rfc__max_depth=10, rfc__max_samples=None, rfc__min_samples_split=2, rfc__n_estimators=100\n",
      "[CV 3/3; 44/216] END chi2select__percentile=30, rfc__bootstrap=False, rfc__max_depth=10, rfc__max_samples=None, rfc__min_samples_split=2, rfc__n_estimators=100;, score=0.826 total time=   0.3s\n",
      "[CV 1/3; 45/216] START chi2select__percentile=30, rfc__bootstrap=False, rfc__max_depth=10, rfc__max_samples=None, rfc__min_samples_split=2, rfc__n_estimators=300\n",
      "[CV 1/3; 45/216] END chi2select__percentile=30, rfc__bootstrap=False, rfc__max_depth=10, rfc__max_samples=None, rfc__min_samples_split=2, rfc__n_estimators=300;, score=0.747 total time=   0.8s\n",
      "[CV 2/3; 45/216] START chi2select__percentile=30, rfc__bootstrap=False, rfc__max_depth=10, rfc__max_samples=None, rfc__min_samples_split=2, rfc__n_estimators=300\n",
      "[CV 2/3; 45/216] END chi2select__percentile=30, rfc__bootstrap=False, rfc__max_depth=10, rfc__max_samples=None, rfc__min_samples_split=2, rfc__n_estimators=300;, score=0.840 total time=   0.8s\n",
      "[CV 3/3; 45/216] START chi2select__percentile=30, rfc__bootstrap=False, rfc__max_depth=10, rfc__max_samples=None, rfc__min_samples_split=2, rfc__n_estimators=300\n",
      "[CV 3/3; 45/216] END chi2select__percentile=30, rfc__bootstrap=False, rfc__max_depth=10, rfc__max_samples=None, rfc__min_samples_split=2, rfc__n_estimators=300;, score=0.830 total time=   0.8s\n",
      "[CV 1/3; 46/216] START chi2select__percentile=30, rfc__bootstrap=False, rfc__max_depth=10, rfc__max_samples=None, rfc__min_samples_split=4, rfc__n_estimators=50\n",
      "[CV 1/3; 46/216] END chi2select__percentile=30, rfc__bootstrap=False, rfc__max_depth=10, rfc__max_samples=None, rfc__min_samples_split=4, rfc__n_estimators=50;, score=0.746 total time=   0.1s\n",
      "[CV 2/3; 46/216] START chi2select__percentile=30, rfc__bootstrap=False, rfc__max_depth=10, rfc__max_samples=None, rfc__min_samples_split=4, rfc__n_estimators=50\n",
      "[CV 2/3; 46/216] END chi2select__percentile=30, rfc__bootstrap=False, rfc__max_depth=10, rfc__max_samples=None, rfc__min_samples_split=4, rfc__n_estimators=50;, score=0.839 total time=   0.1s\n",
      "[CV 3/3; 46/216] START chi2select__percentile=30, rfc__bootstrap=False, rfc__max_depth=10, rfc__max_samples=None, rfc__min_samples_split=4, rfc__n_estimators=50\n",
      "[CV 3/3; 46/216] END chi2select__percentile=30, rfc__bootstrap=False, rfc__max_depth=10, rfc__max_samples=None, rfc__min_samples_split=4, rfc__n_estimators=50;, score=0.811 total time=   0.1s\n",
      "[CV 1/3; 47/216] START chi2select__percentile=30, rfc__bootstrap=False, rfc__max_depth=10, rfc__max_samples=None, rfc__min_samples_split=4, rfc__n_estimators=100\n",
      "[CV 1/3; 47/216] END chi2select__percentile=30, rfc__bootstrap=False, rfc__max_depth=10, rfc__max_samples=None, rfc__min_samples_split=4, rfc__n_estimators=100;, score=0.745 total time=   0.3s\n",
      "[CV 2/3; 47/216] START chi2select__percentile=30, rfc__bootstrap=False, rfc__max_depth=10, rfc__max_samples=None, rfc__min_samples_split=4, rfc__n_estimators=100\n",
      "[CV 2/3; 47/216] END chi2select__percentile=30, rfc__bootstrap=False, rfc__max_depth=10, rfc__max_samples=None, rfc__min_samples_split=4, rfc__n_estimators=100;, score=0.833 total time=   0.3s\n",
      "[CV 3/3; 47/216] START chi2select__percentile=30, rfc__bootstrap=False, rfc__max_depth=10, rfc__max_samples=None, rfc__min_samples_split=4, rfc__n_estimators=100\n",
      "[CV 3/3; 47/216] END chi2select__percentile=30, rfc__bootstrap=False, rfc__max_depth=10, rfc__max_samples=None, rfc__min_samples_split=4, rfc__n_estimators=100;, score=0.819 total time=   0.3s\n",
      "[CV 1/3; 48/216] START chi2select__percentile=30, rfc__bootstrap=False, rfc__max_depth=10, rfc__max_samples=None, rfc__min_samples_split=4, rfc__n_estimators=300\n",
      "[CV 1/3; 48/216] END chi2select__percentile=30, rfc__bootstrap=False, rfc__max_depth=10, rfc__max_samples=None, rfc__min_samples_split=4, rfc__n_estimators=300;, score=0.747 total time=   0.8s\n",
      "[CV 2/3; 48/216] START chi2select__percentile=30, rfc__bootstrap=False, rfc__max_depth=10, rfc__max_samples=None, rfc__min_samples_split=4, rfc__n_estimators=300\n",
      "[CV 2/3; 48/216] END chi2select__percentile=30, rfc__bootstrap=False, rfc__max_depth=10, rfc__max_samples=None, rfc__min_samples_split=4, rfc__n_estimators=300;, score=0.843 total time=   0.9s\n",
      "[CV 3/3; 48/216] START chi2select__percentile=30, rfc__bootstrap=False, rfc__max_depth=10, rfc__max_samples=None, rfc__min_samples_split=4, rfc__n_estimators=300\n",
      "[CV 3/3; 48/216] END chi2select__percentile=30, rfc__bootstrap=False, rfc__max_depth=10, rfc__max_samples=None, rfc__min_samples_split=4, rfc__n_estimators=300;, score=0.834 total time=   0.8s\n",
      "[CV 1/3; 49/216] START chi2select__percentile=30, rfc__bootstrap=False, rfc__max_depth=20, rfc__max_samples=0.8, rfc__min_samples_split=2, rfc__n_estimators=50\n",
      "[CV 1/3; 49/216] END chi2select__percentile=30, rfc__bootstrap=False, rfc__max_depth=20, rfc__max_samples=0.8, rfc__min_samples_split=2, rfc__n_estimators=50;, score=0.834 total time=   0.2s\n",
      "[CV 2/3; 49/216] START chi2select__percentile=30, rfc__bootstrap=False, rfc__max_depth=20, rfc__max_samples=0.8, rfc__min_samples_split=2, rfc__n_estimators=50\n"
     ]
    },
    {
     "name": "stdout",
     "output_type": "stream",
     "text": [
      "[CV 2/3; 49/216] END chi2select__percentile=30, rfc__bootstrap=False, rfc__max_depth=20, rfc__max_samples=0.8, rfc__min_samples_split=2, rfc__n_estimators=50;, score=0.857 total time=   0.2s\n",
      "[CV 3/3; 49/216] START chi2select__percentile=30, rfc__bootstrap=False, rfc__max_depth=20, rfc__max_samples=0.8, rfc__min_samples_split=2, rfc__n_estimators=50\n",
      "[CV 3/3; 49/216] END chi2select__percentile=30, rfc__bootstrap=False, rfc__max_depth=20, rfc__max_samples=0.8, rfc__min_samples_split=2, rfc__n_estimators=50;, score=0.858 total time=   0.2s\n",
      "[CV 1/3; 50/216] START chi2select__percentile=30, rfc__bootstrap=False, rfc__max_depth=20, rfc__max_samples=0.8, rfc__min_samples_split=2, rfc__n_estimators=100\n",
      "[CV 1/3; 50/216] END chi2select__percentile=30, rfc__bootstrap=False, rfc__max_depth=20, rfc__max_samples=0.8, rfc__min_samples_split=2, rfc__n_estimators=100;, score=0.835 total time=   0.3s\n",
      "[CV 2/3; 50/216] START chi2select__percentile=30, rfc__bootstrap=False, rfc__max_depth=20, rfc__max_samples=0.8, rfc__min_samples_split=2, rfc__n_estimators=100\n",
      "[CV 2/3; 50/216] END chi2select__percentile=30, rfc__bootstrap=False, rfc__max_depth=20, rfc__max_samples=0.8, rfc__min_samples_split=2, rfc__n_estimators=100;, score=0.870 total time=   0.4s\n",
      "[CV 3/3; 50/216] START chi2select__percentile=30, rfc__bootstrap=False, rfc__max_depth=20, rfc__max_samples=0.8, rfc__min_samples_split=2, rfc__n_estimators=100\n",
      "[CV 3/3; 50/216] END chi2select__percentile=30, rfc__bootstrap=False, rfc__max_depth=20, rfc__max_samples=0.8, rfc__min_samples_split=2, rfc__n_estimators=100;, score=0.855 total time=   0.3s\n",
      "[CV 1/3; 51/216] START chi2select__percentile=30, rfc__bootstrap=False, rfc__max_depth=20, rfc__max_samples=0.8, rfc__min_samples_split=2, rfc__n_estimators=300\n",
      "[CV 1/3; 51/216] END chi2select__percentile=30, rfc__bootstrap=False, rfc__max_depth=20, rfc__max_samples=0.8, rfc__min_samples_split=2, rfc__n_estimators=300;, score=0.837 total time=   1.0s\n",
      "[CV 2/3; 51/216] START chi2select__percentile=30, rfc__bootstrap=False, rfc__max_depth=20, rfc__max_samples=0.8, rfc__min_samples_split=2, rfc__n_estimators=300\n",
      "[CV 2/3; 51/216] END chi2select__percentile=30, rfc__bootstrap=False, rfc__max_depth=20, rfc__max_samples=0.8, rfc__min_samples_split=2, rfc__n_estimators=300;, score=0.865 total time=   1.1s\n",
      "[CV 3/3; 51/216] START chi2select__percentile=30, rfc__bootstrap=False, rfc__max_depth=20, rfc__max_samples=0.8, rfc__min_samples_split=2, rfc__n_estimators=300\n",
      "[CV 3/3; 51/216] END chi2select__percentile=30, rfc__bootstrap=False, rfc__max_depth=20, rfc__max_samples=0.8, rfc__min_samples_split=2, rfc__n_estimators=300;, score=0.872 total time=   1.0s\n",
      "[CV 1/3; 52/216] START chi2select__percentile=30, rfc__bootstrap=False, rfc__max_depth=20, rfc__max_samples=0.8, rfc__min_samples_split=4, rfc__n_estimators=50\n",
      "[CV 1/3; 52/216] END chi2select__percentile=30, rfc__bootstrap=False, rfc__max_depth=20, rfc__max_samples=0.8, rfc__min_samples_split=4, rfc__n_estimators=50;, score=0.832 total time=   0.2s\n",
      "[CV 2/3; 52/216] START chi2select__percentile=30, rfc__bootstrap=False, rfc__max_depth=20, rfc__max_samples=0.8, rfc__min_samples_split=4, rfc__n_estimators=50\n",
      "[CV 2/3; 52/216] END chi2select__percentile=30, rfc__bootstrap=False, rfc__max_depth=20, rfc__max_samples=0.8, rfc__min_samples_split=4, rfc__n_estimators=50;, score=0.860 total time=   0.2s\n",
      "[CV 3/3; 52/216] START chi2select__percentile=30, rfc__bootstrap=False, rfc__max_depth=20, rfc__max_samples=0.8, rfc__min_samples_split=4, rfc__n_estimators=50\n",
      "[CV 3/3; 52/216] END chi2select__percentile=30, rfc__bootstrap=False, rfc__max_depth=20, rfc__max_samples=0.8, rfc__min_samples_split=4, rfc__n_estimators=50;, score=0.858 total time=   0.2s\n",
      "[CV 1/3; 53/216] START chi2select__percentile=30, rfc__bootstrap=False, rfc__max_depth=20, rfc__max_samples=0.8, rfc__min_samples_split=4, rfc__n_estimators=100\n",
      "[CV 1/3; 53/216] END chi2select__percentile=30, rfc__bootstrap=False, rfc__max_depth=20, rfc__max_samples=0.8, rfc__min_samples_split=4, rfc__n_estimators=100;, score=0.837 total time=   0.3s\n",
      "[CV 2/3; 53/216] START chi2select__percentile=30, rfc__bootstrap=False, rfc__max_depth=20, rfc__max_samples=0.8, rfc__min_samples_split=4, rfc__n_estimators=100\n",
      "[CV 2/3; 53/216] END chi2select__percentile=30, rfc__bootstrap=False, rfc__max_depth=20, rfc__max_samples=0.8, rfc__min_samples_split=4, rfc__n_estimators=100;, score=0.865 total time=   0.4s\n",
      "[CV 3/3; 53/216] START chi2select__percentile=30, rfc__bootstrap=False, rfc__max_depth=20, rfc__max_samples=0.8, rfc__min_samples_split=4, rfc__n_estimators=100\n",
      "[CV 3/3; 53/216] END chi2select__percentile=30, rfc__bootstrap=False, rfc__max_depth=20, rfc__max_samples=0.8, rfc__min_samples_split=4, rfc__n_estimators=100;, score=0.862 total time=   0.3s\n",
      "[CV 1/3; 54/216] START chi2select__percentile=30, rfc__bootstrap=False, rfc__max_depth=20, rfc__max_samples=0.8, rfc__min_samples_split=4, rfc__n_estimators=300\n",
      "[CV 1/3; 54/216] END chi2select__percentile=30, rfc__bootstrap=False, rfc__max_depth=20, rfc__max_samples=0.8, rfc__min_samples_split=4, rfc__n_estimators=300;, score=0.832 total time=   1.0s\n",
      "[CV 2/3; 54/216] START chi2select__percentile=30, rfc__bootstrap=False, rfc__max_depth=20, rfc__max_samples=0.8, rfc__min_samples_split=4, rfc__n_estimators=300\n",
      "[CV 2/3; 54/216] END chi2select__percentile=30, rfc__bootstrap=False, rfc__max_depth=20, rfc__max_samples=0.8, rfc__min_samples_split=4, rfc__n_estimators=300;, score=0.857 total time=   1.0s\n",
      "[CV 3/3; 54/216] START chi2select__percentile=30, rfc__bootstrap=False, rfc__max_depth=20, rfc__max_samples=0.8, rfc__min_samples_split=4, rfc__n_estimators=300\n",
      "[CV 3/3; 54/216] END chi2select__percentile=30, rfc__bootstrap=False, rfc__max_depth=20, rfc__max_samples=0.8, rfc__min_samples_split=4, rfc__n_estimators=300;, score=0.868 total time=   1.0s\n",
      "[CV 1/3; 55/216] START chi2select__percentile=30, rfc__bootstrap=False, rfc__max_depth=20, rfc__max_samples=None, rfc__min_samples_split=2, rfc__n_estimators=50\n",
      "[CV 1/3; 55/216] END chi2select__percentile=30, rfc__bootstrap=False, rfc__max_depth=20, rfc__max_samples=None, rfc__min_samples_split=2, rfc__n_estimators=50;, score=0.840 total time=   0.2s\n",
      "[CV 2/3; 55/216] START chi2select__percentile=30, rfc__bootstrap=False, rfc__max_depth=20, rfc__max_samples=None, rfc__min_samples_split=2, rfc__n_estimators=50\n",
      "[CV 2/3; 55/216] END chi2select__percentile=30, rfc__bootstrap=False, rfc__max_depth=20, rfc__max_samples=None, rfc__min_samples_split=2, rfc__n_estimators=50;, score=0.865 total time=   0.2s\n",
      "[CV 3/3; 55/216] START chi2select__percentile=30, rfc__bootstrap=False, rfc__max_depth=20, rfc__max_samples=None, rfc__min_samples_split=2, rfc__n_estimators=50\n",
      "[CV 3/3; 55/216] END chi2select__percentile=30, rfc__bootstrap=False, rfc__max_depth=20, rfc__max_samples=None, rfc__min_samples_split=2, rfc__n_estimators=50;, score=0.865 total time=   0.2s\n",
      "[CV 1/3; 56/216] START chi2select__percentile=30, rfc__bootstrap=False, rfc__max_depth=20, rfc__max_samples=None, rfc__min_samples_split=2, rfc__n_estimators=100\n",
      "[CV 1/3; 56/216] END chi2select__percentile=30, rfc__bootstrap=False, rfc__max_depth=20, rfc__max_samples=None, rfc__min_samples_split=2, rfc__n_estimators=100;, score=0.834 total time=   0.3s\n",
      "[CV 2/3; 56/216] START chi2select__percentile=30, rfc__bootstrap=False, rfc__max_depth=20, rfc__max_samples=None, rfc__min_samples_split=2, rfc__n_estimators=100\n",
      "[CV 2/3; 56/216] END chi2select__percentile=30, rfc__bootstrap=False, rfc__max_depth=20, rfc__max_samples=None, rfc__min_samples_split=2, rfc__n_estimators=100;, score=0.862 total time=   0.4s\n",
      "[CV 3/3; 56/216] START chi2select__percentile=30, rfc__bootstrap=False, rfc__max_depth=20, rfc__max_samples=None, rfc__min_samples_split=2, rfc__n_estimators=100\n",
      "[CV 3/3; 56/216] END chi2select__percentile=30, rfc__bootstrap=False, rfc__max_depth=20, rfc__max_samples=None, rfc__min_samples_split=2, rfc__n_estimators=100;, score=0.862 total time=   0.3s\n",
      "[CV 1/3; 57/216] START chi2select__percentile=30, rfc__bootstrap=False, rfc__max_depth=20, rfc__max_samples=None, rfc__min_samples_split=2, rfc__n_estimators=300\n",
      "[CV 1/3; 57/216] END chi2select__percentile=30, rfc__bootstrap=False, rfc__max_depth=20, rfc__max_samples=None, rfc__min_samples_split=2, rfc__n_estimators=300;, score=0.832 total time=   1.0s\n",
      "[CV 2/3; 57/216] START chi2select__percentile=30, rfc__bootstrap=False, rfc__max_depth=20, rfc__max_samples=None, rfc__min_samples_split=2, rfc__n_estimators=300\n"
     ]
    },
    {
     "name": "stdout",
     "output_type": "stream",
     "text": [
      "[CV 2/3; 57/216] END chi2select__percentile=30, rfc__bootstrap=False, rfc__max_depth=20, rfc__max_samples=None, rfc__min_samples_split=2, rfc__n_estimators=300;, score=0.862 total time=   1.1s\n",
      "[CV 3/3; 57/216] START chi2select__percentile=30, rfc__bootstrap=False, rfc__max_depth=20, rfc__max_samples=None, rfc__min_samples_split=2, rfc__n_estimators=300\n",
      "[CV 3/3; 57/216] END chi2select__percentile=30, rfc__bootstrap=False, rfc__max_depth=20, rfc__max_samples=None, rfc__min_samples_split=2, rfc__n_estimators=300;, score=0.860 total time=   1.0s\n",
      "[CV 1/3; 58/216] START chi2select__percentile=30, rfc__bootstrap=False, rfc__max_depth=20, rfc__max_samples=None, rfc__min_samples_split=4, rfc__n_estimators=50\n",
      "[CV 1/3; 58/216] END chi2select__percentile=30, rfc__bootstrap=False, rfc__max_depth=20, rfc__max_samples=None, rfc__min_samples_split=4, rfc__n_estimators=50;, score=0.841 total time=   0.2s\n",
      "[CV 2/3; 58/216] START chi2select__percentile=30, rfc__bootstrap=False, rfc__max_depth=20, rfc__max_samples=None, rfc__min_samples_split=4, rfc__n_estimators=50\n",
      "[CV 2/3; 58/216] END chi2select__percentile=30, rfc__bootstrap=False, rfc__max_depth=20, rfc__max_samples=None, rfc__min_samples_split=4, rfc__n_estimators=50;, score=0.858 total time=   0.2s\n",
      "[CV 3/3; 58/216] START chi2select__percentile=30, rfc__bootstrap=False, rfc__max_depth=20, rfc__max_samples=None, rfc__min_samples_split=4, rfc__n_estimators=50\n",
      "[CV 3/3; 58/216] END chi2select__percentile=30, rfc__bootstrap=False, rfc__max_depth=20, rfc__max_samples=None, rfc__min_samples_split=4, rfc__n_estimators=50;, score=0.865 total time=   0.2s\n",
      "[CV 1/3; 59/216] START chi2select__percentile=30, rfc__bootstrap=False, rfc__max_depth=20, rfc__max_samples=None, rfc__min_samples_split=4, rfc__n_estimators=100\n",
      "[CV 1/3; 59/216] END chi2select__percentile=30, rfc__bootstrap=False, rfc__max_depth=20, rfc__max_samples=None, rfc__min_samples_split=4, rfc__n_estimators=100;, score=0.832 total time=   0.3s\n",
      "[CV 2/3; 59/216] START chi2select__percentile=30, rfc__bootstrap=False, rfc__max_depth=20, rfc__max_samples=None, rfc__min_samples_split=4, rfc__n_estimators=100\n",
      "[CV 2/3; 59/216] END chi2select__percentile=30, rfc__bootstrap=False, rfc__max_depth=20, rfc__max_samples=None, rfc__min_samples_split=4, rfc__n_estimators=100;, score=0.857 total time=   0.4s\n",
      "[CV 3/3; 59/216] START chi2select__percentile=30, rfc__bootstrap=False, rfc__max_depth=20, rfc__max_samples=None, rfc__min_samples_split=4, rfc__n_estimators=100\n",
      "[CV 3/3; 59/216] END chi2select__percentile=30, rfc__bootstrap=False, rfc__max_depth=20, rfc__max_samples=None, rfc__min_samples_split=4, rfc__n_estimators=100;, score=0.863 total time=   0.4s\n",
      "[CV 1/3; 60/216] START chi2select__percentile=30, rfc__bootstrap=False, rfc__max_depth=20, rfc__max_samples=None, rfc__min_samples_split=4, rfc__n_estimators=300\n",
      "[CV 1/3; 60/216] END chi2select__percentile=30, rfc__bootstrap=False, rfc__max_depth=20, rfc__max_samples=None, rfc__min_samples_split=4, rfc__n_estimators=300;, score=0.836 total time=   1.0s\n",
      "[CV 2/3; 60/216] START chi2select__percentile=30, rfc__bootstrap=False, rfc__max_depth=20, rfc__max_samples=None, rfc__min_samples_split=4, rfc__n_estimators=300\n",
      "[CV 2/3; 60/216] END chi2select__percentile=30, rfc__bootstrap=False, rfc__max_depth=20, rfc__max_samples=None, rfc__min_samples_split=4, rfc__n_estimators=300;, score=0.860 total time=   1.1s\n",
      "[CV 3/3; 60/216] START chi2select__percentile=30, rfc__bootstrap=False, rfc__max_depth=20, rfc__max_samples=None, rfc__min_samples_split=4, rfc__n_estimators=300\n",
      "[CV 3/3; 60/216] END chi2select__percentile=30, rfc__bootstrap=False, rfc__max_depth=20, rfc__max_samples=None, rfc__min_samples_split=4, rfc__n_estimators=300;, score=0.862 total time=   1.0s\n",
      "[CV 1/3; 61/216] START chi2select__percentile=30, rfc__bootstrap=False, rfc__max_depth=None, rfc__max_samples=0.8, rfc__min_samples_split=2, rfc__n_estimators=50\n",
      "[CV 1/3; 61/216] END chi2select__percentile=30, rfc__bootstrap=False, rfc__max_depth=None, rfc__max_samples=0.8, rfc__min_samples_split=2, rfc__n_estimators=50;, score=0.851 total time=   0.2s\n",
      "[CV 2/3; 61/216] START chi2select__percentile=30, rfc__bootstrap=False, rfc__max_depth=None, rfc__max_samples=0.8, rfc__min_samples_split=2, rfc__n_estimators=50\n",
      "[CV 2/3; 61/216] END chi2select__percentile=30, rfc__bootstrap=False, rfc__max_depth=None, rfc__max_samples=0.8, rfc__min_samples_split=2, rfc__n_estimators=50;, score=0.878 total time=   0.2s\n",
      "[CV 3/3; 61/216] START chi2select__percentile=30, rfc__bootstrap=False, rfc__max_depth=None, rfc__max_samples=0.8, rfc__min_samples_split=2, rfc__n_estimators=50\n",
      "[CV 3/3; 61/216] END chi2select__percentile=30, rfc__bootstrap=False, rfc__max_depth=None, rfc__max_samples=0.8, rfc__min_samples_split=2, rfc__n_estimators=50;, score=0.860 total time=   0.2s\n",
      "[CV 1/3; 62/216] START chi2select__percentile=30, rfc__bootstrap=False, rfc__max_depth=None, rfc__max_samples=0.8, rfc__min_samples_split=2, rfc__n_estimators=100\n",
      "[CV 1/3; 62/216] END chi2select__percentile=30, rfc__bootstrap=False, rfc__max_depth=None, rfc__max_samples=0.8, rfc__min_samples_split=2, rfc__n_estimators=100;, score=0.851 total time=   0.4s\n",
      "[CV 2/3; 62/216] START chi2select__percentile=30, rfc__bootstrap=False, rfc__max_depth=None, rfc__max_samples=0.8, rfc__min_samples_split=2, rfc__n_estimators=100\n",
      "[CV 2/3; 62/216] END chi2select__percentile=30, rfc__bootstrap=False, rfc__max_depth=None, rfc__max_samples=0.8, rfc__min_samples_split=2, rfc__n_estimators=100;, score=0.862 total time=   0.4s\n",
      "[CV 3/3; 62/216] START chi2select__percentile=30, rfc__bootstrap=False, rfc__max_depth=None, rfc__max_samples=0.8, rfc__min_samples_split=2, rfc__n_estimators=100\n",
      "[CV 3/3; 62/216] END chi2select__percentile=30, rfc__bootstrap=False, rfc__max_depth=None, rfc__max_samples=0.8, rfc__min_samples_split=2, rfc__n_estimators=100;, score=0.863 total time=   0.4s\n",
      "[CV 1/3; 63/216] START chi2select__percentile=30, rfc__bootstrap=False, rfc__max_depth=None, rfc__max_samples=0.8, rfc__min_samples_split=2, rfc__n_estimators=300\n",
      "[CV 1/3; 63/216] END chi2select__percentile=30, rfc__bootstrap=False, rfc__max_depth=None, rfc__max_samples=0.8, rfc__min_samples_split=2, rfc__n_estimators=300;, score=0.852 total time=   1.0s\n",
      "[CV 2/3; 63/216] START chi2select__percentile=30, rfc__bootstrap=False, rfc__max_depth=None, rfc__max_samples=0.8, rfc__min_samples_split=2, rfc__n_estimators=300\n",
      "[CV 2/3; 63/216] END chi2select__percentile=30, rfc__bootstrap=False, rfc__max_depth=None, rfc__max_samples=0.8, rfc__min_samples_split=2, rfc__n_estimators=300;, score=0.860 total time=   1.0s\n",
      "[CV 3/3; 63/216] START chi2select__percentile=30, rfc__bootstrap=False, rfc__max_depth=None, rfc__max_samples=0.8, rfc__min_samples_split=2, rfc__n_estimators=300\n",
      "[CV 3/3; 63/216] END chi2select__percentile=30, rfc__bootstrap=False, rfc__max_depth=None, rfc__max_samples=0.8, rfc__min_samples_split=2, rfc__n_estimators=300;, score=0.863 total time=   1.0s\n",
      "[CV 1/3; 64/216] START chi2select__percentile=30, rfc__bootstrap=False, rfc__max_depth=None, rfc__max_samples=0.8, rfc__min_samples_split=4, rfc__n_estimators=50\n",
      "[CV 1/3; 64/216] END chi2select__percentile=30, rfc__bootstrap=False, rfc__max_depth=None, rfc__max_samples=0.8, rfc__min_samples_split=4, rfc__n_estimators=50;, score=0.858 total time=   0.2s\n",
      "[CV 2/3; 64/216] START chi2select__percentile=30, rfc__bootstrap=False, rfc__max_depth=None, rfc__max_samples=0.8, rfc__min_samples_split=4, rfc__n_estimators=50\n",
      "[CV 2/3; 64/216] END chi2select__percentile=30, rfc__bootstrap=False, rfc__max_depth=None, rfc__max_samples=0.8, rfc__min_samples_split=4, rfc__n_estimators=50;, score=0.857 total time=   0.2s\n",
      "[CV 3/3; 64/216] START chi2select__percentile=30, rfc__bootstrap=False, rfc__max_depth=None, rfc__max_samples=0.8, rfc__min_samples_split=4, rfc__n_estimators=50\n",
      "[CV 3/3; 64/216] END chi2select__percentile=30, rfc__bootstrap=False, rfc__max_depth=None, rfc__max_samples=0.8, rfc__min_samples_split=4, rfc__n_estimators=50;, score=0.863 total time=   0.2s\n",
      "[CV 1/3; 65/216] START chi2select__percentile=30, rfc__bootstrap=False, rfc__max_depth=None, rfc__max_samples=0.8, rfc__min_samples_split=4, rfc__n_estimators=100\n",
      "[CV 1/3; 65/216] END chi2select__percentile=30, rfc__bootstrap=False, rfc__max_depth=None, rfc__max_samples=0.8, rfc__min_samples_split=4, rfc__n_estimators=100;, score=0.848 total time=   0.3s\n",
      "[CV 2/3; 65/216] START chi2select__percentile=30, rfc__bootstrap=False, rfc__max_depth=None, rfc__max_samples=0.8, rfc__min_samples_split=4, rfc__n_estimators=100\n"
     ]
    },
    {
     "name": "stdout",
     "output_type": "stream",
     "text": [
      "[CV 2/3; 65/216] END chi2select__percentile=30, rfc__bootstrap=False, rfc__max_depth=None, rfc__max_samples=0.8, rfc__min_samples_split=4, rfc__n_estimators=100;, score=0.855 total time=   0.4s\n",
      "[CV 3/3; 65/216] START chi2select__percentile=30, rfc__bootstrap=False, rfc__max_depth=None, rfc__max_samples=0.8, rfc__min_samples_split=4, rfc__n_estimators=100\n",
      "[CV 3/3; 65/216] END chi2select__percentile=30, rfc__bootstrap=False, rfc__max_depth=None, rfc__max_samples=0.8, rfc__min_samples_split=4, rfc__n_estimators=100;, score=0.862 total time=   0.3s\n",
      "[CV 1/3; 66/216] START chi2select__percentile=30, rfc__bootstrap=False, rfc__max_depth=None, rfc__max_samples=0.8, rfc__min_samples_split=4, rfc__n_estimators=300\n",
      "[CV 1/3; 66/216] END chi2select__percentile=30, rfc__bootstrap=False, rfc__max_depth=None, rfc__max_samples=0.8, rfc__min_samples_split=4, rfc__n_estimators=300;, score=0.845 total time=   1.0s\n",
      "[CV 2/3; 66/216] START chi2select__percentile=30, rfc__bootstrap=False, rfc__max_depth=None, rfc__max_samples=0.8, rfc__min_samples_split=4, rfc__n_estimators=300\n",
      "[CV 2/3; 66/216] END chi2select__percentile=30, rfc__bootstrap=False, rfc__max_depth=None, rfc__max_samples=0.8, rfc__min_samples_split=4, rfc__n_estimators=300;, score=0.862 total time=   1.0s\n",
      "[CV 3/3; 66/216] START chi2select__percentile=30, rfc__bootstrap=False, rfc__max_depth=None, rfc__max_samples=0.8, rfc__min_samples_split=4, rfc__n_estimators=300\n",
      "[CV 3/3; 66/216] END chi2select__percentile=30, rfc__bootstrap=False, rfc__max_depth=None, rfc__max_samples=0.8, rfc__min_samples_split=4, rfc__n_estimators=300;, score=0.870 total time=   1.0s\n",
      "[CV 1/3; 67/216] START chi2select__percentile=30, rfc__bootstrap=False, rfc__max_depth=None, rfc__max_samples=None, rfc__min_samples_split=2, rfc__n_estimators=50\n",
      "[CV 1/3; 67/216] END chi2select__percentile=30, rfc__bootstrap=False, rfc__max_depth=None, rfc__max_samples=None, rfc__min_samples_split=2, rfc__n_estimators=50;, score=0.849 total time=   0.2s\n",
      "[CV 2/3; 67/216] START chi2select__percentile=30, rfc__bootstrap=False, rfc__max_depth=None, rfc__max_samples=None, rfc__min_samples_split=2, rfc__n_estimators=50\n",
      "[CV 2/3; 67/216] END chi2select__percentile=30, rfc__bootstrap=False, rfc__max_depth=None, rfc__max_samples=None, rfc__min_samples_split=2, rfc__n_estimators=50;, score=0.870 total time=   0.2s\n",
      "[CV 3/3; 67/216] START chi2select__percentile=30, rfc__bootstrap=False, rfc__max_depth=None, rfc__max_samples=None, rfc__min_samples_split=2, rfc__n_estimators=50\n",
      "[CV 3/3; 67/216] END chi2select__percentile=30, rfc__bootstrap=False, rfc__max_depth=None, rfc__max_samples=None, rfc__min_samples_split=2, rfc__n_estimators=50;, score=0.862 total time=   0.2s\n",
      "[CV 1/3; 68/216] START chi2select__percentile=30, rfc__bootstrap=False, rfc__max_depth=None, rfc__max_samples=None, rfc__min_samples_split=2, rfc__n_estimators=100\n",
      "[CV 1/3; 68/216] END chi2select__percentile=30, rfc__bootstrap=False, rfc__max_depth=None, rfc__max_samples=None, rfc__min_samples_split=2, rfc__n_estimators=100;, score=0.855 total time=   0.3s\n",
      "[CV 2/3; 68/216] START chi2select__percentile=30, rfc__bootstrap=False, rfc__max_depth=None, rfc__max_samples=None, rfc__min_samples_split=2, rfc__n_estimators=100\n",
      "[CV 2/3; 68/216] END chi2select__percentile=30, rfc__bootstrap=False, rfc__max_depth=None, rfc__max_samples=None, rfc__min_samples_split=2, rfc__n_estimators=100;, score=0.858 total time=   0.4s\n",
      "[CV 3/3; 68/216] START chi2select__percentile=30, rfc__bootstrap=False, rfc__max_depth=None, rfc__max_samples=None, rfc__min_samples_split=2, rfc__n_estimators=100\n",
      "[CV 3/3; 68/216] END chi2select__percentile=30, rfc__bootstrap=False, rfc__max_depth=None, rfc__max_samples=None, rfc__min_samples_split=2, rfc__n_estimators=100;, score=0.867 total time=   0.3s\n",
      "[CV 1/3; 69/216] START chi2select__percentile=30, rfc__bootstrap=False, rfc__max_depth=None, rfc__max_samples=None, rfc__min_samples_split=2, rfc__n_estimators=300\n",
      "[CV 1/3; 69/216] END chi2select__percentile=30, rfc__bootstrap=False, rfc__max_depth=None, rfc__max_samples=None, rfc__min_samples_split=2, rfc__n_estimators=300;, score=0.847 total time=   1.0s\n",
      "[CV 2/3; 69/216] START chi2select__percentile=30, rfc__bootstrap=False, rfc__max_depth=None, rfc__max_samples=None, rfc__min_samples_split=2, rfc__n_estimators=300\n",
      "[CV 2/3; 69/216] END chi2select__percentile=30, rfc__bootstrap=False, rfc__max_depth=None, rfc__max_samples=None, rfc__min_samples_split=2, rfc__n_estimators=300;, score=0.862 total time=   1.0s\n",
      "[CV 3/3; 69/216] START chi2select__percentile=30, rfc__bootstrap=False, rfc__max_depth=None, rfc__max_samples=None, rfc__min_samples_split=2, rfc__n_estimators=300\n",
      "[CV 3/3; 69/216] END chi2select__percentile=30, rfc__bootstrap=False, rfc__max_depth=None, rfc__max_samples=None, rfc__min_samples_split=2, rfc__n_estimators=300;, score=0.865 total time=   1.0s\n",
      "[CV 1/3; 70/216] START chi2select__percentile=30, rfc__bootstrap=False, rfc__max_depth=None, rfc__max_samples=None, rfc__min_samples_split=4, rfc__n_estimators=50\n",
      "[CV 1/3; 70/216] END chi2select__percentile=30, rfc__bootstrap=False, rfc__max_depth=None, rfc__max_samples=None, rfc__min_samples_split=4, rfc__n_estimators=50;, score=0.848 total time=   0.2s\n",
      "[CV 2/3; 70/216] START chi2select__percentile=30, rfc__bootstrap=False, rfc__max_depth=None, rfc__max_samples=None, rfc__min_samples_split=4, rfc__n_estimators=50\n",
      "[CV 2/3; 70/216] END chi2select__percentile=30, rfc__bootstrap=False, rfc__max_depth=None, rfc__max_samples=None, rfc__min_samples_split=4, rfc__n_estimators=50;, score=0.866 total time=   0.2s\n",
      "[CV 3/3; 70/216] START chi2select__percentile=30, rfc__bootstrap=False, rfc__max_depth=None, rfc__max_samples=None, rfc__min_samples_split=4, rfc__n_estimators=50\n",
      "[CV 3/3; 70/216] END chi2select__percentile=30, rfc__bootstrap=False, rfc__max_depth=None, rfc__max_samples=None, rfc__min_samples_split=4, rfc__n_estimators=50;, score=0.875 total time=   0.2s\n",
      "[CV 1/3; 71/216] START chi2select__percentile=30, rfc__bootstrap=False, rfc__max_depth=None, rfc__max_samples=None, rfc__min_samples_split=4, rfc__n_estimators=100\n",
      "[CV 1/3; 71/216] END chi2select__percentile=30, rfc__bootstrap=False, rfc__max_depth=None, rfc__max_samples=None, rfc__min_samples_split=4, rfc__n_estimators=100;, score=0.847 total time=   0.3s\n",
      "[CV 2/3; 71/216] START chi2select__percentile=30, rfc__bootstrap=False, rfc__max_depth=None, rfc__max_samples=None, rfc__min_samples_split=4, rfc__n_estimators=100\n",
      "[CV 2/3; 71/216] END chi2select__percentile=30, rfc__bootstrap=False, rfc__max_depth=None, rfc__max_samples=None, rfc__min_samples_split=4, rfc__n_estimators=100;, score=0.873 total time=   0.4s\n",
      "[CV 3/3; 71/216] START chi2select__percentile=30, rfc__bootstrap=False, rfc__max_depth=None, rfc__max_samples=None, rfc__min_samples_split=4, rfc__n_estimators=100\n",
      "[CV 3/3; 71/216] END chi2select__percentile=30, rfc__bootstrap=False, rfc__max_depth=None, rfc__max_samples=None, rfc__min_samples_split=4, rfc__n_estimators=100;, score=0.870 total time=   0.3s\n",
      "[CV 1/3; 72/216] START chi2select__percentile=30, rfc__bootstrap=False, rfc__max_depth=None, rfc__max_samples=None, rfc__min_samples_split=4, rfc__n_estimators=300\n",
      "[CV 1/3; 72/216] END chi2select__percentile=30, rfc__bootstrap=False, rfc__max_depth=None, rfc__max_samples=None, rfc__min_samples_split=4, rfc__n_estimators=300;, score=0.843 total time=   1.0s\n",
      "[CV 2/3; 72/216] START chi2select__percentile=30, rfc__bootstrap=False, rfc__max_depth=None, rfc__max_samples=None, rfc__min_samples_split=4, rfc__n_estimators=300\n",
      "[CV 2/3; 72/216] END chi2select__percentile=30, rfc__bootstrap=False, rfc__max_depth=None, rfc__max_samples=None, rfc__min_samples_split=4, rfc__n_estimators=300;, score=0.862 total time=   1.0s\n",
      "[CV 3/3; 72/216] START chi2select__percentile=30, rfc__bootstrap=False, rfc__max_depth=None, rfc__max_samples=None, rfc__min_samples_split=4, rfc__n_estimators=300\n",
      "[CV 3/3; 72/216] END chi2select__percentile=30, rfc__bootstrap=False, rfc__max_depth=None, rfc__max_samples=None, rfc__min_samples_split=4, rfc__n_estimators=300;, score=0.867 total time=   1.0s\n",
      "[CV 1/3; 73/216] START chi2select__percentile=40, rfc__bootstrap=True, rfc__max_depth=10, rfc__max_samples=0.8, rfc__min_samples_split=2, rfc__n_estimators=50\n",
      "[CV 1/3; 73/216] END chi2select__percentile=40, rfc__bootstrap=True, rfc__max_depth=10, rfc__max_samples=0.8, rfc__min_samples_split=2, rfc__n_estimators=50;, score=0.841 total time=   0.1s\n",
      "[CV 2/3; 73/216] START chi2select__percentile=40, rfc__bootstrap=True, rfc__max_depth=10, rfc__max_samples=0.8, rfc__min_samples_split=2, rfc__n_estimators=50\n"
     ]
    },
    {
     "name": "stdout",
     "output_type": "stream",
     "text": [
      "[CV 2/3; 73/216] END chi2select__percentile=40, rfc__bootstrap=True, rfc__max_depth=10, rfc__max_samples=0.8, rfc__min_samples_split=2, rfc__n_estimators=50;, score=0.858 total time=   0.1s\n",
      "[CV 3/3; 73/216] START chi2select__percentile=40, rfc__bootstrap=True, rfc__max_depth=10, rfc__max_samples=0.8, rfc__min_samples_split=2, rfc__n_estimators=50\n",
      "[CV 3/3; 73/216] END chi2select__percentile=40, rfc__bootstrap=True, rfc__max_depth=10, rfc__max_samples=0.8, rfc__min_samples_split=2, rfc__n_estimators=50;, score=0.842 total time=   0.1s\n",
      "[CV 1/3; 74/216] START chi2select__percentile=40, rfc__bootstrap=True, rfc__max_depth=10, rfc__max_samples=0.8, rfc__min_samples_split=2, rfc__n_estimators=100\n",
      "[CV 1/3; 74/216] END chi2select__percentile=40, rfc__bootstrap=True, rfc__max_depth=10, rfc__max_samples=0.8, rfc__min_samples_split=2, rfc__n_estimators=100;, score=0.856 total time=   0.3s\n",
      "[CV 2/3; 74/216] START chi2select__percentile=40, rfc__bootstrap=True, rfc__max_depth=10, rfc__max_samples=0.8, rfc__min_samples_split=2, rfc__n_estimators=100\n",
      "[CV 2/3; 74/216] END chi2select__percentile=40, rfc__bootstrap=True, rfc__max_depth=10, rfc__max_samples=0.8, rfc__min_samples_split=2, rfc__n_estimators=100;, score=0.847 total time=   0.3s\n",
      "[CV 3/3; 74/216] START chi2select__percentile=40, rfc__bootstrap=True, rfc__max_depth=10, rfc__max_samples=0.8, rfc__min_samples_split=2, rfc__n_estimators=100\n",
      "[CV 3/3; 74/216] END chi2select__percentile=40, rfc__bootstrap=True, rfc__max_depth=10, rfc__max_samples=0.8, rfc__min_samples_split=2, rfc__n_estimators=100;, score=0.848 total time=   0.3s\n",
      "[CV 1/3; 75/216] START chi2select__percentile=40, rfc__bootstrap=True, rfc__max_depth=10, rfc__max_samples=0.8, rfc__min_samples_split=2, rfc__n_estimators=300\n",
      "[CV 1/3; 75/216] END chi2select__percentile=40, rfc__bootstrap=True, rfc__max_depth=10, rfc__max_samples=0.8, rfc__min_samples_split=2, rfc__n_estimators=300;, score=0.851 total time=   0.7s\n",
      "[CV 2/3; 75/216] START chi2select__percentile=40, rfc__bootstrap=True, rfc__max_depth=10, rfc__max_samples=0.8, rfc__min_samples_split=2, rfc__n_estimators=300\n",
      "[CV 2/3; 75/216] END chi2select__percentile=40, rfc__bootstrap=True, rfc__max_depth=10, rfc__max_samples=0.8, rfc__min_samples_split=2, rfc__n_estimators=300;, score=0.844 total time=   0.7s\n",
      "[CV 3/3; 75/216] START chi2select__percentile=40, rfc__bootstrap=True, rfc__max_depth=10, rfc__max_samples=0.8, rfc__min_samples_split=2, rfc__n_estimators=300\n",
      "[CV 3/3; 75/216] END chi2select__percentile=40, rfc__bootstrap=True, rfc__max_depth=10, rfc__max_samples=0.8, rfc__min_samples_split=2, rfc__n_estimators=300;, score=0.860 total time=   0.8s\n",
      "[CV 1/3; 76/216] START chi2select__percentile=40, rfc__bootstrap=True, rfc__max_depth=10, rfc__max_samples=0.8, rfc__min_samples_split=4, rfc__n_estimators=50\n",
      "[CV 1/3; 76/216] END chi2select__percentile=40, rfc__bootstrap=True, rfc__max_depth=10, rfc__max_samples=0.8, rfc__min_samples_split=4, rfc__n_estimators=50;, score=0.856 total time=   0.1s\n",
      "[CV 2/3; 76/216] START chi2select__percentile=40, rfc__bootstrap=True, rfc__max_depth=10, rfc__max_samples=0.8, rfc__min_samples_split=4, rfc__n_estimators=50\n",
      "[CV 2/3; 76/216] END chi2select__percentile=40, rfc__bootstrap=True, rfc__max_depth=10, rfc__max_samples=0.8, rfc__min_samples_split=4, rfc__n_estimators=50;, score=0.855 total time=   0.1s\n",
      "[CV 3/3; 76/216] START chi2select__percentile=40, rfc__bootstrap=True, rfc__max_depth=10, rfc__max_samples=0.8, rfc__min_samples_split=4, rfc__n_estimators=50\n",
      "[CV 3/3; 76/216] END chi2select__percentile=40, rfc__bootstrap=True, rfc__max_depth=10, rfc__max_samples=0.8, rfc__min_samples_split=4, rfc__n_estimators=50;, score=0.859 total time=   0.1s\n",
      "[CV 1/3; 77/216] START chi2select__percentile=40, rfc__bootstrap=True, rfc__max_depth=10, rfc__max_samples=0.8, rfc__min_samples_split=4, rfc__n_estimators=100\n",
      "[CV 1/3; 77/216] END chi2select__percentile=40, rfc__bootstrap=True, rfc__max_depth=10, rfc__max_samples=0.8, rfc__min_samples_split=4, rfc__n_estimators=100;, score=0.860 total time=   0.3s\n",
      "[CV 2/3; 77/216] START chi2select__percentile=40, rfc__bootstrap=True, rfc__max_depth=10, rfc__max_samples=0.8, rfc__min_samples_split=4, rfc__n_estimators=100\n",
      "[CV 2/3; 77/216] END chi2select__percentile=40, rfc__bootstrap=True, rfc__max_depth=10, rfc__max_samples=0.8, rfc__min_samples_split=4, rfc__n_estimators=100;, score=0.827 total time=   0.3s\n",
      "[CV 3/3; 77/216] START chi2select__percentile=40, rfc__bootstrap=True, rfc__max_depth=10, rfc__max_samples=0.8, rfc__min_samples_split=4, rfc__n_estimators=100\n",
      "[CV 3/3; 77/216] END chi2select__percentile=40, rfc__bootstrap=True, rfc__max_depth=10, rfc__max_samples=0.8, rfc__min_samples_split=4, rfc__n_estimators=100;, score=0.845 total time=   0.3s\n",
      "[CV 1/3; 78/216] START chi2select__percentile=40, rfc__bootstrap=True, rfc__max_depth=10, rfc__max_samples=0.8, rfc__min_samples_split=4, rfc__n_estimators=300\n",
      "[CV 1/3; 78/216] END chi2select__percentile=40, rfc__bootstrap=True, rfc__max_depth=10, rfc__max_samples=0.8, rfc__min_samples_split=4, rfc__n_estimators=300;, score=0.852 total time=   0.7s\n",
      "[CV 2/3; 78/216] START chi2select__percentile=40, rfc__bootstrap=True, rfc__max_depth=10, rfc__max_samples=0.8, rfc__min_samples_split=4, rfc__n_estimators=300\n",
      "[CV 2/3; 78/216] END chi2select__percentile=40, rfc__bootstrap=True, rfc__max_depth=10, rfc__max_samples=0.8, rfc__min_samples_split=4, rfc__n_estimators=300;, score=0.839 total time=   0.7s\n",
      "[CV 3/3; 78/216] START chi2select__percentile=40, rfc__bootstrap=True, rfc__max_depth=10, rfc__max_samples=0.8, rfc__min_samples_split=4, rfc__n_estimators=300\n",
      "[CV 3/3; 78/216] END chi2select__percentile=40, rfc__bootstrap=True, rfc__max_depth=10, rfc__max_samples=0.8, rfc__min_samples_split=4, rfc__n_estimators=300;, score=0.850 total time=   0.8s\n",
      "[CV 1/3; 79/216] START chi2select__percentile=40, rfc__bootstrap=True, rfc__max_depth=10, rfc__max_samples=None, rfc__min_samples_split=2, rfc__n_estimators=50\n",
      "[CV 1/3; 79/216] END chi2select__percentile=40, rfc__bootstrap=True, rfc__max_depth=10, rfc__max_samples=None, rfc__min_samples_split=2, rfc__n_estimators=50;, score=0.862 total time=   0.1s\n",
      "[CV 2/3; 79/216] START chi2select__percentile=40, rfc__bootstrap=True, rfc__max_depth=10, rfc__max_samples=None, rfc__min_samples_split=2, rfc__n_estimators=50\n",
      "[CV 2/3; 79/216] END chi2select__percentile=40, rfc__bootstrap=True, rfc__max_depth=10, rfc__max_samples=None, rfc__min_samples_split=2, rfc__n_estimators=50;, score=0.834 total time=   0.1s\n",
      "[CV 3/3; 79/216] START chi2select__percentile=40, rfc__bootstrap=True, rfc__max_depth=10, rfc__max_samples=None, rfc__min_samples_split=2, rfc__n_estimators=50\n",
      "[CV 3/3; 79/216] END chi2select__percentile=40, rfc__bootstrap=True, rfc__max_depth=10, rfc__max_samples=None, rfc__min_samples_split=2, rfc__n_estimators=50;, score=0.859 total time=   0.2s\n",
      "[CV 1/3; 80/216] START chi2select__percentile=40, rfc__bootstrap=True, rfc__max_depth=10, rfc__max_samples=None, rfc__min_samples_split=2, rfc__n_estimators=100\n",
      "[CV 1/3; 80/216] END chi2select__percentile=40, rfc__bootstrap=True, rfc__max_depth=10, rfc__max_samples=None, rfc__min_samples_split=2, rfc__n_estimators=100;, score=0.859 total time=   0.3s\n",
      "[CV 2/3; 80/216] START chi2select__percentile=40, rfc__bootstrap=True, rfc__max_depth=10, rfc__max_samples=None, rfc__min_samples_split=2, rfc__n_estimators=100\n",
      "[CV 2/3; 80/216] END chi2select__percentile=40, rfc__bootstrap=True, rfc__max_depth=10, rfc__max_samples=None, rfc__min_samples_split=2, rfc__n_estimators=100;, score=0.848 total time=   0.3s\n",
      "[CV 3/3; 80/216] START chi2select__percentile=40, rfc__bootstrap=True, rfc__max_depth=10, rfc__max_samples=None, rfc__min_samples_split=2, rfc__n_estimators=100\n",
      "[CV 3/3; 80/216] END chi2select__percentile=40, rfc__bootstrap=True, rfc__max_depth=10, rfc__max_samples=None, rfc__min_samples_split=2, rfc__n_estimators=100;, score=0.865 total time=   0.3s\n",
      "[CV 1/3; 81/216] START chi2select__percentile=40, rfc__bootstrap=True, rfc__max_depth=10, rfc__max_samples=None, rfc__min_samples_split=2, rfc__n_estimators=300\n",
      "[CV 1/3; 81/216] END chi2select__percentile=40, rfc__bootstrap=True, rfc__max_depth=10, rfc__max_samples=None, rfc__min_samples_split=2, rfc__n_estimators=300;, score=0.866 total time=   0.8s\n",
      "[CV 2/3; 81/216] START chi2select__percentile=40, rfc__bootstrap=True, rfc__max_depth=10, rfc__max_samples=None, rfc__min_samples_split=2, rfc__n_estimators=300\n"
     ]
    },
    {
     "name": "stdout",
     "output_type": "stream",
     "text": [
      "[CV 2/3; 81/216] END chi2select__percentile=40, rfc__bootstrap=True, rfc__max_depth=10, rfc__max_samples=None, rfc__min_samples_split=2, rfc__n_estimators=300;, score=0.854 total time=   0.8s\n",
      "[CV 3/3; 81/216] START chi2select__percentile=40, rfc__bootstrap=True, rfc__max_depth=10, rfc__max_samples=None, rfc__min_samples_split=2, rfc__n_estimators=300\n",
      "[CV 3/3; 81/216] END chi2select__percentile=40, rfc__bootstrap=True, rfc__max_depth=10, rfc__max_samples=None, rfc__min_samples_split=2, rfc__n_estimators=300;, score=0.873 total time=   0.9s\n",
      "[CV 1/3; 82/216] START chi2select__percentile=40, rfc__bootstrap=True, rfc__max_depth=10, rfc__max_samples=None, rfc__min_samples_split=4, rfc__n_estimators=50\n",
      "[CV 1/3; 82/216] END chi2select__percentile=40, rfc__bootstrap=True, rfc__max_depth=10, rfc__max_samples=None, rfc__min_samples_split=4, rfc__n_estimators=50;, score=0.842 total time=   0.1s\n",
      "[CV 2/3; 82/216] START chi2select__percentile=40, rfc__bootstrap=True, rfc__max_depth=10, rfc__max_samples=None, rfc__min_samples_split=4, rfc__n_estimators=50\n",
      "[CV 2/3; 82/216] END chi2select__percentile=40, rfc__bootstrap=True, rfc__max_depth=10, rfc__max_samples=None, rfc__min_samples_split=4, rfc__n_estimators=50;, score=0.836 total time=   0.1s\n",
      "[CV 3/3; 82/216] START chi2select__percentile=40, rfc__bootstrap=True, rfc__max_depth=10, rfc__max_samples=None, rfc__min_samples_split=4, rfc__n_estimators=50\n",
      "[CV 3/3; 82/216] END chi2select__percentile=40, rfc__bootstrap=True, rfc__max_depth=10, rfc__max_samples=None, rfc__min_samples_split=4, rfc__n_estimators=50;, score=0.858 total time=   0.2s\n",
      "[CV 1/3; 83/216] START chi2select__percentile=40, rfc__bootstrap=True, rfc__max_depth=10, rfc__max_samples=None, rfc__min_samples_split=4, rfc__n_estimators=100\n",
      "[CV 1/3; 83/216] END chi2select__percentile=40, rfc__bootstrap=True, rfc__max_depth=10, rfc__max_samples=None, rfc__min_samples_split=4, rfc__n_estimators=100;, score=0.866 total time=   0.3s\n",
      "[CV 2/3; 83/216] START chi2select__percentile=40, rfc__bootstrap=True, rfc__max_depth=10, rfc__max_samples=None, rfc__min_samples_split=4, rfc__n_estimators=100\n",
      "[CV 2/3; 83/216] END chi2select__percentile=40, rfc__bootstrap=True, rfc__max_depth=10, rfc__max_samples=None, rfc__min_samples_split=4, rfc__n_estimators=100;, score=0.842 total time=   0.3s\n",
      "[CV 3/3; 83/216] START chi2select__percentile=40, rfc__bootstrap=True, rfc__max_depth=10, rfc__max_samples=None, rfc__min_samples_split=4, rfc__n_estimators=100\n",
      "[CV 3/3; 83/216] END chi2select__percentile=40, rfc__bootstrap=True, rfc__max_depth=10, rfc__max_samples=None, rfc__min_samples_split=4, rfc__n_estimators=100;, score=0.862 total time=   0.3s\n",
      "[CV 1/3; 84/216] START chi2select__percentile=40, rfc__bootstrap=True, rfc__max_depth=10, rfc__max_samples=None, rfc__min_samples_split=4, rfc__n_estimators=300\n",
      "[CV 1/3; 84/216] END chi2select__percentile=40, rfc__bootstrap=True, rfc__max_depth=10, rfc__max_samples=None, rfc__min_samples_split=4, rfc__n_estimators=300;, score=0.873 total time=   0.8s\n",
      "[CV 2/3; 84/216] START chi2select__percentile=40, rfc__bootstrap=True, rfc__max_depth=10, rfc__max_samples=None, rfc__min_samples_split=4, rfc__n_estimators=300\n",
      "[CV 2/3; 84/216] END chi2select__percentile=40, rfc__bootstrap=True, rfc__max_depth=10, rfc__max_samples=None, rfc__min_samples_split=4, rfc__n_estimators=300;, score=0.860 total time=   0.8s\n",
      "[CV 3/3; 84/216] START chi2select__percentile=40, rfc__bootstrap=True, rfc__max_depth=10, rfc__max_samples=None, rfc__min_samples_split=4, rfc__n_estimators=300\n",
      "[CV 3/3; 84/216] END chi2select__percentile=40, rfc__bootstrap=True, rfc__max_depth=10, rfc__max_samples=None, rfc__min_samples_split=4, rfc__n_estimators=300;, score=0.870 total time=   0.9s\n",
      "[CV 1/3; 85/216] START chi2select__percentile=40, rfc__bootstrap=True, rfc__max_depth=20, rfc__max_samples=0.8, rfc__min_samples_split=2, rfc__n_estimators=50\n",
      "[CV 1/3; 85/216] END chi2select__percentile=40, rfc__bootstrap=True, rfc__max_depth=20, rfc__max_samples=0.8, rfc__min_samples_split=2, rfc__n_estimators=50;, score=0.883 total time=   0.2s\n",
      "[CV 2/3; 85/216] START chi2select__percentile=40, rfc__bootstrap=True, rfc__max_depth=20, rfc__max_samples=0.8, rfc__min_samples_split=2, rfc__n_estimators=50\n",
      "[CV 2/3; 85/216] END chi2select__percentile=40, rfc__bootstrap=True, rfc__max_depth=20, rfc__max_samples=0.8, rfc__min_samples_split=2, rfc__n_estimators=50;, score=0.847 total time=   0.2s\n",
      "[CV 3/3; 85/216] START chi2select__percentile=40, rfc__bootstrap=True, rfc__max_depth=20, rfc__max_samples=0.8, rfc__min_samples_split=2, rfc__n_estimators=50\n",
      "[CV 3/3; 85/216] END chi2select__percentile=40, rfc__bootstrap=True, rfc__max_depth=20, rfc__max_samples=0.8, rfc__min_samples_split=2, rfc__n_estimators=50;, score=0.892 total time=   0.2s\n",
      "[CV 1/3; 86/216] START chi2select__percentile=40, rfc__bootstrap=True, rfc__max_depth=20, rfc__max_samples=0.8, rfc__min_samples_split=2, rfc__n_estimators=100\n",
      "[CV 1/3; 86/216] END chi2select__percentile=40, rfc__bootstrap=True, rfc__max_depth=20, rfc__max_samples=0.8, rfc__min_samples_split=2, rfc__n_estimators=100;, score=0.891 total time=   0.3s\n",
      "[CV 2/3; 86/216] START chi2select__percentile=40, rfc__bootstrap=True, rfc__max_depth=20, rfc__max_samples=0.8, rfc__min_samples_split=2, rfc__n_estimators=100\n",
      "[CV 2/3; 86/216] END chi2select__percentile=40, rfc__bootstrap=True, rfc__max_depth=20, rfc__max_samples=0.8, rfc__min_samples_split=2, rfc__n_estimators=100;, score=0.855 total time=   0.3s\n",
      "[CV 3/3; 86/216] START chi2select__percentile=40, rfc__bootstrap=True, rfc__max_depth=20, rfc__max_samples=0.8, rfc__min_samples_split=2, rfc__n_estimators=100\n",
      "[CV 3/3; 86/216] END chi2select__percentile=40, rfc__bootstrap=True, rfc__max_depth=20, rfc__max_samples=0.8, rfc__min_samples_split=2, rfc__n_estimators=100;, score=0.892 total time=   0.3s\n",
      "[CV 1/3; 87/216] START chi2select__percentile=40, rfc__bootstrap=True, rfc__max_depth=20, rfc__max_samples=0.8, rfc__min_samples_split=2, rfc__n_estimators=300\n",
      "[CV 1/3; 87/216] END chi2select__percentile=40, rfc__bootstrap=True, rfc__max_depth=20, rfc__max_samples=0.8, rfc__min_samples_split=2, rfc__n_estimators=300;, score=0.887 total time=   0.9s\n",
      "[CV 2/3; 87/216] START chi2select__percentile=40, rfc__bootstrap=True, rfc__max_depth=20, rfc__max_samples=0.8, rfc__min_samples_split=2, rfc__n_estimators=300\n",
      "[CV 2/3; 87/216] END chi2select__percentile=40, rfc__bootstrap=True, rfc__max_depth=20, rfc__max_samples=0.8, rfc__min_samples_split=2, rfc__n_estimators=300;, score=0.855 total time=   0.9s\n",
      "[CV 3/3; 87/216] START chi2select__percentile=40, rfc__bootstrap=True, rfc__max_depth=20, rfc__max_samples=0.8, rfc__min_samples_split=2, rfc__n_estimators=300\n",
      "[CV 3/3; 87/216] END chi2select__percentile=40, rfc__bootstrap=True, rfc__max_depth=20, rfc__max_samples=0.8, rfc__min_samples_split=2, rfc__n_estimators=300;, score=0.895 total time=   0.9s\n",
      "[CV 1/3; 88/216] START chi2select__percentile=40, rfc__bootstrap=True, rfc__max_depth=20, rfc__max_samples=0.8, rfc__min_samples_split=4, rfc__n_estimators=50\n",
      "[CV 1/3; 88/216] END chi2select__percentile=40, rfc__bootstrap=True, rfc__max_depth=20, rfc__max_samples=0.8, rfc__min_samples_split=4, rfc__n_estimators=50;, score=0.876 total time=   0.2s\n",
      "[CV 2/3; 88/216] START chi2select__percentile=40, rfc__bootstrap=True, rfc__max_depth=20, rfc__max_samples=0.8, rfc__min_samples_split=4, rfc__n_estimators=50\n",
      "[CV 2/3; 88/216] END chi2select__percentile=40, rfc__bootstrap=True, rfc__max_depth=20, rfc__max_samples=0.8, rfc__min_samples_split=4, rfc__n_estimators=50;, score=0.844 total time=   0.2s\n",
      "[CV 3/3; 88/216] START chi2select__percentile=40, rfc__bootstrap=True, rfc__max_depth=20, rfc__max_samples=0.8, rfc__min_samples_split=4, rfc__n_estimators=50\n",
      "[CV 3/3; 88/216] END chi2select__percentile=40, rfc__bootstrap=True, rfc__max_depth=20, rfc__max_samples=0.8, rfc__min_samples_split=4, rfc__n_estimators=50;, score=0.895 total time=   0.2s\n",
      "[CV 1/3; 89/216] START chi2select__percentile=40, rfc__bootstrap=True, rfc__max_depth=20, rfc__max_samples=0.8, rfc__min_samples_split=4, rfc__n_estimators=100\n",
      "[CV 1/3; 89/216] END chi2select__percentile=40, rfc__bootstrap=True, rfc__max_depth=20, rfc__max_samples=0.8, rfc__min_samples_split=4, rfc__n_estimators=100;, score=0.878 total time=   0.3s\n",
      "[CV 2/3; 89/216] START chi2select__percentile=40, rfc__bootstrap=True, rfc__max_depth=20, rfc__max_samples=0.8, rfc__min_samples_split=4, rfc__n_estimators=100\n"
     ]
    },
    {
     "name": "stdout",
     "output_type": "stream",
     "text": [
      "[CV 2/3; 89/216] END chi2select__percentile=40, rfc__bootstrap=True, rfc__max_depth=20, rfc__max_samples=0.8, rfc__min_samples_split=4, rfc__n_estimators=100;, score=0.847 total time=   0.3s\n",
      "[CV 3/3; 89/216] START chi2select__percentile=40, rfc__bootstrap=True, rfc__max_depth=20, rfc__max_samples=0.8, rfc__min_samples_split=4, rfc__n_estimators=100\n",
      "[CV 3/3; 89/216] END chi2select__percentile=40, rfc__bootstrap=True, rfc__max_depth=20, rfc__max_samples=0.8, rfc__min_samples_split=4, rfc__n_estimators=100;, score=0.891 total time=   0.3s\n",
      "[CV 1/3; 90/216] START chi2select__percentile=40, rfc__bootstrap=True, rfc__max_depth=20, rfc__max_samples=0.8, rfc__min_samples_split=4, rfc__n_estimators=300\n",
      "[CV 1/3; 90/216] END chi2select__percentile=40, rfc__bootstrap=True, rfc__max_depth=20, rfc__max_samples=0.8, rfc__min_samples_split=4, rfc__n_estimators=300;, score=0.885 total time=   0.9s\n",
      "[CV 2/3; 90/216] START chi2select__percentile=40, rfc__bootstrap=True, rfc__max_depth=20, rfc__max_samples=0.8, rfc__min_samples_split=4, rfc__n_estimators=300\n",
      "[CV 2/3; 90/216] END chi2select__percentile=40, rfc__bootstrap=True, rfc__max_depth=20, rfc__max_samples=0.8, rfc__min_samples_split=4, rfc__n_estimators=300;, score=0.860 total time=   0.9s\n",
      "[CV 3/3; 90/216] START chi2select__percentile=40, rfc__bootstrap=True, rfc__max_depth=20, rfc__max_samples=0.8, rfc__min_samples_split=4, rfc__n_estimators=300\n",
      "[CV 3/3; 90/216] END chi2select__percentile=40, rfc__bootstrap=True, rfc__max_depth=20, rfc__max_samples=0.8, rfc__min_samples_split=4, rfc__n_estimators=300;, score=0.890 total time=   0.9s\n",
      "[CV 1/3; 91/216] START chi2select__percentile=40, rfc__bootstrap=True, rfc__max_depth=20, rfc__max_samples=None, rfc__min_samples_split=2, rfc__n_estimators=50\n",
      "[CV 1/3; 91/216] END chi2select__percentile=40, rfc__bootstrap=True, rfc__max_depth=20, rfc__max_samples=None, rfc__min_samples_split=2, rfc__n_estimators=50;, score=0.889 total time=   0.2s\n",
      "[CV 2/3; 91/216] START chi2select__percentile=40, rfc__bootstrap=True, rfc__max_depth=20, rfc__max_samples=None, rfc__min_samples_split=2, rfc__n_estimators=50\n",
      "[CV 2/3; 91/216] END chi2select__percentile=40, rfc__bootstrap=True, rfc__max_depth=20, rfc__max_samples=None, rfc__min_samples_split=2, rfc__n_estimators=50;, score=0.863 total time=   0.2s\n",
      "[CV 3/3; 91/216] START chi2select__percentile=40, rfc__bootstrap=True, rfc__max_depth=20, rfc__max_samples=None, rfc__min_samples_split=2, rfc__n_estimators=50\n",
      "[CV 3/3; 91/216] END chi2select__percentile=40, rfc__bootstrap=True, rfc__max_depth=20, rfc__max_samples=None, rfc__min_samples_split=2, rfc__n_estimators=50;, score=0.897 total time=   0.2s\n",
      "[CV 1/3; 92/216] START chi2select__percentile=40, rfc__bootstrap=True, rfc__max_depth=20, rfc__max_samples=None, rfc__min_samples_split=2, rfc__n_estimators=100\n",
      "[CV 1/3; 92/216] END chi2select__percentile=40, rfc__bootstrap=True, rfc__max_depth=20, rfc__max_samples=None, rfc__min_samples_split=2, rfc__n_estimators=100;, score=0.899 total time=   0.3s\n",
      "[CV 2/3; 92/216] START chi2select__percentile=40, rfc__bootstrap=True, rfc__max_depth=20, rfc__max_samples=None, rfc__min_samples_split=2, rfc__n_estimators=100\n",
      "[CV 2/3; 92/216] END chi2select__percentile=40, rfc__bootstrap=True, rfc__max_depth=20, rfc__max_samples=None, rfc__min_samples_split=2, rfc__n_estimators=100;, score=0.866 total time=   0.3s\n",
      "[CV 3/3; 92/216] START chi2select__percentile=40, rfc__bootstrap=True, rfc__max_depth=20, rfc__max_samples=None, rfc__min_samples_split=2, rfc__n_estimators=100\n",
      "[CV 3/3; 92/216] END chi2select__percentile=40, rfc__bootstrap=True, rfc__max_depth=20, rfc__max_samples=None, rfc__min_samples_split=2, rfc__n_estimators=100;, score=0.906 total time=   0.4s\n",
      "[CV 1/3; 93/216] START chi2select__percentile=40, rfc__bootstrap=True, rfc__max_depth=20, rfc__max_samples=None, rfc__min_samples_split=2, rfc__n_estimators=300\n",
      "[CV 1/3; 93/216] END chi2select__percentile=40, rfc__bootstrap=True, rfc__max_depth=20, rfc__max_samples=None, rfc__min_samples_split=2, rfc__n_estimators=300;, score=0.894 total time=   1.0s\n",
      "[CV 2/3; 93/216] START chi2select__percentile=40, rfc__bootstrap=True, rfc__max_depth=20, rfc__max_samples=None, rfc__min_samples_split=2, rfc__n_estimators=300\n",
      "[CV 2/3; 93/216] END chi2select__percentile=40, rfc__bootstrap=True, rfc__max_depth=20, rfc__max_samples=None, rfc__min_samples_split=2, rfc__n_estimators=300;, score=0.868 total time=   1.0s\n",
      "[CV 3/3; 93/216] START chi2select__percentile=40, rfc__bootstrap=True, rfc__max_depth=20, rfc__max_samples=None, rfc__min_samples_split=2, rfc__n_estimators=300\n",
      "[CV 3/3; 93/216] END chi2select__percentile=40, rfc__bootstrap=True, rfc__max_depth=20, rfc__max_samples=None, rfc__min_samples_split=2, rfc__n_estimators=300;, score=0.906 total time=   1.0s\n",
      "[CV 1/3; 94/216] START chi2select__percentile=40, rfc__bootstrap=True, rfc__max_depth=20, rfc__max_samples=None, rfc__min_samples_split=4, rfc__n_estimators=50\n",
      "[CV 1/3; 94/216] END chi2select__percentile=40, rfc__bootstrap=True, rfc__max_depth=20, rfc__max_samples=None, rfc__min_samples_split=4, rfc__n_estimators=50;, score=0.887 total time=   0.2s\n",
      "[CV 2/3; 94/216] START chi2select__percentile=40, rfc__bootstrap=True, rfc__max_depth=20, rfc__max_samples=None, rfc__min_samples_split=4, rfc__n_estimators=50\n",
      "[CV 2/3; 94/216] END chi2select__percentile=40, rfc__bootstrap=True, rfc__max_depth=20, rfc__max_samples=None, rfc__min_samples_split=4, rfc__n_estimators=50;, score=0.860 total time=   0.2s\n",
      "[CV 3/3; 94/216] START chi2select__percentile=40, rfc__bootstrap=True, rfc__max_depth=20, rfc__max_samples=None, rfc__min_samples_split=4, rfc__n_estimators=50\n",
      "[CV 3/3; 94/216] END chi2select__percentile=40, rfc__bootstrap=True, rfc__max_depth=20, rfc__max_samples=None, rfc__min_samples_split=4, rfc__n_estimators=50;, score=0.897 total time=   0.2s\n",
      "[CV 1/3; 95/216] START chi2select__percentile=40, rfc__bootstrap=True, rfc__max_depth=20, rfc__max_samples=None, rfc__min_samples_split=4, rfc__n_estimators=100\n",
      "[CV 1/3; 95/216] END chi2select__percentile=40, rfc__bootstrap=True, rfc__max_depth=20, rfc__max_samples=None, rfc__min_samples_split=4, rfc__n_estimators=100;, score=0.890 total time=   0.3s\n",
      "[CV 2/3; 95/216] START chi2select__percentile=40, rfc__bootstrap=True, rfc__max_depth=20, rfc__max_samples=None, rfc__min_samples_split=4, rfc__n_estimators=100\n",
      "[CV 2/3; 95/216] END chi2select__percentile=40, rfc__bootstrap=True, rfc__max_depth=20, rfc__max_samples=None, rfc__min_samples_split=4, rfc__n_estimators=100;, score=0.869 total time=   0.3s\n",
      "[CV 3/3; 95/216] START chi2select__percentile=40, rfc__bootstrap=True, rfc__max_depth=20, rfc__max_samples=None, rfc__min_samples_split=4, rfc__n_estimators=100\n",
      "[CV 3/3; 95/216] END chi2select__percentile=40, rfc__bootstrap=True, rfc__max_depth=20, rfc__max_samples=None, rfc__min_samples_split=4, rfc__n_estimators=100;, score=0.902 total time=   0.3s\n",
      "[CV 1/3; 96/216] START chi2select__percentile=40, rfc__bootstrap=True, rfc__max_depth=20, rfc__max_samples=None, rfc__min_samples_split=4, rfc__n_estimators=300\n",
      "[CV 1/3; 96/216] END chi2select__percentile=40, rfc__bootstrap=True, rfc__max_depth=20, rfc__max_samples=None, rfc__min_samples_split=4, rfc__n_estimators=300;, score=0.901 total time=   1.0s\n",
      "[CV 2/3; 96/216] START chi2select__percentile=40, rfc__bootstrap=True, rfc__max_depth=20, rfc__max_samples=None, rfc__min_samples_split=4, rfc__n_estimators=300\n",
      "[CV 2/3; 96/216] END chi2select__percentile=40, rfc__bootstrap=True, rfc__max_depth=20, rfc__max_samples=None, rfc__min_samples_split=4, rfc__n_estimators=300;, score=0.877 total time=   1.0s\n",
      "[CV 3/3; 96/216] START chi2select__percentile=40, rfc__bootstrap=True, rfc__max_depth=20, rfc__max_samples=None, rfc__min_samples_split=4, rfc__n_estimators=300\n",
      "[CV 3/3; 96/216] END chi2select__percentile=40, rfc__bootstrap=True, rfc__max_depth=20, rfc__max_samples=None, rfc__min_samples_split=4, rfc__n_estimators=300;, score=0.900 total time=   1.0s\n",
      "[CV 1/3; 97/216] START chi2select__percentile=40, rfc__bootstrap=True, rfc__max_depth=None, rfc__max_samples=0.8, rfc__min_samples_split=2, rfc__n_estimators=50\n",
      "[CV 1/3; 97/216] END chi2select__percentile=40, rfc__bootstrap=True, rfc__max_depth=None, rfc__max_samples=0.8, rfc__min_samples_split=2, rfc__n_estimators=50;, score=0.894 total time=   0.2s\n",
      "[CV 2/3; 97/216] START chi2select__percentile=40, rfc__bootstrap=True, rfc__max_depth=None, rfc__max_samples=0.8, rfc__min_samples_split=2, rfc__n_estimators=50\n"
     ]
    },
    {
     "name": "stdout",
     "output_type": "stream",
     "text": [
      "[CV 2/3; 97/216] END chi2select__percentile=40, rfc__bootstrap=True, rfc__max_depth=None, rfc__max_samples=0.8, rfc__min_samples_split=2, rfc__n_estimators=50;, score=0.863 total time=   0.2s\n",
      "[CV 3/3; 97/216] START chi2select__percentile=40, rfc__bootstrap=True, rfc__max_depth=None, rfc__max_samples=0.8, rfc__min_samples_split=2, rfc__n_estimators=50\n",
      "[CV 3/3; 97/216] END chi2select__percentile=40, rfc__bootstrap=True, rfc__max_depth=None, rfc__max_samples=0.8, rfc__min_samples_split=2, rfc__n_estimators=50;, score=0.906 total time=   0.2s\n",
      "[CV 1/3; 98/216] START chi2select__percentile=40, rfc__bootstrap=True, rfc__max_depth=None, rfc__max_samples=0.8, rfc__min_samples_split=2, rfc__n_estimators=100\n",
      "[CV 1/3; 98/216] END chi2select__percentile=40, rfc__bootstrap=True, rfc__max_depth=None, rfc__max_samples=0.8, rfc__min_samples_split=2, rfc__n_estimators=100;, score=0.885 total time=   0.3s\n",
      "[CV 2/3; 98/216] START chi2select__percentile=40, rfc__bootstrap=True, rfc__max_depth=None, rfc__max_samples=0.8, rfc__min_samples_split=2, rfc__n_estimators=100\n",
      "[CV 2/3; 98/216] END chi2select__percentile=40, rfc__bootstrap=True, rfc__max_depth=None, rfc__max_samples=0.8, rfc__min_samples_split=2, rfc__n_estimators=100;, score=0.853 total time=   0.3s\n",
      "[CV 3/3; 98/216] START chi2select__percentile=40, rfc__bootstrap=True, rfc__max_depth=None, rfc__max_samples=0.8, rfc__min_samples_split=2, rfc__n_estimators=100\n",
      "[CV 3/3; 98/216] END chi2select__percentile=40, rfc__bootstrap=True, rfc__max_depth=None, rfc__max_samples=0.8, rfc__min_samples_split=2, rfc__n_estimators=100;, score=0.897 total time=   0.3s\n",
      "[CV 1/3; 99/216] START chi2select__percentile=40, rfc__bootstrap=True, rfc__max_depth=None, rfc__max_samples=0.8, rfc__min_samples_split=2, rfc__n_estimators=300\n",
      "[CV 1/3; 99/216] END chi2select__percentile=40, rfc__bootstrap=True, rfc__max_depth=None, rfc__max_samples=0.8, rfc__min_samples_split=2, rfc__n_estimators=300;, score=0.892 total time=   0.9s\n",
      "[CV 2/3; 99/216] START chi2select__percentile=40, rfc__bootstrap=True, rfc__max_depth=None, rfc__max_samples=0.8, rfc__min_samples_split=2, rfc__n_estimators=300\n",
      "[CV 2/3; 99/216] END chi2select__percentile=40, rfc__bootstrap=True, rfc__max_depth=None, rfc__max_samples=0.8, rfc__min_samples_split=2, rfc__n_estimators=300;, score=0.855 total time=   0.9s\n",
      "[CV 3/3; 99/216] START chi2select__percentile=40, rfc__bootstrap=True, rfc__max_depth=None, rfc__max_samples=0.8, rfc__min_samples_split=2, rfc__n_estimators=300\n",
      "[CV 3/3; 99/216] END chi2select__percentile=40, rfc__bootstrap=True, rfc__max_depth=None, rfc__max_samples=0.8, rfc__min_samples_split=2, rfc__n_estimators=300;, score=0.897 total time=   1.0s\n",
      "[CV 1/3; 100/216] START chi2select__percentile=40, rfc__bootstrap=True, rfc__max_depth=None, rfc__max_samples=0.8, rfc__min_samples_split=4, rfc__n_estimators=50\n",
      "[CV 1/3; 100/216] END chi2select__percentile=40, rfc__bootstrap=True, rfc__max_depth=None, rfc__max_samples=0.8, rfc__min_samples_split=4, rfc__n_estimators=50;, score=0.890 total time=   0.2s\n",
      "[CV 2/3; 100/216] START chi2select__percentile=40, rfc__bootstrap=True, rfc__max_depth=None, rfc__max_samples=0.8, rfc__min_samples_split=4, rfc__n_estimators=50\n",
      "[CV 2/3; 100/216] END chi2select__percentile=40, rfc__bootstrap=True, rfc__max_depth=None, rfc__max_samples=0.8, rfc__min_samples_split=4, rfc__n_estimators=50;, score=0.840 total time=   0.2s\n",
      "[CV 3/3; 100/216] START chi2select__percentile=40, rfc__bootstrap=True, rfc__max_depth=None, rfc__max_samples=0.8, rfc__min_samples_split=4, rfc__n_estimators=50\n",
      "[CV 3/3; 100/216] END chi2select__percentile=40, rfc__bootstrap=True, rfc__max_depth=None, rfc__max_samples=0.8, rfc__min_samples_split=4, rfc__n_estimators=50;, score=0.882 total time=   0.2s\n",
      "[CV 1/3; 101/216] START chi2select__percentile=40, rfc__bootstrap=True, rfc__max_depth=None, rfc__max_samples=0.8, rfc__min_samples_split=4, rfc__n_estimators=100\n",
      "[CV 1/3; 101/216] END chi2select__percentile=40, rfc__bootstrap=True, rfc__max_depth=None, rfc__max_samples=0.8, rfc__min_samples_split=4, rfc__n_estimators=100;, score=0.885 total time=   0.3s\n",
      "[CV 2/3; 101/216] START chi2select__percentile=40, rfc__bootstrap=True, rfc__max_depth=None, rfc__max_samples=0.8, rfc__min_samples_split=4, rfc__n_estimators=100\n",
      "[CV 2/3; 101/216] END chi2select__percentile=40, rfc__bootstrap=True, rfc__max_depth=None, rfc__max_samples=0.8, rfc__min_samples_split=4, rfc__n_estimators=100;, score=0.846 total time=   0.3s\n",
      "[CV 3/3; 101/216] START chi2select__percentile=40, rfc__bootstrap=True, rfc__max_depth=None, rfc__max_samples=0.8, rfc__min_samples_split=4, rfc__n_estimators=100\n",
      "[CV 3/3; 101/216] END chi2select__percentile=40, rfc__bootstrap=True, rfc__max_depth=None, rfc__max_samples=0.8, rfc__min_samples_split=4, rfc__n_estimators=100;, score=0.895 total time=   0.3s\n",
      "[CV 1/3; 102/216] START chi2select__percentile=40, rfc__bootstrap=True, rfc__max_depth=None, rfc__max_samples=0.8, rfc__min_samples_split=4, rfc__n_estimators=300\n",
      "[CV 1/3; 102/216] END chi2select__percentile=40, rfc__bootstrap=True, rfc__max_depth=None, rfc__max_samples=0.8, rfc__min_samples_split=4, rfc__n_estimators=300;, score=0.893 total time=   0.9s\n",
      "[CV 2/3; 102/216] START chi2select__percentile=40, rfc__bootstrap=True, rfc__max_depth=None, rfc__max_samples=0.8, rfc__min_samples_split=4, rfc__n_estimators=300\n",
      "[CV 2/3; 102/216] END chi2select__percentile=40, rfc__bootstrap=True, rfc__max_depth=None, rfc__max_samples=0.8, rfc__min_samples_split=4, rfc__n_estimators=300;, score=0.853 total time=   1.0s\n",
      "[CV 3/3; 102/216] START chi2select__percentile=40, rfc__bootstrap=True, rfc__max_depth=None, rfc__max_samples=0.8, rfc__min_samples_split=4, rfc__n_estimators=300\n",
      "[CV 3/3; 102/216] END chi2select__percentile=40, rfc__bootstrap=True, rfc__max_depth=None, rfc__max_samples=0.8, rfc__min_samples_split=4, rfc__n_estimators=300;, score=0.888 total time=   0.9s\n",
      "[CV 1/3; 103/216] START chi2select__percentile=40, rfc__bootstrap=True, rfc__max_depth=None, rfc__max_samples=None, rfc__min_samples_split=2, rfc__n_estimators=50\n",
      "[CV 1/3; 103/216] END chi2select__percentile=40, rfc__bootstrap=True, rfc__max_depth=None, rfc__max_samples=None, rfc__min_samples_split=2, rfc__n_estimators=50;, score=0.887 total time=   0.2s\n",
      "[CV 2/3; 103/216] START chi2select__percentile=40, rfc__bootstrap=True, rfc__max_depth=None, rfc__max_samples=None, rfc__min_samples_split=2, rfc__n_estimators=50\n",
      "[CV 2/3; 103/216] END chi2select__percentile=40, rfc__bootstrap=True, rfc__max_depth=None, rfc__max_samples=None, rfc__min_samples_split=2, rfc__n_estimators=50;, score=0.868 total time=   0.2s\n",
      "[CV 3/3; 103/216] START chi2select__percentile=40, rfc__bootstrap=True, rfc__max_depth=None, rfc__max_samples=None, rfc__min_samples_split=2, rfc__n_estimators=50\n",
      "[CV 3/3; 103/216] END chi2select__percentile=40, rfc__bootstrap=True, rfc__max_depth=None, rfc__max_samples=None, rfc__min_samples_split=2, rfc__n_estimators=50;, score=0.909 total time=   0.2s\n",
      "[CV 1/3; 104/216] START chi2select__percentile=40, rfc__bootstrap=True, rfc__max_depth=None, rfc__max_samples=None, rfc__min_samples_split=2, rfc__n_estimators=100\n",
      "[CV 1/3; 104/216] END chi2select__percentile=40, rfc__bootstrap=True, rfc__max_depth=None, rfc__max_samples=None, rfc__min_samples_split=2, rfc__n_estimators=100;, score=0.889 total time=   0.4s\n",
      "[CV 2/3; 104/216] START chi2select__percentile=40, rfc__bootstrap=True, rfc__max_depth=None, rfc__max_samples=None, rfc__min_samples_split=2, rfc__n_estimators=100\n",
      "[CV 2/3; 104/216] END chi2select__percentile=40, rfc__bootstrap=True, rfc__max_depth=None, rfc__max_samples=None, rfc__min_samples_split=2, rfc__n_estimators=100;, score=0.869 total time=   0.4s\n",
      "[CV 3/3; 104/216] START chi2select__percentile=40, rfc__bootstrap=True, rfc__max_depth=None, rfc__max_samples=None, rfc__min_samples_split=2, rfc__n_estimators=100\n",
      "[CV 3/3; 104/216] END chi2select__percentile=40, rfc__bootstrap=True, rfc__max_depth=None, rfc__max_samples=None, rfc__min_samples_split=2, rfc__n_estimators=100;, score=0.908 total time=   0.4s\n",
      "[CV 1/3; 105/216] START chi2select__percentile=40, rfc__bootstrap=True, rfc__max_depth=None, rfc__max_samples=None, rfc__min_samples_split=2, rfc__n_estimators=300\n"
     ]
    },
    {
     "name": "stdout",
     "output_type": "stream",
     "text": [
      "[CV 1/3; 105/216] END chi2select__percentile=40, rfc__bootstrap=True, rfc__max_depth=None, rfc__max_samples=None, rfc__min_samples_split=2, rfc__n_estimators=300;, score=0.899 total time=   1.0s\n",
      "[CV 2/3; 105/216] START chi2select__percentile=40, rfc__bootstrap=True, rfc__max_depth=None, rfc__max_samples=None, rfc__min_samples_split=2, rfc__n_estimators=300\n",
      "[CV 2/3; 105/216] END chi2select__percentile=40, rfc__bootstrap=True, rfc__max_depth=None, rfc__max_samples=None, rfc__min_samples_split=2, rfc__n_estimators=300;, score=0.878 total time=   1.0s\n",
      "[CV 3/3; 105/216] START chi2select__percentile=40, rfc__bootstrap=True, rfc__max_depth=None, rfc__max_samples=None, rfc__min_samples_split=2, rfc__n_estimators=300\n",
      "[CV 3/3; 105/216] END chi2select__percentile=40, rfc__bootstrap=True, rfc__max_depth=None, rfc__max_samples=None, rfc__min_samples_split=2, rfc__n_estimators=300;, score=0.911 total time=   1.0s\n",
      "[CV 1/3; 106/216] START chi2select__percentile=40, rfc__bootstrap=True, rfc__max_depth=None, rfc__max_samples=None, rfc__min_samples_split=4, rfc__n_estimators=50\n",
      "[CV 1/3; 106/216] END chi2select__percentile=40, rfc__bootstrap=True, rfc__max_depth=None, rfc__max_samples=None, rfc__min_samples_split=4, rfc__n_estimators=50;, score=0.901 total time=   0.2s\n",
      "[CV 2/3; 106/216] START chi2select__percentile=40, rfc__bootstrap=True, rfc__max_depth=None, rfc__max_samples=None, rfc__min_samples_split=4, rfc__n_estimators=50\n",
      "[CV 2/3; 106/216] END chi2select__percentile=40, rfc__bootstrap=True, rfc__max_depth=None, rfc__max_samples=None, rfc__min_samples_split=4, rfc__n_estimators=50;, score=0.874 total time=   0.2s\n",
      "[CV 3/3; 106/216] START chi2select__percentile=40, rfc__bootstrap=True, rfc__max_depth=None, rfc__max_samples=None, rfc__min_samples_split=4, rfc__n_estimators=50\n",
      "[CV 3/3; 106/216] END chi2select__percentile=40, rfc__bootstrap=True, rfc__max_depth=None, rfc__max_samples=None, rfc__min_samples_split=4, rfc__n_estimators=50;, score=0.902 total time=   0.2s\n",
      "[CV 1/3; 107/216] START chi2select__percentile=40, rfc__bootstrap=True, rfc__max_depth=None, rfc__max_samples=None, rfc__min_samples_split=4, rfc__n_estimators=100\n",
      "[CV 1/3; 107/216] END chi2select__percentile=40, rfc__bootstrap=True, rfc__max_depth=None, rfc__max_samples=None, rfc__min_samples_split=4, rfc__n_estimators=100;, score=0.904 total time=   0.3s\n",
      "[CV 2/3; 107/216] START chi2select__percentile=40, rfc__bootstrap=True, rfc__max_depth=None, rfc__max_samples=None, rfc__min_samples_split=4, rfc__n_estimators=100\n",
      "[CV 2/3; 107/216] END chi2select__percentile=40, rfc__bootstrap=True, rfc__max_depth=None, rfc__max_samples=None, rfc__min_samples_split=4, rfc__n_estimators=100;, score=0.861 total time=   0.3s\n",
      "[CV 3/3; 107/216] START chi2select__percentile=40, rfc__bootstrap=True, rfc__max_depth=None, rfc__max_samples=None, rfc__min_samples_split=4, rfc__n_estimators=100\n",
      "[CV 3/3; 107/216] END chi2select__percentile=40, rfc__bootstrap=True, rfc__max_depth=None, rfc__max_samples=None, rfc__min_samples_split=4, rfc__n_estimators=100;, score=0.897 total time=   0.3s\n",
      "[CV 1/3; 108/216] START chi2select__percentile=40, rfc__bootstrap=True, rfc__max_depth=None, rfc__max_samples=None, rfc__min_samples_split=4, rfc__n_estimators=300\n",
      "[CV 1/3; 108/216] END chi2select__percentile=40, rfc__bootstrap=True, rfc__max_depth=None, rfc__max_samples=None, rfc__min_samples_split=4, rfc__n_estimators=300;, score=0.901 total time=   1.0s\n",
      "[CV 2/3; 108/216] START chi2select__percentile=40, rfc__bootstrap=True, rfc__max_depth=None, rfc__max_samples=None, rfc__min_samples_split=4, rfc__n_estimators=300\n",
      "[CV 2/3; 108/216] END chi2select__percentile=40, rfc__bootstrap=True, rfc__max_depth=None, rfc__max_samples=None, rfc__min_samples_split=4, rfc__n_estimators=300;, score=0.876 total time=   1.0s\n",
      "[CV 3/3; 108/216] START chi2select__percentile=40, rfc__bootstrap=True, rfc__max_depth=None, rfc__max_samples=None, rfc__min_samples_split=4, rfc__n_estimators=300\n",
      "[CV 3/3; 108/216] END chi2select__percentile=40, rfc__bootstrap=True, rfc__max_depth=None, rfc__max_samples=None, rfc__min_samples_split=4, rfc__n_estimators=300;, score=0.902 total time=   1.0s\n",
      "[CV 1/3; 109/216] START chi2select__percentile=40, rfc__bootstrap=False, rfc__max_depth=10, rfc__max_samples=0.8, rfc__min_samples_split=2, rfc__n_estimators=50\n",
      "[CV 1/3; 109/216] END chi2select__percentile=40, rfc__bootstrap=False, rfc__max_depth=10, rfc__max_samples=0.8, rfc__min_samples_split=2, rfc__n_estimators=50;, score=0.796 total time=   0.2s\n",
      "[CV 2/3; 109/216] START chi2select__percentile=40, rfc__bootstrap=False, rfc__max_depth=10, rfc__max_samples=0.8, rfc__min_samples_split=2, rfc__n_estimators=50\n",
      "[CV 2/3; 109/216] END chi2select__percentile=40, rfc__bootstrap=False, rfc__max_depth=10, rfc__max_samples=0.8, rfc__min_samples_split=2, rfc__n_estimators=50;, score=0.837 total time=   0.2s\n",
      "[CV 3/3; 109/216] START chi2select__percentile=40, rfc__bootstrap=False, rfc__max_depth=10, rfc__max_samples=0.8, rfc__min_samples_split=2, rfc__n_estimators=50\n",
      "[CV 3/3; 109/216] END chi2select__percentile=40, rfc__bootstrap=False, rfc__max_depth=10, rfc__max_samples=0.8, rfc__min_samples_split=2, rfc__n_estimators=50;, score=0.837 total time=   0.2s\n",
      "[CV 1/3; 110/216] START chi2select__percentile=40, rfc__bootstrap=False, rfc__max_depth=10, rfc__max_samples=0.8, rfc__min_samples_split=2, rfc__n_estimators=100\n",
      "[CV 1/3; 110/216] END chi2select__percentile=40, rfc__bootstrap=False, rfc__max_depth=10, rfc__max_samples=0.8, rfc__min_samples_split=2, rfc__n_estimators=100;, score=0.771 total time=   0.4s\n",
      "[CV 2/3; 110/216] START chi2select__percentile=40, rfc__bootstrap=False, rfc__max_depth=10, rfc__max_samples=0.8, rfc__min_samples_split=2, rfc__n_estimators=100\n",
      "[CV 2/3; 110/216] END chi2select__percentile=40, rfc__bootstrap=False, rfc__max_depth=10, rfc__max_samples=0.8, rfc__min_samples_split=2, rfc__n_estimators=100;, score=0.847 total time=   0.4s\n",
      "[CV 3/3; 110/216] START chi2select__percentile=40, rfc__bootstrap=False, rfc__max_depth=10, rfc__max_samples=0.8, rfc__min_samples_split=2, rfc__n_estimators=100\n",
      "[CV 3/3; 110/216] END chi2select__percentile=40, rfc__bootstrap=False, rfc__max_depth=10, rfc__max_samples=0.8, rfc__min_samples_split=2, rfc__n_estimators=100;, score=0.848 total time=   0.4s\n",
      "[CV 1/3; 111/216] START chi2select__percentile=40, rfc__bootstrap=False, rfc__max_depth=10, rfc__max_samples=0.8, rfc__min_samples_split=2, rfc__n_estimators=300\n",
      "[CV 1/3; 111/216] END chi2select__percentile=40, rfc__bootstrap=False, rfc__max_depth=10, rfc__max_samples=0.8, rfc__min_samples_split=2, rfc__n_estimators=300;, score=0.779 total time=   1.1s\n",
      "[CV 2/3; 111/216] START chi2select__percentile=40, rfc__bootstrap=False, rfc__max_depth=10, rfc__max_samples=0.8, rfc__min_samples_split=2, rfc__n_estimators=300\n",
      "[CV 2/3; 111/216] END chi2select__percentile=40, rfc__bootstrap=False, rfc__max_depth=10, rfc__max_samples=0.8, rfc__min_samples_split=2, rfc__n_estimators=300;, score=0.853 total time=   1.1s\n",
      "[CV 3/3; 111/216] START chi2select__percentile=40, rfc__bootstrap=False, rfc__max_depth=10, rfc__max_samples=0.8, rfc__min_samples_split=2, rfc__n_estimators=300\n",
      "[CV 3/3; 111/216] END chi2select__percentile=40, rfc__bootstrap=False, rfc__max_depth=10, rfc__max_samples=0.8, rfc__min_samples_split=2, rfc__n_estimators=300;, score=0.836 total time=   1.2s\n",
      "[CV 1/3; 112/216] START chi2select__percentile=40, rfc__bootstrap=False, rfc__max_depth=10, rfc__max_samples=0.8, rfc__min_samples_split=4, rfc__n_estimators=50\n",
      "[CV 1/3; 112/216] END chi2select__percentile=40, rfc__bootstrap=False, rfc__max_depth=10, rfc__max_samples=0.8, rfc__min_samples_split=4, rfc__n_estimators=50;, score=0.805 total time=   0.2s\n",
      "[CV 2/3; 112/216] START chi2select__percentile=40, rfc__bootstrap=False, rfc__max_depth=10, rfc__max_samples=0.8, rfc__min_samples_split=4, rfc__n_estimators=50\n",
      "[CV 2/3; 112/216] END chi2select__percentile=40, rfc__bootstrap=False, rfc__max_depth=10, rfc__max_samples=0.8, rfc__min_samples_split=4, rfc__n_estimators=50;, score=0.831 total time=   0.2s\n",
      "[CV 3/3; 112/216] START chi2select__percentile=40, rfc__bootstrap=False, rfc__max_depth=10, rfc__max_samples=0.8, rfc__min_samples_split=4, rfc__n_estimators=50\n"
     ]
    },
    {
     "name": "stdout",
     "output_type": "stream",
     "text": [
      "[CV 3/3; 112/216] END chi2select__percentile=40, rfc__bootstrap=False, rfc__max_depth=10, rfc__max_samples=0.8, rfc__min_samples_split=4, rfc__n_estimators=50;, score=0.834 total time=   0.2s\n",
      "[CV 1/3; 113/216] START chi2select__percentile=40, rfc__bootstrap=False, rfc__max_depth=10, rfc__max_samples=0.8, rfc__min_samples_split=4, rfc__n_estimators=100\n",
      "[CV 1/3; 113/216] END chi2select__percentile=40, rfc__bootstrap=False, rfc__max_depth=10, rfc__max_samples=0.8, rfc__min_samples_split=4, rfc__n_estimators=100;, score=0.802 total time=   0.4s\n",
      "[CV 2/3; 113/216] START chi2select__percentile=40, rfc__bootstrap=False, rfc__max_depth=10, rfc__max_samples=0.8, rfc__min_samples_split=4, rfc__n_estimators=100\n",
      "[CV 2/3; 113/216] END chi2select__percentile=40, rfc__bootstrap=False, rfc__max_depth=10, rfc__max_samples=0.8, rfc__min_samples_split=4, rfc__n_estimators=100;, score=0.852 total time=   0.4s\n",
      "[CV 3/3; 113/216] START chi2select__percentile=40, rfc__bootstrap=False, rfc__max_depth=10, rfc__max_samples=0.8, rfc__min_samples_split=4, rfc__n_estimators=100\n",
      "[CV 3/3; 113/216] END chi2select__percentile=40, rfc__bootstrap=False, rfc__max_depth=10, rfc__max_samples=0.8, rfc__min_samples_split=4, rfc__n_estimators=100;, score=0.839 total time=   0.4s\n",
      "[CV 1/3; 114/216] START chi2select__percentile=40, rfc__bootstrap=False, rfc__max_depth=10, rfc__max_samples=0.8, rfc__min_samples_split=4, rfc__n_estimators=300\n",
      "[CV 1/3; 114/216] END chi2select__percentile=40, rfc__bootstrap=False, rfc__max_depth=10, rfc__max_samples=0.8, rfc__min_samples_split=4, rfc__n_estimators=300;, score=0.800 total time=   1.1s\n",
      "[CV 2/3; 114/216] START chi2select__percentile=40, rfc__bootstrap=False, rfc__max_depth=10, rfc__max_samples=0.8, rfc__min_samples_split=4, rfc__n_estimators=300\n",
      "[CV 2/3; 114/216] END chi2select__percentile=40, rfc__bootstrap=False, rfc__max_depth=10, rfc__max_samples=0.8, rfc__min_samples_split=4, rfc__n_estimators=300;, score=0.850 total time=   1.1s\n",
      "[CV 3/3; 114/216] START chi2select__percentile=40, rfc__bootstrap=False, rfc__max_depth=10, rfc__max_samples=0.8, rfc__min_samples_split=4, rfc__n_estimators=300\n",
      "[CV 3/3; 114/216] END chi2select__percentile=40, rfc__bootstrap=False, rfc__max_depth=10, rfc__max_samples=0.8, rfc__min_samples_split=4, rfc__n_estimators=300;, score=0.832 total time=   1.2s\n",
      "[CV 1/3; 115/216] START chi2select__percentile=40, rfc__bootstrap=False, rfc__max_depth=10, rfc__max_samples=None, rfc__min_samples_split=2, rfc__n_estimators=50\n",
      "[CV 1/3; 115/216] END chi2select__percentile=40, rfc__bootstrap=False, rfc__max_depth=10, rfc__max_samples=None, rfc__min_samples_split=2, rfc__n_estimators=50;, score=0.771 total time=   0.2s\n",
      "[CV 2/3; 115/216] START chi2select__percentile=40, rfc__bootstrap=False, rfc__max_depth=10, rfc__max_samples=None, rfc__min_samples_split=2, rfc__n_estimators=50\n",
      "[CV 2/3; 115/216] END chi2select__percentile=40, rfc__bootstrap=False, rfc__max_depth=10, rfc__max_samples=None, rfc__min_samples_split=2, rfc__n_estimators=50;, score=0.842 total time=   0.2s\n",
      "[CV 3/3; 115/216] START chi2select__percentile=40, rfc__bootstrap=False, rfc__max_depth=10, rfc__max_samples=None, rfc__min_samples_split=2, rfc__n_estimators=50\n",
      "[CV 3/3; 115/216] END chi2select__percentile=40, rfc__bootstrap=False, rfc__max_depth=10, rfc__max_samples=None, rfc__min_samples_split=2, rfc__n_estimators=50;, score=0.836 total time=   0.2s\n",
      "[CV 1/3; 116/216] START chi2select__percentile=40, rfc__bootstrap=False, rfc__max_depth=10, rfc__max_samples=None, rfc__min_samples_split=2, rfc__n_estimators=100\n",
      "[CV 1/3; 116/216] END chi2select__percentile=40, rfc__bootstrap=False, rfc__max_depth=10, rfc__max_samples=None, rfc__min_samples_split=2, rfc__n_estimators=100;, score=0.772 total time=   0.4s\n",
      "[CV 2/3; 116/216] START chi2select__percentile=40, rfc__bootstrap=False, rfc__max_depth=10, rfc__max_samples=None, rfc__min_samples_split=2, rfc__n_estimators=100\n",
      "[CV 2/3; 116/216] END chi2select__percentile=40, rfc__bootstrap=False, rfc__max_depth=10, rfc__max_samples=None, rfc__min_samples_split=2, rfc__n_estimators=100;, score=0.848 total time=   0.4s\n",
      "[CV 3/3; 116/216] START chi2select__percentile=40, rfc__bootstrap=False, rfc__max_depth=10, rfc__max_samples=None, rfc__min_samples_split=2, rfc__n_estimators=100\n",
      "[CV 3/3; 116/216] END chi2select__percentile=40, rfc__bootstrap=False, rfc__max_depth=10, rfc__max_samples=None, rfc__min_samples_split=2, rfc__n_estimators=100;, score=0.845 total time=   0.4s\n",
      "[CV 1/3; 117/216] START chi2select__percentile=40, rfc__bootstrap=False, rfc__max_depth=10, rfc__max_samples=None, rfc__min_samples_split=2, rfc__n_estimators=300\n",
      "[CV 1/3; 117/216] END chi2select__percentile=40, rfc__bootstrap=False, rfc__max_depth=10, rfc__max_samples=None, rfc__min_samples_split=2, rfc__n_estimators=300;, score=0.791 total time=   1.1s\n",
      "[CV 2/3; 117/216] START chi2select__percentile=40, rfc__bootstrap=False, rfc__max_depth=10, rfc__max_samples=None, rfc__min_samples_split=2, rfc__n_estimators=300\n",
      "[CV 2/3; 117/216] END chi2select__percentile=40, rfc__bootstrap=False, rfc__max_depth=10, rfc__max_samples=None, rfc__min_samples_split=2, rfc__n_estimators=300;, score=0.844 total time=   1.1s\n",
      "[CV 3/3; 117/216] START chi2select__percentile=40, rfc__bootstrap=False, rfc__max_depth=10, rfc__max_samples=None, rfc__min_samples_split=2, rfc__n_estimators=300\n",
      "[CV 3/3; 117/216] END chi2select__percentile=40, rfc__bootstrap=False, rfc__max_depth=10, rfc__max_samples=None, rfc__min_samples_split=2, rfc__n_estimators=300;, score=0.836 total time=   1.2s\n",
      "[CV 1/3; 118/216] START chi2select__percentile=40, rfc__bootstrap=False, rfc__max_depth=10, rfc__max_samples=None, rfc__min_samples_split=4, rfc__n_estimators=50\n",
      "[CV 1/3; 118/216] END chi2select__percentile=40, rfc__bootstrap=False, rfc__max_depth=10, rfc__max_samples=None, rfc__min_samples_split=4, rfc__n_estimators=50;, score=0.805 total time=   0.2s\n",
      "[CV 2/3; 118/216] START chi2select__percentile=40, rfc__bootstrap=False, rfc__max_depth=10, rfc__max_samples=None, rfc__min_samples_split=4, rfc__n_estimators=50\n",
      "[CV 2/3; 118/216] END chi2select__percentile=40, rfc__bootstrap=False, rfc__max_depth=10, rfc__max_samples=None, rfc__min_samples_split=4, rfc__n_estimators=50;, score=0.831 total time=   0.2s\n",
      "[CV 3/3; 118/216] START chi2select__percentile=40, rfc__bootstrap=False, rfc__max_depth=10, rfc__max_samples=None, rfc__min_samples_split=4, rfc__n_estimators=50\n",
      "[CV 3/3; 118/216] END chi2select__percentile=40, rfc__bootstrap=False, rfc__max_depth=10, rfc__max_samples=None, rfc__min_samples_split=4, rfc__n_estimators=50;, score=0.833 total time=   0.2s\n",
      "[CV 1/3; 119/216] START chi2select__percentile=40, rfc__bootstrap=False, rfc__max_depth=10, rfc__max_samples=None, rfc__min_samples_split=4, rfc__n_estimators=100\n",
      "[CV 1/3; 119/216] END chi2select__percentile=40, rfc__bootstrap=False, rfc__max_depth=10, rfc__max_samples=None, rfc__min_samples_split=4, rfc__n_estimators=100;, score=0.797 total time=   0.4s\n",
      "[CV 2/3; 119/216] START chi2select__percentile=40, rfc__bootstrap=False, rfc__max_depth=10, rfc__max_samples=None, rfc__min_samples_split=4, rfc__n_estimators=100\n",
      "[CV 2/3; 119/216] END chi2select__percentile=40, rfc__bootstrap=False, rfc__max_depth=10, rfc__max_samples=None, rfc__min_samples_split=4, rfc__n_estimators=100;, score=0.857 total time=   0.4s\n",
      "[CV 3/3; 119/216] START chi2select__percentile=40, rfc__bootstrap=False, rfc__max_depth=10, rfc__max_samples=None, rfc__min_samples_split=4, rfc__n_estimators=100\n",
      "[CV 3/3; 119/216] END chi2select__percentile=40, rfc__bootstrap=False, rfc__max_depth=10, rfc__max_samples=None, rfc__min_samples_split=4, rfc__n_estimators=100;, score=0.828 total time=   0.4s\n",
      "[CV 1/3; 120/216] START chi2select__percentile=40, rfc__bootstrap=False, rfc__max_depth=10, rfc__max_samples=None, rfc__min_samples_split=4, rfc__n_estimators=300\n",
      "[CV 1/3; 120/216] END chi2select__percentile=40, rfc__bootstrap=False, rfc__max_depth=10, rfc__max_samples=None, rfc__min_samples_split=4, rfc__n_estimators=300;, score=0.800 total time=   1.1s\n",
      "[CV 2/3; 120/216] START chi2select__percentile=40, rfc__bootstrap=False, rfc__max_depth=10, rfc__max_samples=None, rfc__min_samples_split=4, rfc__n_estimators=300\n",
      "[CV 2/3; 120/216] END chi2select__percentile=40, rfc__bootstrap=False, rfc__max_depth=10, rfc__max_samples=None, rfc__min_samples_split=4, rfc__n_estimators=300;, score=0.841 total time=   1.1s\n",
      "[CV 3/3; 120/216] START chi2select__percentile=40, rfc__bootstrap=False, rfc__max_depth=10, rfc__max_samples=None, rfc__min_samples_split=4, rfc__n_estimators=300\n"
     ]
    },
    {
     "name": "stdout",
     "output_type": "stream",
     "text": [
      "[CV 3/3; 120/216] END chi2select__percentile=40, rfc__bootstrap=False, rfc__max_depth=10, rfc__max_samples=None, rfc__min_samples_split=4, rfc__n_estimators=300;, score=0.840 total time=   1.2s\n",
      "[CV 1/3; 121/216] START chi2select__percentile=40, rfc__bootstrap=False, rfc__max_depth=20, rfc__max_samples=0.8, rfc__min_samples_split=2, rfc__n_estimators=50\n",
      "[CV 1/3; 121/216] END chi2select__percentile=40, rfc__bootstrap=False, rfc__max_depth=20, rfc__max_samples=0.8, rfc__min_samples_split=2, rfc__n_estimators=50;, score=0.881 total time=   0.2s\n",
      "[CV 2/3; 121/216] START chi2select__percentile=40, rfc__bootstrap=False, rfc__max_depth=20, rfc__max_samples=0.8, rfc__min_samples_split=2, rfc__n_estimators=50\n",
      "[CV 2/3; 121/216] END chi2select__percentile=40, rfc__bootstrap=False, rfc__max_depth=20, rfc__max_samples=0.8, rfc__min_samples_split=2, rfc__n_estimators=50;, score=0.871 total time=   0.2s\n",
      "[CV 3/3; 121/216] START chi2select__percentile=40, rfc__bootstrap=False, rfc__max_depth=20, rfc__max_samples=0.8, rfc__min_samples_split=2, rfc__n_estimators=50\n",
      "[CV 3/3; 121/216] END chi2select__percentile=40, rfc__bootstrap=False, rfc__max_depth=20, rfc__max_samples=0.8, rfc__min_samples_split=2, rfc__n_estimators=50;, score=0.897 total time=   0.3s\n",
      "[CV 1/3; 122/216] START chi2select__percentile=40, rfc__bootstrap=False, rfc__max_depth=20, rfc__max_samples=0.8, rfc__min_samples_split=2, rfc__n_estimators=100\n",
      "[CV 1/3; 122/216] END chi2select__percentile=40, rfc__bootstrap=False, rfc__max_depth=20, rfc__max_samples=0.8, rfc__min_samples_split=2, rfc__n_estimators=100;, score=0.873 total time=   0.4s\n",
      "[CV 2/3; 122/216] START chi2select__percentile=40, rfc__bootstrap=False, rfc__max_depth=20, rfc__max_samples=0.8, rfc__min_samples_split=2, rfc__n_estimators=100\n",
      "[CV 2/3; 122/216] END chi2select__percentile=40, rfc__bootstrap=False, rfc__max_depth=20, rfc__max_samples=0.8, rfc__min_samples_split=2, rfc__n_estimators=100;, score=0.871 total time=   0.5s\n",
      "[CV 3/3; 122/216] START chi2select__percentile=40, rfc__bootstrap=False, rfc__max_depth=20, rfc__max_samples=0.8, rfc__min_samples_split=2, rfc__n_estimators=100\n",
      "[CV 3/3; 122/216] END chi2select__percentile=40, rfc__bootstrap=False, rfc__max_depth=20, rfc__max_samples=0.8, rfc__min_samples_split=2, rfc__n_estimators=100;, score=0.902 total time=   0.5s\n",
      "[CV 1/3; 123/216] START chi2select__percentile=40, rfc__bootstrap=False, rfc__max_depth=20, rfc__max_samples=0.8, rfc__min_samples_split=2, rfc__n_estimators=300\n",
      "[CV 1/3; 123/216] END chi2select__percentile=40, rfc__bootstrap=False, rfc__max_depth=20, rfc__max_samples=0.8, rfc__min_samples_split=2, rfc__n_estimators=300;, score=0.876 total time=   1.4s\n",
      "[CV 2/3; 123/216] START chi2select__percentile=40, rfc__bootstrap=False, rfc__max_depth=20, rfc__max_samples=0.8, rfc__min_samples_split=2, rfc__n_estimators=300\n",
      "[CV 2/3; 123/216] END chi2select__percentile=40, rfc__bootstrap=False, rfc__max_depth=20, rfc__max_samples=0.8, rfc__min_samples_split=2, rfc__n_estimators=300;, score=0.864 total time=   1.4s\n",
      "[CV 3/3; 123/216] START chi2select__percentile=40, rfc__bootstrap=False, rfc__max_depth=20, rfc__max_samples=0.8, rfc__min_samples_split=2, rfc__n_estimators=300\n",
      "[CV 3/3; 123/216] END chi2select__percentile=40, rfc__bootstrap=False, rfc__max_depth=20, rfc__max_samples=0.8, rfc__min_samples_split=2, rfc__n_estimators=300;, score=0.909 total time=   1.5s\n",
      "[CV 1/3; 124/216] START chi2select__percentile=40, rfc__bootstrap=False, rfc__max_depth=20, rfc__max_samples=0.8, rfc__min_samples_split=4, rfc__n_estimators=50\n",
      "[CV 1/3; 124/216] END chi2select__percentile=40, rfc__bootstrap=False, rfc__max_depth=20, rfc__max_samples=0.8, rfc__min_samples_split=4, rfc__n_estimators=50;, score=0.883 total time=   0.2s\n",
      "[CV 2/3; 124/216] START chi2select__percentile=40, rfc__bootstrap=False, rfc__max_depth=20, rfc__max_samples=0.8, rfc__min_samples_split=4, rfc__n_estimators=50\n",
      "[CV 2/3; 124/216] END chi2select__percentile=40, rfc__bootstrap=False, rfc__max_depth=20, rfc__max_samples=0.8, rfc__min_samples_split=4, rfc__n_estimators=50;, score=0.873 total time=   0.2s\n",
      "[CV 3/3; 124/216] START chi2select__percentile=40, rfc__bootstrap=False, rfc__max_depth=20, rfc__max_samples=0.8, rfc__min_samples_split=4, rfc__n_estimators=50\n",
      "[CV 3/3; 124/216] END chi2select__percentile=40, rfc__bootstrap=False, rfc__max_depth=20, rfc__max_samples=0.8, rfc__min_samples_split=4, rfc__n_estimators=50;, score=0.897 total time=   0.2s\n",
      "[CV 1/3; 125/216] START chi2select__percentile=40, rfc__bootstrap=False, rfc__max_depth=20, rfc__max_samples=0.8, rfc__min_samples_split=4, rfc__n_estimators=100\n",
      "[CV 1/3; 125/216] END chi2select__percentile=40, rfc__bootstrap=False, rfc__max_depth=20, rfc__max_samples=0.8, rfc__min_samples_split=4, rfc__n_estimators=100;, score=0.880 total time=   0.5s\n",
      "[CV 2/3; 125/216] START chi2select__percentile=40, rfc__bootstrap=False, rfc__max_depth=20, rfc__max_samples=0.8, rfc__min_samples_split=4, rfc__n_estimators=100\n",
      "[CV 2/3; 125/216] END chi2select__percentile=40, rfc__bootstrap=False, rfc__max_depth=20, rfc__max_samples=0.8, rfc__min_samples_split=4, rfc__n_estimators=100;, score=0.873 total time=   0.5s\n",
      "[CV 3/3; 125/216] START chi2select__percentile=40, rfc__bootstrap=False, rfc__max_depth=20, rfc__max_samples=0.8, rfc__min_samples_split=4, rfc__n_estimators=100\n",
      "[CV 3/3; 125/216] END chi2select__percentile=40, rfc__bootstrap=False, rfc__max_depth=20, rfc__max_samples=0.8, rfc__min_samples_split=4, rfc__n_estimators=100;, score=0.904 total time=   0.5s\n",
      "[CV 1/3; 126/216] START chi2select__percentile=40, rfc__bootstrap=False, rfc__max_depth=20, rfc__max_samples=0.8, rfc__min_samples_split=4, rfc__n_estimators=300\n",
      "[CV 1/3; 126/216] END chi2select__percentile=40, rfc__bootstrap=False, rfc__max_depth=20, rfc__max_samples=0.8, rfc__min_samples_split=4, rfc__n_estimators=300;, score=0.883 total time=   1.4s\n",
      "[CV 2/3; 126/216] START chi2select__percentile=40, rfc__bootstrap=False, rfc__max_depth=20, rfc__max_samples=0.8, rfc__min_samples_split=4, rfc__n_estimators=300\n",
      "[CV 2/3; 126/216] END chi2select__percentile=40, rfc__bootstrap=False, rfc__max_depth=20, rfc__max_samples=0.8, rfc__min_samples_split=4, rfc__n_estimators=300;, score=0.869 total time=   1.3s\n",
      "[CV 3/3; 126/216] START chi2select__percentile=40, rfc__bootstrap=False, rfc__max_depth=20, rfc__max_samples=0.8, rfc__min_samples_split=4, rfc__n_estimators=300\n",
      "[CV 3/3; 126/216] END chi2select__percentile=40, rfc__bootstrap=False, rfc__max_depth=20, rfc__max_samples=0.8, rfc__min_samples_split=4, rfc__n_estimators=300;, score=0.902 total time=   1.4s\n",
      "[CV 1/3; 127/216] START chi2select__percentile=40, rfc__bootstrap=False, rfc__max_depth=20, rfc__max_samples=None, rfc__min_samples_split=2, rfc__n_estimators=50\n",
      "[CV 1/3; 127/216] END chi2select__percentile=40, rfc__bootstrap=False, rfc__max_depth=20, rfc__max_samples=None, rfc__min_samples_split=2, rfc__n_estimators=50;, score=0.890 total time=   0.2s\n",
      "[CV 2/3; 127/216] START chi2select__percentile=40, rfc__bootstrap=False, rfc__max_depth=20, rfc__max_samples=None, rfc__min_samples_split=2, rfc__n_estimators=50\n",
      "[CV 2/3; 127/216] END chi2select__percentile=40, rfc__bootstrap=False, rfc__max_depth=20, rfc__max_samples=None, rfc__min_samples_split=2, rfc__n_estimators=50;, score=0.863 total time=   0.2s\n",
      "[CV 3/3; 127/216] START chi2select__percentile=40, rfc__bootstrap=False, rfc__max_depth=20, rfc__max_samples=None, rfc__min_samples_split=2, rfc__n_estimators=50\n",
      "[CV 3/3; 127/216] END chi2select__percentile=40, rfc__bootstrap=False, rfc__max_depth=20, rfc__max_samples=None, rfc__min_samples_split=2, rfc__n_estimators=50;, score=0.906 total time=   0.2s\n",
      "[CV 1/3; 128/216] START chi2select__percentile=40, rfc__bootstrap=False, rfc__max_depth=20, rfc__max_samples=None, rfc__min_samples_split=2, rfc__n_estimators=100\n",
      "[CV 1/3; 128/216] END chi2select__percentile=40, rfc__bootstrap=False, rfc__max_depth=20, rfc__max_samples=None, rfc__min_samples_split=2, rfc__n_estimators=100;, score=0.881 total time=   0.4s\n",
      "[CV 2/3; 128/216] START chi2select__percentile=40, rfc__bootstrap=False, rfc__max_depth=20, rfc__max_samples=None, rfc__min_samples_split=2, rfc__n_estimators=100\n",
      "[CV 2/3; 128/216] END chi2select__percentile=40, rfc__bootstrap=False, rfc__max_depth=20, rfc__max_samples=None, rfc__min_samples_split=2, rfc__n_estimators=100;, score=0.873 total time=   0.5s\n",
      "[CV 3/3; 128/216] START chi2select__percentile=40, rfc__bootstrap=False, rfc__max_depth=20, rfc__max_samples=None, rfc__min_samples_split=2, rfc__n_estimators=100\n"
     ]
    },
    {
     "name": "stdout",
     "output_type": "stream",
     "text": [
      "[CV 3/3; 128/216] END chi2select__percentile=40, rfc__bootstrap=False, rfc__max_depth=20, rfc__max_samples=None, rfc__min_samples_split=2, rfc__n_estimators=100;, score=0.894 total time=   0.5s\n",
      "[CV 1/3; 129/216] START chi2select__percentile=40, rfc__bootstrap=False, rfc__max_depth=20, rfc__max_samples=None, rfc__min_samples_split=2, rfc__n_estimators=300\n",
      "[CV 1/3; 129/216] END chi2select__percentile=40, rfc__bootstrap=False, rfc__max_depth=20, rfc__max_samples=None, rfc__min_samples_split=2, rfc__n_estimators=300;, score=0.885 total time=   1.5s\n",
      "[CV 2/3; 129/216] START chi2select__percentile=40, rfc__bootstrap=False, rfc__max_depth=20, rfc__max_samples=None, rfc__min_samples_split=2, rfc__n_estimators=300\n",
      "[CV 2/3; 129/216] END chi2select__percentile=40, rfc__bootstrap=False, rfc__max_depth=20, rfc__max_samples=None, rfc__min_samples_split=2, rfc__n_estimators=300;, score=0.868 total time=   1.7s\n",
      "[CV 3/3; 129/216] START chi2select__percentile=40, rfc__bootstrap=False, rfc__max_depth=20, rfc__max_samples=None, rfc__min_samples_split=2, rfc__n_estimators=300\n",
      "[CV 3/3; 129/216] END chi2select__percentile=40, rfc__bootstrap=False, rfc__max_depth=20, rfc__max_samples=None, rfc__min_samples_split=2, rfc__n_estimators=300;, score=0.901 total time=   1.4s\n",
      "[CV 1/3; 130/216] START chi2select__percentile=40, rfc__bootstrap=False, rfc__max_depth=20, rfc__max_samples=None, rfc__min_samples_split=4, rfc__n_estimators=50\n",
      "[CV 1/3; 130/216] END chi2select__percentile=40, rfc__bootstrap=False, rfc__max_depth=20, rfc__max_samples=None, rfc__min_samples_split=4, rfc__n_estimators=50;, score=0.881 total time=   0.2s\n",
      "[CV 2/3; 130/216] START chi2select__percentile=40, rfc__bootstrap=False, rfc__max_depth=20, rfc__max_samples=None, rfc__min_samples_split=4, rfc__n_estimators=50\n",
      "[CV 2/3; 130/216] END chi2select__percentile=40, rfc__bootstrap=False, rfc__max_depth=20, rfc__max_samples=None, rfc__min_samples_split=4, rfc__n_estimators=50;, score=0.864 total time=   0.2s\n",
      "[CV 3/3; 130/216] START chi2select__percentile=40, rfc__bootstrap=False, rfc__max_depth=20, rfc__max_samples=None, rfc__min_samples_split=4, rfc__n_estimators=50\n",
      "[CV 3/3; 130/216] END chi2select__percentile=40, rfc__bootstrap=False, rfc__max_depth=20, rfc__max_samples=None, rfc__min_samples_split=4, rfc__n_estimators=50;, score=0.892 total time=   0.2s\n",
      "[CV 1/3; 131/216] START chi2select__percentile=40, rfc__bootstrap=False, rfc__max_depth=20, rfc__max_samples=None, rfc__min_samples_split=4, rfc__n_estimators=100\n",
      "[CV 1/3; 131/216] END chi2select__percentile=40, rfc__bootstrap=False, rfc__max_depth=20, rfc__max_samples=None, rfc__min_samples_split=4, rfc__n_estimators=100;, score=0.878 total time=   0.4s\n",
      "[CV 2/3; 131/216] START chi2select__percentile=40, rfc__bootstrap=False, rfc__max_depth=20, rfc__max_samples=None, rfc__min_samples_split=4, rfc__n_estimators=100\n",
      "[CV 2/3; 131/216] END chi2select__percentile=40, rfc__bootstrap=False, rfc__max_depth=20, rfc__max_samples=None, rfc__min_samples_split=4, rfc__n_estimators=100;, score=0.864 total time=   0.4s\n",
      "[CV 3/3; 131/216] START chi2select__percentile=40, rfc__bootstrap=False, rfc__max_depth=20, rfc__max_samples=None, rfc__min_samples_split=4, rfc__n_estimators=100\n",
      "[CV 3/3; 131/216] END chi2select__percentile=40, rfc__bootstrap=False, rfc__max_depth=20, rfc__max_samples=None, rfc__min_samples_split=4, rfc__n_estimators=100;, score=0.895 total time=   0.5s\n",
      "[CV 1/3; 132/216] START chi2select__percentile=40, rfc__bootstrap=False, rfc__max_depth=20, rfc__max_samples=None, rfc__min_samples_split=4, rfc__n_estimators=300\n",
      "[CV 1/3; 132/216] END chi2select__percentile=40, rfc__bootstrap=False, rfc__max_depth=20, rfc__max_samples=None, rfc__min_samples_split=4, rfc__n_estimators=300;, score=0.880 total time=   1.3s\n",
      "[CV 2/3; 132/216] START chi2select__percentile=40, rfc__bootstrap=False, rfc__max_depth=20, rfc__max_samples=None, rfc__min_samples_split=4, rfc__n_estimators=300\n",
      "[CV 2/3; 132/216] END chi2select__percentile=40, rfc__bootstrap=False, rfc__max_depth=20, rfc__max_samples=None, rfc__min_samples_split=4, rfc__n_estimators=300;, score=0.871 total time=   1.3s\n",
      "[CV 3/3; 132/216] START chi2select__percentile=40, rfc__bootstrap=False, rfc__max_depth=20, rfc__max_samples=None, rfc__min_samples_split=4, rfc__n_estimators=300\n",
      "[CV 3/3; 132/216] END chi2select__percentile=40, rfc__bootstrap=False, rfc__max_depth=20, rfc__max_samples=None, rfc__min_samples_split=4, rfc__n_estimators=300;, score=0.902 total time=   1.4s\n",
      "[CV 1/3; 133/216] START chi2select__percentile=40, rfc__bootstrap=False, rfc__max_depth=None, rfc__max_samples=0.8, rfc__min_samples_split=2, rfc__n_estimators=50\n",
      "[CV 1/3; 133/216] END chi2select__percentile=40, rfc__bootstrap=False, rfc__max_depth=None, rfc__max_samples=0.8, rfc__min_samples_split=2, rfc__n_estimators=50;, score=0.883 total time=   0.2s\n",
      "[CV 2/3; 133/216] START chi2select__percentile=40, rfc__bootstrap=False, rfc__max_depth=None, rfc__max_samples=0.8, rfc__min_samples_split=2, rfc__n_estimators=50\n",
      "[CV 2/3; 133/216] END chi2select__percentile=40, rfc__bootstrap=False, rfc__max_depth=None, rfc__max_samples=0.8, rfc__min_samples_split=2, rfc__n_estimators=50;, score=0.873 total time=   0.2s\n",
      "[CV 3/3; 133/216] START chi2select__percentile=40, rfc__bootstrap=False, rfc__max_depth=None, rfc__max_samples=0.8, rfc__min_samples_split=2, rfc__n_estimators=50\n",
      "[CV 3/3; 133/216] END chi2select__percentile=40, rfc__bootstrap=False, rfc__max_depth=None, rfc__max_samples=0.8, rfc__min_samples_split=2, rfc__n_estimators=50;, score=0.902 total time=   0.2s\n",
      "[CV 1/3; 134/216] START chi2select__percentile=40, rfc__bootstrap=False, rfc__max_depth=None, rfc__max_samples=0.8, rfc__min_samples_split=2, rfc__n_estimators=100\n",
      "[CV 1/3; 134/216] END chi2select__percentile=40, rfc__bootstrap=False, rfc__max_depth=None, rfc__max_samples=0.8, rfc__min_samples_split=2, rfc__n_estimators=100;, score=0.885 total time=   0.4s\n",
      "[CV 2/3; 134/216] START chi2select__percentile=40, rfc__bootstrap=False, rfc__max_depth=None, rfc__max_samples=0.8, rfc__min_samples_split=2, rfc__n_estimators=100\n",
      "[CV 2/3; 134/216] END chi2select__percentile=40, rfc__bootstrap=False, rfc__max_depth=None, rfc__max_samples=0.8, rfc__min_samples_split=2, rfc__n_estimators=100;, score=0.858 total time=   0.5s\n",
      "[CV 3/3; 134/216] START chi2select__percentile=40, rfc__bootstrap=False, rfc__max_depth=None, rfc__max_samples=0.8, rfc__min_samples_split=2, rfc__n_estimators=100\n",
      "[CV 3/3; 134/216] END chi2select__percentile=40, rfc__bootstrap=False, rfc__max_depth=None, rfc__max_samples=0.8, rfc__min_samples_split=2, rfc__n_estimators=100;, score=0.901 total time=   0.5s\n",
      "[CV 1/3; 135/216] START chi2select__percentile=40, rfc__bootstrap=False, rfc__max_depth=None, rfc__max_samples=0.8, rfc__min_samples_split=2, rfc__n_estimators=300\n",
      "[CV 1/3; 135/216] END chi2select__percentile=40, rfc__bootstrap=False, rfc__max_depth=None, rfc__max_samples=0.8, rfc__min_samples_split=2, rfc__n_estimators=300;, score=0.881 total time=   1.3s\n",
      "[CV 2/3; 135/216] START chi2select__percentile=40, rfc__bootstrap=False, rfc__max_depth=None, rfc__max_samples=0.8, rfc__min_samples_split=2, rfc__n_estimators=300\n",
      "[CV 2/3; 135/216] END chi2select__percentile=40, rfc__bootstrap=False, rfc__max_depth=None, rfc__max_samples=0.8, rfc__min_samples_split=2, rfc__n_estimators=300;, score=0.878 total time=   1.3s\n",
      "[CV 3/3; 135/216] START chi2select__percentile=40, rfc__bootstrap=False, rfc__max_depth=None, rfc__max_samples=0.8, rfc__min_samples_split=2, rfc__n_estimators=300\n",
      "[CV 3/3; 135/216] END chi2select__percentile=40, rfc__bootstrap=False, rfc__max_depth=None, rfc__max_samples=0.8, rfc__min_samples_split=2, rfc__n_estimators=300;, score=0.904 total time=   1.4s\n",
      "[CV 1/3; 136/216] START chi2select__percentile=40, rfc__bootstrap=False, rfc__max_depth=None, rfc__max_samples=0.8, rfc__min_samples_split=4, rfc__n_estimators=50\n",
      "[CV 1/3; 136/216] END chi2select__percentile=40, rfc__bootstrap=False, rfc__max_depth=None, rfc__max_samples=0.8, rfc__min_samples_split=4, rfc__n_estimators=50;, score=0.880 total time=   0.2s\n",
      "[CV 2/3; 136/216] START chi2select__percentile=40, rfc__bootstrap=False, rfc__max_depth=None, rfc__max_samples=0.8, rfc__min_samples_split=4, rfc__n_estimators=50\n"
     ]
    },
    {
     "name": "stdout",
     "output_type": "stream",
     "text": [
      "[CV 2/3; 136/216] END chi2select__percentile=40, rfc__bootstrap=False, rfc__max_depth=None, rfc__max_samples=0.8, rfc__min_samples_split=4, rfc__n_estimators=50;, score=0.868 total time=   0.2s\n",
      "[CV 3/3; 136/216] START chi2select__percentile=40, rfc__bootstrap=False, rfc__max_depth=None, rfc__max_samples=0.8, rfc__min_samples_split=4, rfc__n_estimators=50\n",
      "[CV 3/3; 136/216] END chi2select__percentile=40, rfc__bootstrap=False, rfc__max_depth=None, rfc__max_samples=0.8, rfc__min_samples_split=4, rfc__n_estimators=50;, score=0.909 total time=   0.2s\n",
      "[CV 1/3; 137/216] START chi2select__percentile=40, rfc__bootstrap=False, rfc__max_depth=None, rfc__max_samples=0.8, rfc__min_samples_split=4, rfc__n_estimators=100\n",
      "[CV 1/3; 137/216] END chi2select__percentile=40, rfc__bootstrap=False, rfc__max_depth=None, rfc__max_samples=0.8, rfc__min_samples_split=4, rfc__n_estimators=100;, score=0.885 total time=   0.4s\n",
      "[CV 2/3; 137/216] START chi2select__percentile=40, rfc__bootstrap=False, rfc__max_depth=None, rfc__max_samples=0.8, rfc__min_samples_split=4, rfc__n_estimators=100\n",
      "[CV 2/3; 137/216] END chi2select__percentile=40, rfc__bootstrap=False, rfc__max_depth=None, rfc__max_samples=0.8, rfc__min_samples_split=4, rfc__n_estimators=100;, score=0.873 total time=   0.5s\n",
      "[CV 3/3; 137/216] START chi2select__percentile=40, rfc__bootstrap=False, rfc__max_depth=None, rfc__max_samples=0.8, rfc__min_samples_split=4, rfc__n_estimators=100\n",
      "[CV 3/3; 137/216] END chi2select__percentile=40, rfc__bootstrap=False, rfc__max_depth=None, rfc__max_samples=0.8, rfc__min_samples_split=4, rfc__n_estimators=100;, score=0.906 total time=   0.5s\n",
      "[CV 1/3; 138/216] START chi2select__percentile=40, rfc__bootstrap=False, rfc__max_depth=None, rfc__max_samples=0.8, rfc__min_samples_split=4, rfc__n_estimators=300\n",
      "[CV 1/3; 138/216] END chi2select__percentile=40, rfc__bootstrap=False, rfc__max_depth=None, rfc__max_samples=0.8, rfc__min_samples_split=4, rfc__n_estimators=300;, score=0.885 total time=   1.4s\n",
      "[CV 2/3; 138/216] START chi2select__percentile=40, rfc__bootstrap=False, rfc__max_depth=None, rfc__max_samples=0.8, rfc__min_samples_split=4, rfc__n_estimators=300\n",
      "[CV 2/3; 138/216] END chi2select__percentile=40, rfc__bootstrap=False, rfc__max_depth=None, rfc__max_samples=0.8, rfc__min_samples_split=4, rfc__n_estimators=300;, score=0.873 total time=   1.4s\n",
      "[CV 3/3; 138/216] START chi2select__percentile=40, rfc__bootstrap=False, rfc__max_depth=None, rfc__max_samples=0.8, rfc__min_samples_split=4, rfc__n_estimators=300\n",
      "[CV 3/3; 138/216] END chi2select__percentile=40, rfc__bootstrap=False, rfc__max_depth=None, rfc__max_samples=0.8, rfc__min_samples_split=4, rfc__n_estimators=300;, score=0.894 total time=   1.4s\n",
      "[CV 1/3; 139/216] START chi2select__percentile=40, rfc__bootstrap=False, rfc__max_depth=None, rfc__max_samples=None, rfc__min_samples_split=2, rfc__n_estimators=50\n",
      "[CV 1/3; 139/216] END chi2select__percentile=40, rfc__bootstrap=False, rfc__max_depth=None, rfc__max_samples=None, rfc__min_samples_split=2, rfc__n_estimators=50;, score=0.883 total time=   0.2s\n",
      "[CV 2/3; 139/216] START chi2select__percentile=40, rfc__bootstrap=False, rfc__max_depth=None, rfc__max_samples=None, rfc__min_samples_split=2, rfc__n_estimators=50\n",
      "[CV 2/3; 139/216] END chi2select__percentile=40, rfc__bootstrap=False, rfc__max_depth=None, rfc__max_samples=None, rfc__min_samples_split=2, rfc__n_estimators=50;, score=0.883 total time=   0.2s\n",
      "[CV 3/3; 139/216] START chi2select__percentile=40, rfc__bootstrap=False, rfc__max_depth=None, rfc__max_samples=None, rfc__min_samples_split=2, rfc__n_estimators=50\n",
      "[CV 3/3; 139/216] END chi2select__percentile=40, rfc__bootstrap=False, rfc__max_depth=None, rfc__max_samples=None, rfc__min_samples_split=2, rfc__n_estimators=50;, score=0.899 total time=   0.3s\n",
      "[CV 1/3; 140/216] START chi2select__percentile=40, rfc__bootstrap=False, rfc__max_depth=None, rfc__max_samples=None, rfc__min_samples_split=2, rfc__n_estimators=100\n",
      "[CV 1/3; 140/216] END chi2select__percentile=40, rfc__bootstrap=False, rfc__max_depth=None, rfc__max_samples=None, rfc__min_samples_split=2, rfc__n_estimators=100;, score=0.890 total time=   0.5s\n",
      "[CV 2/3; 140/216] START chi2select__percentile=40, rfc__bootstrap=False, rfc__max_depth=None, rfc__max_samples=None, rfc__min_samples_split=2, rfc__n_estimators=100\n",
      "[CV 2/3; 140/216] END chi2select__percentile=40, rfc__bootstrap=False, rfc__max_depth=None, rfc__max_samples=None, rfc__min_samples_split=2, rfc__n_estimators=100;, score=0.871 total time=   0.5s\n",
      "[CV 3/3; 140/216] START chi2select__percentile=40, rfc__bootstrap=False, rfc__max_depth=None, rfc__max_samples=None, rfc__min_samples_split=2, rfc__n_estimators=100\n",
      "[CV 3/3; 140/216] END chi2select__percentile=40, rfc__bootstrap=False, rfc__max_depth=None, rfc__max_samples=None, rfc__min_samples_split=2, rfc__n_estimators=100;, score=0.906 total time=   0.5s\n",
      "[CV 1/3; 141/216] START chi2select__percentile=40, rfc__bootstrap=False, rfc__max_depth=None, rfc__max_samples=None, rfc__min_samples_split=2, rfc__n_estimators=300\n",
      "[CV 1/3; 141/216] END chi2select__percentile=40, rfc__bootstrap=False, rfc__max_depth=None, rfc__max_samples=None, rfc__min_samples_split=2, rfc__n_estimators=300;, score=0.885 total time=   1.3s\n",
      "[CV 2/3; 141/216] START chi2select__percentile=40, rfc__bootstrap=False, rfc__max_depth=None, rfc__max_samples=None, rfc__min_samples_split=2, rfc__n_estimators=300\n",
      "[CV 2/3; 141/216] END chi2select__percentile=40, rfc__bootstrap=False, rfc__max_depth=None, rfc__max_samples=None, rfc__min_samples_split=2, rfc__n_estimators=300;, score=0.873 total time=   1.4s\n",
      "[CV 3/3; 141/216] START chi2select__percentile=40, rfc__bootstrap=False, rfc__max_depth=None, rfc__max_samples=None, rfc__min_samples_split=2, rfc__n_estimators=300\n",
      "[CV 3/3; 141/216] END chi2select__percentile=40, rfc__bootstrap=False, rfc__max_depth=None, rfc__max_samples=None, rfc__min_samples_split=2, rfc__n_estimators=300;, score=0.904 total time=   1.4s\n",
      "[CV 1/3; 142/216] START chi2select__percentile=40, rfc__bootstrap=False, rfc__max_depth=None, rfc__max_samples=None, rfc__min_samples_split=4, rfc__n_estimators=50\n",
      "[CV 1/3; 142/216] END chi2select__percentile=40, rfc__bootstrap=False, rfc__max_depth=None, rfc__max_samples=None, rfc__min_samples_split=4, rfc__n_estimators=50;, score=0.885 total time=   0.2s\n",
      "[CV 2/3; 142/216] START chi2select__percentile=40, rfc__bootstrap=False, rfc__max_depth=None, rfc__max_samples=None, rfc__min_samples_split=4, rfc__n_estimators=50\n",
      "[CV 2/3; 142/216] END chi2select__percentile=40, rfc__bootstrap=False, rfc__max_depth=None, rfc__max_samples=None, rfc__min_samples_split=4, rfc__n_estimators=50;, score=0.873 total time=   0.2s\n",
      "[CV 3/3; 142/216] START chi2select__percentile=40, rfc__bootstrap=False, rfc__max_depth=None, rfc__max_samples=None, rfc__min_samples_split=4, rfc__n_estimators=50\n",
      "[CV 3/3; 142/216] END chi2select__percentile=40, rfc__bootstrap=False, rfc__max_depth=None, rfc__max_samples=None, rfc__min_samples_split=4, rfc__n_estimators=50;, score=0.902 total time=   0.2s\n",
      "[CV 1/3; 143/216] START chi2select__percentile=40, rfc__bootstrap=False, rfc__max_depth=None, rfc__max_samples=None, rfc__min_samples_split=4, rfc__n_estimators=100\n",
      "[CV 1/3; 143/216] END chi2select__percentile=40, rfc__bootstrap=False, rfc__max_depth=None, rfc__max_samples=None, rfc__min_samples_split=4, rfc__n_estimators=100;, score=0.893 total time=   0.4s\n",
      "[CV 2/3; 143/216] START chi2select__percentile=40, rfc__bootstrap=False, rfc__max_depth=None, rfc__max_samples=None, rfc__min_samples_split=4, rfc__n_estimators=100\n",
      "[CV 2/3; 143/216] END chi2select__percentile=40, rfc__bootstrap=False, rfc__max_depth=None, rfc__max_samples=None, rfc__min_samples_split=4, rfc__n_estimators=100;, score=0.871 total time=   0.4s\n",
      "[CV 3/3; 143/216] START chi2select__percentile=40, rfc__bootstrap=False, rfc__max_depth=None, rfc__max_samples=None, rfc__min_samples_split=4, rfc__n_estimators=100\n",
      "[CV 3/3; 143/216] END chi2select__percentile=40, rfc__bootstrap=False, rfc__max_depth=None, rfc__max_samples=None, rfc__min_samples_split=4, rfc__n_estimators=100;, score=0.904 total time=   0.5s\n",
      "[CV 1/3; 144/216] START chi2select__percentile=40, rfc__bootstrap=False, rfc__max_depth=None, rfc__max_samples=None, rfc__min_samples_split=4, rfc__n_estimators=300\n"
     ]
    },
    {
     "name": "stdout",
     "output_type": "stream",
     "text": [
      "[CV 1/3; 144/216] END chi2select__percentile=40, rfc__bootstrap=False, rfc__max_depth=None, rfc__max_samples=None, rfc__min_samples_split=4, rfc__n_estimators=300;, score=0.885 total time=   1.3s\n",
      "[CV 2/3; 144/216] START chi2select__percentile=40, rfc__bootstrap=False, rfc__max_depth=None, rfc__max_samples=None, rfc__min_samples_split=4, rfc__n_estimators=300\n",
      "[CV 2/3; 144/216] END chi2select__percentile=40, rfc__bootstrap=False, rfc__max_depth=None, rfc__max_samples=None, rfc__min_samples_split=4, rfc__n_estimators=300;, score=0.871 total time=   1.3s\n",
      "[CV 3/3; 144/216] START chi2select__percentile=40, rfc__bootstrap=False, rfc__max_depth=None, rfc__max_samples=None, rfc__min_samples_split=4, rfc__n_estimators=300\n",
      "[CV 3/3; 144/216] END chi2select__percentile=40, rfc__bootstrap=False, rfc__max_depth=None, rfc__max_samples=None, rfc__min_samples_split=4, rfc__n_estimators=300;, score=0.897 total time=   1.4s\n",
      "[CV 1/3; 145/216] START chi2select__percentile=75, rfc__bootstrap=True, rfc__max_depth=10, rfc__max_samples=0.8, rfc__min_samples_split=2, rfc__n_estimators=50\n",
      "[CV 1/3; 145/216] END chi2select__percentile=75, rfc__bootstrap=True, rfc__max_depth=10, rfc__max_samples=0.8, rfc__min_samples_split=2, rfc__n_estimators=50;, score=0.879 total time=   0.2s\n",
      "[CV 2/3; 145/216] START chi2select__percentile=75, rfc__bootstrap=True, rfc__max_depth=10, rfc__max_samples=0.8, rfc__min_samples_split=2, rfc__n_estimators=50\n",
      "[CV 2/3; 145/216] END chi2select__percentile=75, rfc__bootstrap=True, rfc__max_depth=10, rfc__max_samples=0.8, rfc__min_samples_split=2, rfc__n_estimators=50;, score=0.881 total time=   0.2s\n",
      "[CV 3/3; 145/216] START chi2select__percentile=75, rfc__bootstrap=True, rfc__max_depth=10, rfc__max_samples=0.8, rfc__min_samples_split=2, rfc__n_estimators=50\n",
      "[CV 3/3; 145/216] END chi2select__percentile=75, rfc__bootstrap=True, rfc__max_depth=10, rfc__max_samples=0.8, rfc__min_samples_split=2, rfc__n_estimators=50;, score=0.884 total time=   0.2s\n",
      "[CV 1/3; 146/216] START chi2select__percentile=75, rfc__bootstrap=True, rfc__max_depth=10, rfc__max_samples=0.8, rfc__min_samples_split=2, rfc__n_estimators=100\n",
      "[CV 1/3; 146/216] END chi2select__percentile=75, rfc__bootstrap=True, rfc__max_depth=10, rfc__max_samples=0.8, rfc__min_samples_split=2, rfc__n_estimators=100;, score=0.879 total time=   0.4s\n",
      "[CV 2/3; 146/216] START chi2select__percentile=75, rfc__bootstrap=True, rfc__max_depth=10, rfc__max_samples=0.8, rfc__min_samples_split=2, rfc__n_estimators=100\n",
      "[CV 2/3; 146/216] END chi2select__percentile=75, rfc__bootstrap=True, rfc__max_depth=10, rfc__max_samples=0.8, rfc__min_samples_split=2, rfc__n_estimators=100;, score=0.896 total time=   0.4s\n",
      "[CV 3/3; 146/216] START chi2select__percentile=75, rfc__bootstrap=True, rfc__max_depth=10, rfc__max_samples=0.8, rfc__min_samples_split=2, rfc__n_estimators=100\n",
      "[CV 3/3; 146/216] END chi2select__percentile=75, rfc__bootstrap=True, rfc__max_depth=10, rfc__max_samples=0.8, rfc__min_samples_split=2, rfc__n_estimators=100;, score=0.896 total time=   0.4s\n",
      "[CV 1/3; 147/216] START chi2select__percentile=75, rfc__bootstrap=True, rfc__max_depth=10, rfc__max_samples=0.8, rfc__min_samples_split=2, rfc__n_estimators=300\n",
      "[CV 1/3; 147/216] END chi2select__percentile=75, rfc__bootstrap=True, rfc__max_depth=10, rfc__max_samples=0.8, rfc__min_samples_split=2, rfc__n_estimators=300;, score=0.894 total time=   1.3s\n",
      "[CV 2/3; 147/216] START chi2select__percentile=75, rfc__bootstrap=True, rfc__max_depth=10, rfc__max_samples=0.8, rfc__min_samples_split=2, rfc__n_estimators=300\n",
      "[CV 2/3; 147/216] END chi2select__percentile=75, rfc__bootstrap=True, rfc__max_depth=10, rfc__max_samples=0.8, rfc__min_samples_split=2, rfc__n_estimators=300;, score=0.890 total time=   1.3s\n",
      "[CV 3/3; 147/216] START chi2select__percentile=75, rfc__bootstrap=True, rfc__max_depth=10, rfc__max_samples=0.8, rfc__min_samples_split=2, rfc__n_estimators=300\n",
      "[CV 3/3; 147/216] END chi2select__percentile=75, rfc__bootstrap=True, rfc__max_depth=10, rfc__max_samples=0.8, rfc__min_samples_split=2, rfc__n_estimators=300;, score=0.901 total time=   1.3s\n",
      "[CV 1/3; 148/216] START chi2select__percentile=75, rfc__bootstrap=True, rfc__max_depth=10, rfc__max_samples=0.8, rfc__min_samples_split=4, rfc__n_estimators=50\n",
      "[CV 1/3; 148/216] END chi2select__percentile=75, rfc__bootstrap=True, rfc__max_depth=10, rfc__max_samples=0.8, rfc__min_samples_split=4, rfc__n_estimators=50;, score=0.885 total time=   0.2s\n",
      "[CV 2/3; 148/216] START chi2select__percentile=75, rfc__bootstrap=True, rfc__max_depth=10, rfc__max_samples=0.8, rfc__min_samples_split=4, rfc__n_estimators=50\n",
      "[CV 2/3; 148/216] END chi2select__percentile=75, rfc__bootstrap=True, rfc__max_depth=10, rfc__max_samples=0.8, rfc__min_samples_split=4, rfc__n_estimators=50;, score=0.887 total time=   0.2s\n",
      "[CV 3/3; 148/216] START chi2select__percentile=75, rfc__bootstrap=True, rfc__max_depth=10, rfc__max_samples=0.8, rfc__min_samples_split=4, rfc__n_estimators=50\n",
      "[CV 3/3; 148/216] END chi2select__percentile=75, rfc__bootstrap=True, rfc__max_depth=10, rfc__max_samples=0.8, rfc__min_samples_split=4, rfc__n_estimators=50;, score=0.883 total time=   0.2s\n",
      "[CV 1/3; 149/216] START chi2select__percentile=75, rfc__bootstrap=True, rfc__max_depth=10, rfc__max_samples=0.8, rfc__min_samples_split=4, rfc__n_estimators=100\n",
      "[CV 1/3; 149/216] END chi2select__percentile=75, rfc__bootstrap=True, rfc__max_depth=10, rfc__max_samples=0.8, rfc__min_samples_split=4, rfc__n_estimators=100;, score=0.900 total time=   0.4s\n",
      "[CV 2/3; 149/216] START chi2select__percentile=75, rfc__bootstrap=True, rfc__max_depth=10, rfc__max_samples=0.8, rfc__min_samples_split=4, rfc__n_estimators=100\n",
      "[CV 2/3; 149/216] END chi2select__percentile=75, rfc__bootstrap=True, rfc__max_depth=10, rfc__max_samples=0.8, rfc__min_samples_split=4, rfc__n_estimators=100;, score=0.873 total time=   0.4s\n",
      "[CV 3/3; 149/216] START chi2select__percentile=75, rfc__bootstrap=True, rfc__max_depth=10, rfc__max_samples=0.8, rfc__min_samples_split=4, rfc__n_estimators=100\n",
      "[CV 3/3; 149/216] END chi2select__percentile=75, rfc__bootstrap=True, rfc__max_depth=10, rfc__max_samples=0.8, rfc__min_samples_split=4, rfc__n_estimators=100;, score=0.909 total time=   0.4s\n",
      "[CV 1/3; 150/216] START chi2select__percentile=75, rfc__bootstrap=True, rfc__max_depth=10, rfc__max_samples=0.8, rfc__min_samples_split=4, rfc__n_estimators=300\n",
      "[CV 1/3; 150/216] END chi2select__percentile=75, rfc__bootstrap=True, rfc__max_depth=10, rfc__max_samples=0.8, rfc__min_samples_split=4, rfc__n_estimators=300;, score=0.889 total time=   1.3s\n",
      "[CV 2/3; 150/216] START chi2select__percentile=75, rfc__bootstrap=True, rfc__max_depth=10, rfc__max_samples=0.8, rfc__min_samples_split=4, rfc__n_estimators=300\n",
      "[CV 2/3; 150/216] END chi2select__percentile=75, rfc__bootstrap=True, rfc__max_depth=10, rfc__max_samples=0.8, rfc__min_samples_split=4, rfc__n_estimators=300;, score=0.882 total time=   1.3s\n",
      "[CV 3/3; 150/216] START chi2select__percentile=75, rfc__bootstrap=True, rfc__max_depth=10, rfc__max_samples=0.8, rfc__min_samples_split=4, rfc__n_estimators=300\n",
      "[CV 3/3; 150/216] END chi2select__percentile=75, rfc__bootstrap=True, rfc__max_depth=10, rfc__max_samples=0.8, rfc__min_samples_split=4, rfc__n_estimators=300;, score=0.902 total time=   1.3s\n",
      "[CV 1/3; 151/216] START chi2select__percentile=75, rfc__bootstrap=True, rfc__max_depth=10, rfc__max_samples=None, rfc__min_samples_split=2, rfc__n_estimators=50\n",
      "[CV 1/3; 151/216] END chi2select__percentile=75, rfc__bootstrap=True, rfc__max_depth=10, rfc__max_samples=None, rfc__min_samples_split=2, rfc__n_estimators=50;, score=0.878 total time=   0.2s\n",
      "[CV 2/3; 151/216] START chi2select__percentile=75, rfc__bootstrap=True, rfc__max_depth=10, rfc__max_samples=None, rfc__min_samples_split=2, rfc__n_estimators=50\n",
      "[CV 2/3; 151/216] END chi2select__percentile=75, rfc__bootstrap=True, rfc__max_depth=10, rfc__max_samples=None, rfc__min_samples_split=2, rfc__n_estimators=50;, score=0.897 total time=   0.2s\n",
      "[CV 3/3; 151/216] START chi2select__percentile=75, rfc__bootstrap=True, rfc__max_depth=10, rfc__max_samples=None, rfc__min_samples_split=2, rfc__n_estimators=50\n",
      "[CV 3/3; 151/216] END chi2select__percentile=75, rfc__bootstrap=True, rfc__max_depth=10, rfc__max_samples=None, rfc__min_samples_split=2, rfc__n_estimators=50;, score=0.907 total time=   0.2s\n",
      "[CV 1/3; 152/216] START chi2select__percentile=75, rfc__bootstrap=True, rfc__max_depth=10, rfc__max_samples=None, rfc__min_samples_split=2, rfc__n_estimators=100\n"
     ]
    },
    {
     "name": "stdout",
     "output_type": "stream",
     "text": [
      "[CV 1/3; 152/216] END chi2select__percentile=75, rfc__bootstrap=True, rfc__max_depth=10, rfc__max_samples=None, rfc__min_samples_split=2, rfc__n_estimators=100;, score=0.880 total time=   0.5s\n",
      "[CV 2/3; 152/216] START chi2select__percentile=75, rfc__bootstrap=True, rfc__max_depth=10, rfc__max_samples=None, rfc__min_samples_split=2, rfc__n_estimators=100\n",
      "[CV 2/3; 152/216] END chi2select__percentile=75, rfc__bootstrap=True, rfc__max_depth=10, rfc__max_samples=None, rfc__min_samples_split=2, rfc__n_estimators=100;, score=0.890 total time=   0.5s\n",
      "[CV 3/3; 152/216] START chi2select__percentile=75, rfc__bootstrap=True, rfc__max_depth=10, rfc__max_samples=None, rfc__min_samples_split=2, rfc__n_estimators=100\n",
      "[CV 3/3; 152/216] END chi2select__percentile=75, rfc__bootstrap=True, rfc__max_depth=10, rfc__max_samples=None, rfc__min_samples_split=2, rfc__n_estimators=100;, score=0.904 total time=   0.5s\n",
      "[CV 1/3; 153/216] START chi2select__percentile=75, rfc__bootstrap=True, rfc__max_depth=10, rfc__max_samples=None, rfc__min_samples_split=2, rfc__n_estimators=300\n",
      "[CV 1/3; 153/216] END chi2select__percentile=75, rfc__bootstrap=True, rfc__max_depth=10, rfc__max_samples=None, rfc__min_samples_split=2, rfc__n_estimators=300;, score=0.899 total time=   1.4s\n",
      "[CV 2/3; 153/216] START chi2select__percentile=75, rfc__bootstrap=True, rfc__max_depth=10, rfc__max_samples=None, rfc__min_samples_split=2, rfc__n_estimators=300\n",
      "[CV 2/3; 153/216] END chi2select__percentile=75, rfc__bootstrap=True, rfc__max_depth=10, rfc__max_samples=None, rfc__min_samples_split=2, rfc__n_estimators=300;, score=0.893 total time=   1.4s\n",
      "[CV 3/3; 153/216] START chi2select__percentile=75, rfc__bootstrap=True, rfc__max_depth=10, rfc__max_samples=None, rfc__min_samples_split=2, rfc__n_estimators=300\n",
      "[CV 3/3; 153/216] END chi2select__percentile=75, rfc__bootstrap=True, rfc__max_depth=10, rfc__max_samples=None, rfc__min_samples_split=2, rfc__n_estimators=300;, score=0.908 total time=   1.4s\n",
      "[CV 1/3; 154/216] START chi2select__percentile=75, rfc__bootstrap=True, rfc__max_depth=10, rfc__max_samples=None, rfc__min_samples_split=4, rfc__n_estimators=50\n",
      "[CV 1/3; 154/216] END chi2select__percentile=75, rfc__bootstrap=True, rfc__max_depth=10, rfc__max_samples=None, rfc__min_samples_split=4, rfc__n_estimators=50;, score=0.896 total time=   0.2s\n",
      "[CV 2/3; 154/216] START chi2select__percentile=75, rfc__bootstrap=True, rfc__max_depth=10, rfc__max_samples=None, rfc__min_samples_split=4, rfc__n_estimators=50\n",
      "[CV 2/3; 154/216] END chi2select__percentile=75, rfc__bootstrap=True, rfc__max_depth=10, rfc__max_samples=None, rfc__min_samples_split=4, rfc__n_estimators=50;, score=0.880 total time=   0.2s\n",
      "[CV 3/3; 154/216] START chi2select__percentile=75, rfc__bootstrap=True, rfc__max_depth=10, rfc__max_samples=None, rfc__min_samples_split=4, rfc__n_estimators=50\n",
      "[CV 3/3; 154/216] END chi2select__percentile=75, rfc__bootstrap=True, rfc__max_depth=10, rfc__max_samples=None, rfc__min_samples_split=4, rfc__n_estimators=50;, score=0.900 total time=   0.2s\n",
      "[CV 1/3; 155/216] START chi2select__percentile=75, rfc__bootstrap=True, rfc__max_depth=10, rfc__max_samples=None, rfc__min_samples_split=4, rfc__n_estimators=100\n",
      "[CV 1/3; 155/216] END chi2select__percentile=75, rfc__bootstrap=True, rfc__max_depth=10, rfc__max_samples=None, rfc__min_samples_split=4, rfc__n_estimators=100;, score=0.898 total time=   0.5s\n",
      "[CV 2/3; 155/216] START chi2select__percentile=75, rfc__bootstrap=True, rfc__max_depth=10, rfc__max_samples=None, rfc__min_samples_split=4, rfc__n_estimators=100\n",
      "[CV 2/3; 155/216] END chi2select__percentile=75, rfc__bootstrap=True, rfc__max_depth=10, rfc__max_samples=None, rfc__min_samples_split=4, rfc__n_estimators=100;, score=0.899 total time=   0.5s\n",
      "[CV 3/3; 155/216] START chi2select__percentile=75, rfc__bootstrap=True, rfc__max_depth=10, rfc__max_samples=None, rfc__min_samples_split=4, rfc__n_estimators=100\n",
      "[CV 3/3; 155/216] END chi2select__percentile=75, rfc__bootstrap=True, rfc__max_depth=10, rfc__max_samples=None, rfc__min_samples_split=4, rfc__n_estimators=100;, score=0.900 total time=   0.5s\n",
      "[CV 1/3; 156/216] START chi2select__percentile=75, rfc__bootstrap=True, rfc__max_depth=10, rfc__max_samples=None, rfc__min_samples_split=4, rfc__n_estimators=300\n",
      "[CV 1/3; 156/216] END chi2select__percentile=75, rfc__bootstrap=True, rfc__max_depth=10, rfc__max_samples=None, rfc__min_samples_split=4, rfc__n_estimators=300;, score=0.901 total time=   1.4s\n",
      "[CV 2/3; 156/216] START chi2select__percentile=75, rfc__bootstrap=True, rfc__max_depth=10, rfc__max_samples=None, rfc__min_samples_split=4, rfc__n_estimators=300\n",
      "[CV 2/3; 156/216] END chi2select__percentile=75, rfc__bootstrap=True, rfc__max_depth=10, rfc__max_samples=None, rfc__min_samples_split=4, rfc__n_estimators=300;, score=0.898 total time=   1.4s\n",
      "[CV 3/3; 156/216] START chi2select__percentile=75, rfc__bootstrap=True, rfc__max_depth=10, rfc__max_samples=None, rfc__min_samples_split=4, rfc__n_estimators=300\n",
      "[CV 3/3; 156/216] END chi2select__percentile=75, rfc__bootstrap=True, rfc__max_depth=10, rfc__max_samples=None, rfc__min_samples_split=4, rfc__n_estimators=300;, score=0.907 total time=   1.4s\n",
      "[CV 1/3; 157/216] START chi2select__percentile=75, rfc__bootstrap=True, rfc__max_depth=20, rfc__max_samples=0.8, rfc__min_samples_split=2, rfc__n_estimators=50\n",
      "[CV 1/3; 157/216] END chi2select__percentile=75, rfc__bootstrap=True, rfc__max_depth=20, rfc__max_samples=0.8, rfc__min_samples_split=2, rfc__n_estimators=50;, score=0.932 total time=   0.3s\n",
      "[CV 2/3; 157/216] START chi2select__percentile=75, rfc__bootstrap=True, rfc__max_depth=20, rfc__max_samples=0.8, rfc__min_samples_split=2, rfc__n_estimators=50\n",
      "[CV 2/3; 157/216] END chi2select__percentile=75, rfc__bootstrap=True, rfc__max_depth=20, rfc__max_samples=0.8, rfc__min_samples_split=2, rfc__n_estimators=50;, score=0.928 total time=   0.3s\n",
      "[CV 3/3; 157/216] START chi2select__percentile=75, rfc__bootstrap=True, rfc__max_depth=20, rfc__max_samples=0.8, rfc__min_samples_split=2, rfc__n_estimators=50\n",
      "[CV 3/3; 157/216] END chi2select__percentile=75, rfc__bootstrap=True, rfc__max_depth=20, rfc__max_samples=0.8, rfc__min_samples_split=2, rfc__n_estimators=50;, score=0.926 total time=   0.3s\n",
      "[CV 1/3; 158/216] START chi2select__percentile=75, rfc__bootstrap=True, rfc__max_depth=20, rfc__max_samples=0.8, rfc__min_samples_split=2, rfc__n_estimators=100\n",
      "[CV 1/3; 158/216] END chi2select__percentile=75, rfc__bootstrap=True, rfc__max_depth=20, rfc__max_samples=0.8, rfc__min_samples_split=2, rfc__n_estimators=100;, score=0.924 total time=   0.5s\n",
      "[CV 2/3; 158/216] START chi2select__percentile=75, rfc__bootstrap=True, rfc__max_depth=20, rfc__max_samples=0.8, rfc__min_samples_split=2, rfc__n_estimators=100\n",
      "[CV 2/3; 158/216] END chi2select__percentile=75, rfc__bootstrap=True, rfc__max_depth=20, rfc__max_samples=0.8, rfc__min_samples_split=2, rfc__n_estimators=100;, score=0.924 total time=   0.5s\n",
      "[CV 3/3; 158/216] START chi2select__percentile=75, rfc__bootstrap=True, rfc__max_depth=20, rfc__max_samples=0.8, rfc__min_samples_split=2, rfc__n_estimators=100\n",
      "[CV 3/3; 158/216] END chi2select__percentile=75, rfc__bootstrap=True, rfc__max_depth=20, rfc__max_samples=0.8, rfc__min_samples_split=2, rfc__n_estimators=100;, score=0.939 total time=   0.5s\n",
      "[CV 1/3; 159/216] START chi2select__percentile=75, rfc__bootstrap=True, rfc__max_depth=20, rfc__max_samples=0.8, rfc__min_samples_split=2, rfc__n_estimators=300\n",
      "[CV 1/3; 159/216] END chi2select__percentile=75, rfc__bootstrap=True, rfc__max_depth=20, rfc__max_samples=0.8, rfc__min_samples_split=2, rfc__n_estimators=300;, score=0.926 total time=   1.6s\n",
      "[CV 2/3; 159/216] START chi2select__percentile=75, rfc__bootstrap=True, rfc__max_depth=20, rfc__max_samples=0.8, rfc__min_samples_split=2, rfc__n_estimators=300\n",
      "[CV 2/3; 159/216] END chi2select__percentile=75, rfc__bootstrap=True, rfc__max_depth=20, rfc__max_samples=0.8, rfc__min_samples_split=2, rfc__n_estimators=300;, score=0.922 total time=   1.5s\n",
      "[CV 3/3; 159/216] START chi2select__percentile=75, rfc__bootstrap=True, rfc__max_depth=20, rfc__max_samples=0.8, rfc__min_samples_split=2, rfc__n_estimators=300\n",
      "[CV 3/3; 159/216] END chi2select__percentile=75, rfc__bootstrap=True, rfc__max_depth=20, rfc__max_samples=0.8, rfc__min_samples_split=2, rfc__n_estimators=300;, score=0.926 total time=   1.5s\n",
      "[CV 1/3; 160/216] START chi2select__percentile=75, rfc__bootstrap=True, rfc__max_depth=20, rfc__max_samples=0.8, rfc__min_samples_split=4, rfc__n_estimators=50\n"
     ]
    },
    {
     "name": "stdout",
     "output_type": "stream",
     "text": [
      "[CV 1/3; 160/216] END chi2select__percentile=75, rfc__bootstrap=True, rfc__max_depth=20, rfc__max_samples=0.8, rfc__min_samples_split=4, rfc__n_estimators=50;, score=0.921 total time=   0.3s\n",
      "[CV 2/3; 160/216] START chi2select__percentile=75, rfc__bootstrap=True, rfc__max_depth=20, rfc__max_samples=0.8, rfc__min_samples_split=4, rfc__n_estimators=50\n",
      "[CV 2/3; 160/216] END chi2select__percentile=75, rfc__bootstrap=True, rfc__max_depth=20, rfc__max_samples=0.8, rfc__min_samples_split=4, rfc__n_estimators=50;, score=0.911 total time=   0.3s\n",
      "[CV 3/3; 160/216] START chi2select__percentile=75, rfc__bootstrap=True, rfc__max_depth=20, rfc__max_samples=0.8, rfc__min_samples_split=4, rfc__n_estimators=50\n",
      "[CV 3/3; 160/216] END chi2select__percentile=75, rfc__bootstrap=True, rfc__max_depth=20, rfc__max_samples=0.8, rfc__min_samples_split=4, rfc__n_estimators=50;, score=0.926 total time=   0.3s\n",
      "[CV 1/3; 161/216] START chi2select__percentile=75, rfc__bootstrap=True, rfc__max_depth=20, rfc__max_samples=0.8, rfc__min_samples_split=4, rfc__n_estimators=100\n",
      "[CV 1/3; 161/216] END chi2select__percentile=75, rfc__bootstrap=True, rfc__max_depth=20, rfc__max_samples=0.8, rfc__min_samples_split=4, rfc__n_estimators=100;, score=0.921 total time=   0.5s\n",
      "[CV 2/3; 161/216] START chi2select__percentile=75, rfc__bootstrap=True, rfc__max_depth=20, rfc__max_samples=0.8, rfc__min_samples_split=4, rfc__n_estimators=100\n",
      "[CV 2/3; 161/216] END chi2select__percentile=75, rfc__bootstrap=True, rfc__max_depth=20, rfc__max_samples=0.8, rfc__min_samples_split=4, rfc__n_estimators=100;, score=0.918 total time=   0.5s\n",
      "[CV 3/3; 161/216] START chi2select__percentile=75, rfc__bootstrap=True, rfc__max_depth=20, rfc__max_samples=0.8, rfc__min_samples_split=4, rfc__n_estimators=100\n",
      "[CV 3/3; 161/216] END chi2select__percentile=75, rfc__bootstrap=True, rfc__max_depth=20, rfc__max_samples=0.8, rfc__min_samples_split=4, rfc__n_estimators=100;, score=0.924 total time=   0.5s\n",
      "[CV 1/3; 162/216] START chi2select__percentile=75, rfc__bootstrap=True, rfc__max_depth=20, rfc__max_samples=0.8, rfc__min_samples_split=4, rfc__n_estimators=300\n",
      "[CV 1/3; 162/216] END chi2select__percentile=75, rfc__bootstrap=True, rfc__max_depth=20, rfc__max_samples=0.8, rfc__min_samples_split=4, rfc__n_estimators=300;, score=0.922 total time=   1.6s\n",
      "[CV 2/3; 162/216] START chi2select__percentile=75, rfc__bootstrap=True, rfc__max_depth=20, rfc__max_samples=0.8, rfc__min_samples_split=4, rfc__n_estimators=300\n",
      "[CV 2/3; 162/216] END chi2select__percentile=75, rfc__bootstrap=True, rfc__max_depth=20, rfc__max_samples=0.8, rfc__min_samples_split=4, rfc__n_estimators=300;, score=0.918 total time=   1.5s\n",
      "[CV 3/3; 162/216] START chi2select__percentile=75, rfc__bootstrap=True, rfc__max_depth=20, rfc__max_samples=0.8, rfc__min_samples_split=4, rfc__n_estimators=300\n",
      "[CV 3/3; 162/216] END chi2select__percentile=75, rfc__bootstrap=True, rfc__max_depth=20, rfc__max_samples=0.8, rfc__min_samples_split=4, rfc__n_estimators=300;, score=0.930 total time=   1.5s\n",
      "[CV 1/3; 163/216] START chi2select__percentile=75, rfc__bootstrap=True, rfc__max_depth=20, rfc__max_samples=None, rfc__min_samples_split=2, rfc__n_estimators=50\n",
      "[CV 1/3; 163/216] END chi2select__percentile=75, rfc__bootstrap=True, rfc__max_depth=20, rfc__max_samples=None, rfc__min_samples_split=2, rfc__n_estimators=50;, score=0.924 total time=   0.3s\n",
      "[CV 2/3; 163/216] START chi2select__percentile=75, rfc__bootstrap=True, rfc__max_depth=20, rfc__max_samples=None, rfc__min_samples_split=2, rfc__n_estimators=50\n",
      "[CV 2/3; 163/216] END chi2select__percentile=75, rfc__bootstrap=True, rfc__max_depth=20, rfc__max_samples=None, rfc__min_samples_split=2, rfc__n_estimators=50;, score=0.931 total time=   0.3s\n",
      "[CV 3/3; 163/216] START chi2select__percentile=75, rfc__bootstrap=True, rfc__max_depth=20, rfc__max_samples=None, rfc__min_samples_split=2, rfc__n_estimators=50\n",
      "[CV 3/3; 163/216] END chi2select__percentile=75, rfc__bootstrap=True, rfc__max_depth=20, rfc__max_samples=None, rfc__min_samples_split=2, rfc__n_estimators=50;, score=0.941 total time=   0.3s\n",
      "[CV 1/3; 164/216] START chi2select__percentile=75, rfc__bootstrap=True, rfc__max_depth=20, rfc__max_samples=None, rfc__min_samples_split=2, rfc__n_estimators=100\n",
      "[CV 1/3; 164/216] END chi2select__percentile=75, rfc__bootstrap=True, rfc__max_depth=20, rfc__max_samples=None, rfc__min_samples_split=2, rfc__n_estimators=100;, score=0.940 total time=   0.6s\n",
      "[CV 2/3; 164/216] START chi2select__percentile=75, rfc__bootstrap=True, rfc__max_depth=20, rfc__max_samples=None, rfc__min_samples_split=2, rfc__n_estimators=100\n",
      "[CV 2/3; 164/216] END chi2select__percentile=75, rfc__bootstrap=True, rfc__max_depth=20, rfc__max_samples=None, rfc__min_samples_split=2, rfc__n_estimators=100;, score=0.945 total time=   0.6s\n",
      "[CV 3/3; 164/216] START chi2select__percentile=75, rfc__bootstrap=True, rfc__max_depth=20, rfc__max_samples=None, rfc__min_samples_split=2, rfc__n_estimators=100\n",
      "[CV 3/3; 164/216] END chi2select__percentile=75, rfc__bootstrap=True, rfc__max_depth=20, rfc__max_samples=None, rfc__min_samples_split=2, rfc__n_estimators=100;, score=0.928 total time=   0.6s\n",
      "[CV 1/3; 165/216] START chi2select__percentile=75, rfc__bootstrap=True, rfc__max_depth=20, rfc__max_samples=None, rfc__min_samples_split=2, rfc__n_estimators=300\n",
      "[CV 1/3; 165/216] END chi2select__percentile=75, rfc__bootstrap=True, rfc__max_depth=20, rfc__max_samples=None, rfc__min_samples_split=2, rfc__n_estimators=300;, score=0.944 total time=   1.8s\n",
      "[CV 2/3; 165/216] START chi2select__percentile=75, rfc__bootstrap=True, rfc__max_depth=20, rfc__max_samples=None, rfc__min_samples_split=2, rfc__n_estimators=300\n",
      "[CV 2/3; 165/216] END chi2select__percentile=75, rfc__bootstrap=True, rfc__max_depth=20, rfc__max_samples=None, rfc__min_samples_split=2, rfc__n_estimators=300;, score=0.935 total time=   1.7s\n",
      "[CV 3/3; 165/216] START chi2select__percentile=75, rfc__bootstrap=True, rfc__max_depth=20, rfc__max_samples=None, rfc__min_samples_split=2, rfc__n_estimators=300\n",
      "[CV 3/3; 165/216] END chi2select__percentile=75, rfc__bootstrap=True, rfc__max_depth=20, rfc__max_samples=None, rfc__min_samples_split=2, rfc__n_estimators=300;, score=0.947 total time=   1.7s\n",
      "[CV 1/3; 166/216] START chi2select__percentile=75, rfc__bootstrap=True, rfc__max_depth=20, rfc__max_samples=None, rfc__min_samples_split=4, rfc__n_estimators=50\n",
      "[CV 1/3; 166/216] END chi2select__percentile=75, rfc__bootstrap=True, rfc__max_depth=20, rfc__max_samples=None, rfc__min_samples_split=4, rfc__n_estimators=50;, score=0.932 total time=   0.3s\n",
      "[CV 2/3; 166/216] START chi2select__percentile=75, rfc__bootstrap=True, rfc__max_depth=20, rfc__max_samples=None, rfc__min_samples_split=4, rfc__n_estimators=50\n",
      "[CV 2/3; 166/216] END chi2select__percentile=75, rfc__bootstrap=True, rfc__max_depth=20, rfc__max_samples=None, rfc__min_samples_split=4, rfc__n_estimators=50;, score=0.931 total time=   0.3s\n",
      "[CV 3/3; 166/216] START chi2select__percentile=75, rfc__bootstrap=True, rfc__max_depth=20, rfc__max_samples=None, rfc__min_samples_split=4, rfc__n_estimators=50\n",
      "[CV 3/3; 166/216] END chi2select__percentile=75, rfc__bootstrap=True, rfc__max_depth=20, rfc__max_samples=None, rfc__min_samples_split=4, rfc__n_estimators=50;, score=0.928 total time=   0.3s\n",
      "[CV 1/3; 167/216] START chi2select__percentile=75, rfc__bootstrap=True, rfc__max_depth=20, rfc__max_samples=None, rfc__min_samples_split=4, rfc__n_estimators=100\n",
      "[CV 1/3; 167/216] END chi2select__percentile=75, rfc__bootstrap=True, rfc__max_depth=20, rfc__max_samples=None, rfc__min_samples_split=4, rfc__n_estimators=100;, score=0.934 total time=   0.6s\n",
      "[CV 2/3; 167/216] START chi2select__percentile=75, rfc__bootstrap=True, rfc__max_depth=20, rfc__max_samples=None, rfc__min_samples_split=4, rfc__n_estimators=100\n",
      "[CV 2/3; 167/216] END chi2select__percentile=75, rfc__bootstrap=True, rfc__max_depth=20, rfc__max_samples=None, rfc__min_samples_split=4, rfc__n_estimators=100;, score=0.928 total time=   0.6s\n",
      "[CV 3/3; 167/216] START chi2select__percentile=75, rfc__bootstrap=True, rfc__max_depth=20, rfc__max_samples=None, rfc__min_samples_split=4, rfc__n_estimators=100\n",
      "[CV 3/3; 167/216] END chi2select__percentile=75, rfc__bootstrap=True, rfc__max_depth=20, rfc__max_samples=None, rfc__min_samples_split=4, rfc__n_estimators=100;, score=0.941 total time=   0.6s\n",
      "[CV 1/3; 168/216] START chi2select__percentile=75, rfc__bootstrap=True, rfc__max_depth=20, rfc__max_samples=None, rfc__min_samples_split=4, rfc__n_estimators=300\n"
     ]
    },
    {
     "name": "stdout",
     "output_type": "stream",
     "text": [
      "[CV 1/3; 168/216] END chi2select__percentile=75, rfc__bootstrap=True, rfc__max_depth=20, rfc__max_samples=None, rfc__min_samples_split=4, rfc__n_estimators=300;, score=0.944 total time=   1.8s\n",
      "[CV 2/3; 168/216] START chi2select__percentile=75, rfc__bootstrap=True, rfc__max_depth=20, rfc__max_samples=None, rfc__min_samples_split=4, rfc__n_estimators=300\n",
      "[CV 2/3; 168/216] END chi2select__percentile=75, rfc__bootstrap=True, rfc__max_depth=20, rfc__max_samples=None, rfc__min_samples_split=4, rfc__n_estimators=300;, score=0.939 total time=   1.7s\n",
      "[CV 3/3; 168/216] START chi2select__percentile=75, rfc__bootstrap=True, rfc__max_depth=20, rfc__max_samples=None, rfc__min_samples_split=4, rfc__n_estimators=300\n",
      "[CV 3/3; 168/216] END chi2select__percentile=75, rfc__bootstrap=True, rfc__max_depth=20, rfc__max_samples=None, rfc__min_samples_split=4, rfc__n_estimators=300;, score=0.943 total time=   1.7s\n",
      "[CV 1/3; 169/216] START chi2select__percentile=75, rfc__bootstrap=True, rfc__max_depth=None, rfc__max_samples=0.8, rfc__min_samples_split=2, rfc__n_estimators=50\n",
      "[CV 1/3; 169/216] END chi2select__percentile=75, rfc__bootstrap=True, rfc__max_depth=None, rfc__max_samples=0.8, rfc__min_samples_split=2, rfc__n_estimators=50;, score=0.909 total time=   0.3s\n",
      "[CV 2/3; 169/216] START chi2select__percentile=75, rfc__bootstrap=True, rfc__max_depth=None, rfc__max_samples=0.8, rfc__min_samples_split=2, rfc__n_estimators=50\n",
      "[CV 2/3; 169/216] END chi2select__percentile=75, rfc__bootstrap=True, rfc__max_depth=None, rfc__max_samples=0.8, rfc__min_samples_split=2, rfc__n_estimators=50;, score=0.917 total time=   0.3s\n",
      "[CV 3/3; 169/216] START chi2select__percentile=75, rfc__bootstrap=True, rfc__max_depth=None, rfc__max_samples=0.8, rfc__min_samples_split=2, rfc__n_estimators=50\n",
      "[CV 3/3; 169/216] END chi2select__percentile=75, rfc__bootstrap=True, rfc__max_depth=None, rfc__max_samples=0.8, rfc__min_samples_split=2, rfc__n_estimators=50;, score=0.926 total time=   0.3s\n",
      "[CV 1/3; 170/216] START chi2select__percentile=75, rfc__bootstrap=True, rfc__max_depth=None, rfc__max_samples=0.8, rfc__min_samples_split=2, rfc__n_estimators=100\n",
      "[CV 1/3; 170/216] END chi2select__percentile=75, rfc__bootstrap=True, rfc__max_depth=None, rfc__max_samples=0.8, rfc__min_samples_split=2, rfc__n_estimators=100;, score=0.932 total time=   0.5s\n",
      "[CV 2/3; 170/216] START chi2select__percentile=75, rfc__bootstrap=True, rfc__max_depth=None, rfc__max_samples=0.8, rfc__min_samples_split=2, rfc__n_estimators=100\n",
      "[CV 2/3; 170/216] END chi2select__percentile=75, rfc__bootstrap=True, rfc__max_depth=None, rfc__max_samples=0.8, rfc__min_samples_split=2, rfc__n_estimators=100;, score=0.935 total time=   0.5s\n",
      "[CV 3/3; 170/216] START chi2select__percentile=75, rfc__bootstrap=True, rfc__max_depth=None, rfc__max_samples=0.8, rfc__min_samples_split=2, rfc__n_estimators=100\n",
      "[CV 3/3; 170/216] END chi2select__percentile=75, rfc__bootstrap=True, rfc__max_depth=None, rfc__max_samples=0.8, rfc__min_samples_split=2, rfc__n_estimators=100;, score=0.930 total time=   0.5s\n",
      "[CV 1/3; 171/216] START chi2select__percentile=75, rfc__bootstrap=True, rfc__max_depth=None, rfc__max_samples=0.8, rfc__min_samples_split=2, rfc__n_estimators=300\n",
      "[CV 1/3; 171/216] END chi2select__percentile=75, rfc__bootstrap=True, rfc__max_depth=None, rfc__max_samples=0.8, rfc__min_samples_split=2, rfc__n_estimators=300;, score=0.926 total time=   1.6s\n",
      "[CV 2/3; 171/216] START chi2select__percentile=75, rfc__bootstrap=True, rfc__max_depth=None, rfc__max_samples=0.8, rfc__min_samples_split=2, rfc__n_estimators=300\n",
      "[CV 2/3; 171/216] END chi2select__percentile=75, rfc__bootstrap=True, rfc__max_depth=None, rfc__max_samples=0.8, rfc__min_samples_split=2, rfc__n_estimators=300;, score=0.926 total time=   1.5s\n",
      "[CV 3/3; 171/216] START chi2select__percentile=75, rfc__bootstrap=True, rfc__max_depth=None, rfc__max_samples=0.8, rfc__min_samples_split=2, rfc__n_estimators=300\n",
      "[CV 3/3; 171/216] END chi2select__percentile=75, rfc__bootstrap=True, rfc__max_depth=None, rfc__max_samples=0.8, rfc__min_samples_split=2, rfc__n_estimators=300;, score=0.931 total time=   1.5s\n",
      "[CV 1/3; 172/216] START chi2select__percentile=75, rfc__bootstrap=True, rfc__max_depth=None, rfc__max_samples=0.8, rfc__min_samples_split=4, rfc__n_estimators=50\n",
      "[CV 1/3; 172/216] END chi2select__percentile=75, rfc__bootstrap=True, rfc__max_depth=None, rfc__max_samples=0.8, rfc__min_samples_split=4, rfc__n_estimators=50;, score=0.922 total time=   0.3s\n",
      "[CV 2/3; 172/216] START chi2select__percentile=75, rfc__bootstrap=True, rfc__max_depth=None, rfc__max_samples=0.8, rfc__min_samples_split=4, rfc__n_estimators=50\n",
      "[CV 2/3; 172/216] END chi2select__percentile=75, rfc__bootstrap=True, rfc__max_depth=None, rfc__max_samples=0.8, rfc__min_samples_split=4, rfc__n_estimators=50;, score=0.898 total time=   0.3s\n",
      "[CV 3/3; 172/216] START chi2select__percentile=75, rfc__bootstrap=True, rfc__max_depth=None, rfc__max_samples=0.8, rfc__min_samples_split=4, rfc__n_estimators=50\n",
      "[CV 3/3; 172/216] END chi2select__percentile=75, rfc__bootstrap=True, rfc__max_depth=None, rfc__max_samples=0.8, rfc__min_samples_split=4, rfc__n_estimators=50;, score=0.917 total time=   0.3s\n",
      "[CV 1/3; 173/216] START chi2select__percentile=75, rfc__bootstrap=True, rfc__max_depth=None, rfc__max_samples=0.8, rfc__min_samples_split=4, rfc__n_estimators=100\n",
      "[CV 1/3; 173/216] END chi2select__percentile=75, rfc__bootstrap=True, rfc__max_depth=None, rfc__max_samples=0.8, rfc__min_samples_split=4, rfc__n_estimators=100;, score=0.915 total time=   0.5s\n",
      "[CV 2/3; 173/216] START chi2select__percentile=75, rfc__bootstrap=True, rfc__max_depth=None, rfc__max_samples=0.8, rfc__min_samples_split=4, rfc__n_estimators=100\n",
      "[CV 2/3; 173/216] END chi2select__percentile=75, rfc__bootstrap=True, rfc__max_depth=None, rfc__max_samples=0.8, rfc__min_samples_split=4, rfc__n_estimators=100;, score=0.918 total time=   0.5s\n",
      "[CV 3/3; 173/216] START chi2select__percentile=75, rfc__bootstrap=True, rfc__max_depth=None, rfc__max_samples=0.8, rfc__min_samples_split=4, rfc__n_estimators=100\n",
      "[CV 3/3; 173/216] END chi2select__percentile=75, rfc__bootstrap=True, rfc__max_depth=None, rfc__max_samples=0.8, rfc__min_samples_split=4, rfc__n_estimators=100;, score=0.920 total time=   0.5s\n",
      "[CV 1/3; 174/216] START chi2select__percentile=75, rfc__bootstrap=True, rfc__max_depth=None, rfc__max_samples=0.8, rfc__min_samples_split=4, rfc__n_estimators=300\n",
      "[CV 1/3; 174/216] END chi2select__percentile=75, rfc__bootstrap=True, rfc__max_depth=None, rfc__max_samples=0.8, rfc__min_samples_split=4, rfc__n_estimators=300;, score=0.927 total time=   1.6s\n",
      "[CV 2/3; 174/216] START chi2select__percentile=75, rfc__bootstrap=True, rfc__max_depth=None, rfc__max_samples=0.8, rfc__min_samples_split=4, rfc__n_estimators=300\n",
      "[CV 2/3; 174/216] END chi2select__percentile=75, rfc__bootstrap=True, rfc__max_depth=None, rfc__max_samples=0.8, rfc__min_samples_split=4, rfc__n_estimators=300;, score=0.928 total time=   1.5s\n",
      "[CV 3/3; 174/216] START chi2select__percentile=75, rfc__bootstrap=True, rfc__max_depth=None, rfc__max_samples=0.8, rfc__min_samples_split=4, rfc__n_estimators=300\n",
      "[CV 3/3; 174/216] END chi2select__percentile=75, rfc__bootstrap=True, rfc__max_depth=None, rfc__max_samples=0.8, rfc__min_samples_split=4, rfc__n_estimators=300;, score=0.928 total time=   1.5s\n",
      "[CV 1/3; 175/216] START chi2select__percentile=75, rfc__bootstrap=True, rfc__max_depth=None, rfc__max_samples=None, rfc__min_samples_split=2, rfc__n_estimators=50\n",
      "[CV 1/3; 175/216] END chi2select__percentile=75, rfc__bootstrap=True, rfc__max_depth=None, rfc__max_samples=None, rfc__min_samples_split=2, rfc__n_estimators=50;, score=0.924 total time=   0.3s\n",
      "[CV 2/3; 175/216] START chi2select__percentile=75, rfc__bootstrap=True, rfc__max_depth=None, rfc__max_samples=None, rfc__min_samples_split=2, rfc__n_estimators=50\n",
      "[CV 2/3; 175/216] END chi2select__percentile=75, rfc__bootstrap=True, rfc__max_depth=None, rfc__max_samples=None, rfc__min_samples_split=2, rfc__n_estimators=50;, score=0.941 total time=   0.3s\n",
      "[CV 3/3; 175/216] START chi2select__percentile=75, rfc__bootstrap=True, rfc__max_depth=None, rfc__max_samples=None, rfc__min_samples_split=2, rfc__n_estimators=50\n"
     ]
    },
    {
     "name": "stdout",
     "output_type": "stream",
     "text": [
      "[CV 3/3; 175/216] END chi2select__percentile=75, rfc__bootstrap=True, rfc__max_depth=None, rfc__max_samples=None, rfc__min_samples_split=2, rfc__n_estimators=50;, score=0.935 total time=   0.3s\n",
      "[CV 1/3; 176/216] START chi2select__percentile=75, rfc__bootstrap=True, rfc__max_depth=None, rfc__max_samples=None, rfc__min_samples_split=2, rfc__n_estimators=100\n",
      "[CV 1/3; 176/216] END chi2select__percentile=75, rfc__bootstrap=True, rfc__max_depth=None, rfc__max_samples=None, rfc__min_samples_split=2, rfc__n_estimators=100;, score=0.942 total time=   0.6s\n",
      "[CV 2/3; 176/216] START chi2select__percentile=75, rfc__bootstrap=True, rfc__max_depth=None, rfc__max_samples=None, rfc__min_samples_split=2, rfc__n_estimators=100\n",
      "[CV 2/3; 176/216] END chi2select__percentile=75, rfc__bootstrap=True, rfc__max_depth=None, rfc__max_samples=None, rfc__min_samples_split=2, rfc__n_estimators=100;, score=0.933 total time=   0.6s\n",
      "[CV 3/3; 176/216] START chi2select__percentile=75, rfc__bootstrap=True, rfc__max_depth=None, rfc__max_samples=None, rfc__min_samples_split=2, rfc__n_estimators=100\n",
      "[CV 3/3; 176/216] END chi2select__percentile=75, rfc__bootstrap=True, rfc__max_depth=None, rfc__max_samples=None, rfc__min_samples_split=2, rfc__n_estimators=100;, score=0.928 total time=   0.6s\n",
      "[CV 1/3; 177/216] START chi2select__percentile=75, rfc__bootstrap=True, rfc__max_depth=None, rfc__max_samples=None, rfc__min_samples_split=2, rfc__n_estimators=300\n",
      "[CV 1/3; 177/216] END chi2select__percentile=75, rfc__bootstrap=True, rfc__max_depth=None, rfc__max_samples=None, rfc__min_samples_split=2, rfc__n_estimators=300;, score=0.948 total time=   1.7s\n",
      "[CV 2/3; 177/216] START chi2select__percentile=75, rfc__bootstrap=True, rfc__max_depth=None, rfc__max_samples=None, rfc__min_samples_split=2, rfc__n_estimators=300\n",
      "[CV 2/3; 177/216] END chi2select__percentile=75, rfc__bootstrap=True, rfc__max_depth=None, rfc__max_samples=None, rfc__min_samples_split=2, rfc__n_estimators=300;, score=0.943 total time=   1.8s\n",
      "[CV 3/3; 177/216] START chi2select__percentile=75, rfc__bootstrap=True, rfc__max_depth=None, rfc__max_samples=None, rfc__min_samples_split=2, rfc__n_estimators=300\n",
      "[CV 3/3; 177/216] END chi2select__percentile=75, rfc__bootstrap=True, rfc__max_depth=None, rfc__max_samples=None, rfc__min_samples_split=2, rfc__n_estimators=300;, score=0.939 total time=   1.7s\n",
      "[CV 1/3; 178/216] START chi2select__percentile=75, rfc__bootstrap=True, rfc__max_depth=None, rfc__max_samples=None, rfc__min_samples_split=4, rfc__n_estimators=50\n",
      "[CV 1/3; 178/216] END chi2select__percentile=75, rfc__bootstrap=True, rfc__max_depth=None, rfc__max_samples=None, rfc__min_samples_split=4, rfc__n_estimators=50;, score=0.928 total time=   0.3s\n",
      "[CV 2/3; 178/216] START chi2select__percentile=75, rfc__bootstrap=True, rfc__max_depth=None, rfc__max_samples=None, rfc__min_samples_split=4, rfc__n_estimators=50\n",
      "[CV 2/3; 178/216] END chi2select__percentile=75, rfc__bootstrap=True, rfc__max_depth=None, rfc__max_samples=None, rfc__min_samples_split=4, rfc__n_estimators=50;, score=0.937 total time=   0.3s\n",
      "[CV 3/3; 178/216] START chi2select__percentile=75, rfc__bootstrap=True, rfc__max_depth=None, rfc__max_samples=None, rfc__min_samples_split=4, rfc__n_estimators=50\n",
      "[CV 3/3; 178/216] END chi2select__percentile=75, rfc__bootstrap=True, rfc__max_depth=None, rfc__max_samples=None, rfc__min_samples_split=4, rfc__n_estimators=50;, score=0.926 total time=   0.3s\n",
      "[CV 1/3; 179/216] START chi2select__percentile=75, rfc__bootstrap=True, rfc__max_depth=None, rfc__max_samples=None, rfc__min_samples_split=4, rfc__n_estimators=100\n",
      "[CV 1/3; 179/216] END chi2select__percentile=75, rfc__bootstrap=True, rfc__max_depth=None, rfc__max_samples=None, rfc__min_samples_split=4, rfc__n_estimators=100;, score=0.944 total time=   0.6s\n",
      "[CV 2/3; 179/216] START chi2select__percentile=75, rfc__bootstrap=True, rfc__max_depth=None, rfc__max_samples=None, rfc__min_samples_split=4, rfc__n_estimators=100\n",
      "[CV 2/3; 179/216] END chi2select__percentile=75, rfc__bootstrap=True, rfc__max_depth=None, rfc__max_samples=None, rfc__min_samples_split=4, rfc__n_estimators=100;, score=0.931 total time=   0.6s\n",
      "[CV 3/3; 179/216] START chi2select__percentile=75, rfc__bootstrap=True, rfc__max_depth=None, rfc__max_samples=None, rfc__min_samples_split=4, rfc__n_estimators=100\n",
      "[CV 3/3; 179/216] END chi2select__percentile=75, rfc__bootstrap=True, rfc__max_depth=None, rfc__max_samples=None, rfc__min_samples_split=4, rfc__n_estimators=100;, score=0.945 total time=   0.6s\n",
      "[CV 1/3; 180/216] START chi2select__percentile=75, rfc__bootstrap=True, rfc__max_depth=None, rfc__max_samples=None, rfc__min_samples_split=4, rfc__n_estimators=300\n",
      "[CV 1/3; 180/216] END chi2select__percentile=75, rfc__bootstrap=True, rfc__max_depth=None, rfc__max_samples=None, rfc__min_samples_split=4, rfc__n_estimators=300;, score=0.938 total time=   1.8s\n",
      "[CV 2/3; 180/216] START chi2select__percentile=75, rfc__bootstrap=True, rfc__max_depth=None, rfc__max_samples=None, rfc__min_samples_split=4, rfc__n_estimators=300\n",
      "[CV 2/3; 180/216] END chi2select__percentile=75, rfc__bootstrap=True, rfc__max_depth=None, rfc__max_samples=None, rfc__min_samples_split=4, rfc__n_estimators=300;, score=0.935 total time=   1.7s\n",
      "[CV 3/3; 180/216] START chi2select__percentile=75, rfc__bootstrap=True, rfc__max_depth=None, rfc__max_samples=None, rfc__min_samples_split=4, rfc__n_estimators=300\n",
      "[CV 3/3; 180/216] END chi2select__percentile=75, rfc__bootstrap=True, rfc__max_depth=None, rfc__max_samples=None, rfc__min_samples_split=4, rfc__n_estimators=300;, score=0.931 total time=   1.7s\n",
      "[CV 1/3; 181/216] START chi2select__percentile=75, rfc__bootstrap=False, rfc__max_depth=10, rfc__max_samples=0.8, rfc__min_samples_split=2, rfc__n_estimators=50\n",
      "[CV 1/3; 181/216] END chi2select__percentile=75, rfc__bootstrap=False, rfc__max_depth=10, rfc__max_samples=0.8, rfc__min_samples_split=2, rfc__n_estimators=50;, score=0.822 total time=   0.3s\n",
      "[CV 2/3; 181/216] START chi2select__percentile=75, rfc__bootstrap=False, rfc__max_depth=10, rfc__max_samples=0.8, rfc__min_samples_split=2, rfc__n_estimators=50\n",
      "[CV 2/3; 181/216] END chi2select__percentile=75, rfc__bootstrap=False, rfc__max_depth=10, rfc__max_samples=0.8, rfc__min_samples_split=2, rfc__n_estimators=50;, score=0.849 total time=   0.3s\n",
      "[CV 3/3; 181/216] START chi2select__percentile=75, rfc__bootstrap=False, rfc__max_depth=10, rfc__max_samples=0.8, rfc__min_samples_split=2, rfc__n_estimators=50\n",
      "[CV 3/3; 181/216] END chi2select__percentile=75, rfc__bootstrap=False, rfc__max_depth=10, rfc__max_samples=0.8, rfc__min_samples_split=2, rfc__n_estimators=50;, score=0.848 total time=   0.3s\n",
      "[CV 1/3; 182/216] START chi2select__percentile=75, rfc__bootstrap=False, rfc__max_depth=10, rfc__max_samples=0.8, rfc__min_samples_split=2, rfc__n_estimators=100\n",
      "[CV 1/3; 182/216] END chi2select__percentile=75, rfc__bootstrap=False, rfc__max_depth=10, rfc__max_samples=0.8, rfc__min_samples_split=2, rfc__n_estimators=100;, score=0.822 total time=   0.7s\n",
      "[CV 2/3; 182/216] START chi2select__percentile=75, rfc__bootstrap=False, rfc__max_depth=10, rfc__max_samples=0.8, rfc__min_samples_split=2, rfc__n_estimators=100\n",
      "[CV 2/3; 182/216] END chi2select__percentile=75, rfc__bootstrap=False, rfc__max_depth=10, rfc__max_samples=0.8, rfc__min_samples_split=2, rfc__n_estimators=100;, score=0.853 total time=   0.7s\n",
      "[CV 3/3; 182/216] START chi2select__percentile=75, rfc__bootstrap=False, rfc__max_depth=10, rfc__max_samples=0.8, rfc__min_samples_split=2, rfc__n_estimators=100\n",
      "[CV 3/3; 182/216] END chi2select__percentile=75, rfc__bootstrap=False, rfc__max_depth=10, rfc__max_samples=0.8, rfc__min_samples_split=2, rfc__n_estimators=100;, score=0.861 total time=   0.7s\n",
      "[CV 1/3; 183/216] START chi2select__percentile=75, rfc__bootstrap=False, rfc__max_depth=10, rfc__max_samples=0.8, rfc__min_samples_split=2, rfc__n_estimators=300\n",
      "[CV 1/3; 183/216] END chi2select__percentile=75, rfc__bootstrap=False, rfc__max_depth=10, rfc__max_samples=0.8, rfc__min_samples_split=2, rfc__n_estimators=300;, score=0.828 total time=   1.9s\n",
      "[CV 2/3; 183/216] START chi2select__percentile=75, rfc__bootstrap=False, rfc__max_depth=10, rfc__max_samples=0.8, rfc__min_samples_split=2, rfc__n_estimators=300\n"
     ]
    },
    {
     "name": "stdout",
     "output_type": "stream",
     "text": [
      "[CV 2/3; 183/216] END chi2select__percentile=75, rfc__bootstrap=False, rfc__max_depth=10, rfc__max_samples=0.8, rfc__min_samples_split=2, rfc__n_estimators=300;, score=0.855 total time=   1.9s\n",
      "[CV 3/3; 183/216] START chi2select__percentile=75, rfc__bootstrap=False, rfc__max_depth=10, rfc__max_samples=0.8, rfc__min_samples_split=2, rfc__n_estimators=300\n",
      "[CV 3/3; 183/216] END chi2select__percentile=75, rfc__bootstrap=False, rfc__max_depth=10, rfc__max_samples=0.8, rfc__min_samples_split=2, rfc__n_estimators=300;, score=0.852 total time=   2.0s\n",
      "[CV 1/3; 184/216] START chi2select__percentile=75, rfc__bootstrap=False, rfc__max_depth=10, rfc__max_samples=0.8, rfc__min_samples_split=4, rfc__n_estimators=50\n",
      "[CV 1/3; 184/216] END chi2select__percentile=75, rfc__bootstrap=False, rfc__max_depth=10, rfc__max_samples=0.8, rfc__min_samples_split=4, rfc__n_estimators=50;, score=0.836 total time=   0.3s\n",
      "[CV 2/3; 184/216] START chi2select__percentile=75, rfc__bootstrap=False, rfc__max_depth=10, rfc__max_samples=0.8, rfc__min_samples_split=4, rfc__n_estimators=50\n",
      "[CV 2/3; 184/216] END chi2select__percentile=75, rfc__bootstrap=False, rfc__max_depth=10, rfc__max_samples=0.8, rfc__min_samples_split=4, rfc__n_estimators=50;, score=0.843 total time=   0.3s\n",
      "[CV 3/3; 184/216] START chi2select__percentile=75, rfc__bootstrap=False, rfc__max_depth=10, rfc__max_samples=0.8, rfc__min_samples_split=4, rfc__n_estimators=50\n",
      "[CV 3/3; 184/216] END chi2select__percentile=75, rfc__bootstrap=False, rfc__max_depth=10, rfc__max_samples=0.8, rfc__min_samples_split=4, rfc__n_estimators=50;, score=0.875 total time=   0.3s\n",
      "[CV 1/3; 185/216] START chi2select__percentile=75, rfc__bootstrap=False, rfc__max_depth=10, rfc__max_samples=0.8, rfc__min_samples_split=4, rfc__n_estimators=100\n",
      "[CV 1/3; 185/216] END chi2select__percentile=75, rfc__bootstrap=False, rfc__max_depth=10, rfc__max_samples=0.8, rfc__min_samples_split=4, rfc__n_estimators=100;, score=0.822 total time=   0.7s\n",
      "[CV 2/3; 185/216] START chi2select__percentile=75, rfc__bootstrap=False, rfc__max_depth=10, rfc__max_samples=0.8, rfc__min_samples_split=4, rfc__n_estimators=100\n",
      "[CV 2/3; 185/216] END chi2select__percentile=75, rfc__bootstrap=False, rfc__max_depth=10, rfc__max_samples=0.8, rfc__min_samples_split=4, rfc__n_estimators=100;, score=0.852 total time=   0.7s\n",
      "[CV 3/3; 185/216] START chi2select__percentile=75, rfc__bootstrap=False, rfc__max_depth=10, rfc__max_samples=0.8, rfc__min_samples_split=4, rfc__n_estimators=100\n",
      "[CV 3/3; 185/216] END chi2select__percentile=75, rfc__bootstrap=False, rfc__max_depth=10, rfc__max_samples=0.8, rfc__min_samples_split=4, rfc__n_estimators=100;, score=0.862 total time=   0.7s\n",
      "[CV 1/3; 186/216] START chi2select__percentile=75, rfc__bootstrap=False, rfc__max_depth=10, rfc__max_samples=0.8, rfc__min_samples_split=4, rfc__n_estimators=300\n",
      "[CV 1/3; 186/216] END chi2select__percentile=75, rfc__bootstrap=False, rfc__max_depth=10, rfc__max_samples=0.8, rfc__min_samples_split=4, rfc__n_estimators=300;, score=0.827 total time=   2.1s\n",
      "[CV 2/3; 186/216] START chi2select__percentile=75, rfc__bootstrap=False, rfc__max_depth=10, rfc__max_samples=0.8, rfc__min_samples_split=4, rfc__n_estimators=300\n",
      "[CV 2/3; 186/216] END chi2select__percentile=75, rfc__bootstrap=False, rfc__max_depth=10, rfc__max_samples=0.8, rfc__min_samples_split=4, rfc__n_estimators=300;, score=0.854 total time=   2.0s\n",
      "[CV 3/3; 186/216] START chi2select__percentile=75, rfc__bootstrap=False, rfc__max_depth=10, rfc__max_samples=0.8, rfc__min_samples_split=4, rfc__n_estimators=300\n",
      "[CV 3/3; 186/216] END chi2select__percentile=75, rfc__bootstrap=False, rfc__max_depth=10, rfc__max_samples=0.8, rfc__min_samples_split=4, rfc__n_estimators=300;, score=0.857 total time=   2.1s\n",
      "[CV 1/3; 187/216] START chi2select__percentile=75, rfc__bootstrap=False, rfc__max_depth=10, rfc__max_samples=None, rfc__min_samples_split=2, rfc__n_estimators=50\n",
      "[CV 1/3; 187/216] END chi2select__percentile=75, rfc__bootstrap=False, rfc__max_depth=10, rfc__max_samples=None, rfc__min_samples_split=2, rfc__n_estimators=50;, score=0.822 total time=   0.3s\n",
      "[CV 2/3; 187/216] START chi2select__percentile=75, rfc__bootstrap=False, rfc__max_depth=10, rfc__max_samples=None, rfc__min_samples_split=2, rfc__n_estimators=50\n",
      "[CV 2/3; 187/216] END chi2select__percentile=75, rfc__bootstrap=False, rfc__max_depth=10, rfc__max_samples=None, rfc__min_samples_split=2, rfc__n_estimators=50;, score=0.848 total time=   0.3s\n",
      "[CV 3/3; 187/216] START chi2select__percentile=75, rfc__bootstrap=False, rfc__max_depth=10, rfc__max_samples=None, rfc__min_samples_split=2, rfc__n_estimators=50\n",
      "[CV 3/3; 187/216] END chi2select__percentile=75, rfc__bootstrap=False, rfc__max_depth=10, rfc__max_samples=None, rfc__min_samples_split=2, rfc__n_estimators=50;, score=0.867 total time=   0.4s\n",
      "[CV 1/3; 188/216] START chi2select__percentile=75, rfc__bootstrap=False, rfc__max_depth=10, rfc__max_samples=None, rfc__min_samples_split=2, rfc__n_estimators=100\n",
      "[CV 1/3; 188/216] END chi2select__percentile=75, rfc__bootstrap=False, rfc__max_depth=10, rfc__max_samples=None, rfc__min_samples_split=2, rfc__n_estimators=100;, score=0.833 total time=   0.7s\n",
      "[CV 2/3; 188/216] START chi2select__percentile=75, rfc__bootstrap=False, rfc__max_depth=10, rfc__max_samples=None, rfc__min_samples_split=2, rfc__n_estimators=100\n",
      "[CV 2/3; 188/216] END chi2select__percentile=75, rfc__bootstrap=False, rfc__max_depth=10, rfc__max_samples=None, rfc__min_samples_split=2, rfc__n_estimators=100;, score=0.858 total time=   0.7s\n",
      "[CV 3/3; 188/216] START chi2select__percentile=75, rfc__bootstrap=False, rfc__max_depth=10, rfc__max_samples=None, rfc__min_samples_split=2, rfc__n_estimators=100\n",
      "[CV 3/3; 188/216] END chi2select__percentile=75, rfc__bootstrap=False, rfc__max_depth=10, rfc__max_samples=None, rfc__min_samples_split=2, rfc__n_estimators=100;, score=0.861 total time=   0.7s\n",
      "[CV 1/3; 189/216] START chi2select__percentile=75, rfc__bootstrap=False, rfc__max_depth=10, rfc__max_samples=None, rfc__min_samples_split=2, rfc__n_estimators=300\n",
      "[CV 1/3; 189/216] END chi2select__percentile=75, rfc__bootstrap=False, rfc__max_depth=10, rfc__max_samples=None, rfc__min_samples_split=2, rfc__n_estimators=300;, score=0.823 total time=   2.0s\n",
      "[CV 2/3; 189/216] START chi2select__percentile=75, rfc__bootstrap=False, rfc__max_depth=10, rfc__max_samples=None, rfc__min_samples_split=2, rfc__n_estimators=300\n",
      "[CV 2/3; 189/216] END chi2select__percentile=75, rfc__bootstrap=False, rfc__max_depth=10, rfc__max_samples=None, rfc__min_samples_split=2, rfc__n_estimators=300;, score=0.855 total time=   2.1s\n",
      "[CV 3/3; 189/216] START chi2select__percentile=75, rfc__bootstrap=False, rfc__max_depth=10, rfc__max_samples=None, rfc__min_samples_split=2, rfc__n_estimators=300\n",
      "[CV 3/3; 189/216] END chi2select__percentile=75, rfc__bootstrap=False, rfc__max_depth=10, rfc__max_samples=None, rfc__min_samples_split=2, rfc__n_estimators=300;, score=0.865 total time=   2.1s\n",
      "[CV 1/3; 190/216] START chi2select__percentile=75, rfc__bootstrap=False, rfc__max_depth=10, rfc__max_samples=None, rfc__min_samples_split=4, rfc__n_estimators=50\n",
      "[CV 1/3; 190/216] END chi2select__percentile=75, rfc__bootstrap=False, rfc__max_depth=10, rfc__max_samples=None, rfc__min_samples_split=4, rfc__n_estimators=50;, score=0.834 total time=   0.4s\n",
      "[CV 2/3; 190/216] START chi2select__percentile=75, rfc__bootstrap=False, rfc__max_depth=10, rfc__max_samples=None, rfc__min_samples_split=4, rfc__n_estimators=50\n",
      "[CV 2/3; 190/216] END chi2select__percentile=75, rfc__bootstrap=False, rfc__max_depth=10, rfc__max_samples=None, rfc__min_samples_split=4, rfc__n_estimators=50;, score=0.840 total time=   0.4s\n",
      "[CV 3/3; 190/216] START chi2select__percentile=75, rfc__bootstrap=False, rfc__max_depth=10, rfc__max_samples=None, rfc__min_samples_split=4, rfc__n_estimators=50\n",
      "[CV 3/3; 190/216] END chi2select__percentile=75, rfc__bootstrap=False, rfc__max_depth=10, rfc__max_samples=None, rfc__min_samples_split=4, rfc__n_estimators=50;, score=0.860 total time=   0.4s\n",
      "[CV 1/3; 191/216] START chi2select__percentile=75, rfc__bootstrap=False, rfc__max_depth=10, rfc__max_samples=None, rfc__min_samples_split=4, rfc__n_estimators=100\n",
      "[CV 1/3; 191/216] END chi2select__percentile=75, rfc__bootstrap=False, rfc__max_depth=10, rfc__max_samples=None, rfc__min_samples_split=4, rfc__n_estimators=100;, score=0.817 total time=   0.7s\n",
      "[CV 2/3; 191/216] START chi2select__percentile=75, rfc__bootstrap=False, rfc__max_depth=10, rfc__max_samples=None, rfc__min_samples_split=4, rfc__n_estimators=100\n"
     ]
    },
    {
     "name": "stdout",
     "output_type": "stream",
     "text": [
      "[CV 2/3; 191/216] END chi2select__percentile=75, rfc__bootstrap=False, rfc__max_depth=10, rfc__max_samples=None, rfc__min_samples_split=4, rfc__n_estimators=100;, score=0.852 total time=   0.7s\n",
      "[CV 3/3; 191/216] START chi2select__percentile=75, rfc__bootstrap=False, rfc__max_depth=10, rfc__max_samples=None, rfc__min_samples_split=4, rfc__n_estimators=100\n",
      "[CV 3/3; 191/216] END chi2select__percentile=75, rfc__bootstrap=False, rfc__max_depth=10, rfc__max_samples=None, rfc__min_samples_split=4, rfc__n_estimators=100;, score=0.853 total time=   0.7s\n",
      "[CV 1/3; 192/216] START chi2select__percentile=75, rfc__bootstrap=False, rfc__max_depth=10, rfc__max_samples=None, rfc__min_samples_split=4, rfc__n_estimators=300\n",
      "[CV 1/3; 192/216] END chi2select__percentile=75, rfc__bootstrap=False, rfc__max_depth=10, rfc__max_samples=None, rfc__min_samples_split=4, rfc__n_estimators=300;, score=0.838 total time=   2.1s\n",
      "[CV 2/3; 192/216] START chi2select__percentile=75, rfc__bootstrap=False, rfc__max_depth=10, rfc__max_samples=None, rfc__min_samples_split=4, rfc__n_estimators=300\n",
      "[CV 2/3; 192/216] END chi2select__percentile=75, rfc__bootstrap=False, rfc__max_depth=10, rfc__max_samples=None, rfc__min_samples_split=4, rfc__n_estimators=300;, score=0.855 total time=   2.0s\n",
      "[CV 3/3; 192/216] START chi2select__percentile=75, rfc__bootstrap=False, rfc__max_depth=10, rfc__max_samples=None, rfc__min_samples_split=4, rfc__n_estimators=300\n",
      "[CV 3/3; 192/216] END chi2select__percentile=75, rfc__bootstrap=False, rfc__max_depth=10, rfc__max_samples=None, rfc__min_samples_split=4, rfc__n_estimators=300;, score=0.858 total time=   2.1s\n",
      "[CV 1/3; 193/216] START chi2select__percentile=75, rfc__bootstrap=False, rfc__max_depth=20, rfc__max_samples=0.8, rfc__min_samples_split=2, rfc__n_estimators=50\n",
      "[CV 1/3; 193/216] END chi2select__percentile=75, rfc__bootstrap=False, rfc__max_depth=20, rfc__max_samples=0.8, rfc__min_samples_split=2, rfc__n_estimators=50;, score=0.913 total time=   0.4s\n",
      "[CV 2/3; 193/216] START chi2select__percentile=75, rfc__bootstrap=False, rfc__max_depth=20, rfc__max_samples=0.8, rfc__min_samples_split=2, rfc__n_estimators=50\n",
      "[CV 2/3; 193/216] END chi2select__percentile=75, rfc__bootstrap=False, rfc__max_depth=20, rfc__max_samples=0.8, rfc__min_samples_split=2, rfc__n_estimators=50;, score=0.917 total time=   0.4s\n",
      "[CV 3/3; 193/216] START chi2select__percentile=75, rfc__bootstrap=False, rfc__max_depth=20, rfc__max_samples=0.8, rfc__min_samples_split=2, rfc__n_estimators=50\n",
      "[CV 3/3; 193/216] END chi2select__percentile=75, rfc__bootstrap=False, rfc__max_depth=20, rfc__max_samples=0.8, rfc__min_samples_split=2, rfc__n_estimators=50;, score=0.918 total time=   0.4s\n",
      "[CV 1/3; 194/216] START chi2select__percentile=75, rfc__bootstrap=False, rfc__max_depth=20, rfc__max_samples=0.8, rfc__min_samples_split=2, rfc__n_estimators=100\n",
      "[CV 1/3; 194/216] END chi2select__percentile=75, rfc__bootstrap=False, rfc__max_depth=20, rfc__max_samples=0.8, rfc__min_samples_split=2, rfc__n_estimators=100;, score=0.911 total time=   0.9s\n",
      "[CV 2/3; 194/216] START chi2select__percentile=75, rfc__bootstrap=False, rfc__max_depth=20, rfc__max_samples=0.8, rfc__min_samples_split=2, rfc__n_estimators=100\n",
      "[CV 2/3; 194/216] END chi2select__percentile=75, rfc__bootstrap=False, rfc__max_depth=20, rfc__max_samples=0.8, rfc__min_samples_split=2, rfc__n_estimators=100;, score=0.909 total time=   0.9s\n",
      "[CV 3/3; 194/216] START chi2select__percentile=75, rfc__bootstrap=False, rfc__max_depth=20, rfc__max_samples=0.8, rfc__min_samples_split=2, rfc__n_estimators=100\n",
      "[CV 3/3; 194/216] END chi2select__percentile=75, rfc__bootstrap=False, rfc__max_depth=20, rfc__max_samples=0.8, rfc__min_samples_split=2, rfc__n_estimators=100;, score=0.928 total time=   0.9s\n",
      "[CV 1/3; 195/216] START chi2select__percentile=75, rfc__bootstrap=False, rfc__max_depth=20, rfc__max_samples=0.8, rfc__min_samples_split=2, rfc__n_estimators=300\n",
      "[CV 1/3; 195/216] END chi2select__percentile=75, rfc__bootstrap=False, rfc__max_depth=20, rfc__max_samples=0.8, rfc__min_samples_split=2, rfc__n_estimators=300;, score=0.913 total time=   2.6s\n",
      "[CV 2/3; 195/216] START chi2select__percentile=75, rfc__bootstrap=False, rfc__max_depth=20, rfc__max_samples=0.8, rfc__min_samples_split=2, rfc__n_estimators=300\n",
      "[CV 2/3; 195/216] END chi2select__percentile=75, rfc__bootstrap=False, rfc__max_depth=20, rfc__max_samples=0.8, rfc__min_samples_split=2, rfc__n_estimators=300;, score=0.902 total time=   2.9s\n",
      "[CV 3/3; 195/216] START chi2select__percentile=75, rfc__bootstrap=False, rfc__max_depth=20, rfc__max_samples=0.8, rfc__min_samples_split=2, rfc__n_estimators=300\n",
      "[CV 3/3; 195/216] END chi2select__percentile=75, rfc__bootstrap=False, rfc__max_depth=20, rfc__max_samples=0.8, rfc__min_samples_split=2, rfc__n_estimators=300;, score=0.908 total time=   2.6s\n",
      "[CV 1/3; 196/216] START chi2select__percentile=75, rfc__bootstrap=False, rfc__max_depth=20, rfc__max_samples=0.8, rfc__min_samples_split=4, rfc__n_estimators=50\n",
      "[CV 1/3; 196/216] END chi2select__percentile=75, rfc__bootstrap=False, rfc__max_depth=20, rfc__max_samples=0.8, rfc__min_samples_split=4, rfc__n_estimators=50;, score=0.909 total time=   0.4s\n",
      "[CV 2/3; 196/216] START chi2select__percentile=75, rfc__bootstrap=False, rfc__max_depth=20, rfc__max_samples=0.8, rfc__min_samples_split=4, rfc__n_estimators=50\n",
      "[CV 2/3; 196/216] END chi2select__percentile=75, rfc__bootstrap=False, rfc__max_depth=20, rfc__max_samples=0.8, rfc__min_samples_split=4, rfc__n_estimators=50;, score=0.899 total time=   0.5s\n",
      "[CV 3/3; 196/216] START chi2select__percentile=75, rfc__bootstrap=False, rfc__max_depth=20, rfc__max_samples=0.8, rfc__min_samples_split=4, rfc__n_estimators=50\n",
      "[CV 3/3; 196/216] END chi2select__percentile=75, rfc__bootstrap=False, rfc__max_depth=20, rfc__max_samples=0.8, rfc__min_samples_split=4, rfc__n_estimators=50;, score=0.911 total time=   0.4s\n",
      "[CV 1/3; 197/216] START chi2select__percentile=75, rfc__bootstrap=False, rfc__max_depth=20, rfc__max_samples=0.8, rfc__min_samples_split=4, rfc__n_estimators=100\n",
      "[CV 1/3; 197/216] END chi2select__percentile=75, rfc__bootstrap=False, rfc__max_depth=20, rfc__max_samples=0.8, rfc__min_samples_split=4, rfc__n_estimators=100;, score=0.908 total time=   1.1s\n",
      "[CV 2/3; 197/216] START chi2select__percentile=75, rfc__bootstrap=False, rfc__max_depth=20, rfc__max_samples=0.8, rfc__min_samples_split=4, rfc__n_estimators=100\n",
      "[CV 2/3; 197/216] END chi2select__percentile=75, rfc__bootstrap=False, rfc__max_depth=20, rfc__max_samples=0.8, rfc__min_samples_split=4, rfc__n_estimators=100;, score=0.904 total time=   0.8s\n",
      "[CV 3/3; 197/216] START chi2select__percentile=75, rfc__bootstrap=False, rfc__max_depth=20, rfc__max_samples=0.8, rfc__min_samples_split=4, rfc__n_estimators=100\n",
      "[CV 3/3; 197/216] END chi2select__percentile=75, rfc__bootstrap=False, rfc__max_depth=20, rfc__max_samples=0.8, rfc__min_samples_split=4, rfc__n_estimators=100;, score=0.918 total time=   0.8s\n",
      "[CV 1/3; 198/216] START chi2select__percentile=75, rfc__bootstrap=False, rfc__max_depth=20, rfc__max_samples=0.8, rfc__min_samples_split=4, rfc__n_estimators=300\n",
      "[CV 1/3; 198/216] END chi2select__percentile=75, rfc__bootstrap=False, rfc__max_depth=20, rfc__max_samples=0.8, rfc__min_samples_split=4, rfc__n_estimators=300;, score=0.915 total time=   2.5s\n",
      "[CV 2/3; 198/216] START chi2select__percentile=75, rfc__bootstrap=False, rfc__max_depth=20, rfc__max_samples=0.8, rfc__min_samples_split=4, rfc__n_estimators=300\n",
      "[CV 2/3; 198/216] END chi2select__percentile=75, rfc__bootstrap=False, rfc__max_depth=20, rfc__max_samples=0.8, rfc__min_samples_split=4, rfc__n_estimators=300;, score=0.913 total time=   2.6s\n",
      "[CV 3/3; 198/216] START chi2select__percentile=75, rfc__bootstrap=False, rfc__max_depth=20, rfc__max_samples=0.8, rfc__min_samples_split=4, rfc__n_estimators=300\n",
      "[CV 3/3; 198/216] END chi2select__percentile=75, rfc__bootstrap=False, rfc__max_depth=20, rfc__max_samples=0.8, rfc__min_samples_split=4, rfc__n_estimators=300;, score=0.920 total time=   2.5s\n",
      "[CV 1/3; 199/216] START chi2select__percentile=75, rfc__bootstrap=False, rfc__max_depth=20, rfc__max_samples=None, rfc__min_samples_split=2, rfc__n_estimators=50\n",
      "[CV 1/3; 199/216] END chi2select__percentile=75, rfc__bootstrap=False, rfc__max_depth=20, rfc__max_samples=None, rfc__min_samples_split=2, rfc__n_estimators=50;, score=0.908 total time=   0.4s\n",
      "[CV 2/3; 199/216] START chi2select__percentile=75, rfc__bootstrap=False, rfc__max_depth=20, rfc__max_samples=None, rfc__min_samples_split=2, rfc__n_estimators=50\n"
     ]
    },
    {
     "name": "stdout",
     "output_type": "stream",
     "text": [
      "[CV 2/3; 199/216] END chi2select__percentile=75, rfc__bootstrap=False, rfc__max_depth=20, rfc__max_samples=None, rfc__min_samples_split=2, rfc__n_estimators=50;, score=0.906 total time=   0.4s\n",
      "[CV 3/3; 199/216] START chi2select__percentile=75, rfc__bootstrap=False, rfc__max_depth=20, rfc__max_samples=None, rfc__min_samples_split=2, rfc__n_estimators=50\n",
      "[CV 3/3; 199/216] END chi2select__percentile=75, rfc__bootstrap=False, rfc__max_depth=20, rfc__max_samples=None, rfc__min_samples_split=2, rfc__n_estimators=50;, score=0.913 total time=   0.4s\n",
      "[CV 1/3; 200/216] START chi2select__percentile=75, rfc__bootstrap=False, rfc__max_depth=20, rfc__max_samples=None, rfc__min_samples_split=2, rfc__n_estimators=100\n",
      "[CV 1/3; 200/216] END chi2select__percentile=75, rfc__bootstrap=False, rfc__max_depth=20, rfc__max_samples=None, rfc__min_samples_split=2, rfc__n_estimators=100;, score=0.915 total time=   0.9s\n",
      "[CV 2/3; 200/216] START chi2select__percentile=75, rfc__bootstrap=False, rfc__max_depth=20, rfc__max_samples=None, rfc__min_samples_split=2, rfc__n_estimators=100\n",
      "[CV 2/3; 200/216] END chi2select__percentile=75, rfc__bootstrap=False, rfc__max_depth=20, rfc__max_samples=None, rfc__min_samples_split=2, rfc__n_estimators=100;, score=0.913 total time=   0.9s\n",
      "[CV 3/3; 200/216] START chi2select__percentile=75, rfc__bootstrap=False, rfc__max_depth=20, rfc__max_samples=None, rfc__min_samples_split=2, rfc__n_estimators=100\n",
      "[CV 3/3; 200/216] END chi2select__percentile=75, rfc__bootstrap=False, rfc__max_depth=20, rfc__max_samples=None, rfc__min_samples_split=2, rfc__n_estimators=100;, score=0.922 total time=   0.8s\n",
      "[CV 1/3; 201/216] START chi2select__percentile=75, rfc__bootstrap=False, rfc__max_depth=20, rfc__max_samples=None, rfc__min_samples_split=2, rfc__n_estimators=300\n",
      "[CV 1/3; 201/216] END chi2select__percentile=75, rfc__bootstrap=False, rfc__max_depth=20, rfc__max_samples=None, rfc__min_samples_split=2, rfc__n_estimators=300;, score=0.915 total time=   2.6s\n",
      "[CV 2/3; 201/216] START chi2select__percentile=75, rfc__bootstrap=False, rfc__max_depth=20, rfc__max_samples=None, rfc__min_samples_split=2, rfc__n_estimators=300\n",
      "[CV 2/3; 201/216] END chi2select__percentile=75, rfc__bootstrap=False, rfc__max_depth=20, rfc__max_samples=None, rfc__min_samples_split=2, rfc__n_estimators=300;, score=0.909 total time=   2.5s\n",
      "[CV 3/3; 201/216] START chi2select__percentile=75, rfc__bootstrap=False, rfc__max_depth=20, rfc__max_samples=None, rfc__min_samples_split=2, rfc__n_estimators=300\n",
      "[CV 3/3; 201/216] END chi2select__percentile=75, rfc__bootstrap=False, rfc__max_depth=20, rfc__max_samples=None, rfc__min_samples_split=2, rfc__n_estimators=300;, score=0.911 total time=   2.5s\n",
      "[CV 1/3; 202/216] START chi2select__percentile=75, rfc__bootstrap=False, rfc__max_depth=20, rfc__max_samples=None, rfc__min_samples_split=4, rfc__n_estimators=50\n",
      "[CV 1/3; 202/216] END chi2select__percentile=75, rfc__bootstrap=False, rfc__max_depth=20, rfc__max_samples=None, rfc__min_samples_split=4, rfc__n_estimators=50;, score=0.911 total time=   0.4s\n",
      "[CV 2/3; 202/216] START chi2select__percentile=75, rfc__bootstrap=False, rfc__max_depth=20, rfc__max_samples=None, rfc__min_samples_split=4, rfc__n_estimators=50\n",
      "[CV 2/3; 202/216] END chi2select__percentile=75, rfc__bootstrap=False, rfc__max_depth=20, rfc__max_samples=None, rfc__min_samples_split=4, rfc__n_estimators=50;, score=0.906 total time=   0.4s\n",
      "[CV 3/3; 202/216] START chi2select__percentile=75, rfc__bootstrap=False, rfc__max_depth=20, rfc__max_samples=None, rfc__min_samples_split=4, rfc__n_estimators=50\n",
      "[CV 3/3; 202/216] END chi2select__percentile=75, rfc__bootstrap=False, rfc__max_depth=20, rfc__max_samples=None, rfc__min_samples_split=4, rfc__n_estimators=50;, score=0.931 total time=   0.4s\n",
      "[CV 1/3; 203/216] START chi2select__percentile=75, rfc__bootstrap=False, rfc__max_depth=20, rfc__max_samples=None, rfc__min_samples_split=4, rfc__n_estimators=100\n",
      "[CV 1/3; 203/216] END chi2select__percentile=75, rfc__bootstrap=False, rfc__max_depth=20, rfc__max_samples=None, rfc__min_samples_split=4, rfc__n_estimators=100;, score=0.913 total time=   0.9s\n",
      "[CV 2/3; 203/216] START chi2select__percentile=75, rfc__bootstrap=False, rfc__max_depth=20, rfc__max_samples=None, rfc__min_samples_split=4, rfc__n_estimators=100\n",
      "[CV 2/3; 203/216] END chi2select__percentile=75, rfc__bootstrap=False, rfc__max_depth=20, rfc__max_samples=None, rfc__min_samples_split=4, rfc__n_estimators=100;, score=0.909 total time=   0.9s\n",
      "[CV 3/3; 203/216] START chi2select__percentile=75, rfc__bootstrap=False, rfc__max_depth=20, rfc__max_samples=None, rfc__min_samples_split=4, rfc__n_estimators=100\n",
      "[CV 3/3; 203/216] END chi2select__percentile=75, rfc__bootstrap=False, rfc__max_depth=20, rfc__max_samples=None, rfc__min_samples_split=4, rfc__n_estimators=100;, score=0.904 total time=   0.9s\n",
      "[CV 1/3; 204/216] START chi2select__percentile=75, rfc__bootstrap=False, rfc__max_depth=20, rfc__max_samples=None, rfc__min_samples_split=4, rfc__n_estimators=300\n",
      "[CV 1/3; 204/216] END chi2select__percentile=75, rfc__bootstrap=False, rfc__max_depth=20, rfc__max_samples=None, rfc__min_samples_split=4, rfc__n_estimators=300;, score=0.908 total time=   2.5s\n",
      "[CV 2/3; 204/216] START chi2select__percentile=75, rfc__bootstrap=False, rfc__max_depth=20, rfc__max_samples=None, rfc__min_samples_split=4, rfc__n_estimators=300\n",
      "[CV 2/3; 204/216] END chi2select__percentile=75, rfc__bootstrap=False, rfc__max_depth=20, rfc__max_samples=None, rfc__min_samples_split=4, rfc__n_estimators=300;, score=0.899 total time=   2.6s\n",
      "[CV 3/3; 204/216] START chi2select__percentile=75, rfc__bootstrap=False, rfc__max_depth=20, rfc__max_samples=None, rfc__min_samples_split=4, rfc__n_estimators=300\n",
      "[CV 3/3; 204/216] END chi2select__percentile=75, rfc__bootstrap=False, rfc__max_depth=20, rfc__max_samples=None, rfc__min_samples_split=4, rfc__n_estimators=300;, score=0.917 total time=   2.6s\n",
      "[CV 1/3; 205/216] START chi2select__percentile=75, rfc__bootstrap=False, rfc__max_depth=None, rfc__max_samples=0.8, rfc__min_samples_split=2, rfc__n_estimators=50\n",
      "[CV 1/3; 205/216] END chi2select__percentile=75, rfc__bootstrap=False, rfc__max_depth=None, rfc__max_samples=0.8, rfc__min_samples_split=2, rfc__n_estimators=50;, score=0.921 total time=   0.5s\n",
      "[CV 2/3; 205/216] START chi2select__percentile=75, rfc__bootstrap=False, rfc__max_depth=None, rfc__max_samples=0.8, rfc__min_samples_split=2, rfc__n_estimators=50\n",
      "[CV 2/3; 205/216] END chi2select__percentile=75, rfc__bootstrap=False, rfc__max_depth=None, rfc__max_samples=0.8, rfc__min_samples_split=2, rfc__n_estimators=50;, score=0.918 total time=   0.4s\n",
      "[CV 3/3; 205/216] START chi2select__percentile=75, rfc__bootstrap=False, rfc__max_depth=None, rfc__max_samples=0.8, rfc__min_samples_split=2, rfc__n_estimators=50\n",
      "[CV 3/3; 205/216] END chi2select__percentile=75, rfc__bootstrap=False, rfc__max_depth=None, rfc__max_samples=0.8, rfc__min_samples_split=2, rfc__n_estimators=50;, score=0.913 total time=   0.4s\n",
      "[CV 1/3; 206/216] START chi2select__percentile=75, rfc__bootstrap=False, rfc__max_depth=None, rfc__max_samples=0.8, rfc__min_samples_split=2, rfc__n_estimators=100\n",
      "[CV 1/3; 206/216] END chi2select__percentile=75, rfc__bootstrap=False, rfc__max_depth=None, rfc__max_samples=0.8, rfc__min_samples_split=2, rfc__n_estimators=100;, score=0.924 total time=   0.9s\n",
      "[CV 2/3; 206/216] START chi2select__percentile=75, rfc__bootstrap=False, rfc__max_depth=None, rfc__max_samples=0.8, rfc__min_samples_split=2, rfc__n_estimators=100\n",
      "[CV 2/3; 206/216] END chi2select__percentile=75, rfc__bootstrap=False, rfc__max_depth=None, rfc__max_samples=0.8, rfc__min_samples_split=2, rfc__n_estimators=100;, score=0.911 total time=   0.9s\n",
      "[CV 3/3; 206/216] START chi2select__percentile=75, rfc__bootstrap=False, rfc__max_depth=None, rfc__max_samples=0.8, rfc__min_samples_split=2, rfc__n_estimators=100\n",
      "[CV 3/3; 206/216] END chi2select__percentile=75, rfc__bootstrap=False, rfc__max_depth=None, rfc__max_samples=0.8, rfc__min_samples_split=2, rfc__n_estimators=100;, score=0.913 total time=   0.9s\n",
      "[CV 1/3; 207/216] START chi2select__percentile=75, rfc__bootstrap=False, rfc__max_depth=None, rfc__max_samples=0.8, rfc__min_samples_split=2, rfc__n_estimators=300\n"
     ]
    },
    {
     "name": "stdout",
     "output_type": "stream",
     "text": [
      "[CV 1/3; 207/216] END chi2select__percentile=75, rfc__bootstrap=False, rfc__max_depth=None, rfc__max_samples=0.8, rfc__min_samples_split=2, rfc__n_estimators=300;, score=0.924 total time=   2.7s\n",
      "[CV 2/3; 207/216] START chi2select__percentile=75, rfc__bootstrap=False, rfc__max_depth=None, rfc__max_samples=0.8, rfc__min_samples_split=2, rfc__n_estimators=300\n",
      "[CV 2/3; 207/216] END chi2select__percentile=75, rfc__bootstrap=False, rfc__max_depth=None, rfc__max_samples=0.8, rfc__min_samples_split=2, rfc__n_estimators=300;, score=0.917 total time=   2.5s\n",
      "[CV 3/3; 207/216] START chi2select__percentile=75, rfc__bootstrap=False, rfc__max_depth=None, rfc__max_samples=0.8, rfc__min_samples_split=2, rfc__n_estimators=300\n",
      "[CV 3/3; 207/216] END chi2select__percentile=75, rfc__bootstrap=False, rfc__max_depth=None, rfc__max_samples=0.8, rfc__min_samples_split=2, rfc__n_estimators=300;, score=0.918 total time=   2.5s\n",
      "[CV 1/3; 208/216] START chi2select__percentile=75, rfc__bootstrap=False, rfc__max_depth=None, rfc__max_samples=0.8, rfc__min_samples_split=4, rfc__n_estimators=50\n",
      "[CV 1/3; 208/216] END chi2select__percentile=75, rfc__bootstrap=False, rfc__max_depth=None, rfc__max_samples=0.8, rfc__min_samples_split=4, rfc__n_estimators=50;, score=0.922 total time=   0.4s\n",
      "[CV 2/3; 208/216] START chi2select__percentile=75, rfc__bootstrap=False, rfc__max_depth=None, rfc__max_samples=0.8, rfc__min_samples_split=4, rfc__n_estimators=50\n",
      "[CV 2/3; 208/216] END chi2select__percentile=75, rfc__bootstrap=False, rfc__max_depth=None, rfc__max_samples=0.8, rfc__min_samples_split=4, rfc__n_estimators=50;, score=0.902 total time=   0.4s\n",
      "[CV 3/3; 208/216] START chi2select__percentile=75, rfc__bootstrap=False, rfc__max_depth=None, rfc__max_samples=0.8, rfc__min_samples_split=4, rfc__n_estimators=50\n",
      "[CV 3/3; 208/216] END chi2select__percentile=75, rfc__bootstrap=False, rfc__max_depth=None, rfc__max_samples=0.8, rfc__min_samples_split=4, rfc__n_estimators=50;, score=0.930 total time=   0.4s\n",
      "[CV 1/3; 209/216] START chi2select__percentile=75, rfc__bootstrap=False, rfc__max_depth=None, rfc__max_samples=0.8, rfc__min_samples_split=4, rfc__n_estimators=100\n",
      "[CV 1/3; 209/216] END chi2select__percentile=75, rfc__bootstrap=False, rfc__max_depth=None, rfc__max_samples=0.8, rfc__min_samples_split=4, rfc__n_estimators=100;, score=0.909 total time=   0.9s\n",
      "[CV 2/3; 209/216] START chi2select__percentile=75, rfc__bootstrap=False, rfc__max_depth=None, rfc__max_samples=0.8, rfc__min_samples_split=4, rfc__n_estimators=100\n",
      "[CV 2/3; 209/216] END chi2select__percentile=75, rfc__bootstrap=False, rfc__max_depth=None, rfc__max_samples=0.8, rfc__min_samples_split=4, rfc__n_estimators=100;, score=0.911 total time=   0.8s\n",
      "[CV 3/3; 209/216] START chi2select__percentile=75, rfc__bootstrap=False, rfc__max_depth=None, rfc__max_samples=0.8, rfc__min_samples_split=4, rfc__n_estimators=100\n",
      "[CV 3/3; 209/216] END chi2select__percentile=75, rfc__bootstrap=False, rfc__max_depth=None, rfc__max_samples=0.8, rfc__min_samples_split=4, rfc__n_estimators=100;, score=0.917 total time=   0.8s\n",
      "[CV 1/3; 210/216] START chi2select__percentile=75, rfc__bootstrap=False, rfc__max_depth=None, rfc__max_samples=0.8, rfc__min_samples_split=4, rfc__n_estimators=300\n",
      "[CV 1/3; 210/216] END chi2select__percentile=75, rfc__bootstrap=False, rfc__max_depth=None, rfc__max_samples=0.8, rfc__min_samples_split=4, rfc__n_estimators=300;, score=0.919 total time=   2.6s\n",
      "[CV 2/3; 210/216] START chi2select__percentile=75, rfc__bootstrap=False, rfc__max_depth=None, rfc__max_samples=0.8, rfc__min_samples_split=4, rfc__n_estimators=300\n",
      "[CV 2/3; 210/216] END chi2select__percentile=75, rfc__bootstrap=False, rfc__max_depth=None, rfc__max_samples=0.8, rfc__min_samples_split=4, rfc__n_estimators=300;, score=0.906 total time=   2.5s\n",
      "[CV 3/3; 210/216] START chi2select__percentile=75, rfc__bootstrap=False, rfc__max_depth=None, rfc__max_samples=0.8, rfc__min_samples_split=4, rfc__n_estimators=300\n",
      "[CV 3/3; 210/216] END chi2select__percentile=75, rfc__bootstrap=False, rfc__max_depth=None, rfc__max_samples=0.8, rfc__min_samples_split=4, rfc__n_estimators=300;, score=0.918 total time=   2.5s\n",
      "[CV 1/3; 211/216] START chi2select__percentile=75, rfc__bootstrap=False, rfc__max_depth=None, rfc__max_samples=None, rfc__min_samples_split=2, rfc__n_estimators=50\n",
      "[CV 1/3; 211/216] END chi2select__percentile=75, rfc__bootstrap=False, rfc__max_depth=None, rfc__max_samples=None, rfc__min_samples_split=2, rfc__n_estimators=50;, score=0.919 total time=   0.5s\n",
      "[CV 2/3; 211/216] START chi2select__percentile=75, rfc__bootstrap=False, rfc__max_depth=None, rfc__max_samples=None, rfc__min_samples_split=2, rfc__n_estimators=50\n",
      "[CV 2/3; 211/216] END chi2select__percentile=75, rfc__bootstrap=False, rfc__max_depth=None, rfc__max_samples=None, rfc__min_samples_split=2, rfc__n_estimators=50;, score=0.913 total time=   0.4s\n",
      "[CV 3/3; 211/216] START chi2select__percentile=75, rfc__bootstrap=False, rfc__max_depth=None, rfc__max_samples=None, rfc__min_samples_split=2, rfc__n_estimators=50\n",
      "[CV 3/3; 211/216] END chi2select__percentile=75, rfc__bootstrap=False, rfc__max_depth=None, rfc__max_samples=None, rfc__min_samples_split=2, rfc__n_estimators=50;, score=0.906 total time=   0.4s\n",
      "[CV 1/3; 212/216] START chi2select__percentile=75, rfc__bootstrap=False, rfc__max_depth=None, rfc__max_samples=None, rfc__min_samples_split=2, rfc__n_estimators=100\n",
      "[CV 1/3; 212/216] END chi2select__percentile=75, rfc__bootstrap=False, rfc__max_depth=None, rfc__max_samples=None, rfc__min_samples_split=2, rfc__n_estimators=100;, score=0.917 total time=   0.9s\n",
      "[CV 2/3; 212/216] START chi2select__percentile=75, rfc__bootstrap=False, rfc__max_depth=None, rfc__max_samples=None, rfc__min_samples_split=2, rfc__n_estimators=100\n",
      "[CV 2/3; 212/216] END chi2select__percentile=75, rfc__bootstrap=False, rfc__max_depth=None, rfc__max_samples=None, rfc__min_samples_split=2, rfc__n_estimators=100;, score=0.911 total time=   0.8s\n",
      "[CV 3/3; 212/216] START chi2select__percentile=75, rfc__bootstrap=False, rfc__max_depth=None, rfc__max_samples=None, rfc__min_samples_split=2, rfc__n_estimators=100\n",
      "[CV 3/3; 212/216] END chi2select__percentile=75, rfc__bootstrap=False, rfc__max_depth=None, rfc__max_samples=None, rfc__min_samples_split=2, rfc__n_estimators=100;, score=0.908 total time=   0.8s\n",
      "[CV 1/3; 213/216] START chi2select__percentile=75, rfc__bootstrap=False, rfc__max_depth=None, rfc__max_samples=None, rfc__min_samples_split=2, rfc__n_estimators=300\n",
      "[CV 1/3; 213/216] END chi2select__percentile=75, rfc__bootstrap=False, rfc__max_depth=None, rfc__max_samples=None, rfc__min_samples_split=2, rfc__n_estimators=300;, score=0.922 total time=   2.6s\n",
      "[CV 2/3; 213/216] START chi2select__percentile=75, rfc__bootstrap=False, rfc__max_depth=None, rfc__max_samples=None, rfc__min_samples_split=2, rfc__n_estimators=300\n",
      "[CV 2/3; 213/216] END chi2select__percentile=75, rfc__bootstrap=False, rfc__max_depth=None, rfc__max_samples=None, rfc__min_samples_split=2, rfc__n_estimators=300;, score=0.911 total time=   2.5s\n",
      "[CV 3/3; 213/216] START chi2select__percentile=75, rfc__bootstrap=False, rfc__max_depth=None, rfc__max_samples=None, rfc__min_samples_split=2, rfc__n_estimators=300\n",
      "[CV 3/3; 213/216] END chi2select__percentile=75, rfc__bootstrap=False, rfc__max_depth=None, rfc__max_samples=None, rfc__min_samples_split=2, rfc__n_estimators=300;, score=0.913 total time=   2.5s\n",
      "[CV 1/3; 214/216] START chi2select__percentile=75, rfc__bootstrap=False, rfc__max_depth=None, rfc__max_samples=None, rfc__min_samples_split=4, rfc__n_estimators=50\n",
      "[CV 1/3; 214/216] END chi2select__percentile=75, rfc__bootstrap=False, rfc__max_depth=None, rfc__max_samples=None, rfc__min_samples_split=4, rfc__n_estimators=50;, score=0.921 total time=   0.4s\n",
      "[CV 2/3; 214/216] START chi2select__percentile=75, rfc__bootstrap=False, rfc__max_depth=None, rfc__max_samples=None, rfc__min_samples_split=4, rfc__n_estimators=50\n",
      "[CV 2/3; 214/216] END chi2select__percentile=75, rfc__bootstrap=False, rfc__max_depth=None, rfc__max_samples=None, rfc__min_samples_split=4, rfc__n_estimators=50;, score=0.911 total time=   0.4s\n",
      "[CV 3/3; 214/216] START chi2select__percentile=75, rfc__bootstrap=False, rfc__max_depth=None, rfc__max_samples=None, rfc__min_samples_split=4, rfc__n_estimators=50\n"
     ]
    },
    {
     "name": "stdout",
     "output_type": "stream",
     "text": [
      "[CV 3/3; 214/216] END chi2select__percentile=75, rfc__bootstrap=False, rfc__max_depth=None, rfc__max_samples=None, rfc__min_samples_split=4, rfc__n_estimators=50;, score=0.926 total time=   0.4s\n",
      "[CV 1/3; 215/216] START chi2select__percentile=75, rfc__bootstrap=False, rfc__max_depth=None, rfc__max_samples=None, rfc__min_samples_split=4, rfc__n_estimators=100\n",
      "[CV 1/3; 215/216] END chi2select__percentile=75, rfc__bootstrap=False, rfc__max_depth=None, rfc__max_samples=None, rfc__min_samples_split=4, rfc__n_estimators=100;, score=0.913 total time=   0.9s\n",
      "[CV 2/3; 215/216] START chi2select__percentile=75, rfc__bootstrap=False, rfc__max_depth=None, rfc__max_samples=None, rfc__min_samples_split=4, rfc__n_estimators=100\n",
      "[CV 2/3; 215/216] END chi2select__percentile=75, rfc__bootstrap=False, rfc__max_depth=None, rfc__max_samples=None, rfc__min_samples_split=4, rfc__n_estimators=100;, score=0.902 total time=   0.8s\n",
      "[CV 3/3; 215/216] START chi2select__percentile=75, rfc__bootstrap=False, rfc__max_depth=None, rfc__max_samples=None, rfc__min_samples_split=4, rfc__n_estimators=100\n",
      "[CV 3/3; 215/216] END chi2select__percentile=75, rfc__bootstrap=False, rfc__max_depth=None, rfc__max_samples=None, rfc__min_samples_split=4, rfc__n_estimators=100;, score=0.911 total time=   0.8s\n",
      "[CV 1/3; 216/216] START chi2select__percentile=75, rfc__bootstrap=False, rfc__max_depth=None, rfc__max_samples=None, rfc__min_samples_split=4, rfc__n_estimators=300\n",
      "[CV 1/3; 216/216] END chi2select__percentile=75, rfc__bootstrap=False, rfc__max_depth=None, rfc__max_samples=None, rfc__min_samples_split=4, rfc__n_estimators=300;, score=0.922 total time=   2.6s\n",
      "[CV 2/3; 216/216] START chi2select__percentile=75, rfc__bootstrap=False, rfc__max_depth=None, rfc__max_samples=None, rfc__min_samples_split=4, rfc__n_estimators=300\n",
      "[CV 2/3; 216/216] END chi2select__percentile=75, rfc__bootstrap=False, rfc__max_depth=None, rfc__max_samples=None, rfc__min_samples_split=4, rfc__n_estimators=300;, score=0.920 total time=   2.6s\n",
      "[CV 3/3; 216/216] START chi2select__percentile=75, rfc__bootstrap=False, rfc__max_depth=None, rfc__max_samples=None, rfc__min_samples_split=4, rfc__n_estimators=300\n",
      "[CV 3/3; 216/216] END chi2select__percentile=75, rfc__bootstrap=False, rfc__max_depth=None, rfc__max_samples=None, rfc__min_samples_split=4, rfc__n_estimators=300;, score=0.918 total time=   2.5s\n"
     ]
    },
    {
     "data": {
      "text/html": [
       "<style>#sk-146caeac-cf5e-4c03-861d-8075a433b5f6 {color: black;background-color: white;}#sk-146caeac-cf5e-4c03-861d-8075a433b5f6 pre{padding: 0;}#sk-146caeac-cf5e-4c03-861d-8075a433b5f6 div.sk-toggleable {background-color: white;}#sk-146caeac-cf5e-4c03-861d-8075a433b5f6 label.sk-toggleable__label {cursor: pointer;display: block;width: 100%;margin-bottom: 0;padding: 0.3em;box-sizing: border-box;text-align: center;}#sk-146caeac-cf5e-4c03-861d-8075a433b5f6 div.sk-toggleable__content {max-height: 0;max-width: 0;overflow: hidden;text-align: left;background-color: #f0f8ff;}#sk-146caeac-cf5e-4c03-861d-8075a433b5f6 div.sk-toggleable__content pre {margin: 0.2em;color: black;border-radius: 0.25em;background-color: #f0f8ff;}#sk-146caeac-cf5e-4c03-861d-8075a433b5f6 input.sk-toggleable__control:checked~div.sk-toggleable__content {max-height: 200px;max-width: 100%;overflow: auto;}#sk-146caeac-cf5e-4c03-861d-8075a433b5f6 div.sk-estimator input.sk-toggleable__control:checked~label.sk-toggleable__label {background-color: #d4ebff;}#sk-146caeac-cf5e-4c03-861d-8075a433b5f6 div.sk-label input.sk-toggleable__control:checked~label.sk-toggleable__label {background-color: #d4ebff;}#sk-146caeac-cf5e-4c03-861d-8075a433b5f6 input.sk-hidden--visually {border: 0;clip: rect(1px 1px 1px 1px);clip: rect(1px, 1px, 1px, 1px);height: 1px;margin: -1px;overflow: hidden;padding: 0;position: absolute;width: 1px;}#sk-146caeac-cf5e-4c03-861d-8075a433b5f6 div.sk-estimator {font-family: monospace;background-color: #f0f8ff;border: 1px dotted black;border-radius: 0.25em;box-sizing: border-box;margin-bottom: 0.5em;}#sk-146caeac-cf5e-4c03-861d-8075a433b5f6 div.sk-estimator:hover {background-color: #d4ebff;}#sk-146caeac-cf5e-4c03-861d-8075a433b5f6 div.sk-parallel-item::after {content: \"\";width: 100%;border-bottom: 1px solid gray;flex-grow: 1;}#sk-146caeac-cf5e-4c03-861d-8075a433b5f6 div.sk-label:hover label.sk-toggleable__label {background-color: #d4ebff;}#sk-146caeac-cf5e-4c03-861d-8075a433b5f6 div.sk-serial::before {content: \"\";position: absolute;border-left: 1px solid gray;box-sizing: border-box;top: 2em;bottom: 0;left: 50%;}#sk-146caeac-cf5e-4c03-861d-8075a433b5f6 div.sk-serial {display: flex;flex-direction: column;align-items: center;background-color: white;padding-right: 0.2em;padding-left: 0.2em;}#sk-146caeac-cf5e-4c03-861d-8075a433b5f6 div.sk-item {z-index: 1;}#sk-146caeac-cf5e-4c03-861d-8075a433b5f6 div.sk-parallel {display: flex;align-items: stretch;justify-content: center;background-color: white;}#sk-146caeac-cf5e-4c03-861d-8075a433b5f6 div.sk-parallel::before {content: \"\";position: absolute;border-left: 1px solid gray;box-sizing: border-box;top: 2em;bottom: 0;left: 50%;}#sk-146caeac-cf5e-4c03-861d-8075a433b5f6 div.sk-parallel-item {display: flex;flex-direction: column;position: relative;background-color: white;}#sk-146caeac-cf5e-4c03-861d-8075a433b5f6 div.sk-parallel-item:first-child::after {align-self: flex-end;width: 50%;}#sk-146caeac-cf5e-4c03-861d-8075a433b5f6 div.sk-parallel-item:last-child::after {align-self: flex-start;width: 50%;}#sk-146caeac-cf5e-4c03-861d-8075a433b5f6 div.sk-parallel-item:only-child::after {width: 0;}#sk-146caeac-cf5e-4c03-861d-8075a433b5f6 div.sk-dashed-wrapped {border: 1px dashed gray;margin: 0 0.4em 0.5em 0.4em;box-sizing: border-box;padding-bottom: 0.4em;background-color: white;position: relative;}#sk-146caeac-cf5e-4c03-861d-8075a433b5f6 div.sk-label label {font-family: monospace;font-weight: bold;background-color: white;display: inline-block;line-height: 1.2em;}#sk-146caeac-cf5e-4c03-861d-8075a433b5f6 div.sk-label-container {position: relative;z-index: 2;text-align: center;}#sk-146caeac-cf5e-4c03-861d-8075a433b5f6 div.sk-container {display: inline-block;position: relative;}</style><div id=\"sk-146caeac-cf5e-4c03-861d-8075a433b5f6\" class\"sk-top-container\"><div class=\"sk-container\"><div class=\"sk-item sk-dashed-wrapped\"><div class=\"sk-label-container\"><div class=\"sk-label sk-toggleable\"><input class=\"sk-toggleable__control sk-hidden--visually\" id=\"63b8dcea-f97c-4ad8-9200-84b15057bab0\" type=\"checkbox\" ><label class=\"sk-toggleable__label\" for=\"63b8dcea-f97c-4ad8-9200-84b15057bab0\">GridSearchCV</label><div class=\"sk-toggleable__content\"><pre>GridSearchCV(cv=3,\n",
       "             estimator=Pipeline(steps=[('scaling', MinMaxScaler()),\n",
       "                                       ('chi2select',\n",
       "                                        SelectPercentile(percentile=80,\n",
       "                                                         score_func=<function chi2 at 0x7fe9dc322160>)),\n",
       "                                       ('rfc',\n",
       "                                        RandomForestClassifier(max_features=0.8,\n",
       "                                                               max_samples=0.8,\n",
       "                                                               min_samples_split=4,\n",
       "                                                               n_estimators=200))]),\n",
       "             param_grid={'chi2select__percentile': [30, 40, 75],\n",
       "                         'rfc__bootstrap': [True, False],\n",
       "                         'rfc__max_depth': [10, 20, None],\n",
       "                         'rfc__max_samples': [0.8, None],\n",
       "                         'rfc__min_samples_split': [2, 4],\n",
       "                         'rfc__n_estimators': [50, 100, 300]},\n",
       "             scoring='precision', verbose=10)</pre></div></div></div><div class=\"sk-parallel\"><div class=\"sk-parallel-item\"><div class=\"sk-item\"><div class=\"sk-serial\"><div class=\"sk-item\"><div class=\"sk-serial\"><div class=\"sk-item\"><div class=\"sk-estimator sk-toggleable\"><input class=\"sk-toggleable__control sk-hidden--visually\" id=\"5bab2fce-f292-4cf1-9343-9d24bd83fe95\" type=\"checkbox\" ><label class=\"sk-toggleable__label\" for=\"5bab2fce-f292-4cf1-9343-9d24bd83fe95\">MinMaxScaler</label><div class=\"sk-toggleable__content\"><pre>MinMaxScaler()</pre></div></div></div><div class=\"sk-item\"><div class=\"sk-estimator sk-toggleable\"><input class=\"sk-toggleable__control sk-hidden--visually\" id=\"c7bb0cc0-cda9-4b4b-ae1b-1310e546c5cb\" type=\"checkbox\" ><label class=\"sk-toggleable__label\" for=\"c7bb0cc0-cda9-4b4b-ae1b-1310e546c5cb\">SelectPercentile</label><div class=\"sk-toggleable__content\"><pre>SelectPercentile(percentile=80, score_func=<function chi2 at 0x7fe9dc322160>)</pre></div></div></div><div class=\"sk-item\"><div class=\"sk-estimator sk-toggleable\"><input class=\"sk-toggleable__control sk-hidden--visually\" id=\"f054e361-db07-4d0d-a452-dc32c1abf0f8\" type=\"checkbox\" ><label class=\"sk-toggleable__label\" for=\"f054e361-db07-4d0d-a452-dc32c1abf0f8\">RandomForestClassifier</label><div class=\"sk-toggleable__content\"><pre>RandomForestClassifier(max_features=0.8, max_samples=0.8, min_samples_split=4,\n",
       "                       n_estimators=200)</pre></div></div></div></div></div></div></div></div></div></div></div></div>"
      ],
      "text/plain": [
       "GridSearchCV(cv=3,\n",
       "             estimator=Pipeline(steps=[('scaling', MinMaxScaler()),\n",
       "                                       ('chi2select',\n",
       "                                        SelectPercentile(percentile=80,\n",
       "                                                         score_func=<function chi2 at 0x7fe9dc322160>)),\n",
       "                                       ('rfc',\n",
       "                                        RandomForestClassifier(max_features=0.8,\n",
       "                                                               max_samples=0.8,\n",
       "                                                               min_samples_split=4,\n",
       "                                                               n_estimators=200))]),\n",
       "             param_grid={'chi2select__percentile': [30, 40, 75],\n",
       "                         'rfc__bootstrap': [True, False],\n",
       "                         'rfc__max_depth': [10, 20, None],\n",
       "                         'rfc__max_samples': [0.8, None],\n",
       "                         'rfc__min_samples_split': [2, 4],\n",
       "                         'rfc__n_estimators': [50, 100, 300]},\n",
       "             scoring='precision', verbose=10)"
      ]
     },
     "execution_count": 42,
     "metadata": {},
     "output_type": "execute_result"
    },
    {
     "data": {
      "application/javascript": [
       "\n",
       "            setTimeout(function() {\n",
       "                var nbb_cell_id = 42;\n",
       "                var nbb_unformatted_code = \"ml_pipeline = Pipeline(\\n    steps=[\\n        (\\\"scaling\\\", MinMaxScaler()),\\n        (\\\"chi2select\\\", SelectPercentile(score_func=chi2, percentile=80)),\\n        (\\n            \\\"rfc\\\",\\n            RandomForestClassifier(\\n                n_estimators=200, min_samples_split=4, max_features=0.8, max_samples=0.8\\n            ),\\n        ),\\n    ]\\n)\\n\\n\\nparams = {\\n    \\\"chi2select__percentile\\\": [30, 40, 75],\\n    \\\"rfc__n_estimators\\\": [50, 100, 300],\\n    \\\"rfc__bootstrap\\\": [True, False],\\n    \\\"rfc__max_depth\\\": [10, 20, None],\\n    \\\"rfc__max_samples\\\": [0.8, None],\\n    \\\"rfc__min_samples_split\\\": [2, 4],\\n}\\n\\ngrid = GridSearchCV(\\n    ml_pipeline, param_grid=params, cv=3, scoring=\\\"precision\\\", verbose=10\\n)\\n\\ngrid.fit(X_over, y_over)\";\n",
       "                var nbb_formatted_code = \"ml_pipeline = Pipeline(\\n    steps=[\\n        (\\\"scaling\\\", MinMaxScaler()),\\n        (\\\"chi2select\\\", SelectPercentile(score_func=chi2, percentile=80)),\\n        (\\n            \\\"rfc\\\",\\n            RandomForestClassifier(\\n                n_estimators=200, min_samples_split=4, max_features=0.8, max_samples=0.8\\n            ),\\n        ),\\n    ]\\n)\\n\\n\\nparams = {\\n    \\\"chi2select__percentile\\\": [30, 40, 75],\\n    \\\"rfc__n_estimators\\\": [50, 100, 300],\\n    \\\"rfc__bootstrap\\\": [True, False],\\n    \\\"rfc__max_depth\\\": [10, 20, None],\\n    \\\"rfc__max_samples\\\": [0.8, None],\\n    \\\"rfc__min_samples_split\\\": [2, 4],\\n}\\n\\ngrid = GridSearchCV(\\n    ml_pipeline, param_grid=params, cv=3, scoring=\\\"precision\\\", verbose=10\\n)\\n\\ngrid.fit(X_over, y_over)\";\n",
       "                var nbb_cells = Jupyter.notebook.get_cells();\n",
       "                for (var i = 0; i < nbb_cells.length; ++i) {\n",
       "                    if (nbb_cells[i].input_prompt_number == nbb_cell_id) {\n",
       "                        if (nbb_cells[i].get_text() == nbb_unformatted_code) {\n",
       "                             nbb_cells[i].set_text(nbb_formatted_code);\n",
       "                        }\n",
       "                        break;\n",
       "                    }\n",
       "                }\n",
       "            }, 500);\n",
       "            "
      ],
      "text/plain": [
       "<IPython.core.display.Javascript object>"
      ]
     },
     "metadata": {},
     "output_type": "display_data"
    }
   ],
   "source": [
    "ml_pipeline = Pipeline(\n",
    "    steps=[\n",
    "        (\"scaling\", MinMaxScaler()),\n",
    "        (\"chi2select\", SelectPercentile(score_func=chi2, percentile=80)),\n",
    "        (\n",
    "            \"rfc\",\n",
    "            RandomForestClassifier(\n",
    "                n_estimators=200, min_samples_split=4, max_features=0.8, max_samples=0.8\n",
    "            ),\n",
    "        ),\n",
    "    ]\n",
    ")\n",
    "\n",
    "\n",
    "params = {\n",
    "    \"chi2select__percentile\": [30, 40, 75],\n",
    "    \"rfc__n_estimators\": [50, 100, 300],\n",
    "    \"rfc__bootstrap\": [True, False],\n",
    "    \"rfc__max_depth\": [10, 20, None],\n",
    "    \"rfc__max_samples\": [0.8, None],\n",
    "    \"rfc__min_samples_split\": [2, 4],\n",
    "}\n",
    "\n",
    "grid = GridSearchCV(\n",
    "    ml_pipeline, param_grid=params, cv=3, scoring=\"precision\", verbose=10\n",
    ")\n",
    "\n",
    "grid.fit(X_over, y_over)"
   ]
  },
  {
   "cell_type": "code",
   "execution_count": 44,
   "id": "4747abd9",
   "metadata": {},
   "outputs": [
    {
     "data": {
      "text/plain": [
       "{'chi2select__percentile': 75,\n",
       " 'rfc__bootstrap': True,\n",
       " 'rfc__max_depth': None,\n",
       " 'rfc__max_samples': None,\n",
       " 'rfc__min_samples_split': 2,\n",
       " 'rfc__n_estimators': 300}"
      ]
     },
     "execution_count": 44,
     "metadata": {},
     "output_type": "execute_result"
    },
    {
     "data": {
      "application/javascript": [
       "\n",
       "            setTimeout(function() {\n",
       "                var nbb_cell_id = 44;\n",
       "                var nbb_unformatted_code = \"grid.best_params_\";\n",
       "                var nbb_formatted_code = \"grid.best_params_\";\n",
       "                var nbb_cells = Jupyter.notebook.get_cells();\n",
       "                for (var i = 0; i < nbb_cells.length; ++i) {\n",
       "                    if (nbb_cells[i].input_prompt_number == nbb_cell_id) {\n",
       "                        if (nbb_cells[i].get_text() == nbb_unformatted_code) {\n",
       "                             nbb_cells[i].set_text(nbb_formatted_code);\n",
       "                        }\n",
       "                        break;\n",
       "                    }\n",
       "                }\n",
       "            }, 500);\n",
       "            "
      ],
      "text/plain": [
       "<IPython.core.display.Javascript object>"
      ]
     },
     "metadata": {},
     "output_type": "display_data"
    }
   ],
   "source": [
    "grid.best_params_"
   ]
  },
  {
   "cell_type": "code",
   "execution_count": 49,
   "id": "2b85125a",
   "metadata": {},
   "outputs": [
    {
     "data": {
      "application/javascript": [
       "\n",
       "            setTimeout(function() {\n",
       "                var nbb_cell_id = 49;\n",
       "                var nbb_unformatted_code = \"y_pred_grid = grid.best_estimator_.predict(X_test)\";\n",
       "                var nbb_formatted_code = \"y_pred_grid = grid.best_estimator_.predict(X_test)\";\n",
       "                var nbb_cells = Jupyter.notebook.get_cells();\n",
       "                for (var i = 0; i < nbb_cells.length; ++i) {\n",
       "                    if (nbb_cells[i].input_prompt_number == nbb_cell_id) {\n",
       "                        if (nbb_cells[i].get_text() == nbb_unformatted_code) {\n",
       "                             nbb_cells[i].set_text(nbb_formatted_code);\n",
       "                        }\n",
       "                        break;\n",
       "                    }\n",
       "                }\n",
       "            }, 500);\n",
       "            "
      ],
      "text/plain": [
       "<IPython.core.display.Javascript object>"
      ]
     },
     "metadata": {},
     "output_type": "display_data"
    }
   ],
   "source": [
    "y_pred_grid = grid.best_estimator_.predict(X_test)"
   ]
  },
  {
   "cell_type": "code",
   "execution_count": 53,
   "id": "89e3fb3a",
   "metadata": {},
   "outputs": [
    {
     "data": {
      "text/plain": [
       "<sklearn.metrics._plot.confusion_matrix.ConfusionMatrixDisplay at 0x7fe9c83fc370>"
      ]
     },
     "execution_count": 53,
     "metadata": {},
     "output_type": "execute_result"
    },
    {
     "name": "stdout",
     "output_type": "stream",
     "text": [
      "              precision    recall  f1-score   support\n",
      "\n",
      "         0.0       0.97      0.85      0.90       779\n",
      "         1.0       0.06      0.23      0.09        30\n",
      "\n",
      "    accuracy                           0.82       809\n",
      "   macro avg       0.51      0.54      0.50       809\n",
      "weighted avg       0.93      0.82      0.87       809\n",
      "\n"
     ]
    },
    {
     "data": {
      "image/png": "[encoded data removed]",
      "text/plain": [
       "<Figure size 432x288 with 2 Axes>"
      ]
     },
     "metadata": {
      "needs_background": "light"
     },
     "output_type": "display_data"
    },
    {
     "data": {
      "application/javascript": [
       "\n",
       "            setTimeout(function() {\n",
       "                var nbb_cell_id = 53;\n",
       "                var nbb_unformatted_code = \"plot_confusion_matrix(grid.best_estimator_, X_test, y_test)\\nprint(classification_report(y_pred_grid, y_test))\";\n",
       "                var nbb_formatted_code = \"plot_confusion_matrix(grid.best_estimator_, X_test, y_test)\\nprint(classification_report(y_pred_grid, y_test))\";\n",
       "                var nbb_cells = Jupyter.notebook.get_cells();\n",
       "                for (var i = 0; i < nbb_cells.length; ++i) {\n",
       "                    if (nbb_cells[i].input_prompt_number == nbb_cell_id) {\n",
       "                        if (nbb_cells[i].get_text() == nbb_unformatted_code) {\n",
       "                             nbb_cells[i].set_text(nbb_formatted_code);\n",
       "                        }\n",
       "                        break;\n",
       "                    }\n",
       "                }\n",
       "            }, 500);\n",
       "            "
      ],
      "text/plain": [
       "<IPython.core.display.Javascript object>"
      ]
     },
     "metadata": {},
     "output_type": "display_data"
    }
   ],
   "source": [
    "plot_confusion_matrix(grid.best_estimator_, X_test, y_test)\n",
    "print(classification_report(y_pred_grid, y_test))"
   ]
  },
  {
   "cell_type": "code",
   "execution_count": 74,
   "id": "1487cd01",
   "metadata": {},
   "outputs": [
    {
     "data": {
      "application/javascript": [
       "\n",
       "            setTimeout(function() {\n",
       "                var nbb_cell_id = 74;\n",
       "                var nbb_unformatted_code = \"ml_pipeline = Pipeline(\\n    steps=[\\n        (\\\"scaling\\\", MinMaxScaler()),\\n        (\\\"chi2select\\\", SelectPercentile(score_func=chi2, percentile=30)),\\n        (\\\"rfc\\\", RandomForestClassifier(n_estimators=300, min_samples_split=5),),\\n    ]\\n)\";\n",
       "                var nbb_formatted_code = \"ml_pipeline = Pipeline(\\n    steps=[\\n        (\\\"scaling\\\", MinMaxScaler()),\\n        (\\\"chi2select\\\", SelectPercentile(score_func=chi2, percentile=30)),\\n        (\\\"rfc\\\", RandomForestClassifier(n_estimators=300, min_samples_split=5),),\\n    ]\\n)\";\n",
       "                var nbb_cells = Jupyter.notebook.get_cells();\n",
       "                for (var i = 0; i < nbb_cells.length; ++i) {\n",
       "                    if (nbb_cells[i].input_prompt_number == nbb_cell_id) {\n",
       "                        if (nbb_cells[i].get_text() == nbb_unformatted_code) {\n",
       "                             nbb_cells[i].set_text(nbb_formatted_code);\n",
       "                        }\n",
       "                        break;\n",
       "                    }\n",
       "                }\n",
       "            }, 500);\n",
       "            "
      ],
      "text/plain": [
       "<IPython.core.display.Javascript object>"
      ]
     },
     "metadata": {},
     "output_type": "display_data"
    }
   ],
   "source": [
    "ml_pipeline = Pipeline(\n",
    "    steps=[\n",
    "        (\"scaling\", MinMaxScaler()),\n",
    "        (\"chi2select\", SelectPercentile(score_func=chi2, percentile=30)),\n",
    "        (\"rfc\", RandomForestClassifier(n_estimators=300, min_samples_split=5),),\n",
    "    ]\n",
    ")"
   ]
  },
  {
   "cell_type": "code",
   "execution_count": 75,
   "id": "345389ed",
   "metadata": {},
   "outputs": [
    {
     "data": {
      "text/html": [
       "<style>#sk-655f84f2-0964-4b4d-8a9f-37aa67c71338 {color: black;background-color: white;}#sk-655f84f2-0964-4b4d-8a9f-37aa67c71338 pre{padding: 0;}#sk-655f84f2-0964-4b4d-8a9f-37aa67c71338 div.sk-toggleable {background-color: white;}#sk-655f84f2-0964-4b4d-8a9f-37aa67c71338 label.sk-toggleable__label {cursor: pointer;display: block;width: 100%;margin-bottom: 0;padding: 0.3em;box-sizing: border-box;text-align: center;}#sk-655f84f2-0964-4b4d-8a9f-37aa67c71338 div.sk-toggleable__content {max-height: 0;max-width: 0;overflow: hidden;text-align: left;background-color: #f0f8ff;}#sk-655f84f2-0964-4b4d-8a9f-37aa67c71338 div.sk-toggleable__content pre {margin: 0.2em;color: black;border-radius: 0.25em;background-color: #f0f8ff;}#sk-655f84f2-0964-4b4d-8a9f-37aa67c71338 input.sk-toggleable__control:checked~div.sk-toggleable__content {max-height: 200px;max-width: 100%;overflow: auto;}#sk-655f84f2-0964-4b4d-8a9f-37aa67c71338 div.sk-estimator input.sk-toggleable__control:checked~label.sk-toggleable__label {background-color: #d4ebff;}#sk-655f84f2-0964-4b4d-8a9f-37aa67c71338 div.sk-label input.sk-toggleable__control:checked~label.sk-toggleable__label {background-color: #d4ebff;}#sk-655f84f2-0964-4b4d-8a9f-37aa67c71338 input.sk-hidden--visually {border: 0;clip: rect(1px 1px 1px 1px);clip: rect(1px, 1px, 1px, 1px);height: 1px;margin: -1px;overflow: hidden;padding: 0;position: absolute;width: 1px;}#sk-655f84f2-0964-4b4d-8a9f-37aa67c71338 div.sk-estimator {font-family: monospace;background-color: #f0f8ff;border: 1px dotted black;border-radius: 0.25em;box-sizing: border-box;margin-bottom: 0.5em;}#sk-655f84f2-0964-4b4d-8a9f-37aa67c71338 div.sk-estimator:hover {background-color: #d4ebff;}#sk-655f84f2-0964-4b4d-8a9f-37aa67c71338 div.sk-parallel-item::after {content: \"\";width: 100%;border-bottom: 1px solid gray;flex-grow: 1;}#sk-655f84f2-0964-4b4d-8a9f-37aa67c71338 div.sk-label:hover label.sk-toggleable__label {background-color: #d4ebff;}#sk-655f84f2-0964-4b4d-8a9f-37aa67c71338 div.sk-serial::before {content: \"\";position: absolute;border-left: 1px solid gray;box-sizing: border-box;top: 2em;bottom: 0;left: 50%;}#sk-655f84f2-0964-4b4d-8a9f-37aa67c71338 div.sk-serial {display: flex;flex-direction: column;align-items: center;background-color: white;padding-right: 0.2em;padding-left: 0.2em;}#sk-655f84f2-0964-4b4d-8a9f-37aa67c71338 div.sk-item {z-index: 1;}#sk-655f84f2-0964-4b4d-8a9f-37aa67c71338 div.sk-parallel {display: flex;align-items: stretch;justify-content: center;background-color: white;}#sk-655f84f2-0964-4b4d-8a9f-37aa67c71338 div.sk-parallel::before {content: \"\";position: absolute;border-left: 1px solid gray;box-sizing: border-box;top: 2em;bottom: 0;left: 50%;}#sk-655f84f2-0964-4b4d-8a9f-37aa67c71338 div.sk-parallel-item {display: flex;flex-direction: column;position: relative;background-color: white;}#sk-655f84f2-0964-4b4d-8a9f-37aa67c71338 div.sk-parallel-item:first-child::after {align-self: flex-end;width: 50%;}#sk-655f84f2-0964-4b4d-8a9f-37aa67c71338 div.sk-parallel-item:last-child::after {align-self: flex-start;width: 50%;}#sk-655f84f2-0964-4b4d-8a9f-37aa67c71338 div.sk-parallel-item:only-child::after {width: 0;}#sk-655f84f2-0964-4b4d-8a9f-37aa67c71338 div.sk-dashed-wrapped {border: 1px dashed gray;margin: 0 0.4em 0.5em 0.4em;box-sizing: border-box;padding-bottom: 0.4em;background-color: white;position: relative;}#sk-655f84f2-0964-4b4d-8a9f-37aa67c71338 div.sk-label label {font-family: monospace;font-weight: bold;background-color: white;display: inline-block;line-height: 1.2em;}#sk-655f84f2-0964-4b4d-8a9f-37aa67c71338 div.sk-label-container {position: relative;z-index: 2;text-align: center;}#sk-655f84f2-0964-4b4d-8a9f-37aa67c71338 div.sk-container {display: inline-block;position: relative;}</style><div id=\"sk-655f84f2-0964-4b4d-8a9f-37aa67c71338\" class\"sk-top-container\"><div class=\"sk-container\"><div class=\"sk-item sk-dashed-wrapped\"><div class=\"sk-label-container\"><div class=\"sk-label sk-toggleable\"><input class=\"sk-toggleable__control sk-hidden--visually\" id=\"4ead35eb-72dd-45b0-88c6-5912e9a8cbfb\" type=\"checkbox\" ><label class=\"sk-toggleable__label\" for=\"4ead35eb-72dd-45b0-88c6-5912e9a8cbfb\">Pipeline</label><div class=\"sk-toggleable__content\"><pre>Pipeline(steps=[('scaling', MinMaxScaler()),\n",
       "                ('chi2select',\n",
       "                 SelectPercentile(percentile=30,\n",
       "                                  score_func=<function chi2 at 0x7fe9dc322160>)),\n",
       "                ('rfc',\n",
       "                 RandomForestClassifier(min_samples_split=5,\n",
       "                                        n_estimators=300))])</pre></div></div></div><div class=\"sk-serial\"><div class=\"sk-item\"><div class=\"sk-estimator sk-toggleable\"><input class=\"sk-toggleable__control sk-hidden--visually\" id=\"57a5a3f2-cba4-419d-a716-c7fcd99986fa\" type=\"checkbox\" ><label class=\"sk-toggleable__label\" for=\"57a5a3f2-cba4-419d-a716-c7fcd99986fa\">MinMaxScaler</label><div class=\"sk-toggleable__content\"><pre>MinMaxScaler()</pre></div></div></div><div class=\"sk-item\"><div class=\"sk-estimator sk-toggleable\"><input class=\"sk-toggleable__control sk-hidden--visually\" id=\"a3e5bec9-49e4-4a80-8cbd-ecd0d5ad3932\" type=\"checkbox\" ><label class=\"sk-toggleable__label\" for=\"a3e5bec9-49e4-4a80-8cbd-ecd0d5ad3932\">SelectPercentile</label><div class=\"sk-toggleable__content\"><pre>SelectPercentile(percentile=30, score_func=<function chi2 at 0x7fe9dc322160>)</pre></div></div></div><div class=\"sk-item\"><div class=\"sk-estimator sk-toggleable\"><input class=\"sk-toggleable__control sk-hidden--visually\" id=\"d6dfb454-4783-452a-af10-e04ae1641741\" type=\"checkbox\" ><label class=\"sk-toggleable__label\" for=\"d6dfb454-4783-452a-af10-e04ae1641741\">RandomForestClassifier</label><div class=\"sk-toggleable__content\"><pre>RandomForestClassifier(min_samples_split=5, n_estimators=300)</pre></div></div></div></div></div></div></div>"
      ],
      "text/plain": [
       "Pipeline(steps=[('scaling', MinMaxScaler()),\n",
       "                ('chi2select',\n",
       "                 SelectPercentile(percentile=30,\n",
       "                                  score_func=<function chi2 at 0x7fe9dc322160>)),\n",
       "                ('rfc',\n",
       "                 RandomForestClassifier(min_samples_split=5,\n",
       "                                        n_estimators=300))])"
      ]
     },
     "execution_count": 75,
     "metadata": {},
     "output_type": "execute_result"
    },
    {
     "data": {
      "application/javascript": [
       "\n",
       "            setTimeout(function() {\n",
       "                var nbb_cell_id = 75;\n",
       "                var nbb_unformatted_code = \"#ml_pipeline.fit(X_over, y_over)\\nml_pipeline.fit(X_train, y_train)\";\n",
       "                var nbb_formatted_code = \"# ml_pipeline.fit(X_over, y_over)\\nml_pipeline.fit(X_train, y_train)\";\n",
       "                var nbb_cells = Jupyter.notebook.get_cells();\n",
       "                for (var i = 0; i < nbb_cells.length; ++i) {\n",
       "                    if (nbb_cells[i].input_prompt_number == nbb_cell_id) {\n",
       "                        if (nbb_cells[i].get_text() == nbb_unformatted_code) {\n",
       "                             nbb_cells[i].set_text(nbb_formatted_code);\n",
       "                        }\n",
       "                        break;\n",
       "                    }\n",
       "                }\n",
       "            }, 500);\n",
       "            "
      ],
      "text/plain": [
       "<IPython.core.display.Javascript object>"
      ]
     },
     "metadata": {},
     "output_type": "display_data"
    }
   ],
   "source": [
    "# ml_pipeline.fit(X_over, y_over)\n",
    "ml_pipeline.fit(X_train, y_train)"
   ]
  },
  {
   "cell_type": "code",
   "execution_count": 76,
   "id": "115b1fe5",
   "metadata": {},
   "outputs": [
    {
     "data": {
      "text/plain": [
       "<sklearn.metrics._plot.confusion_matrix.ConfusionMatrixDisplay at 0x7fe98817dca0>"
      ]
     },
     "execution_count": 76,
     "metadata": {},
     "output_type": "execute_result"
    },
    {
     "name": "stdout",
     "output_type": "stream",
     "text": [
      "              precision    recall  f1-score   support\n",
      "\n",
      "         0.0       0.97      0.85      0.90       779\n",
      "         1.0       0.06      0.23      0.09        30\n",
      "\n",
      "    accuracy                           0.82       809\n",
      "   macro avg       0.51      0.54      0.50       809\n",
      "weighted avg       0.93      0.82      0.87       809\n",
      "\n"
     ]
    },
    {
     "data": {
      "image/png": "[encoded data removed]",
      "text/plain": [
       "<Figure size 432x288 with 2 Axes>"
      ]
     },
     "metadata": {
      "needs_background": "light"
     },
     "output_type": "display_data"
    },
    {
     "data": {
      "application/javascript": [
       "\n",
       "            setTimeout(function() {\n",
       "                var nbb_cell_id = 76;\n",
       "                var nbb_unformatted_code = \"plot_confusion_matrix(ml_pipeline, X_test, y_test)\\nprint(classification_report(y_pred_grid, y_test))\";\n",
       "                var nbb_formatted_code = \"plot_confusion_matrix(ml_pipeline, X_test, y_test)\\nprint(classification_report(y_pred_grid, y_test))\";\n",
       "                var nbb_cells = Jupyter.notebook.get_cells();\n",
       "                for (var i = 0; i < nbb_cells.length; ++i) {\n",
       "                    if (nbb_cells[i].input_prompt_number == nbb_cell_id) {\n",
       "                        if (nbb_cells[i].get_text() == nbb_unformatted_code) {\n",
       "                             nbb_cells[i].set_text(nbb_formatted_code);\n",
       "                        }\n",
       "                        break;\n",
       "                    }\n",
       "                }\n",
       "            }, 500);\n",
       "            "
      ],
      "text/plain": [
       "<IPython.core.display.Javascript object>"
      ]
     },
     "metadata": {},
     "output_type": "display_data"
    }
   ],
   "source": [
    "plot_confusion_matrix(ml_pipeline, X_test, y_test)\n",
    "print(classification_report(y_pred_grid, y_test))"
   ]
  },
  {
   "cell_type": "code",
   "execution_count": null,
   "id": "28586dd3",
   "metadata": {},
   "outputs": [],
   "source": []
  },
  {
   "cell_type": "code",
   "execution_count": null,
   "id": "858561cd",
   "metadata": {},
   "outputs": [],
   "source": []
  }
 ],
 "metadata": {
  "kernelspec": {
   "display_name": "Python 3",
   "language": "python",
   "name": "python3"
  },
  "language_info": {
   "codemirror_mode": {
    "name": "ipython",
    "version": 3
   },
   "file_extension": ".py",
   "mimetype": "text/x-python",
   "name": "python",
   "nbconvert_exporter": "python",
   "pygments_lexer": "ipython3",
   "version": "3.8.8"
  }
 },
 "nbformat": 4,
 "nbformat_minor": 5
}
