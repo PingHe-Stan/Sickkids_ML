{
 "cells": [
  {
   "cell_type": "code",
   "execution_count": null,
   "id": "d8ebba6b",
   "metadata": {},
   "outputs": [],
   "source": [
    "# Table of Contents<a id='0'></a> \n",
    "\n",
    "1. [Read in Files](#read)\n",
    "2. [Target & Holdout](#holdout)\n",
    "3. [Feature Engineer](#engi)\n",
    "4. [Imputation](#imp)\n",
    "5. [Feature Variable Extraction](#variables)\n",
    "6. [Stats & Feature Selection](#selection)\n",
    "7. [Class Balancing](#balance)\n",
    "8. [Hyperparamter Tuning](#tune)\n",
    "9. [Model Performance Result](#result)\n",
    "10. [Ensemble Modelling](#ensemble)"
   ]
  }
 ],
 "metadata": {
  "kernelspec": {
   "display_name": "Python 3",
   "language": "python",
   "name": "python3"
  },
  "language_info": {
   "codemirror_mode": {
    "name": "ipython",
    "version": 3
   },
   "file_extension": ".py",
   "mimetype": "text/x-python",
   "name": "python",
   "nbconvert_exporter": "python",
   "pygments_lexer": "ipython3",
   "version": "3.8.8"
  }
 },
 "nbformat": 4,
 "nbformat_minor": 5
}
