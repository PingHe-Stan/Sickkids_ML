{
 "cells": [
  {
   "cell_type": "code",
   "execution_count": 31,
   "id": "89dc14c8",
   "metadata": {},
   "outputs": [
    {
     "data": {
      "text/plain": [
       "sklearn.preprocessing._data.MinMaxScaler"
      ]
     },
     "execution_count": 31,
     "metadata": {},
     "output_type": "execute_result"
    },
    {
     "data": {
      "text/plain": [
       "sklearn.preprocessing._data.MinMaxScaler"
      ]
     },
     "execution_count": 31,
     "metadata": {},
     "output_type": "execute_result"
    },
    {
     "data": {
      "text/plain": [
       "True"
      ]
     },
     "execution_count": 31,
     "metadata": {},
     "output_type": "execute_result"
    },
    {
     "data": {
      "application/javascript": [
       "\n",
       "            setTimeout(function() {\n",
       "                var nbb_cell_id = 31;\n",
       "                var nbb_unformatted_code = \"mms = MinMaxScaler()\\ntype(MinMaxScaler())\\ntype(mms)\\nisinstance(mms,MinMaxScaler)\";\n",
       "                var nbb_formatted_code = \"mms = MinMaxScaler()\\ntype(MinMaxScaler())\\ntype(mms)\\nisinstance(mms, MinMaxScaler)\";\n",
       "                var nbb_cells = Jupyter.notebook.get_cells();\n",
       "                for (var i = 0; i < nbb_cells.length; ++i) {\n",
       "                    if (nbb_cells[i].input_prompt_number == nbb_cell_id) {\n",
       "                        if (nbb_cells[i].get_text() == nbb_unformatted_code) {\n",
       "                             nbb_cells[i].set_text(nbb_formatted_code);\n",
       "                        }\n",
       "                        break;\n",
       "                    }\n",
       "                }\n",
       "            }, 500);\n",
       "            "
      ],
      "text/plain": [
       "<IPython.core.display.Javascript object>"
      ]
     },
     "metadata": {},
     "output_type": "display_data"
    }
   ],
   "source": [
    "mms = MinMaxScaler()\n",
    "type(MinMaxScaler())\n",
    "type(mms)\n",
    "isinstance(mms, MinMaxScaler)"
   ]
  },
  {
   "cell_type": "code",
   "execution_count": 57,
   "id": "56d10368",
   "metadata": {},
   "outputs": [
    {
     "data": {
      "application/javascript": [
       "\n",
       "            setTimeout(function() {\n",
       "                var nbb_cell_id = 57;\n",
       "                var nbb_unformatted_code = \"import inspect\\n\\n\\ndef f(mms=MinMaxScaler()):\\n    kk = MinMaxScaler()\\n    print(type(mms))\\n    print(type(MinMaxScaler()))\\n    print(type(kk))\\n    print(isinstance(MinMaxScaler(), MinMaxScaler))\\n    print(isinstance(mms, MinMaxScaler))\\n    print(isinstance(kk, MinMaxScaler))\\n    print(inspect.isclass(mms))\\n    print(inspect.isclass(kk))\\n    print(inspect.isclass(MinMaxScaler))\";\n",
       "                var nbb_formatted_code = \"import inspect\\n\\n\\ndef f(mms=MinMaxScaler()):\\n    kk = MinMaxScaler()\\n    print(type(mms))\\n    print(type(MinMaxScaler()))\\n    print(type(kk))\\n    print(isinstance(MinMaxScaler(), MinMaxScaler))\\n    print(isinstance(mms, MinMaxScaler))\\n    print(isinstance(kk, MinMaxScaler))\\n    print(inspect.isclass(mms))\\n    print(inspect.isclass(kk))\\n    print(inspect.isclass(MinMaxScaler))\";\n",
       "                var nbb_cells = Jupyter.notebook.get_cells();\n",
       "                for (var i = 0; i < nbb_cells.length; ++i) {\n",
       "                    if (nbb_cells[i].input_prompt_number == nbb_cell_id) {\n",
       "                        if (nbb_cells[i].get_text() == nbb_unformatted_code) {\n",
       "                             nbb_cells[i].set_text(nbb_formatted_code);\n",
       "                        }\n",
       "                        break;\n",
       "                    }\n",
       "                }\n",
       "            }, 500);\n",
       "            "
      ],
      "text/plain": [
       "<IPython.core.display.Javascript object>"
      ]
     },
     "metadata": {},
     "output_type": "display_data"
    }
   ],
   "source": [
    "import inspect\n",
    "\n",
    "\n",
    "def f(mms=MinMaxScaler()):\n",
    "    kk = MinMaxScaler()\n",
    "    print(type(mms))\n",
    "    print(type(MinMaxScaler()))\n",
    "    print(type(kk))\n",
    "    print(isinstance(MinMaxScaler(), MinMaxScaler))\n",
    "    print(isinstance(mms, MinMaxScaler))\n",
    "    print(isinstance(kk, MinMaxScaler))\n",
    "    print(inspect.isclass(mms))\n",
    "    print(inspect.isclass(kk))\n",
    "    print(inspect.isclass(MinMaxScaler))"
   ]
  },
  {
   "cell_type": "code",
   "execution_count": 24,
   "id": "4094b153",
   "metadata": {},
   "outputs": [
    {
     "data": {
      "text/plain": [
       "array([0, 1, 2, 3, 4])"
      ]
     },
     "execution_count": 24,
     "metadata": {},
     "output_type": "execute_result"
    },
    {
     "data": {
      "text/plain": [
       "[0, 1, 2, 3, 4]"
      ]
     },
     "execution_count": 24,
     "metadata": {},
     "output_type": "execute_result"
    },
    {
     "data": {
      "text/plain": [
       "array([0, 1, 2, 3, 4])"
      ]
     },
     "execution_count": 24,
     "metadata": {},
     "output_type": "execute_result"
    },
    {
     "data": {
      "application/javascript": [
       "\n",
       "            setTimeout(function() {\n",
       "                var nbb_cell_id = 24;\n",
       "                var nbb_unformatted_code = \"ind = np.arange(5)\\nind\\nlist(range(5))\\nnp.array(range(5))\";\n",
       "                var nbb_formatted_code = \"ind = np.arange(5)\\nind\\nlist(range(5))\\nnp.array(range(5))\";\n",
       "                var nbb_cells = Jupyter.notebook.get_cells();\n",
       "                for (var i = 0; i < nbb_cells.length; ++i) {\n",
       "                    if (nbb_cells[i].input_prompt_number == nbb_cell_id) {\n",
       "                        if (nbb_cells[i].get_text() == nbb_unformatted_code) {\n",
       "                             nbb_cells[i].set_text(nbb_formatted_code);\n",
       "                        }\n",
       "                        break;\n",
       "                    }\n",
       "                }\n",
       "            }, 500);\n",
       "            "
      ],
      "text/plain": [
       "<IPython.core.display.Javascript object>"
      ]
     },
     "metadata": {},
     "output_type": "display_data"
    }
   ],
   "source": [
    "ind = np.arange(5)\n",
    "ind\n",
    "list(range(5))\n",
    "np.array(range(5))"
   ]
  },
  {
   "cell_type": "code",
   "execution_count": 13,
   "id": "79d84a21",
   "metadata": {},
   "outputs": [
    {
     "data": {
      "text/plain": [
       "array([ True,  True,  True,  True,  True])"
      ]
     },
     "execution_count": 13,
     "metadata": {},
     "output_type": "execute_result"
    },
    {
     "data": {
      "text/plain": [
       "array([ True,  True,  True,  True,  True])"
      ]
     },
     "execution_count": 13,
     "metadata": {},
     "output_type": "execute_result"
    },
    {
     "data": {
      "application/javascript": [
       "\n",
       "            setTimeout(function() {\n",
       "                var nbb_cell_id = 13;\n",
       "                var nbb_unformatted_code = \"ind_mask = np.ones(5, dtype=np.bool)\\nind_mask\\nind_mask_2 = np.ones(5, dtype=np.bool, order='F')\\nind_mask_2\";\n",
       "                var nbb_formatted_code = \"ind_mask = np.ones(5, dtype=np.bool)\\nind_mask\\nind_mask_2 = np.ones(5, dtype=np.bool, order=\\\"F\\\")\\nind_mask_2\";\n",
       "                var nbb_cells = Jupyter.notebook.get_cells();\n",
       "                for (var i = 0; i < nbb_cells.length; ++i) {\n",
       "                    if (nbb_cells[i].input_prompt_number == nbb_cell_id) {\n",
       "                        if (nbb_cells[i].get_text() == nbb_unformatted_code) {\n",
       "                             nbb_cells[i].set_text(nbb_formatted_code);\n",
       "                        }\n",
       "                        break;\n",
       "                    }\n",
       "                }\n",
       "            }, 500);\n",
       "            "
      ],
      "text/plain": [
       "<IPython.core.display.Javascript object>"
      ]
     },
     "metadata": {},
     "output_type": "display_data"
    }
   ],
   "source": [
    "ind_mask = np.ones(5, dtype=np.bool)\n",
    "ind_mask\n",
    "ind_mask_2 = np.ones(5, dtype=np.bool, order=\"F\")\n",
    "ind_mask_2"
   ]
  },
  {
   "cell_type": "code",
   "execution_count": 15,
   "id": "dc888860",
   "metadata": {},
   "outputs": [
    {
     "data": {
      "text/plain": [
       "array([False, False,  True,  True, False])"
      ]
     },
     "execution_count": 15,
     "metadata": {},
     "output_type": "execute_result"
    },
    {
     "data": {
      "application/javascript": [
       "\n",
       "            setTimeout(function() {\n",
       "                var nbb_cell_id = 15;\n",
       "                var nbb_unformatted_code = \"ind_mask[[2, 3]] = False\\n~ind_mask\";\n",
       "                var nbb_formatted_code = \"ind_mask[[2, 3]] = False\\n~ind_mask\";\n",
       "                var nbb_cells = Jupyter.notebook.get_cells();\n",
       "                for (var i = 0; i < nbb_cells.length; ++i) {\n",
       "                    if (nbb_cells[i].input_prompt_number == nbb_cell_id) {\n",
       "                        if (nbb_cells[i].get_text() == nbb_unformatted_code) {\n",
       "                             nbb_cells[i].set_text(nbb_formatted_code);\n",
       "                        }\n",
       "                        break;\n",
       "                    }\n",
       "                }\n",
       "            }, 500);\n",
       "            "
      ],
      "text/plain": [
       "<IPython.core.display.Javascript object>"
      ]
     },
     "metadata": {},
     "output_type": "display_data"
    }
   ],
   "source": [
    "ind_mask[[2, 3]] = False\n",
    "~ind_mask"
   ]
  },
  {
   "cell_type": "code",
   "execution_count": null,
   "id": "8c687523",
   "metadata": {},
   "outputs": [],
   "source": [
    "np.sort(np.array(test_index))\n",
    "np.array_equal(\n",
    "    np.array(train_index), list(PredefinedHoldoutSplit(train_index).split(X, y))[0][1]\n",
    ")"
   ]
  },
  {
   "cell_type": "code",
   "execution_count": 19,
   "id": "02171765",
   "metadata": {},
   "outputs": [
    {
     "data": {
      "text/plain": [
       "array([0, 1, 4])"
      ]
     },
     "execution_count": 19,
     "metadata": {},
     "output_type": "execute_result"
    },
    {
     "data": {
      "text/plain": [
       "array([2, 3])"
      ]
     },
     "execution_count": 19,
     "metadata": {},
     "output_type": "execute_result"
    },
    {
     "data": {
      "application/javascript": [
       "\n",
       "            setTimeout(function() {\n",
       "                var nbb_cell_id = 19;\n",
       "                var nbb_unformatted_code = \"ind[ind_mask]\\nind[~ind_mask]\";\n",
       "                var nbb_formatted_code = \"ind[ind_mask]\\nind[~ind_mask]\";\n",
       "                var nbb_cells = Jupyter.notebook.get_cells();\n",
       "                for (var i = 0; i < nbb_cells.length; ++i) {\n",
       "                    if (nbb_cells[i].input_prompt_number == nbb_cell_id) {\n",
       "                        if (nbb_cells[i].get_text() == nbb_unformatted_code) {\n",
       "                             nbb_cells[i].set_text(nbb_formatted_code);\n",
       "                        }\n",
       "                        break;\n",
       "                    }\n",
       "                }\n",
       "            }, 500);\n",
       "            "
      ],
      "text/plain": [
       "<IPython.core.display.Javascript object>"
      ]
     },
     "metadata": {},
     "output_type": "display_data"
    }
   ],
   "source": [
    "ind[ind_mask]\n",
    "ind[~ind_mask]"
   ]
  },
  {
   "cell_type": "code",
   "execution_count": 23,
   "id": "1684ab2a",
   "metadata": {},
   "outputs": [
    {
     "data": {
      "text/plain": [
       "array([False, False,  True,  True, False])"
      ]
     },
     "execution_count": 23,
     "metadata": {},
     "output_type": "execute_result"
    },
    {
     "data": {
      "application/javascript": [
       "\n",
       "            setTimeout(function() {\n",
       "                var nbb_cell_id = 23;\n",
       "                var nbb_unformatted_code = \"# Return elements chosen from x or y depending on `condition`\\nnp.where(ind_mask, False, True)\";\n",
       "                var nbb_formatted_code = \"# Return elements chosen from x or y depending on `condition`\\nnp.where(ind_mask, False, True)\";\n",
       "                var nbb_cells = Jupyter.notebook.get_cells();\n",
       "                for (var i = 0; i < nbb_cells.length; ++i) {\n",
       "                    if (nbb_cells[i].input_prompt_number == nbb_cell_id) {\n",
       "                        if (nbb_cells[i].get_text() == nbb_unformatted_code) {\n",
       "                             nbb_cells[i].set_text(nbb_formatted_code);\n",
       "                        }\n",
       "                        break;\n",
       "                    }\n",
       "                }\n",
       "            }, 500);\n",
       "            "
      ],
      "text/plain": [
       "<IPython.core.display.Javascript object>"
      ]
     },
     "metadata": {},
     "output_type": "display_data"
    }
   ],
   "source": [
    "# Return elements chosen from x or y depending on `condition`\n",
    "np.where(ind_mask, False, True)"
   ]
  },
  {
   "cell_type": "code",
   "execution_count": null,
   "id": "8b19a742",
   "metadata": {},
   "outputs": [],
   "source": []
  },
  {
   "cell_type": "code",
   "execution_count": null,
   "id": "21ec8dcb",
   "metadata": {},
   "outputs": [],
   "source": []
  },
  {
   "cell_type": "code",
   "execution_count": null,
   "id": "5b5d4835",
   "metadata": {},
   "outputs": [],
   "source": []
  },
  {
   "cell_type": "code",
   "execution_count": null,
   "id": "7b643b59",
   "metadata": {},
   "outputs": [],
   "source": []
  },
  {
   "cell_type": "code",
   "execution_count": 1,
   "id": "aaf220b4",
   "metadata": {},
   "outputs": [
    {
     "data": {
      "application/javascript": [
       "\n",
       "            setTimeout(function() {\n",
       "                var nbb_cell_id = 1;\n",
       "                var nbb_unformatted_code = \"# Preferences of autoformatting & Multiple Output\\n%load_ext nb_black\\n\\nfrom IPython.core.interactiveshell import InteractiveShell\\n\\nInteractiveShell.ast_node_interactivity = \\\"all\\\"\\n\\nimport warnings\\n\\nwarnings.filterwarnings(\\\"ignore\\\")\\n\\nimport researchpy as rp  # For auto-statistics/EDA of dataframe\\nfrom tqdm.notebook import tqdm  # For process display\\nimport pingouin as pg\\n\\nimport sys\\n\\nsys.path.append(\\\"../src\\\")\\n\\nfrom data import *\\nfrom utils import *\\nfrom conf import *\\nfrom tools import *\\n\\nimport utils as UT\\nimport tools as TS\\n\\nimport random\\n\\nimport matplotlib.pyplot as plt\\nimport seaborn as sns\\nimport plotly.graph_objects as go\\n\\nfrom sklearn.preprocessing import MinMaxScaler\\nfrom sklearn.pipeline import Pipeline, make_pipeline, FeatureUnion\\n\\nfrom sklearn import set_config\\n\\nset_config(display=\\\"diagram\\\")\\n\\npd.set_option(\\\"display.max_colwidth\\\", 200)\";\n",
       "                var nbb_formatted_code = \"# Preferences of autoformatting & Multiple Output\\n%load_ext nb_black\\n\\nfrom IPython.core.interactiveshell import InteractiveShell\\n\\nInteractiveShell.ast_node_interactivity = \\\"all\\\"\\n\\nimport warnings\\n\\nwarnings.filterwarnings(\\\"ignore\\\")\\n\\nimport researchpy as rp  # For auto-statistics/EDA of dataframe\\nfrom tqdm.notebook import tqdm  # For process display\\nimport pingouin as pg\\n\\nimport sys\\n\\nsys.path.append(\\\"../src\\\")\\n\\nfrom data import *\\nfrom utils import *\\nfrom conf import *\\nfrom tools import *\\n\\nimport utils as UT\\nimport tools as TS\\n\\nimport random\\n\\nimport matplotlib.pyplot as plt\\nimport seaborn as sns\\nimport plotly.graph_objects as go\\n\\nfrom sklearn.preprocessing import MinMaxScaler\\nfrom sklearn.pipeline import Pipeline, make_pipeline, FeatureUnion\\n\\nfrom sklearn import set_config\\n\\nset_config(display=\\\"diagram\\\")\\n\\npd.set_option(\\\"display.max_colwidth\\\", 200)\";\n",
       "                var nbb_cells = Jupyter.notebook.get_cells();\n",
       "                for (var i = 0; i < nbb_cells.length; ++i) {\n",
       "                    if (nbb_cells[i].input_prompt_number == nbb_cell_id) {\n",
       "                        if (nbb_cells[i].get_text() == nbb_unformatted_code) {\n",
       "                             nbb_cells[i].set_text(nbb_formatted_code);\n",
       "                        }\n",
       "                        break;\n",
       "                    }\n",
       "                }\n",
       "            }, 500);\n",
       "            "
      ],
      "text/plain": [
       "<IPython.core.display.Javascript object>"
      ]
     },
     "metadata": {},
     "output_type": "display_data"
    }
   ],
   "source": [
    "# Preferences of autoformatting & Multiple Output\n",
    "%load_ext nb_black\n",
    "\n",
    "from IPython.core.interactiveshell import InteractiveShell\n",
    "\n",
    "InteractiveShell.ast_node_interactivity = \"all\"\n",
    "\n",
    "import warnings\n",
    "\n",
    "warnings.filterwarnings(\"ignore\")\n",
    "\n",
    "import researchpy as rp  # For auto-statistics/EDA of dataframe\n",
    "from tqdm.notebook import tqdm  # For process display\n",
    "import pingouin as pg\n",
    "\n",
    "import sys\n",
    "\n",
    "sys.path.append(\"../src\")\n",
    "\n",
    "from data import *\n",
    "from utils import *\n",
    "from conf import *\n",
    "from tools import *\n",
    "\n",
    "import utils as UT\n",
    "import tools as TS\n",
    "\n",
    "import random\n",
    "\n",
    "import matplotlib.pyplot as plt\n",
    "import seaborn as sns\n",
    "import plotly.graph_objects as go\n",
    "\n",
    "from sklearn.preprocessing import MinMaxScaler\n",
    "from sklearn.pipeline import Pipeline, make_pipeline, FeatureUnion\n",
    "\n",
    "from sklearn import set_config\n",
    "\n",
    "set_config(display=\"diagram\")\n",
    "\n",
    "pd.set_option(\"display.max_colwidth\", 200)"
   ]
  },
  {
   "cell_type": "code",
   "execution_count": 2,
   "id": "777edc12",
   "metadata": {},
   "outputs": [
    {
     "name": "stdout",
     "output_type": "stream",
     "text": [
      "5y_Modelling.xlsx                   CHILD_with_addon.xlsx\r\n",
      "CHILD_ml_sample_dataset.xlsx        targeted_raw_child.xlsx\r\n",
      "CHILD_raw.xlsx                      unprocessed_targeted_raw_child.xlsx\r\n"
     ]
    },
    {
     "data": {
      "application/javascript": [
       "\n",
       "            setTimeout(function() {\n",
       "                var nbb_cell_id = 2;\n",
       "                var nbb_unformatted_code = \"!ls \\\"../output/\\\"\\ndf_child = pd.read_excel(\\\"../output/CHILD_with_addon.xlsx\\\", index_col=\\\"Subject_Number\\\")\\ndf_child_backup = df_child.copy()\";\n",
       "                var nbb_formatted_code = \"!ls \\\"../output/\\\"\\ndf_child = pd.read_excel(\\\"../output/CHILD_with_addon.xlsx\\\", index_col=\\\"Subject_Number\\\")\\ndf_child_backup = df_child.copy()\";\n",
       "                var nbb_cells = Jupyter.notebook.get_cells();\n",
       "                for (var i = 0; i < nbb_cells.length; ++i) {\n",
       "                    if (nbb_cells[i].input_prompt_number == nbb_cell_id) {\n",
       "                        if (nbb_cells[i].get_text() == nbb_unformatted_code) {\n",
       "                             nbb_cells[i].set_text(nbb_formatted_code);\n",
       "                        }\n",
       "                        break;\n",
       "                    }\n",
       "                }\n",
       "            }, 500);\n",
       "            "
      ],
      "text/plain": [
       "<IPython.core.display.Javascript object>"
      ]
     },
     "metadata": {},
     "output_type": "display_data"
    }
   ],
   "source": [
    "!ls \"../output/\"\n",
    "df_child = pd.read_excel(\"../output/CHILD_with_addon.xlsx\", index_col=\"Subject_Number\")\n",
    "df_child_backup = df_child.copy()"
   ]
  },
  {
   "cell_type": "code",
   "execution_count": null,
   "id": "a9cd4081",
   "metadata": {},
   "outputs": [],
   "source": []
  }
 ],
 "metadata": {
  "kernelspec": {
   "display_name": "Python 3",
   "language": "python",
   "name": "python3"
  },
  "language_info": {
   "codemirror_mode": {
    "name": "ipython",
    "version": 3
   },
   "file_extension": ".py",
   "mimetype": "text/x-python",
   "name": "python",
   "nbconvert_exporter": "python",
   "pygments_lexer": "ipython3",
   "version": "3.8.8"
  }
 },
 "nbformat": 4,
 "nbformat_minor": 5
}
