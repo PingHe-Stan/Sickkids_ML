{
 "cells": [
  {
   "cell_type": "markdown",
   "id": "48b9d2de",
   "metadata": {},
   "source": [
    "# Statistics - Recap"
   ]
  },
  {
   "cell_type": "markdown",
   "id": "7042ab2e",
   "metadata": {},
   "source": [
    "## Calculate the confidence interval for the mean of a population from one sampling result (vector of numbers) - based on Central Limit Theorem\n"
   ]
  },
  {
   "cell_type": "markdown",
   "id": "237d847d",
   "metadata": {},
   "source": [
    "### Be quick to use Statistics to answer all sorts of question "
   ]
  },
  {
   "cell_type": "code",
   "execution_count": 1,
   "id": "9b9b6439",
   "metadata": {},
   "outputs": [
    {
     "data": {
      "application/javascript": [
       "\n",
       "            setTimeout(function() {\n",
       "                var nbb_cell_id = 1;\n",
       "                var nbb_unformatted_code = \"# Preferences of autoformatting & Multiple Output\\n%load_ext nb_black\\n\\nfrom IPython.core.interactiveshell import InteractiveShell\\n\\nInteractiveShell.ast_node_interactivity = \\\"all\\\"\\n\\nimport warnings\\n\\nwarnings.filterwarnings(\\\"ignore\\\")\\n\\nimport numpy as np\\nimport scipy.stats as st\\n\\ndata = [12, 12, 13, 13, 15, 16, 17, 22, 23, 25, 26, 27, 28, 28, 29]\";\n",
       "                var nbb_formatted_code = \"# Preferences of autoformatting & Multiple Output\\n%load_ext nb_black\\n\\nfrom IPython.core.interactiveshell import InteractiveShell\\n\\nInteractiveShell.ast_node_interactivity = \\\"all\\\"\\n\\nimport warnings\\n\\nwarnings.filterwarnings(\\\"ignore\\\")\\n\\nimport numpy as np\\nimport scipy.stats as st\\n\\ndata = [12, 12, 13, 13, 15, 16, 17, 22, 23, 25, 26, 27, 28, 28, 29]\";\n",
       "                var nbb_cells = Jupyter.notebook.get_cells();\n",
       "                for (var i = 0; i < nbb_cells.length; ++i) {\n",
       "                    if (nbb_cells[i].input_prompt_number == nbb_cell_id) {\n",
       "                        if (nbb_cells[i].get_text() == nbb_unformatted_code) {\n",
       "                             nbb_cells[i].set_text(nbb_formatted_code);\n",
       "                        }\n",
       "                        break;\n",
       "                    }\n",
       "                }\n",
       "            }, 500);\n",
       "            "
      ],
      "text/plain": [
       "<IPython.core.display.Javascript object>"
      ]
     },
     "metadata": {},
     "output_type": "display_data"
    }
   ],
   "source": [
    "# Preferences of autoformatting & Multiple Output\n",
    "%load_ext nb_black\n",
    "\n",
    "from IPython.core.interactiveshell import InteractiveShell\n",
    "\n",
    "InteractiveShell.ast_node_interactivity = \"all\"\n",
    "\n",
    "import warnings\n",
    "\n",
    "warnings.filterwarnings(\"ignore\")\n",
    "\n",
    "import numpy as np\n",
    "import scipy.stats as st\n",
    "\n",
    "data = [12, 12, 13, 13, 15, 16, 17, 22, 23, 25, 26, 27, 28, 28, 29]"
   ]
  },
  {
   "cell_type": "markdown",
   "id": "0ac0a3c8",
   "metadata": {},
   "source": [
    "### Method I: - Use t.interval() & paramter of Standard Error of Mean (SEM) = np.std(a, ddof=1) / np.sqrt(n)"
   ]
  },
  {
   "cell_type": "code",
   "execution_count": 2,
   "id": "28132c9b",
   "metadata": {},
   "outputs": [
    {
     "data": {
      "text/plain": [
       "1.6981782956478755"
      ]
     },
     "execution_count": 2,
     "metadata": {},
     "output_type": "execute_result"
    },
    {
     "data": {
      "text/plain": [
       "1.6981782956478755"
      ]
     },
     "execution_count": 2,
     "metadata": {},
     "output_type": "execute_result"
    },
    {
     "data": {
      "text/plain": [
       "(16.75776979778498, 24.042230202215016)"
      ]
     },
     "execution_count": 2,
     "metadata": {},
     "output_type": "execute_result"
    },
    {
     "data": {
      "application/javascript": [
       "\n",
       "            setTimeout(function() {\n",
       "                var nbb_cell_id = 2;\n",
       "                var nbb_unformatted_code = \"sem = st.sem(data)\\n# https://github.com/scipy/scipy/blob/v1.8.1/scipy/stats/_stats_py.py#L2234-L2295\\nsem\\n\\n# Repeat SEM using np.std() with np.sqrt()\\nnp.std(np.array(data), ddof=1) / np.sqrt(len(data))  # Because default for SEM is 1\\n\\n# Obtaining CI\\nst.t.interval(alpha=0.95, df=len(data) - 1, loc=np.mean(data), scale=st.sem(data))\";\n",
       "                var nbb_formatted_code = \"sem = st.sem(data)\\n# https://github.com/scipy/scipy/blob/v1.8.1/scipy/stats/_stats_py.py#L2234-L2295\\nsem\\n\\n# Repeat SEM using np.std() with np.sqrt()\\nnp.std(np.array(data), ddof=1) / np.sqrt(len(data))  # Because default for SEM is 1\\n\\n# Obtaining CI\\nst.t.interval(alpha=0.95, df=len(data) - 1, loc=np.mean(data), scale=st.sem(data))\";\n",
       "                var nbb_cells = Jupyter.notebook.get_cells();\n",
       "                for (var i = 0; i < nbb_cells.length; ++i) {\n",
       "                    if (nbb_cells[i].input_prompt_number == nbb_cell_id) {\n",
       "                        if (nbb_cells[i].get_text() == nbb_unformatted_code) {\n",
       "                             nbb_cells[i].set_text(nbb_formatted_code);\n",
       "                        }\n",
       "                        break;\n",
       "                    }\n",
       "                }\n",
       "            }, 500);\n",
       "            "
      ],
      "text/plain": [
       "<IPython.core.display.Javascript object>"
      ]
     },
     "metadata": {},
     "output_type": "display_data"
    }
   ],
   "source": [
    "sem = st.sem(data)\n",
    "# https://github.com/scipy/scipy/blob/v1.8.1/scipy/stats/_stats_py.py#L2234-L2295\n",
    "sem\n",
    "\n",
    "# Repeat SEM using np.std() with np.sqrt()\n",
    "np.std(np.array(data), ddof=1) / np.sqrt(len(data))  # Because default for SEM is 1\n",
    "\n",
    "# Obtaining CI\n",
    "st.t.interval(alpha=0.95, df=len(data) - 1, loc=np.mean(data), scale=st.sem(data))"
   ]
  },
  {
   "cell_type": "markdown",
   "id": "553c77ae",
   "metadata": {},
   "source": [
    "### Method II: - Construct the interval with t-score together with SEM S/np.sqrt(n) where S is the Sampling stardard deviation"
   ]
  },
  {
   "cell_type": "code",
   "execution_count": 3,
   "id": "0da9c80d",
   "metadata": {},
   "outputs": [
    {
     "data": {
      "text/plain": [
       "20.4"
      ]
     },
     "execution_count": 3,
     "metadata": {},
     "output_type": "execute_result"
    },
    {
     "data": {
      "text/plain": [
       "6.577016257935117"
      ]
     },
     "execution_count": 3,
     "metadata": {},
     "output_type": "execute_result"
    },
    {
     "data": {
      "text/plain": [
       "43.25714285714285"
      ]
     },
     "execution_count": 3,
     "metadata": {},
     "output_type": "execute_result"
    },
    {
     "data": {
      "text/plain": [
       "6.577016257935117"
      ]
     },
     "execution_count": 3,
     "metadata": {},
     "output_type": "execute_result"
    },
    {
     "data": {
      "text/plain": [
       "-2.1447866879169273"
      ]
     },
     "execution_count": 3,
     "metadata": {},
     "output_type": "execute_result"
    },
    {
     "data": {
      "text/plain": [
       "2.1447866879169273"
      ]
     },
     "execution_count": 3,
     "metadata": {},
     "output_type": "execute_result"
    },
    {
     "data": {
      "text/plain": [
       "(16.75776979778498, 24.042230202215016)"
      ]
     },
     "execution_count": 3,
     "metadata": {},
     "output_type": "execute_result"
    },
    {
     "data": {
      "application/javascript": [
       "\n",
       "            setTimeout(function() {\n",
       "                var nbb_cell_id = 3;\n",
       "                var nbb_unformatted_code = \"data_array = np.array(data)\\nm = data_array.mean()\\nm\\n\\n# For Small Sample, Note the divisor should be N - 1\\n# Obtain Sample Standard Deviation\\ns = data_array.std(ddof=1)  # Divisor = N - ddof ** Statistics for small sample ****\\ns\\n# Obtain Sample Variance\\nv = data_array.var(ddof=1)\\nv\\nnp.sqrt(v)\\n\\ndof = len(data_array) - 1\\nconfidence = 0.95\\n\\nt_crit = np.abs(st.t.ppf(q=(1 - confidence) / 2, df=dof, loc=0, scale=1))\\n\\n# Find T-Score\\nst.t.ppf(q=(1 - confidence) / 2, df=dof, loc=0, scale=1)\\n# Find T-Score\\nt_crit\\n(\\n    m - s * t_crit / np.sqrt(len(data_array)),\\n    m + s * t_crit / np.sqrt(len(data_array)),\\n)\";\n",
       "                var nbb_formatted_code = \"data_array = np.array(data)\\nm = data_array.mean()\\nm\\n\\n# For Small Sample, Note the divisor should be N - 1\\n# Obtain Sample Standard Deviation\\ns = data_array.std(ddof=1)  # Divisor = N - ddof ** Statistics for small sample ****\\ns\\n# Obtain Sample Variance\\nv = data_array.var(ddof=1)\\nv\\nnp.sqrt(v)\\n\\ndof = len(data_array) - 1\\nconfidence = 0.95\\n\\nt_crit = np.abs(st.t.ppf(q=(1 - confidence) / 2, df=dof, loc=0, scale=1))\\n\\n# Find T-Score\\nst.t.ppf(q=(1 - confidence) / 2, df=dof, loc=0, scale=1)\\n# Find T-Score\\nt_crit\\n(\\n    m - s * t_crit / np.sqrt(len(data_array)),\\n    m + s * t_crit / np.sqrt(len(data_array)),\\n)\";\n",
       "                var nbb_cells = Jupyter.notebook.get_cells();\n",
       "                for (var i = 0; i < nbb_cells.length; ++i) {\n",
       "                    if (nbb_cells[i].input_prompt_number == nbb_cell_id) {\n",
       "                        if (nbb_cells[i].get_text() == nbb_unformatted_code) {\n",
       "                             nbb_cells[i].set_text(nbb_formatted_code);\n",
       "                        }\n",
       "                        break;\n",
       "                    }\n",
       "                }\n",
       "            }, 500);\n",
       "            "
      ],
      "text/plain": [
       "<IPython.core.display.Javascript object>"
      ]
     },
     "metadata": {},
     "output_type": "display_data"
    }
   ],
   "source": [
    "data_array = np.array(data)\n",
    "m = data_array.mean()\n",
    "m\n",
    "\n",
    "# For Small Sample, Note the divisor should be N - 1\n",
    "# Obtain Sample Standard Deviation\n",
    "s = data_array.std(ddof=1)  # Divisor = N - ddof ** Statistics for small sample ****\n",
    "s\n",
    "# Obtain Sample Variance\n",
    "v = data_array.var(ddof=1)\n",
    "v\n",
    "np.sqrt(v)\n",
    "\n",
    "dof = len(data_array) - 1\n",
    "confidence = 0.95\n",
    "\n",
    "t_crit = np.abs(st.t.ppf(q=(1 - confidence) / 2, df=dof, loc=0, scale=1))\n",
    "\n",
    "# Find T-Score\n",
    "st.t.ppf(q=(1 - confidence) / 2, df=dof, loc=0, scale=1)\n",
    "# Find T-Score\n",
    "t_crit\n",
    "(\n",
    "    m - s * t_crit / np.sqrt(len(data_array)),\n",
    "    m + s * t_crit / np.sqrt(len(data_array)),\n",
    ")\n"
   ]
  },
  {
   "cell_type": "markdown",
   "id": "61065e08",
   "metadata": {},
   "source": [
    "### Confirm with CI using t.test in R & with Wiki\n",
    "https://en.wikipedia.org/wiki/Student%27s_t-distribution#Confidence_intervals"
   ]
  },
  {
   "cell_type": "code",
   "execution_count": 4,
   "id": "5d41b478",
   "metadata": {},
   "outputs": [
    {
     "data": {
      "text/plain": [
       "(9.414898929487673, 10.585101070512327)"
      ]
     },
     "execution_count": 4,
     "metadata": {},
     "output_type": "execute_result"
    },
    {
     "data": {
      "application/javascript": [
       "\n",
       "            setTimeout(function() {\n",
       "                var nbb_cell_id = 4;\n",
       "                var nbb_unformatted_code = \"### Confirm with t.test in R\\n# data <- c(12, 12, 13, 13, 15, 16, 17, 22, 23, 25, 26, 27, 28, 28, 29)\\n# t.test(data,mu=15, conf.level = 0.95)\\n# \\\"\\\"\\\"\\n# One Sample t-test\\n# data:  data\\n# t = 3.1799, df = 14, p-value = 0.006683\\n# alternative hypothesis: true mean is not equal to 15\\n# 95 percent confidence interval:\\n#  16.75777 24.04223\\n# \\\"\\\"\\\"\\n\\n\\n### Confirm with https://en.wikipedia.org/wiki/Student%27s_t-distribution#Confidence_intervals\\nst.t.interval(alpha=0.80, df=10, loc=10, scale=np.sqrt(2 / 11))\";\n",
       "                var nbb_formatted_code = \"### Confirm with t.test in R\\n# data <- c(12, 12, 13, 13, 15, 16, 17, 22, 23, 25, 26, 27, 28, 28, 29)\\n# t.test(data,mu=15, conf.level = 0.95)\\n# \\\"\\\"\\\"\\n# One Sample t-test\\n# data:  data\\n# t = 3.1799, df = 14, p-value = 0.006683\\n# alternative hypothesis: true mean is not equal to 15\\n# 95 percent confidence interval:\\n#  16.75777 24.04223\\n# \\\"\\\"\\\"\\n\\n\\n### Confirm with https://en.wikipedia.org/wiki/Student%27s_t-distribution#Confidence_intervals\\nst.t.interval(alpha=0.80, df=10, loc=10, scale=np.sqrt(2 / 11))\";\n",
       "                var nbb_cells = Jupyter.notebook.get_cells();\n",
       "                for (var i = 0; i < nbb_cells.length; ++i) {\n",
       "                    if (nbb_cells[i].input_prompt_number == nbb_cell_id) {\n",
       "                        if (nbb_cells[i].get_text() == nbb_unformatted_code) {\n",
       "                             nbb_cells[i].set_text(nbb_formatted_code);\n",
       "                        }\n",
       "                        break;\n",
       "                    }\n",
       "                }\n",
       "            }, 500);\n",
       "            "
      ],
      "text/plain": [
       "<IPython.core.display.Javascript object>"
      ]
     },
     "metadata": {},
     "output_type": "display_data"
    }
   ],
   "source": [
    "### Confirm with t.test in R\n",
    "# data <- c(12, 12, 13, 13, 15, 16, 17, 22, 23, 25, 26, 27, 28, 28, 29)\n",
    "# t.test(data,mu=15, conf.level = 0.95)\n",
    "# \"\"\"\n",
    "# One Sample t-test\n",
    "# data:  data\n",
    "# t = 3.1799, df = 14, p-value = 0.006683\n",
    "# alternative hypothesis: true mean is not equal to 15\n",
    "# 95 percent confidence interval:\n",
    "#  16.75777 24.04223\n",
    "# \"\"\"\n",
    "\n",
    "\n",
    "### Confirm with https://en.wikipedia.org/wiki/Student%27s_t-distribution#Confidence_intervals\n",
    "st.t.interval(alpha=0.80, df=10, loc=10, scale=np.sqrt(2 / 11))"
   ]
  },
  {
   "cell_type": "markdown",
   "id": "cfe9113e",
   "metadata": {},
   "source": [
    "## Central Limit Theorem is also the foundation for ANY hypothesis testing \n",
    "\n",
    "#### - t-test - one sample, two sample - independent, paired \n",
    "#### - chi-square test - one sample (goodness of fit), test of independence/homogenity (with post hoc) - (nrow-1)*(ncol-1)\n",
    "#### - f-test (one-way anova) - means of two or more means of groups (with post hoc) \n",
    "#### - z test - proportion test - one sample, two sample - (A/B testing chose alternative <> Chi-Squared - alternative is always two-sided)  - z-score = (p1-p2)/np.sqrt(p(1-p)(1/n1+1/n2))\n",
    "#### - anova - one-way, two-way (two factors for continuous data) "
   ]
  },
  {
   "cell_type": "markdown",
   "id": "60c7d302",
   "metadata": {},
   "source": [
    "## Probability Questions\n",
    "\n",
    "#### - Normal distribution (mu, sigma)  - continuous probability distribution\n",
    "#### - Possion distribution  (lambda - Average events in a fixed time interval)  - discrete - Control distribution - mean / variance == lambda\n",
    "#### - Binominal distribution (n - number of trials, p - probability of success on a single trial) - discrete - Control distribution - mean = np, variance = npq \n",
    "#### - Chi-square distribution (degree of freedom) \n"
   ]
  },
  {
   "cell_type": "markdown",
   "id": "24f05831",
   "metadata": {},
   "source": [
    "## To conclude, if your observations are\n",
    "\n",
    "###  Numeric In Nature (wide range of possible outcome) --- Dependence/Difference Investigated through _Mean_ (t-test, anova, f-test)\n",
    "\n",
    "\n",
    "### Categorical In Nature (limited number of outcome) --- Dependence/Difference Investigated through _Proportions_ (chi-square)"
   ]
  },
  {
   "cell_type": "markdown",
   "id": "552b1e0e",
   "metadata": {},
   "source": [
    "### Power Analysis for A/B Testing - Effect Size etc. "
   ]
  },
  {
   "cell_type": "code",
   "execution_count": 5,
   "id": "2d07790c",
   "metadata": {},
   "outputs": [
    {
     "data": {
      "text/plain": [
       "6318.050022391152"
      ]
     },
     "execution_count": 5,
     "metadata": {},
     "output_type": "execute_result"
    },
    {
     "data": {
      "application/javascript": [
       "\n",
       "            setTimeout(function() {\n",
       "                var nbb_cell_id = 5;\n",
       "                var nbb_unformatted_code = \"import statsmodels.stats.api as sms\\n\\neffect_size = sms.proportion_effectsize(0.13, 0.15)\\nrequired_n = sms.NormalIndPower().solve_power(\\n    effect_size, power=0.9, alpha=0.05, ratio=1\\n)\\nrequired_n\";\n",
       "                var nbb_formatted_code = \"import statsmodels.stats.api as sms\\n\\neffect_size = sms.proportion_effectsize(0.13, 0.15)\\nrequired_n = sms.NormalIndPower().solve_power(\\n    effect_size, power=0.9, alpha=0.05, ratio=1\\n)\\nrequired_n\";\n",
       "                var nbb_cells = Jupyter.notebook.get_cells();\n",
       "                for (var i = 0; i < nbb_cells.length; ++i) {\n",
       "                    if (nbb_cells[i].input_prompt_number == nbb_cell_id) {\n",
       "                        if (nbb_cells[i].get_text() == nbb_unformatted_code) {\n",
       "                             nbb_cells[i].set_text(nbb_formatted_code);\n",
       "                        }\n",
       "                        break;\n",
       "                    }\n",
       "                }\n",
       "            }, 500);\n",
       "            "
      ],
      "text/plain": [
       "<IPython.core.display.Javascript object>"
      ]
     },
     "metadata": {},
     "output_type": "display_data"
    }
   ],
   "source": [
    "import statsmodels.stats.api as sms\n",
    "\n",
    "effect_size = sms.proportion_effectsize(0.13, 0.15)\n",
    "required_n = sms.NormalIndPower().solve_power(\n",
    "    effect_size, power=0.9, alpha=0.05, ratio=1\n",
    ")\n",
    "required_n"
   ]
  },
  {
   "cell_type": "code",
   "execution_count": null,
   "id": "3f6cd474",
   "metadata": {},
   "outputs": [],
   "source": []
  },
  {
   "cell_type": "code",
   "execution_count": null,
   "id": "42b00376",
   "metadata": {},
   "outputs": [],
   "source": []
  },
  {
   "cell_type": "code",
   "execution_count": null,
   "id": "b73cccfc",
   "metadata": {},
   "outputs": [],
   "source": []
  },
  {
   "cell_type": "code",
   "execution_count": null,
   "id": "310d5010",
   "metadata": {},
   "outputs": [],
   "source": []
  },
  {
   "cell_type": "code",
   "execution_count": null,
   "id": "d213f236",
   "metadata": {},
   "outputs": [],
   "source": []
  },
  {
   "cell_type": "code",
   "execution_count": null,
   "id": "b4e20b65",
   "metadata": {},
   "outputs": [],
   "source": []
  },
  {
   "cell_type": "code",
   "execution_count": null,
   "id": "09dcfe77",
   "metadata": {},
   "outputs": [],
   "source": []
  },
  {
   "cell_type": "code",
   "execution_count": null,
   "id": "e0778807",
   "metadata": {},
   "outputs": [],
   "source": []
  },
  {
   "cell_type": "code",
   "execution_count": null,
   "id": "3df3311b",
   "metadata": {},
   "outputs": [],
   "source": []
  },
  {
   "cell_type": "code",
   "execution_count": null,
   "id": "a4d150ed",
   "metadata": {},
   "outputs": [],
   "source": []
  }
 ],
 "metadata": {
  "kernelspec": {
   "display_name": "Python 3",
   "language": "python",
   "name": "python3"
  },
  "language_info": {
   "codemirror_mode": {
    "name": "ipython",
    "version": 3
   },
   "file_extension": ".py",
   "mimetype": "text/x-python",
   "name": "python",
   "nbconvert_exporter": "python",
   "pygments_lexer": "ipython3",
   "version": "3.8.8"
  }
 },
 "nbformat": 4,
 "nbformat_minor": 5
}
