{
 "cells": [
  {
   "cell_type": "code",
   "execution_count": 1,
   "id": "aaf220b4",
   "metadata": {},
   "outputs": [
    {
     "data": {
      "application/javascript": [
       "\n",
       "            setTimeout(function() {\n",
       "                var nbb_cell_id = 1;\n",
       "                var nbb_unformatted_code = \"# Preferences of autoformatting & Multiple Output\\n%load_ext nb_black\\n\\nfrom IPython.core.interactiveshell import InteractiveShell\\n\\nInteractiveShell.ast_node_interactivity = \\\"all\\\"\\n\\nimport warnings\\n\\nwarnings.filterwarnings(\\\"ignore\\\")\\n\\nimport researchpy as rp  # For auto-statistics/EDA of dataframe\\nfrom tqdm.notebook import tqdm  # For process display\\nimport pingouin as pg\\n\\nimport sys\\n\\nsys.path.append(\\\"../src\\\")\\n\\nfrom data import *\\nfrom utils import *\\nfrom conf import *\\nfrom tools import *\\n\\nimport utils as UT\\nimport tools as TS\\n\\nimport random\\n\\nimport matplotlib.pyplot as plt\\nimport seaborn as sns\\nimport plotly.graph_objects as go\\n\\nfrom sklearn.preprocessing import MinMaxScaler\\nfrom sklearn.pipeline import Pipeline, make_pipeline, FeatureUnion\\n\\nfrom sklearn import set_config\\n\\nset_config(display=\\\"diagram\\\")\\n\\npd.set_option(\\\"display.max_colwidth\\\", 200)\";\n",
       "                var nbb_formatted_code = \"# Preferences of autoformatting & Multiple Output\\n%load_ext nb_black\\n\\nfrom IPython.core.interactiveshell import InteractiveShell\\n\\nInteractiveShell.ast_node_interactivity = \\\"all\\\"\\n\\nimport warnings\\n\\nwarnings.filterwarnings(\\\"ignore\\\")\\n\\nimport researchpy as rp  # For auto-statistics/EDA of dataframe\\nfrom tqdm.notebook import tqdm  # For process display\\nimport pingouin as pg\\n\\nimport sys\\n\\nsys.path.append(\\\"../src\\\")\\n\\nfrom data import *\\nfrom utils import *\\nfrom conf import *\\nfrom tools import *\\n\\nimport utils as UT\\nimport tools as TS\\n\\nimport random\\n\\nimport matplotlib.pyplot as plt\\nimport seaborn as sns\\nimport plotly.graph_objects as go\\n\\nfrom sklearn.preprocessing import MinMaxScaler\\nfrom sklearn.pipeline import Pipeline, make_pipeline, FeatureUnion\\n\\nfrom sklearn import set_config\\n\\nset_config(display=\\\"diagram\\\")\\n\\npd.set_option(\\\"display.max_colwidth\\\", 200)\";\n",
       "                var nbb_cells = Jupyter.notebook.get_cells();\n",
       "                for (var i = 0; i < nbb_cells.length; ++i) {\n",
       "                    if (nbb_cells[i].input_prompt_number == nbb_cell_id) {\n",
       "                        if (nbb_cells[i].get_text() == nbb_unformatted_code) {\n",
       "                             nbb_cells[i].set_text(nbb_formatted_code);\n",
       "                        }\n",
       "                        break;\n",
       "                    }\n",
       "                }\n",
       "            }, 500);\n",
       "            "
      ],
      "text/plain": [
       "<IPython.core.display.Javascript object>"
      ]
     },
     "metadata": {},
     "output_type": "display_data"
    }
   ],
   "source": [
    "# Preferences of autoformatting & Multiple Output\n",
    "%load_ext nb_black\n",
    "\n",
    "from IPython.core.interactiveshell import InteractiveShell\n",
    "\n",
    "InteractiveShell.ast_node_interactivity = \"all\"\n",
    "\n",
    "import warnings\n",
    "\n",
    "warnings.filterwarnings(\"ignore\")\n",
    "\n",
    "import researchpy as rp  # For auto-statistics/EDA of dataframe\n",
    "from tqdm.notebook import tqdm  # For process display\n",
    "import pingouin as pg\n",
    "\n",
    "import sys\n",
    "\n",
    "sys.path.append(\"../src\")\n",
    "\n",
    "from data import *\n",
    "from utils import *\n",
    "from conf import *\n",
    "from tools import *\n",
    "\n",
    "import utils as UT\n",
    "import tools as TS\n",
    "\n",
    "import random\n",
    "\n",
    "import matplotlib.pyplot as plt\n",
    "import seaborn as sns\n",
    "import plotly.graph_objects as go\n",
    "\n",
    "from sklearn.preprocessing import MinMaxScaler\n",
    "from sklearn.pipeline import Pipeline, make_pipeline, FeatureUnion\n",
    "\n",
    "from sklearn import set_config\n",
    "\n",
    "set_config(display=\"diagram\")\n",
    "\n",
    "pd.set_option(\"display.max_colwidth\", 200)"
   ]
  },
  {
   "cell_type": "code",
   "execution_count": 2,
   "id": "777edc12",
   "metadata": {},
   "outputs": [
    {
     "name": "stdout",
     "output_type": "stream",
     "text": [
      "5y_Modelling.xlsx                   CHILD_with_addon.xlsx\r\n",
      "CHILD_ml_sample_dataset.xlsx        targeted_raw_child.xlsx\r\n",
      "CHILD_raw.xlsx                      unprocessed_targeted_raw_child.xlsx\r\n"
     ]
    },
    {
     "data": {
      "application/javascript": [
       "\n",
       "            setTimeout(function() {\n",
       "                var nbb_cell_id = 2;\n",
       "                var nbb_unformatted_code = \"!ls \\\"../output/\\\"\\ndf_child = pd.read_excel(\\\"../output/CHILD_with_addon.xlsx\\\", index_col=\\\"Subject_Number\\\")\\ndf_child_backup = df_child.copy()\";\n",
       "                var nbb_formatted_code = \"!ls \\\"../output/\\\"\\ndf_child = pd.read_excel(\\\"../output/CHILD_with_addon.xlsx\\\", index_col=\\\"Subject_Number\\\")\\ndf_child_backup = df_child.copy()\";\n",
       "                var nbb_cells = Jupyter.notebook.get_cells();\n",
       "                for (var i = 0; i < nbb_cells.length; ++i) {\n",
       "                    if (nbb_cells[i].input_prompt_number == nbb_cell_id) {\n",
       "                        if (nbb_cells[i].get_text() == nbb_unformatted_code) {\n",
       "                             nbb_cells[i].set_text(nbb_formatted_code);\n",
       "                        }\n",
       "                        break;\n",
       "                    }\n",
       "                }\n",
       "            }, 500);\n",
       "            "
      ],
      "text/plain": [
       "<IPython.core.display.Javascript object>"
      ]
     },
     "metadata": {},
     "output_type": "display_data"
    }
   ],
   "source": [
    "!ls \"../output/\"\n",
    "df_child = pd.read_excel(\"../output/CHILD_with_addon.xlsx\", index_col=\"Subject_Number\")\n",
    "df_child_backup = df_child.copy()"
   ]
  },
  {
   "cell_type": "code",
   "execution_count": null,
   "id": "a9cd4081",
   "metadata": {},
   "outputs": [],
   "source": []
  }
 ],
 "metadata": {
  "kernelspec": {
   "display_name": "Python 3",
   "language": "python",
   "name": "python3"
  },
  "language_info": {
   "codemirror_mode": {
    "name": "ipython",
    "version": 3
   },
   "file_extension": ".py",
   "mimetype": "text/x-python",
   "name": "python",
   "nbconvert_exporter": "python",
   "pygments_lexer": "ipython3",
   "version": "3.8.8"
  }
 },
 "nbformat": 4,
 "nbformat_minor": 5
}
